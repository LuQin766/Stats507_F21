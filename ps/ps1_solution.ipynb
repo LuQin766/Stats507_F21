{
 "cells": [
  {
   "cell_type": "markdown",
   "id": "ca154532",
   "metadata": {},
   "source": [
    "## Problem Set 1, Solution\n",
    "**Stats 507, Fall 2021**  \n",
    "*James Henderson, PhD*  \n",
    "*September 22, 2021*\n"
   ]
  },
  {
   "cell_type": "markdown",
   "id": "218dbaed",
   "metadata": {},
   "source": [
    "## Contents\n",
    "+ [Question 0](#Question-0)\n",
    "+ [Question 1](#Question-1)\n",
    "+ [Question 2](#Question-2)\n",
    "+ [Question 3](#Question-3)\n",
    "\n",
    "## Question 0\n",
    "\n",
    "Below is the rendered Markdown you were asked to reproduce. \n",
    "   \n",
    "---\n",
    "\n",
    "This is *question 0* for [problem set 1][1] of [Stats 507][2]. \n",
    "\n",
    "> Question 0 is about Markdown. \n",
    "\n",
    "The next question is about the **Fibonnaci sequence**, \n",
    "$F_n = F_{n-2} + F_{n-1}$. In part **a** we will define a Python \n",
    "function `fib_rec()`. \n",
    "\n",
    "Below is a ...\n",
    "\n",
    "### Level 3 Header\n",
    "\n",
    "Next, we can make a bulleted list:  \n",
    "\n",
    " - Item 1  \n",
    "\n",
    "   + detail 1  \n",
    "   + detail 2  \n",
    "\n",
    "- Item 2  \n",
    "\n",
    "Finally, we can make an enumerated list:  \n",
    "\n",
    " a. Item 1    \n",
    " b. Item 2    \n",
    " c. Item 3  \n",
    "\n",
    "---\n",
    "\n",
    "[1]: https://jbhender.github.io/Stats507/F21/ps/ps1.html\n",
    "[2]: https://jbhender.github.io/Stats507/F21/\n",
    "\n",
    "Here is the Markdown I used to produce it. \n",
    "\n",
    "```\n",
    "   \n",
    "---\n",
    "\n",
    "This is *question 0* for [problem set 1][1] of [Stats 507][2]. \n",
    "\n",
    "> Question 0 is about Markdown. \n",
    "\n",
    "The next question is about the **Fibonnaci sequence**, \n",
    "$F_n = F_{n-2} + F_{n-1}$. In part **a** we will define a Python \n",
    "function `fib_rec()`. \n",
    "\n",
    "Below is a ...\n",
    "\n",
    "### Level 3 Header\n",
    "\n",
    "Next, we can make a bulleted list:  \n",
    "\n",
    " - Item 1  \n",
    "\n",
    "   + detail 1  \n",
    "   + detail 2  \n",
    "\n",
    "- Item 2  \n",
    "\n",
    "Finally, we can make an enumerated list:  \n",
    "\n",
    " a. Item 1    \n",
    " b. Item 2    \n",
    " c. Item 3  \n",
    "\n",
    "---\n",
    "\n",
    "[1]: https://jbhender.github.io/Stats507/F21/ps1.html\n",
    "[2]: https://jbhender.github.io/Stats507/F21/\n",
    "```"
   ]
  },
  {
   "cell_type": "markdown",
   "id": "a865ce62",
   "metadata": {},
   "source": [
    "## Imports\n",
    "The remaining questions will use the following imports."
   ]
  },
  {
   "cell_type": "code",
   "execution_count": null,
   "id": "ecf51100",
   "metadata": {},
   "outputs": [],
   "source": [
    "# modules: --------------------------------------------------------------------\n",
    "import numpy as np\n",
    "import pandas as pd\n",
    "from math import floor \n",
    "from timeit import Timer\n",
    "from collections import defaultdict\n",
    "from IPython.core.display import display, HTML\n",
    "from scipy.stats import norm, binom, beta\n",
    "from warnings import warn\n",
    "# 79: -------------------------------------------------------------------------"
   ]
  },
  {
   "cell_type": "markdown",
   "id": "05014222",
   "metadata": {},
   "source": [
    "## Question 1\n",
    "\n",
    "In this question, we write and compare the computational efficiency of\n",
    "several different functions for producing Fibonacci numbers."
   ]
  },
  {
   "cell_type": "markdown",
   "id": "48d1d46d",
   "metadata": {
    "lines_to_next_cell": 2
   },
   "source": [
    "### Test function\n",
    "The function below takes a function, `fib`, and check that it returns\n",
    "the correct $7^{th}$, $11^{th}$ and $13^{th}$ Fibonacci numbers."
   ]
  },
  {
   "cell_type": "code",
   "execution_count": null,
   "id": "5b910355",
   "metadata": {
    "lines_to_next_cell": 2
   },
   "outputs": [],
   "source": [
    "def test_fib(fib):\n",
    "    \"\"\"\n",
    "    Test if function fib returns correct Fibonacci numbers at 7, 11, and 13.\n",
    "\n",
    "    Parameters\n",
    "    ----------\n",
    "    fib : function\n",
    "        A function taking an integer `n` and returns the Fibonacci number F_n.\n",
    "\n",
    "    Returns\n",
    "    -------\n",
    "    A bool that is True when [fib(7), fib(11), fib(13)] == [13, 89, 233].\n",
    "\n",
    "    \"\"\"\n",
    "    return([fib(i) for i in (7, 11, 13)] == [13, 89, 233])"
   ]
  },
  {
   "cell_type": "markdown",
   "id": "b41d7d97",
   "metadata": {
    "lines_to_next_cell": 2
   },
   "source": [
    "### a) `fib_rec()`\n",
    "Sequential computation using a recursive strategy. Note the re-use of the\n",
    "starting values to achieve a linear-time complexity.  We recongize this by\n",
    "noting that `fib_rec(n)` calls `fib_rec()` once for each recursion or a total\n",
    "of `n` times.  If you call `fib_rec()` twice on each call you end up with\n",
    "exponential complexity scaling like $2^n$. "
   ]
  },
  {
   "cell_type": "code",
   "execution_count": null,
   "id": "06879632",
   "metadata": {},
   "outputs": [],
   "source": [
    "def fib_rec(n, a=0, b=1):\n",
    "    \"\"\"\n",
    "    Compute the Fibonacci number $F_n$, when $F_0 = a$ and $F_1 = b$.\n",
    "    \n",
    "    This function computes $F_n$ using a linear-complexity recursion.\n",
    "\n",
    "    Parameters\n",
    "    ----------\n",
    "    n : int\n",
    "        The desired Fibonacci number $F_n$.\n",
    "    a, b : int, optional.\n",
    "        Values to initalize the sequence $F_0 = a$, $F_1 = b$.\n",
    "\n",
    "    Returns\n",
    "    -------\n",
    "    The Fibonacci number $F_n$.\n",
    "\n",
    "    \"\"\"\n",
    "    if n == 0:\n",
    "        return(a)\n",
    "    elif n == 1:\n",
    "        return(b)\n",
    "    else:\n",
    "        a, b = b, a + b\n",
    "        return(fib_rec(n - 1, a, b))"
   ]
  },
  {
   "cell_type": "code",
   "execution_count": null,
   "id": "dfd0483b",
   "metadata": {
    "lines_to_next_cell": 2
   },
   "outputs": [],
   "source": [
    "assert test_fib(fib_rec)"
   ]
  },
  {
   "cell_type": "markdown",
   "id": "9ff7c9b8",
   "metadata": {
    "lines_to_next_cell": 2
   },
   "source": [
    "### b) `fib_for()`\n",
    "In the next function we compute Fibonacci numbers in a similar strategy as\n",
    "for `fib_rec()` but avoid the \"overhead\" of recursively dispatching the\n",
    "the function."
   ]
  },
  {
   "cell_type": "code",
   "execution_count": null,
   "id": "79c486f6",
   "metadata": {},
   "outputs": [],
   "source": [
    "def fib_for(n, a=0, b=1):\n",
    "    \"\"\"\n",
    "    Compute the Fibonacci number $F_n$, when $F_0 = a$ and $F_1 = b$.\n",
    "\n",
    "    This function computes $F_n$ directly by iterating using a for loop.\n",
    "\n",
    "    Parameters\n",
    "    ----------\n",
    "    n : int\n",
    "        The desired Fibonacci number $F_n$. \n",
    "    a, b : int, optional.\n",
    "        Values to initialize the sequence $F_0 = a$, $F_1 = b$. \n",
    "\n",
    "    Returns\n",
    "    -------\n",
    "    The Fibonacci number $F_n$. \n",
    "\n",
    "    \"\"\"\n",
    "    if n == 0:\n",
    "        return(a)\n",
    "    elif n == 1:\n",
    "        return(b)\n",
    "    else:\n",
    "        for i in range(n - 1):\n",
    "            a, b = b, a + b\n",
    "        return(b)"
   ]
  },
  {
   "cell_type": "code",
   "execution_count": null,
   "id": "76641dda",
   "metadata": {
    "lines_to_next_cell": 2
   },
   "outputs": [],
   "source": [
    "assert test_fib(fib_for)"
   ]
  },
  {
   "cell_type": "markdown",
   "id": "58962a1c",
   "metadata": {
    "lines_to_next_cell": 2
   },
   "source": [
    "### c) `fib_whl()`\n",
    "This version is nearly identical to `fib_for()` but uses a while loop to\n",
    "iterate."
   ]
  },
  {
   "cell_type": "code",
   "execution_count": null,
   "id": "2fd55316",
   "metadata": {},
   "outputs": [],
   "source": [
    "def fib_whl(n, a=0, b=1):\n",
    "    \"\"\"\n",
    "    Compute the Fibonacci number $F_n$, when $F_0 = a$ and $F_1 = b$.\n",
    "\n",
    "    This function computes $F_n$ by direct summation, iterating using a\n",
    "    while loop.\n",
    "\n",
    "    Parameters\n",
    "    ----------\n",
    "    n : int\n",
    "        The desired Fibonacci number $F_n$.\n",
    "    a, b : int, optional.\n",
    "        Values to initialize the sequence $F_0 = a$, $F_1 = b$.\n",
    "\n",
    "    Returns\n",
    "    -------\n",
    "    The Fibonacci number $F_n$.\n",
    "\n",
    "    \"\"\"\n",
    "    if n == 0:\n",
    "        return(a)\n",
    "    elif n == 1:\n",
    "        return(b)\n",
    "    else:\n",
    "        i = 1\n",
    "        while i < n:\n",
    "            a, b = b, a + b\n",
    "            i += 1\n",
    "        return(b)"
   ]
  },
  {
   "cell_type": "code",
   "execution_count": null,
   "id": "8905236d",
   "metadata": {
    "lines_to_next_cell": 2
   },
   "outputs": [],
   "source": [
    "assert test_fib(fib_whl)"
   ]
  },
  {
   "cell_type": "markdown",
   "id": "e8133eb8",
   "metadata": {
    "lines_to_next_cell": 2
   },
   "source": [
    "### d) `fib_rnd()`\n",
    "This is our first function that avoids iteration altogether by using a \n",
    "direct computation method, namely, we find $F_n$ by rounding \n",
    "$\\phi^n / sqrt(5)$. \n",
    "\n",
    "Unlike Python's built-in integers, the NumPy ints used \n",
    "here cannot be arbitrarily large. A computation resulting in an integer \n",
    "(or float) larger than can be accommodated by the number of bits used to\n",
    "represent it typically results in an *overflow* error. In the function\n",
    "below, we extend the range of inputs by computing the approximation on \n",
    "the log scale. This allows for larger inputs, because $\\phi^n / \\sqrt{5}$ is\n",
    "smaller than $\\phi^n$.\n",
    "\n",
    "As you can see below in the test, the rounding method becomes inaccurate\n",
    "on account of floating point precision beginning with $n = 71$. You were\n",
    "not expected to recognize or discuss this, but kudos if you did. "
   ]
  },
  {
   "cell_type": "code",
   "execution_count": null,
   "id": "87595995",
   "metadata": {},
   "outputs": [],
   "source": [
    "def fib_rnd(n):\n",
    "    r\"\"\"\n",
    "    Directly compute the Fibonacci number $F_n$, when $F_0 = a$ and $F_1 = b$.\n",
    "\n",
    "    This function computes $F_n$ by rounding $\\phi^n / sqrt(5)$.\n",
    "    The formula is used directly for n < 250, and is applied on the log scale\n",
    "    for 250 <= n < 1478. A ValueError is raised for larger n to avoid\n",
    "    overflow errors.\n",
    "\n",
    "\n",
    "    Parameters\n",
    "    ----------\n",
    "    n : int\n",
    "        The desired Fibonacci number $F_n$, must be less than 1478.\n",
    "    a, b : int, optional.\n",
    "        Values to initialize the sequence $F_0 = a$, $F_1 = b$.\n",
    "\n",
    "    Returns\n",
    "    -------\n",
    "    The Fibonacci number $F_n$ if n < 1478, else a ValueError.\n",
    "    \"\"\"\n",
    "    if n < 250:\n",
    "        return(\n",
    "            round(((1 + 5 ** 0.5) / 2) ** n / (5 ** 0.5))\n",
    "        )\n",
    "    elif n < 1478:\n",
    "        return(\n",
    "            round(\n",
    "                np.exp(n * np.log((1 + np.sqrt(5)) / 2) - 0.5 * np.log(5))\n",
    "            )\n",
    "        )\n",
    "    else:\n",
    "        raise ValueError('Values of n > 1477 lead to an infinite float.')"
   ]
  },
  {
   "cell_type": "code",
   "execution_count": null,
   "id": "71c99e46",
   "metadata": {
    "lines_to_next_cell": 2
   },
   "outputs": [],
   "source": [
    "assert test_fib(fib_rnd)\n",
    "i = 1\n",
    "while (fib_rnd(i) == fib_for(i)):\n",
    "    i += 1\n",
    "fib_log = round(np.exp(i * np.log((1 + np.sqrt(5)) / 2) - 0.5 * np.log(5)))\n",
    "assert fib_log == fib_rnd(i)\n",
    "(i, fib_rnd(i), fib_for(i), fib_rnd(i) - fib_for(i), fib_log)"
   ]
  },
  {
   "cell_type": "markdown",
   "id": "990065ef",
   "metadata": {
    "lines_to_next_cell": 2
   },
   "source": [
    "### e) `fib_flr()`\n",
    "This is another direction computation method, by adding 0.5 to the \n",
    "approximation used in `fib_rnd()` we can replace rounding with integer\n",
    "truncation. Here, I use `int()` to truncate the approximations but you\n",
    "could also use `floor()`. \n",
    "\n",
    "As with `fib_rnd()` the results becomes inaccurate from $n = 71$ due to\n",
    "finite floating point precision.  "
   ]
  },
  {
   "cell_type": "code",
   "execution_count": null,
   "id": "38fd9179",
   "metadata": {},
   "outputs": [],
   "source": [
    "def fib_flr(n):\n",
    "    r\"\"\"\n",
    "    Directly compute the Fibonacci number $F_n$, when $F_0 = a$ and $F_1 = b$.\n",
    "\n",
    "    This function computes $F_n$ by finding the smallest integer less than\n",
    "    $\\phi^n / sqrt(5) + 0.5$. The formula is used directly for n < 250, and is\n",
    "    applied on the log scale for 250 <= n < 1477. A ValueError is raised for\n",
    "    larger n to avoid integer overflow.\n",
    "\n",
    "\n",
    "    Parameters\n",
    "    ----------\n",
    "    n : int\n",
    "        The desired Fibonacci number $F_n$, must be less than 1478.\n",
    "    a, b : int, optional.\n",
    "        Values to initialize the sequence $F_0 = a$, $F_1 = b$.\n",
    "\n",
    "    Returns\n",
    "    -------\n",
    "    The Fibonacci number $F_n$ if n < 1477, else a ValueError.\n",
    "    \"\"\"\n",
    "    if n < 250:\n",
    "        return(\n",
    "            int(((1 + 5 ** 0.5) / 2) ** n / (5 ** 0.5) + 0.5)\n",
    "            )\n",
    "    elif n < 1477:\n",
    "        return(\n",
    "                int(\n",
    "                    np.exp(\n",
    "                        n * np.log((1 + np.sqrt(5)) / 2) - 0.5 * np.log(5)\n",
    "                    ) + 0.5\n",
    "                )\n",
    "            )\n",
    "    else:\n",
    "        raise ValueError('Values of n > 1476 lead to an infinite float.')"
   ]
  },
  {
   "cell_type": "code",
   "execution_count": null,
   "id": "6c45617d",
   "metadata": {
    "lines_to_next_cell": 2
   },
   "outputs": [],
   "source": [
    "assert test_fib(fib_flr)\n",
    "i = 1\n",
    "while (fib_flr(i) == fib_for(i)):\n",
    "    i += 1\n",
    "fib_log = int(np.exp(i * np.log((1 + np.sqrt(5)) / 2) - 0.5 * np.log(5)) + 0.5)\n",
    "assert fib_log == fib_flr(i)\n",
    "(i, fib_flr(i), fib_for(i), fib_flr(i) - fib_for(i), fib_log)"
   ]
  },
  {
   "cell_type": "markdown",
   "id": "359c716a",
   "metadata": {},
   "source": [
    "### f) Comparisons\n",
    "In the code cell below, I compare the functions above using the median\n",
    "computation time on each of the following four integers: 21, 43, 233, and\n",
    "1001. The median computation time is estimated with the sample median from\n",
    "10,000 timing runs."
   ]
  },
  {
   "cell_type": "code",
   "execution_count": null,
   "id": "1d1be6ad",
   "metadata": {},
   "outputs": [],
   "source": [
    "# timing comparisons: ---------------------------------------------------------\n",
    "n_mc = 10000\n",
    "res = defaultdict(list)\n",
    "n_seq = [21, 42, 233, 1001]\n",
    "res['n'] = n_seq\n",
    "for f in (fib_rec, fib_for, fib_whl, fib_rnd, fib_flr):\n",
    "    for n in n_seq:\n",
    "        t = Timer(\"f(n)\", globals={\"f\": f, \"n\": n})\n",
    "        m = np.median([t.timeit(1) for i in range(n_mc)]) \n",
    "        res[f.__name__].append(round(m * 1e6, 1))"
   ]
  },
  {
   "cell_type": "code",
   "execution_count": null,
   "id": "4ba20ee0",
   "metadata": {},
   "outputs": [],
   "source": [
    "# construct a table, include a caption: ---------------------------------------\n",
    "cap = \"\"\"\n",
    "<b> Table 1.</b> <em> Timing comparisons for Fibonacci functions.</em>\n",
    "Median computation times, in micro seconds, from 10,000 trial runs at\n",
    "each n.  While the direct computation methods are faster, they become \n",
    "inaccurate for n > 71 due to finite floating point precision. \n",
    "\"\"\"\n",
    "res = pd.DataFrame(res)\n",
    "t1 = res.to_html(index=False)\n",
    "t1 = t1.rsplit('\\n')\n",
    "t1.insert(1, cap)\n",
    "tab1 = ''\n",
    "for i, line in enumerate(t1):\n",
    "    tab1 += line\n",
    "    if i < (len(t1) - 1):\n",
    "        tab1 += '\\n'"
   ]
  },
  {
   "cell_type": "code",
   "execution_count": null,
   "id": "7d83a26f",
   "metadata": {},
   "outputs": [],
   "source": [
    "display(HTML(tab1))"
   ]
  },
  {
   "cell_type": "markdown",
   "id": "a2492fb5",
   "metadata": {},
   "source": [
    "### Question 2\n",
    "In this question, you write a small function to compute rows of Pascal's\n",
    "triangle.  Then, you write a second function to print Pascal's triangle\n",
    "with conventional spacing and *approximate* symmetry. "
   ]
  },
  {
   "cell_type": "markdown",
   "id": "b7952ad8",
   "metadata": {
    "lines_to_next_cell": 2
   },
   "source": [
    "a) Compute a row of Pascal's triangle.\n",
    "This function computes a single row for Pascal's triangle. For large \"n\"\n",
    "it would be more efficient to compute only half the row and to include a\n",
    "parameter for whether to reverse and append a half row to form a whole row."
   ]
  },
  {
   "cell_type": "code",
   "execution_count": null,
   "id": "1dadc4e3",
   "metadata": {
    "lines_to_next_cell": 1
   },
   "outputs": [],
   "source": [
    "def pascal(n):\n",
    "    \"\"\"\n",
    "    Compute an arbitrary row of Pacal's triangle.\n",
    "\n",
    "    Row 0 is \"1\", row 1 is \"1, 1\".  \n",
    "\n",
    "    Parameters\n",
    "    ----------\n",
    "    n : int\n",
    "        The desired row.\n",
    " \n",
    "    Returns\n",
    "    -------\n",
    "    A list with values for the desired row. \n",
    "    \"\"\"\n",
    "    den = list(range(n + 1))\n",
    "    out = den.copy()\n",
    "    den.pop(0)\n",
    "    out[0] = 1\n",
    "    for k in den:\n",
    "        out[k] = int(out[k - 1] * (n + 1 - k) / k)\n",
    "    return out"
   ]
  },
  {
   "cell_type": "markdown",
   "id": "12e3eb22",
   "metadata": {},
   "source": [
    "### b) Displaying Pascal's triangle\n",
    "Without fractional spacing, it isn't possible to construct a triangle\n",
    "with perfect symmetry.  In the example solution, I've chosen a compact\n",
    "representation with minimal spacing to allow for staggering. A solution\n",
    "using uniform spacing would also be suitable.  "
   ]
  },
  {
   "cell_type": "code",
   "execution_count": null,
   "id": "93eca99b",
   "metadata": {
    "lines_to_next_cell": 1
   },
   "outputs": [],
   "source": [
    "def pascal_display(n, compact=True):\n",
    "    \"\"\"\n",
    "    Compute an arbitrary row of Pacal's triangle.\n",
    "\n",
    "    Row 0 is \"1\", row 1 is \"1, 1\".  \n",
    "\n",
    "    Parameters\n",
    "    ----------\n",
    "    n : int\n",
    "        The desired number of rows.\n",
    "    compact : bool, optional.\n",
    "        If True, return a compact representation with minimal spacing. \n",
    "        Otherwise, return a representation with uniform spacing. \n",
    "        The default is True. \n",
    " \n",
    "    Returns\n",
    "    -------\n",
    "    A string which, when printed, displays the first n rows. \n",
    "    \"\"\"\n",
    "    # base \"cell\" size of of final two rows\n",
    "    \n",
    "    # special case with a single row\n",
    "    if n == 0:\n",
    "        return('1\\n')\n",
    "\n",
    "    # determine cell sizes using the two base rows\n",
    "    row0 = pascal(n)\n",
    "    row1 = pascal(n - 1)\n",
    "    m = n // 2 + 1\n",
    "    cell_size = []\n",
    "    for i, j in zip(row0[0:m], row1[0:m]):\n",
    "        cell_size.extend([len(str(i)), len(str(j))])    \n",
    "    if n % 2 == 0:\n",
    "        cell_size.pop()\n",
    "    cell_size = list(reversed(cell_size))\n",
    "    if not compact == True:\n",
    "        mx = max(cell_size)\n",
    "        cell_size = [mx for i in cell_size]\n",
    "    tot_size = 2 * sum(cell_size[0:len(cell_size)]) + cell_size[-1]\n",
    "    \n",
    "    # construct row-by-bow\n",
    "    out = ''\n",
    "    for i in range(n + 1):\n",
    "        row = pascal(i)\n",
    "        row = row[0:(i // 2 + 1)]\n",
    "        if i % 2 == 0:\n",
    "            for k, v in enumerate(reversed(row)):\n",
    "                num = cell_size[2 * k]\n",
    "                v = str(v)\n",
    "                if k == 0:\n",
    "                    row_str = v.rjust(num)\n",
    "                else:\n",
    "                    row_str = v.rjust(num) + row_str + v.rjust(num)\n",
    "                if k < (len(row) - 1):\n",
    "                    spc = cell_size[2 * k + 1]\n",
    "                    row_str = ''.rjust(spc) + row_str + ''.rjust(spc)\n",
    "        else:   \n",
    "            for k, v in enumerate(reversed(row)):\n",
    "                spc, num = cell_size[2 * k], cell_size[2 * k + 1]\n",
    "                v = str(v)\n",
    "                if k == 0:\n",
    "                    row_str = v.rjust(num) + ''.rjust(spc) + v.rjust(num)\n",
    "                else:\n",
    "                    row_str = ''.rjust(spc) + row_str + ''.rjust(spc)\n",
    "                    row_str = v.rjust(num) + row_str + v.rjust(num)\n",
    "        # append rows\n",
    "        row_str = row_str.center(tot_size)        \n",
    "        out += row_str + '\\n'    \n",
    "    return(out)"
   ]
  },
  {
   "cell_type": "markdown",
   "id": "fc2665e4",
   "metadata": {},
   "source": [
    "Here is the compact representation for the first 10 rows."
   ]
  },
  {
   "cell_type": "code",
   "execution_count": null,
   "id": "ab985a8e",
   "metadata": {
    "lines_to_next_cell": 2
   },
   "outputs": [],
   "source": [
    "print(pascal_display(10))"
   ]
  },
  {
   "cell_type": "markdown",
   "id": "d7a1eb5f",
   "metadata": {},
   "source": [
    "Here is the uniform representation for the first 10 rows. "
   ]
  },
  {
   "cell_type": "code",
   "execution_count": null,
   "id": "fe160e61",
   "metadata": {},
   "outputs": [],
   "source": [
    "print(pascal_display(10, compact=False))"
   ]
  },
  {
   "cell_type": "markdown",
   "id": "0b7214ae",
   "metadata": {},
   "source": [
    "## Question 3\n",
    "In this question you wrote two functions: one for returning a point and \n",
    "interval estimate for the mean as a formatted string and a second doing\n",
    "the same for a proportion using various methods. "
   ]
  },
  {
   "cell_type": "markdown",
   "id": "f2b3b6c5",
   "metadata": {
    "lines_to_next_cell": 2
   },
   "source": [
    "### a) Confidence interval for the mean. "
   ]
  },
  {
   "cell_type": "code",
   "execution_count": null,
   "id": "8fed61f9",
   "metadata": {
    "lines_to_next_cell": 2
   },
   "outputs": [],
   "source": [
    "def ci_mean(\n",
    "    x,\n",
    "    level=0.95,\n",
    "    str_fmt=\"{mean:.2f} [{level:.0f}%: ({lwr:.2f}, {upr:.2f})]\"\n",
    "):\n",
    "    \"\"\"\n",
    "    Construct an estimate and confidence interval for the mean of `x`.\n",
    "\n",
    "    Parameters\n",
    "    ----------\n",
    "    x : A 1-dimensional NumPy array or compatible sequence type (list, tuple).\n",
    "        A data vector from which to form the estimates.\n",
    "    level : float, optional.\n",
    "        The desired confidence level, converted to a percent in the output.\n",
    "        The default is 0.95.\n",
    "    str_fmt: str or None, optional.\n",
    "        If `None` a dictionary with entries `mean`, `level`, `lwr`, and\n",
    "        `upr` whose values give the point estimate, confidence level (as a %),\n",
    "        lower and upper confidence bounds, respectively. If a string, it's the\n",
    "        result of calling the `.format_map()` method using this dictionary.\n",
    "        The default is \"{mean:.2f} [{level:.0f}%: ({lwr:.2f}, {upr:.2f})]\".\n",
    "\n",
    "    Returns\n",
    "    -------\n",
    "    By default, the function returns a string with a 95% confidence interval\n",
    "    in the form \"mean [95% CI: (lwr, upr)]\". A dictionary containing the mean,\n",
    "    confidence level, lower, bound, and upper bound can also be returned.\n",
    "\n",
    "    \"\"\"\n",
    "    # check input\n",
    "    try:\n",
    "        x = np.asarray(x)  # or np.array() as instructed.\n",
    "    except TypeError:\n",
    "        print(\"Could not convert x to type ndarray.\")\n",
    "\n",
    "    # construct estimates\n",
    "    xbar = np.mean(x)\n",
    "    se = np.std(x, ddof=1) / np.sqrt(x.size)\n",
    "    z = norm.ppf(1 - (1 - level) / 2)\n",
    "    lwr, upr = xbar - z * se, xbar + z * se\n",
    "    out = {\"mean\": xbar, \"level\": 100 * level, \"lwr\": lwr, \"upr\": upr}\n",
    "    # format output\n",
    "    if str_fmt is None:\n",
    "        return(out)\n",
    "    else:\n",
    "        return(str_fmt.format_map(out))"
   ]
  },
  {
   "cell_type": "markdown",
   "id": "f8623c37",
   "metadata": {
    "lines_to_next_cell": 2
   },
   "source": [
    "### b) Confidence intervals for population proportions.  "
   ]
  },
  {
   "cell_type": "code",
   "execution_count": null,
   "id": "18f9ba0d",
   "metadata": {},
   "outputs": [],
   "source": [
    "def ci_prop(\n",
    "    x,\n",
    "    level=0.95,\n",
    "    str_fmt=\"{mean:.2f} [{level:.0f}%: ({lwr:.2f}, {upr:.2f})]\",\n",
    "    method=\"Normal\"\n",
    "):\n",
    "    \"\"\"\n",
    "    Construct point and interval estimates for a population proportion.\n",
    "\n",
    "    The \"method\" argument controls the estimates returned. Available methods\n",
    "    are \"Normal\", to use the normal approximation to the Binomial, \"CP\" to\n",
    "    use the Clopper-Pearson method, \"Jeffrey\" to use Jeffery's method, and\n",
    "    \"AC\" for the Agresti-Coull method.\n",
    "\n",
    "    By default, the function returns a string with a 95% confidence interval\n",
    "    in the form \"mean [level% CI: (lwr, upr)]\". Set `str_fmt=None` to return\n",
    "    a dictionary containing the mean, confidence level (%-scale, level),\n",
    "    lower bound (lwr), and upper bound (upr) can also be returned.\n",
    "\n",
    "    Parameters\n",
    "    ----------\n",
    "    x : A 1-dimensional NumPy array or compatible sequence type (list, tuple).\n",
    "        A data vector of 0/1 or False/True from which to form the estimates.\n",
    "    level : float, optional.\n",
    "        The desired confidence level, converted to a percent in the output.\n",
    "        The default is 0.95.\n",
    "    str_fmt: str or None, optional.\n",
    "        If `None` a dictionary with entries `mean`, `level`, `lwr`, and\n",
    "        `upr` whose values give the point estimate, confidence level (as a %),\n",
    "        lower and upper confidence bounds, respectively. If a string, it's the\n",
    "        result of calling the `.format_map()` method using this dictionary.\n",
    "        The default is \"{mean:.1f} [{level:0.f}%: ({lwr:.1f}, {upr:.1f})]\".\n",
    "    method: str, optional\n",
    "        The type of confidence interval and point estimate desired.  Allowed\n",
    "        values are \"Normal\" for the normal approximation to the Binomial,\n",
    "        \"CP\" for a Clopper-Pearson interval, \"Jeffrey\" for Jeffrey's method,\n",
    "        or \"AC\" for the Agresti-Coull estimates.\n",
    "\n",
    "    Returns\n",
    "    -------\n",
    "    A string with a (100 * level)% confidence interval in the form\n",
    "    \"mean [(100 * level)% CI: (lwr, upr)]\" or a dictionary containing the\n",
    "    keywords shown in the string.\n",
    "\n",
    "    \"\"\"\n",
    "    # check input type\n",
    "    try:\n",
    "        x = np.asarray(x)  # or np.array() as instructed.\n",
    "    except TypeError:\n",
    "        print(\"Could not convert x to type ndarray.\")\n",
    "\n",
    "    # check that x is bool or 0/1\n",
    "    if x.dtype is np.dtype('bool'):\n",
    "        pass\n",
    "    elif not np.logical_or(x == 0, x == 1).all():\n",
    "        raise TypeError(\"x should be dtype('bool') or all 0's and 1's.\")\n",
    "\n",
    "    # check method\n",
    "    assert method in [\"Normal\", \"CP\", \"Jeffrey\", \"AC\"]\n",
    "\n",
    "    # determine the length\n",
    "    n = x.size\n",
    "\n",
    "    # compute estimate\n",
    "    if method == 'AC':\n",
    "        z = norm.ppf(1 - (1 - level / 2))\n",
    "        n = (n + z ** 2)\n",
    "        est = (np.sum(x) + z ** 2 / 2) / n\n",
    "    else:\n",
    "        est = np.mean(x)\n",
    "\n",
    "    # warn for small sample size with \"Normal\" method\n",
    "    if method == 'Normal' and (n * min(est, 1 - est)) < 12:\n",
    "        warn(Warning(\n",
    "            \"Normal approximation may be incorrect for n * min(p, 1-p) < 12.\"\n",
    "        ))\n",
    "\n",
    "    # compute bounds for Normal and AC methods\n",
    "    if method in ['Normal', 'AC']:\n",
    "        se = np.sqrt(est * (1 - est) / n)\n",
    "        z = norm.ppf(1 - (1 - level) / 2)\n",
    "        lwr, upr = est - z * se, est + z * se\n",
    "\n",
    "    # compute bounds for CP method\n",
    "    if method == 'CP':\n",
    "        alpha = 1 - level\n",
    "        s = np.sum(x)\n",
    "        lwr = beta.ppf(alpha / 2, s, n - s + 1)\n",
    "        upr = beta.ppf(1 - alpha / 2, s + 1, n - s)\n",
    "\n",
    "    # compute bounds for Jeffrey method\n",
    "    if method == 'Jeffrey':\n",
    "        alpha = 1 - level\n",
    "        s = np.sum(x)\n",
    "        lwr = beta.ppf(alpha / 2, s + 0.5, n - s + 0.5)\n",
    "        upr = beta.ppf(1 - alpha / 2, s + 0.5, n - s + 0.5)\n",
    "\n",
    "    # prepare return values\n",
    "    out = {\"mean\": est, \"level\": 100 * level, \"lwr\": lwr, \"upr\": upr}\n",
    "    if str_fmt is None:\n",
    "        return(out)\n",
    "    else:\n",
    "        return(str_fmt.format_map(out))"
   ]
  },
  {
   "cell_type": "markdown",
   "id": "2c4471b2",
   "metadata": {},
   "source": [
    "## c) Comparisons\n",
    "In this section you were asked to compare the 90, 95, and 99% confidence\n",
    "intervals from each of the methods above.\n",
    "The intervals produced by Jeffrey's method have the smallest width."
   ]
  },
  {
   "cell_type": "code",
   "execution_count": null,
   "id": "44802fa8",
   "metadata": {},
   "outputs": [],
   "source": [
    "# construct the intervals: ----------------------------------------------------\n",
    "x = np.array(48 * [0] + 42 * [1])\n",
    "fmt = '({lwr:.4f}, {upr:.4f})'\n",
    "tab3c = defaultdict(list)\n",
    "res3c = defaultdict(list)\n",
    "for lvl in [.9, .95, .99]:\n",
    "    tab3c['level'].append('{0:.0f}% CI'.format(100 * lvl))\n",
    "    tab3c['Mean'].append(ci_mean(x, lvl, fmt))\n",
    "    res3c['Mean'].append(ci_mean(x, lvl, None))\n",
    "    for m in ['Normal', 'AC', 'CP', 'Jeffrey']:\n",
    "        tab3c[m].append(ci_prop(x, lvl, fmt, m))\n",
    "        res3c[m].append(ci_prop(x, lvl, None, m))"
   ]
  },
  {
   "cell_type": "code",
   "execution_count": null,
   "id": "2db0b6cc",
   "metadata": {},
   "outputs": [],
   "source": [
    "tab3c = pd.melt(pd.DataFrame(tab3c), id_vars='level')\n",
    "tab3c = pd.pivot(tab3c, index='variable', columns='level', values='value')\n",
    "tab3c.index.name = 'Method'"
   ]
  },
  {
   "cell_type": "code",
   "execution_count": null,
   "id": "47d2d1f5",
   "metadata": {},
   "outputs": [],
   "source": [
    "# add a caption: --------------------------------------------------------------\n",
    "cap = \"\"\"\n",
    "<b> Table 2.</b> <em> Comparing confidence intervals for proportions.</em>\n",
    "Using an input vector with 42 of 90 successes, this table comapres the 90,\n",
    "95, and 99% Confidence intervals constructed according to 5 different methods. \n",
    "\"\"\"\n",
    "t2 = tab3c.to_html()\n",
    "t2 = t2.rsplit('\\n')\n",
    "t2.insert(1, cap)\n",
    "tab2 = ''\n",
    "for i, line in enumerate(t2):\n",
    "    tab2 += line\n",
    "    if i < (len(t2) - 1):\n",
    "        tab2 += '\\n'"
   ]
  },
  {
   "cell_type": "code",
   "execution_count": null,
   "id": "a647cc1a",
   "metadata": {
    "lines_to_next_cell": 2
   },
   "outputs": [],
   "source": [
    "display(HTML(tab2))"
   ]
  },
  {
   "cell_type": "code",
   "execution_count": null,
   "id": "78448bef",
   "metadata": {},
   "outputs": [],
   "source": [
    "# show the interval with the smallest width: ----------------------------------\n",
    "width = defaultdict(list)\n",
    "width['Level'] = ['90%', '95%', '99%']\n",
    "for k, v in res3c.items():\n",
    "    width[k] = [i['upr'] - i['lwr'] for i in v]\n",
    "width = pd.DataFrame(width).set_index('Level')\n",
    "width.where(width.isin(width.min(axis=1))).dropna(axis=1)"
   ]
  },
  {
   "cell_type": "markdown",
   "id": "78222b6e",
   "metadata": {},
   "source": [
    "---"
   ]
  }
 ],
 "metadata": {
  "jupytext": {
   "cell_metadata_json": true,
   "notebook_metadata_filter": "markdown"
  },
  "kernelspec": {
   "display_name": "Python 3 (ipykernel)",
   "language": "python",
   "name": "python3"
  },
  "markdown": {
   "extensions": "footnotes"
  }
 },
 "nbformat": 4,
 "nbformat_minor": 5
}
