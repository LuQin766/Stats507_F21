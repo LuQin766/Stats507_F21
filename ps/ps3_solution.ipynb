{
 "cells": [
  {
   "cell_type": "markdown",
   "source": [
    "## Problem Set 3, Solution\n",
    "**Stats 507, Fall 2021**  \n",
    "*James Henderson, PhD*  \n",
    "*October 5, 2021*\n"
   ],
   "metadata": {}
  },
  {
   "cell_type": "markdown",
   "source": [
    "## Contents\n",
    "+ [Question 0](#Question-0)\n",
    "+ [Question 1](#Question-1)\n",
    "+ [Question 2](#Question-2)\n",
    "+ [Question 3](#Question-3)"
   ],
   "metadata": {}
  },
  {
   "cell_type": "markdown",
   "source": [
    "## Question 0\n",
    "In this question, you were asked to organize data and information related to\n",
    "the Residential Energy Consumption Survey ([RECS][recs]) in preparation for\n",
    "analyses in subsequent questions.  \n",
    "\n",
    "### Data Files\n",
    " The data files in csv format are accessed by appending the following\n",
    " paths to this stem: https://www.eia.gov/consumption/residential/data/.\n",
    " + 2009 RECS:\n",
    "   - [Data][recs09]: 2009/csv/recs2009_public.csv\n",
    "   - [Replicate Weights][brr09]: 2009/csv/recs2009_public_repweights.csv\n",
    " + 2015 RECS:\n",
    "   - [Data][recs15]: 2015/csv/recs2015_public_v4.csv\n",
    "   - Replicate weights are included in the file above. \n",
    "\n",
    "[recs09]: https://www.eia.gov/consumption/residential/data/2009/csv/recs2009_public.csv\n",
    "[brr09]: https://www.eia.gov/consumption/residential/data/2009/csv/recs2009_public_repweights.csv\n",
    "[recs15]: https://www.eia.gov/consumption/residential/data/2015/csv/recs2015_public_v4.csv\n",
    "\n",
    "### Variables\n",
    " Next, we identify the variables needed to answer the question below.\n",
    "\n",
    "> Estimate the average number of heating and cooling degree days (base\n",
    "> temperature 65 °F) for residences in each Census region for both 2009\n",
    "> and 2015.\n",
    "\n",
    "We will make use of:\n",
    " - `DOEID` - unique identifier for each sampled household,\n",
    " - `NWEIGHT` - final sample weight for each household,\n",
    " - `REGIONC` - Census region,\n",
    " - `CDD65` - cooling degree days, base temperature 65 °F,\n",
    " - `HDD65` - heating degree days, base temperautre 65 °F,\n",
    " - `brr_weight_*` - balance repeated replicate weights for 2009,\n",
    " - `BRRWT*` - balance repeated replicate weights for 2015. \n",
    " \n",
    "### Weights and Replicate Weights\n",
    "\n",
    "In this data set, the final sample weights (`NWEIGHT`) should be used \n",
    "to account for the survey design and make estimates nationally (or\n",
    "regionally) representative. For instance, to estimate the mean of variable \n",
    "$X$ in the population using these data, we use:\n",
    "\n",
    "$$\n",
    "\\hat{\\theta} = \\hat{\\theta}(w) = \n",
    " \\frac{\\sum_{i=1}^n w_i X_i}{\\sum_{i=1}^n w_i},\n",
    "$$\n",
    "\n",
    "where $i = 1, \\cdots, n$ indexes the samples or cases, \n",
    "$X_i$ is the variable of interest for the $i^{th}$ case and \n",
    "$w_i$ the associated final sample weight. \n",
    "\n",
    "\n",
    "Rather than providing the full sampling design,\n",
    "the survey is distributed with [balance repeated replicate weights][brr]. \n",
    "Details on using these weights for variance estimation are provided in \n",
    "the [technical documents][recstd] accompanying the data files.  \n",
    "\n",
    "From these documents we learn that the variance of the point estimate\n",
    "$\\hat{\\theta}$ above can be estimated using the $R$ replicate weights\n",
    "$w_i(1), \\cdots w_i(R)$, by each set of replicate weights to create \n",
    "replicate estimates $\\hat{\\theta}_r = \\hat{\\theta}(w(r))$:\n",
    "\n",
    "$$\n",
    "\\hat{V}(\\hat{\\theta}) = \\frac{1}{R(1 - \\epsilon)^2} \n",
    " \\sum_{i=1}^R (\\hat{\\theta}_r - \\hat{\\theta}(w))^2. \n",
    "$$\n",
    "\n",
    "Here $\\epsilon = 0.5$ is the *Fay* coefficient which is determined by\n",
    "how the replicate weights were formed from the balanced repeated \n",
    "half-samples. \n",
    "\n",
    "We can then form 95% confidence intervals around our estimates using\n",
    "$\\hat{\\theta} \\pm \\Phi^{-1}(0.975) \\sqrt{\\hat{V}(\\hat{\\theta})}$. \n",
    "\n",
    "\n",
    "[brr]: https://journals-sagepub-com.proxy.lib.umich.edu/doi/pdf/10.1177/096228029600500305\n",
    "[recstd]: https://www.eia.gov/consumption/residential/data/2015/pdf/microdata_v3.pdf\n"
   ],
   "metadata": {}
  },
  {
   "cell_type": "markdown",
   "source": [
    "## Imports\n",
    "We will use the following imports in this assignment."
   ],
   "metadata": {}
  },
  {
   "cell_type": "code",
   "execution_count": 3,
   "source": [
    "# modules: --------------------------------------------------------------------\n",
    "import numpy as np\n",
    "import pandas as pd\n",
    "import matplotlib.pyplot as plt\n",
    "import matplotlib.pylab as pylab\n",
    "from collections import defaultdict\n",
    "from os.path import exists\n",
    "from scipy.stats import norm\n",
    "from IPython.core.display import display, HTML\n",
    "# 79: -------------------------------------------------------------------------"
   ],
   "outputs": [],
   "metadata": {}
  },
  {
   "cell_type": "markdown",
   "source": [
    "## Question 1 - Data Preparation\n",
    "\n",
    "In this question we clean and prepare the 2009 and 2015 data by extracting\n",
    "the minimum necessary columns and giving them memorable (lower-case) names. "
   ],
   "metadata": {}
  },
  {
   "cell_type": "markdown",
   "source": [
    "### part a) Download and clean data"
   ],
   "metadata": {}
  },
  {
   "cell_type": "code",
   "execution_count": 4,
   "source": [
    "# raw data files\n",
    "stem = 'https://www.eia.gov/consumption/residential/data/'\n",
    "recs09_file = stem + '2009/csv/recs2009_public.csv'\n",
    "brr09_file = stem + '2009/csv/recs2009_public_repweights.csv'\n",
    "recs15_file = stem + '2015/csv/recs2015_public_v4.csv'\n",
    "\n",
    "recs09_local = 'ps3_recs09.feather'\n",
    "recs09_brr = 'recs09_brr.feather'\n",
    "recs15_local = 'ps3_recs15.feather'\n",
    "recs15_brr = 'recs15_brr.feather'\n",
    "\n",
    "# columns needed\n",
    "core_cols_map = {\n",
    "    'DOEID': 'id',\n",
    "    'REGIONC': 'region',\n",
    "    'NWEIGHT': 'weight',\n",
    "    'HDD65': 'hdd65',\n",
    "    'CDD65': 'cdd65'\n",
    "}\n",
    "core_cols = list(core_cols_map.keys())\n",
    "\n",
    "# weight columns\n",
    "wts09 = {'DOEID': 'id'}\n",
    "wts09.update({'brr_weight_' + str(i): 'rwt' + str(i) for i in range(1, 245)})\n",
    "\n",
    "wts15 = {'DOEID': 'id'}\n",
    "wts15.update({'BRRWT' + str(i): 'rwt' + str(i) for i in range(1, 97)})\n",
    "                 \n",
    "# categorical labels (CHECK)\n",
    "region = {1:'Northeast', 2: 'Midwest', 3: 'South', 4: 'West'}\n",
    "\n",
    "# 2009 \n",
    "if exists(recs09_local):\n",
    "    recs09 = pd.read_feather(recs09_local)\n",
    "else: \n",
    "    # 2009 RECS Data\n",
    "    recs09 = pd.read_csv(recs09_file, low_memory=False)\n",
    "    recs09 = recs09[core_cols]\n",
    "    recs09.rename(columns=core_cols_map, inplace=True)\n",
    "    \n",
    "    # save\n",
    "    recs09.to_feather(recs09_local)\n",
    "\n",
    "if exists(recs09_brr):\n",
    "    brr09 = pd.read_feather(recs09_brr)\n",
    "else:\n",
    "    # replicate weights\n",
    "    brr09 = pd.read_csv(brr09_file)\n",
    "    brr09.drop(columns='NWEIGHT', inplace=True)\n",
    "    brr09.rename(columns=wts09, inplace=True)\n",
    "    \n",
    "    # save\n",
    "    brr09.to_feather(recs09_brr)\n",
    "    \n",
    "# 2015\n",
    "if exists(recs15_local) and exists(recs15_brr):\n",
    "    recs15 = pd.read_feather(recs15_local)\n",
    "    brr15 = pd.read_feather(recs15_brr)\n",
    "else: \n",
    "    # 2009 RECS Data\n",
    "    recs15 = pd.read_csv(recs15_file, low_memory=False)\n",
    "    brr15 = recs15[wts15]\n",
    "    brr15.rename(columns=wts15, inplace=True)\n",
    "    recs15 = recs15[core_cols]\n",
    "    recs15.rename(columns=core_cols_map, inplace=True)\n",
    "    \n",
    "    # save\n",
    "    recs15.to_feather(recs15_local)\n",
    "    brr15.to_feather(recs15_brr)"
   ],
   "outputs": [
    {
     "output_type": "stream",
     "name": "stderr",
     "text": [
      "/Users/jbhender/opt/anaconda3/envs/507/lib/python3.9/site-packages/pandas/core/frame.py:5039: SettingWithCopyWarning: \n",
      "A value is trying to be set on a copy of a slice from a DataFrame\n",
      "\n",
      "See the caveats in the documentation: https://pandas.pydata.org/pandas-docs/stable/user_guide/indexing.html#returning-a-view-versus-a-copy\n",
      "  return super().rename(\n"
     ]
    }
   ],
   "metadata": {}
  },
  {
   "cell_type": "markdown",
   "source": [
    "### part b) Convert weights to a longer format\n",
    "In the second part of this question, we convert the weights\n",
    "to a longer format to facilitate use of `.groupby()` operations\n",
    "for computing the replicate estimates. It'd probably be a good idea\n",
    "to do this and part \"a\" together, and save the replicate weights in\n",
    "this longer format."
   ],
   "metadata": {}
  },
  {
   "cell_type": "code",
   "execution_count": 5,
   "source": [
    "# reshape 2009 weights to long\n",
    "_ = wts09.pop('DOEID')\n",
    "brr09 = brr09.melt(\n",
    "    id_vars='id',\n",
    "    value_vars=wts09.values(),\n",
    "    value_name='rw',\n",
    "    var_name='repl'\n",
    ")\n",
    "#brr09.set_index('id', inplace=True)\n",
    "\n",
    "# reshape 2015 weights to long\n",
    "_ = wts15.pop('DOEID')\n",
    "brr15 = brr15.melt(\n",
    "    id_vars='id',\n",
    "    value_vars=wts15.values(),\n",
    "    value_name='rw',\n",
    "    var_name='repl'\n",
    ")\n",
    "#brr15.set_index('id', inplace=True)\n"
   ],
   "outputs": [],
   "metadata": {}
  },
  {
   "cell_type": "markdown",
   "source": [
    "## Question 2\n",
    "In this question we compute estimates of the average heating\n",
    "and cooling degree days (base 65 °F) by Census region."
   ],
   "metadata": {}
  },
  {
   "cell_type": "markdown",
   "source": [
    "### a) average heating and cooling degree days by region\n",
    "In this part we compute estimates (and 95% confidence intervals) for the \n",
    "average heating and cooling degrees in 2009 and 2015."
   ],
   "metadata": {}
  },
  {
   "cell_type": "code",
   "execution_count": 6,
   "source": [
    "# 79: -------------------------------------------------------------------------\n",
    "fay = 1 / (1 - 0.5)\n",
    "z = norm.ppf(.975)\n",
    "\n",
    "# average these variables within region\n",
    "dd65 = ['hdd65', 'cdd65']\n",
    "\n",
    "# nicer labels for tables\n",
    "dd_nice = {'hdd65': 'HDD (°65)', 'cdd65': 'CDD (°65)'}\n",
    "\n",
    "# loop over the two years \n",
    "dd_summaries = []\n",
    "for df, wts, i in zip([recs09, recs15], [brr09, brr15], [0, 1]):\n",
    "\n",
    "    # normalize weights\n",
    "    df['w'] = (\n",
    "        df\n",
    "        .groupby('region')['weight']\n",
    "        .transform(lambda x: x / np.sum(x))\n",
    "    )\n",
    "    \n",
    "    wts = pd.merge(wts, df, on='id')\n",
    "    wts['w'] = (\n",
    "        wts\n",
    "        .groupby(['region', 'repl'])['rw']\n",
    "        .transform(lambda x: x / np.sum(x))\n",
    "    )\n",
    "    \n",
    "    # weight variables\n",
    "    for v in dd65:\n",
    "        df[v] = df[v] * df['w']\n",
    "        wts[v] = wts[v] * wts['w']\n",
    "        \n",
    "    # point estimates\n",
    "    est = df.groupby('region')[dd65].sum()\n",
    "    \n",
    "    # replicate estimates\n",
    "    reps = wts.groupby(['region', 'repl'])[dd65].sum()\n",
    "    \n",
    "    # standard error\n",
    "    reps = pd.merge(reps, est, how='left', on='region', suffixes=('_r', '_0'))\n",
    "\n",
    "    for v in dd65:\n",
    "        reps[v + '_se'] = (\n",
    "            (reps[v + '_r'] - reps[v + '_0'])\n",
    "            .transform(lambda x: np.power(x, 2))\n",
    "        )\n",
    "    \n",
    "    dd65_se = [v + '_se' for v in dd65]    \n",
    "    se = reps.groupby('region')[dd65_se].mean()\n",
    "    \n",
    "    for v in dd65_se:\n",
    "        se[v] = se[v].transform(lambda x: fay * np.sqrt(x))\n",
    "    \n",
    "    # confidence intervals\n",
    "    est = est.join(se, on='region')\n",
    "\n",
    "    for v, v_se in zip(dd65, dd65_se):\n",
    "        est[v + '_lwr'] = est[v] - z * est[v_se]\n",
    "        est[v + '_upr'] = est[v] + z * est[v_se]\n",
    "    \n",
    "    dd_summaries.append(est)"
   ],
   "outputs": [],
   "metadata": {}
  },
  {
   "cell_type": "markdown",
   "source": [
    "Now we're ready to format the confidence intervals and construct a table. "
   ],
   "metadata": {}
  },
  {
   "cell_type": "code",
   "execution_count": 7,
   "source": [
    "# nicer labels for tables\n",
    "dd_nice = {'hdd65': '<center> HDD [65 °F] (95% CI) </center>',\n",
    "           'cdd65': '<center> CDD [65 °F] (95% CI) </center>'}\n",
    "\n",
    "# format confidence intervals\n",
    "for v in dd65: \n",
    "    cols = {v: 'est', v + '_lwr': 'lwr', v + '_upr': 'upr'}\n",
    "    for i, _ in enumerate(dd_summaries):\n",
    "        df = dd_summaries[i][cols.keys()].rename(columns=cols)\n",
    "        dd_summaries[i][dd_nice[v]] = (\n",
    "            df\n",
    "            .groupby(['region'])\n",
    "            .apply(lambda x: \n",
    "                   '<center> {0:.0f}<br>({1:.0f}, {2:.0f}) </center>'.format(\n",
    "                            x['est'].values[0],\n",
    "                            x['lwr'].values[0],\n",
    "                            x['upr'].values[0])\n",
    "                  )\n",
    "        )"
   ],
   "outputs": [],
   "metadata": {}
  },
  {
   "cell_type": "code",
   "execution_count": 8,
   "source": [
    "# organize as a table\n",
    "table1 = []\n",
    "for i, yr in enumerate([2009, 2015]):\n",
    "    tab = dd_summaries[i][dd_nice.values()]         \n",
    "    tab.columns = pd.MultiIndex.from_tuples(\n",
    "        [(c, '<center>' + str(yr) + '</center>') for c in tab.columns]\n",
    "    )\n",
    "    table1.append(tab)\n",
    "\n",
    "table1 = pd.merge(\n",
    "    table1[0], \n",
    "    table1[1], \n",
    "    on = 'region'\n",
    ").sort_index(level=0, axis=1)\n",
    "table1.index.name = 'Census Region'"
   ],
   "outputs": [],
   "metadata": {}
  },
  {
   "cell_type": "code",
   "execution_count": 9,
   "source": [
    "# add a caption: --------------------------------------------------------------\n",
    "cap = \"\"\"\n",
    "<caption style=\"text-align:justify; caption-side:bottom\"> <b> Table 1.</b> \n",
    "<em> Average Cooling and Heating Degree Days, 2009 and 2015.</em>\n",
    "This table shows the estimated cooling and heating degree days, base \n",
    "temperature 65 °F, experienced by US residences in each Census region in 2009 \n",
    "and 2015. Values are estimated using data from the residential energy\n",
    "consumption survey. CDD = cooling degree days, HDD = heating degree days. \n",
    "</caption>\n",
    "\"\"\"\n",
    "t1 = table1.to_html(justify='center', escape=False)\n",
    "t1 = t1.rsplit('\\n')\n",
    "t1.insert(1, cap)\n",
    "t1.insert(0, '<center>')\n",
    "tab1 = ''\n",
    "for line in t1:\n",
    "    tab1 += line + '\\n'\n",
    "tab1 += '</center>'\n",
    "tab1 = tab1.replace('<table', '<table width=\"100%\"')\n",
    "display(HTML(tab1))"
   ],
   "outputs": [
    {
     "output_type": "display_data",
     "data": {
      "text/plain": [
       "<IPython.core.display.HTML object>"
      ],
      "text/html": [
       "<center>\n",
       "<table width=\"100%\" border=\"1\" class=\"dataframe\">\n",
       "\n",
       "<caption style=\"text-align:justify; caption-side:bottom\"> <b> Table 1.</b> \n",
       "<em> Average Cooling and Heating Degree Days, 2009 and 2015.</em>\n",
       "This table shows the estimated cooling and heating degree days, base \n",
       "temperature 65 °F, experienced by US residences in each Census region in 2009 \n",
       "and 2015. Values are estimated using data from the residential energy\n",
       "consumption survey. CDD = cooling degree days, HDD = heating degree days. \n",
       "</caption>\n",
       "\n",
       "  <thead>\n",
       "    <tr>\n",
       "      <th></th>\n",
       "      <th colspan=\"2\" halign=\"left\"><center> CDD [65 °F] (95% CI) </center></th>\n",
       "      <th colspan=\"2\" halign=\"left\"><center> HDD [65 °F] (95% CI) </center></th>\n",
       "    </tr>\n",
       "    <tr>\n",
       "      <th></th>\n",
       "      <th><center>2009</center></th>\n",
       "      <th><center>2015</center></th>\n",
       "      <th><center>2009</center></th>\n",
       "      <th><center>2015</center></th>\n",
       "    </tr>\n",
       "    <tr>\n",
       "      <th>Census Region</th>\n",
       "      <th></th>\n",
       "      <th></th>\n",
       "      <th></th>\n",
       "      <th></th>\n",
       "    </tr>\n",
       "  </thead>\n",
       "  <tbody>\n",
       "    <tr>\n",
       "      <th>1</th>\n",
       "      <td><center> 681<br>(660, 701) </center></td>\n",
       "      <td><center> 984<br>(919, 1049) </center></td>\n",
       "      <td><center> 5701<br>(5632, 5770) </center></td>\n",
       "      <td><center> 5696<br>(5532, 5859) </center></td>\n",
       "    </tr>\n",
       "    <tr>\n",
       "      <th>2</th>\n",
       "      <td><center> 661<br>(632, 690) </center></td>\n",
       "      <td><center> 956<br>(894, 1018) </center></td>\n",
       "      <td><center> 6325<br>(6234, 6417) </center></td>\n",
       "      <td><center> 5785<br>(5635, 5936) </center></td>\n",
       "    </tr>\n",
       "    <tr>\n",
       "      <th>3</th>\n",
       "      <td><center> 2208<br>(2151, 2265) </center></td>\n",
       "      <td><center> 2640<br>(2525, 2755) </center></td>\n",
       "      <td><center> 2697<br>(2616, 2778) </center></td>\n",
       "      <td><center> 2212<br>(2056, 2368) </center></td>\n",
       "    </tr>\n",
       "    <tr>\n",
       "      <th>4</th>\n",
       "      <td><center> 1329<br>(1270, 1387) </center></td>\n",
       "      <td><center> 1577<br>(1377, 1777) </center></td>\n",
       "      <td><center> 3260<br>(3093, 3427) </center></td>\n",
       "      <td><center> 2815<br>(2625, 3005) </center></td>\n",
       "    </tr>\n",
       "  </tbody>\n",
       "</table>\n",
       "</center>"
      ]
     },
     "metadata": {}
    }
   ],
   "metadata": {}
  },
  {
   "cell_type": "markdown",
   "source": [
    "### b) differences between 2015 and 2009\n",
    "In this next part we compute differences in cooling and heating degree days\n",
    "between 2015 and 2009. "
   ],
   "metadata": {}
  },
  {
   "cell_type": "code",
   "execution_count": 10,
   "source": [
    "# construct differences and standard errors\n",
    "diffs = []\n",
    "for v, s in zip(dd65, dd65_se):\n",
    "    diff = dd_summaries[1][v] - dd_summaries[0][v]\n",
    "    se = (\n",
    "        dd_summaries[1][[s]].transform(lambda x: np.power(x, 2)) + \n",
    "        dd_summaries[0][[s]].transform(lambda x: np.power(x, 2))\n",
    "    )\n",
    "    se = se.transform(np.sqrt)\n",
    "    df = pd.merge(diff, se, on='region')\n",
    "    df[v + '_lwr'] = df[v] - z * df[s]\n",
    "    df[v + '_upr'] = df[v] + z * df[s]\n",
    "    diffs.append(df)\n",
    "table2 = pd.merge(diffs[0], diffs[1], on='region')\n",
    "\n",
    "# format confidence intervals\n",
    "t2_nice = {\n",
    "    'hdd65': '<center> HDD [65 °F] <br> 2015 less 2009 <br> (95% CI)</center>',\n",
    "    'cdd65': '<center> CDD [65 °F] <br> 2015 less 2009 <br> (95% CI)</center>'\n",
    "}\n",
    "for v in dd65: \n",
    "    cols = {v: 'est', v + '_lwr': 'lwr', v + '_upr': 'upr'}\n",
    "    df = table2[cols.keys()].rename(columns=cols)\n",
    "    table2[t2_nice[v]] = (\n",
    "        df\n",
    "        .groupby(['region'])\n",
    "        .apply(lambda x: \n",
    "                '<center> {0:.0f}<br>({1:.0f}, {2:.0f}) </center>'.format(\n",
    "                        x['est'].values[0],\n",
    "                        x['lwr'].values[0],\n",
    "                        x['upr'].values[0])\n",
    "                )\n",
    "        )   \n",
    "tab2 = table2[t2_nice.values()].iloc[:, [1, 0]]\n",
    "\n",
    "# add a caption: --------------------------------------------------------------\n",
    "cap2 = \"\"\"\n",
    "<caption style=\"text-align:justify; caption-side:bottom\"> <b> Table 2.</b> \n",
    "<em> Average Cooling and Heating Degree Day Differences, 2015 less 2009.</em>\n",
    "This table shows the estimated difference, 2015 less 2009, in cooling and\n",
    "heating degree days, base temperature 65 °F, experienced by US residences \n",
    "in each Census region. Values are estimated using data from the residential\n",
    "energy consumption survey. CDD = cooling degree days, HDD = heating degree days. \n",
    "</caption>\n",
    "\"\"\"\n",
    "t2 = tab2.to_html(justify='center', escape=False)\n",
    "t2 = t2.rsplit('\\n')\n",
    "t2.insert(1, cap2)\n",
    "t2.insert(0, '<center>')\n",
    "tab2 = ''\n",
    "for line in t2:\n",
    "    tab2 += line + '\\n'\n",
    "tab2 += '</center>'\n",
    "tab2 = tab2.replace('<table', '<table width=\"100%\"')\n",
    "display(HTML(tab2))"
   ],
   "outputs": [
    {
     "output_type": "display_data",
     "data": {
      "text/plain": [
       "<IPython.core.display.HTML object>"
      ],
      "text/html": [
       "<center>\n",
       "<table width=\"100%\" border=\"1\" class=\"dataframe\">\n",
       "\n",
       "<caption style=\"text-align:justify; caption-side:bottom\"> <b> Table 2.</b> \n",
       "<em> Average Cooling and Heating Degree Day Differences, 2015 less 2009.</em>\n",
       "This table shows the estimated difference, 2015 less 2009, in cooling and\n",
       "heating degree days, base temperature 65 °F, experienced by US residences \n",
       "in each Census region. Values are estimated using data from the residential\n",
       "energy consumption survey. CDD = cooling degree days, HDD = heating degree days. \n",
       "</caption>\n",
       "\n",
       "  <thead>\n",
       "    <tr style=\"text-align: center;\">\n",
       "      <th></th>\n",
       "      <th><center> CDD [65 °F] <br> 2015 less 2009 <br> (95% CI)</center></th>\n",
       "      <th><center> HDD [65 °F] <br> 2015 less 2009 <br> (95% CI)</center></th>\n",
       "    </tr>\n",
       "    <tr>\n",
       "      <th>region</th>\n",
       "      <th></th>\n",
       "      <th></th>\n",
       "    </tr>\n",
       "  </thead>\n",
       "  <tbody>\n",
       "    <tr>\n",
       "      <th>1</th>\n",
       "      <td><center> 303<br>(235, 371) </center></td>\n",
       "      <td><center> -5<br>(-183, 172) </center></td>\n",
       "    </tr>\n",
       "    <tr>\n",
       "      <th>2</th>\n",
       "      <td><center> 295<br>(227, 363) </center></td>\n",
       "      <td><center> -540<br>(-716, -363) </center></td>\n",
       "    </tr>\n",
       "    <tr>\n",
       "      <th>3</th>\n",
       "      <td><center> 432<br>(304, 561) </center></td>\n",
       "      <td><center> -485<br>(-660, -309) </center></td>\n",
       "    </tr>\n",
       "    <tr>\n",
       "      <th>4</th>\n",
       "      <td><center> 248<br>(40, 456) </center></td>\n",
       "      <td><center> -445<br>(-698, -192) </center></td>\n",
       "    </tr>\n",
       "  </tbody>\n",
       "</table>\n",
       "</center>"
      ]
     },
     "metadata": {}
    }
   ],
   "metadata": {}
  },
  {
   "cell_type": "markdown",
   "source": [
    "## Question 3\n",
    "\n",
    "In this question we create visualizations of the estimates from the\n",
    "previous question. "
   ],
   "metadata": {}
  },
  {
   "cell_type": "code",
   "execution_count": 11,
   "source": [
    "params = {'legend.fontsize': 'x-large',\n",
    "         'axes.labelsize': 'x-large',\n",
    "         'xtick.labelsize':'x-large',\n",
    "         'ytick.labelsize':'x-large'}\n",
    "pylab.rcParams.update(params)"
   ],
   "outputs": [],
   "metadata": {}
  },
  {
   "cell_type": "markdown",
   "source": [
    "Here is a figure showing the estimated cooling and heating\n",
    "degree days from part a of question 2."
   ],
   "metadata": {}
  },
  {
   "cell_type": "code",
   "execution_count": 12,
   "source": [
    "fig1, ax1 = plt.subplots(nrows=1, ncols=2, sharey=True)\n",
    "_ = fig1.set_size_inches(12, 4)\n",
    "yrs, colors = ('2009', '2015'), ('purple', 'orange')\n",
    "labels = {'hdd65': 'HDD [65 °F]', 'cdd65': 'CDD [65 °F]'}\n",
    "for i in 0, 1:\n",
    "    df = dd_summaries[i].copy()\n",
    "    df.reset_index(inplace=True)\n",
    "    for j, v in enumerate(dd65): \n",
    "        (df\n",
    "         .plot\n",
    "         .scatter(\n",
    "             ax=ax1[j],\n",
    "             x=v,\n",
    "             y='region',\n",
    "             color=colors[i],\n",
    "             alpha=0.5,\n",
    "             label=yrs[i]\n",
    "         )\n",
    "        )\n",
    "        ax1[j].errorbar(\n",
    "            x=df[v], \n",
    "            y=df['region'],\n",
    "            xerr=z * df[dd65_se[j]],\n",
    "            color=colors[i],\n",
    "            capsize=6,\n",
    "            fmt='None',\n",
    "            linewidth=3\n",
    "        )\n",
    "        if i == 1:\n",
    "            ax1[j].legend(loc='upper right')\n",
    "        ax1[j].set_xlabel(labels[v])\n",
    "        ax1[j].set_ylabel('Census Region')"
   ],
   "outputs": [
    {
     "output_type": "display_data",
     "data": {
      "text/plain": [
       "<Figure size 864x288 with 2 Axes>"
      ],
      "image/svg+xml": "<?xml version=\"1.0\" encoding=\"utf-8\" standalone=\"no\"?>\n<!DOCTYPE svg PUBLIC \"-//W3C//DTD SVG 1.1//EN\"\n  \"http://www.w3.org/Graphics/SVG/1.1/DTD/svg11.dtd\">\n<svg height=\"270.713pt\" version=\"1.1\" viewBox=\"0 0 731.837 270.713\" width=\"731.837pt\" xmlns=\"http://www.w3.org/2000/svg\" xmlns:xlink=\"http://www.w3.org/1999/xlink\">\n <metadata>\n  <rdf:RDF xmlns:cc=\"http://creativecommons.org/ns#\" xmlns:dc=\"http://purl.org/dc/elements/1.1/\" xmlns:rdf=\"http://www.w3.org/1999/02/22-rdf-syntax-ns#\">\n   <cc:Work>\n    <dc:type rdf:resource=\"http://purl.org/dc/dcmitype/StillImage\"/>\n    <dc:date>2021-10-16T19:06:39.011030</dc:date>\n    <dc:format>image/svg+xml</dc:format>\n    <dc:creator>\n     <cc:Agent>\n      <dc:title>Matplotlib v3.4.3, https://matplotlib.org/</dc:title>\n     </cc:Agent>\n    </dc:creator>\n   </cc:Work>\n  </rdf:RDF>\n </metadata>\n <defs>\n  <style type=\"text/css\">*{stroke-linecap:butt;stroke-linejoin:round;}</style>\n </defs>\n <g id=\"figure_1\">\n  <g id=\"patch_1\">\n   <path d=\"M 0 270.713 \nL 731.837 270.713 \nL 731.837 0 \nL 0 0 \nz\n\" style=\"fill:none;\"/>\n  </g>\n  <g id=\"axes_1\">\n   <g id=\"patch_2\">\n    <path d=\"M 55.037 224.64 \nL 359.400636 224.64 \nL 359.400636 7.2 \nL 55.037 7.2 \nz\n\" style=\"fill:#ffffff;\"/>\n   </g>\n   <g id=\"PathCollection_1\">\n    <defs>\n     <path d=\"M 0 2.236068 \nC 0.593012 2.236068 1.161816 2.000462 1.581139 1.581139 \nC 2.000462 1.161816 2.236068 0.593012 2.236068 0 \nC 2.236068 -0.593012 2.000462 -1.161816 1.581139 -1.581139 \nC 1.161816 -2.000462 0.593012 -2.236068 0 -2.236068 \nC -0.593012 -2.236068 -1.161816 -2.000462 -1.581139 -1.581139 \nC -2.000462 -1.161816 -2.236068 -0.593012 -2.236068 0 \nC -2.236068 0.593012 -2.000462 1.161816 -1.581139 1.581139 \nC -1.161816 2.000462 -0.593012 2.236068 0 2.236068 \nz\n\" id=\"m62814411fd\" style=\"stroke:#800080;stroke-opacity:0.5;\"/>\n    </defs>\n    <g clip-path=\"url(#p70600c1437)\">\n     <use style=\"fill:#800080;fill-opacity:0.5;stroke:#800080;stroke-opacity:0.5;\" x=\"300.138987\" xlink:href=\"#m62814411fd\" y=\"214.756364\"/>\n     <use style=\"fill:#800080;fill-opacity:0.5;stroke:#800080;stroke-opacity:0.5;\" x=\"339.755326\" xlink:href=\"#m62814411fd\" y=\"148.865455\"/>\n     <use style=\"fill:#800080;fill-opacity:0.5;stroke:#800080;stroke-opacity:0.5;\" x=\"109.5081\" xlink:href=\"#m62814411fd\" y=\"82.974545\"/>\n     <use style=\"fill:#800080;fill-opacity:0.5;stroke:#800080;stroke-opacity:0.5;\" x=\"145.230057\" xlink:href=\"#m62814411fd\" y=\"17.083636\"/>\n    </g>\n   </g>\n   <g id=\"PathCollection_2\">\n    <defs>\n     <path d=\"M 0 2.236068 \nC 0.593012 2.236068 1.161816 2.000462 1.581139 1.581139 \nC 2.000462 1.161816 2.236068 0.593012 2.236068 0 \nC 2.236068 -0.593012 2.000462 -1.161816 1.581139 -1.581139 \nC 1.161816 -2.000462 0.593012 -2.236068 0 -2.236068 \nC -0.593012 -2.236068 -1.161816 -2.000462 -1.581139 -1.581139 \nC -2.000462 -1.161816 -2.236068 -0.593012 -2.236068 0 \nC -2.236068 0.593012 -2.000462 1.161816 -1.581139 1.581139 \nC -1.161816 2.000462 -0.593012 2.236068 0 2.236068 \nz\n\" id=\"maa71fa45bc\" style=\"stroke:#ffa500;stroke-opacity:0.5;\"/>\n    </defs>\n    <g clip-path=\"url(#p70600c1437)\">\n     <use style=\"fill:#ffa500;fill-opacity:0.5;stroke:#ffa500;stroke-opacity:0.5;\" x=\"299.80173\" xlink:href=\"#maa71fa45bc\" y=\"214.756364\"/>\n     <use style=\"fill:#ffa500;fill-opacity:0.5;stroke:#ffa500;stroke-opacity:0.5;\" x=\"305.500849\" xlink:href=\"#maa71fa45bc\" y=\"148.865455\"/>\n     <use style=\"fill:#ffa500;fill-opacity:0.5;stroke:#ffa500;stroke-opacity:0.5;\" x=\"78.747236\" xlink:href=\"#maa71fa45bc\" y=\"82.974545\"/>\n     <use style=\"fill:#ffa500;fill-opacity:0.5;stroke:#ffa500;stroke-opacity:0.5;\" x=\"117.005817\" xlink:href=\"#maa71fa45bc\" y=\"17.083636\"/>\n    </g>\n   </g>\n   <g id=\"matplotlib.axis_1\">\n    <g id=\"xtick_1\">\n     <g id=\"line2d_1\">\n      <defs>\n       <path d=\"M 0 0 \nL 0 3.5 \n\" id=\"me5b0fc4297\" style=\"stroke:#000000;stroke-width:0.8;\"/>\n      </defs>\n      <g>\n       <use style=\"stroke:#000000;stroke-width:0.8;\" x=\"65.30298\" xlink:href=\"#me5b0fc4297\" y=\"224.64\"/>\n      </g>\n     </g>\n     <g id=\"text_1\">\n      <!-- 2000 -->\n      <g transform=\"translate(46.97898 242.58175)scale(0.144 -0.144)\">\n       <defs>\n        <path d=\"M 1228 531 \nL 3431 531 \nL 3431 0 \nL 469 0 \nL 469 531 \nQ 828 903 1448 1529 \nQ 2069 2156 2228 2338 \nQ 2531 2678 2651 2914 \nQ 2772 3150 2772 3378 \nQ 2772 3750 2511 3984 \nQ 2250 4219 1831 4219 \nQ 1534 4219 1204 4116 \nQ 875 4013 500 3803 \nL 500 4441 \nQ 881 4594 1212 4672 \nQ 1544 4750 1819 4750 \nQ 2544 4750 2975 4387 \nQ 3406 4025 3406 3419 \nQ 3406 3131 3298 2873 \nQ 3191 2616 2906 2266 \nQ 2828 2175 2409 1742 \nQ 1991 1309 1228 531 \nz\n\" id=\"DejaVuSans-32\" transform=\"scale(0.015625)\"/>\n        <path d=\"M 2034 4250 \nQ 1547 4250 1301 3770 \nQ 1056 3291 1056 2328 \nQ 1056 1369 1301 889 \nQ 1547 409 2034 409 \nQ 2525 409 2770 889 \nQ 3016 1369 3016 2328 \nQ 3016 3291 2770 3770 \nQ 2525 4250 2034 4250 \nz\nM 2034 4750 \nQ 2819 4750 3233 4129 \nQ 3647 3509 3647 2328 \nQ 3647 1150 3233 529 \nQ 2819 -91 2034 -91 \nQ 1250 -91 836 529 \nQ 422 1150 422 2328 \nQ 422 3509 836 4129 \nQ 1250 4750 2034 4750 \nz\n\" id=\"DejaVuSans-30\" transform=\"scale(0.015625)\"/>\n       </defs>\n       <use xlink:href=\"#DejaVuSans-32\"/>\n       <use x=\"63.623047\" xlink:href=\"#DejaVuSans-30\"/>\n       <use x=\"127.246094\" xlink:href=\"#DejaVuSans-30\"/>\n       <use x=\"190.869141\" xlink:href=\"#DejaVuSans-30\"/>\n      </g>\n     </g>\n    </g>\n    <g id=\"xtick_2\">\n     <g id=\"line2d_2\">\n      <g>\n       <use style=\"stroke:#000000;stroke-width:0.8;\" x=\"128.755226\" xlink:href=\"#me5b0fc4297\" y=\"224.64\"/>\n      </g>\n     </g>\n     <g id=\"text_2\">\n      <!-- 3000 -->\n      <g transform=\"translate(110.431226 242.58175)scale(0.144 -0.144)\">\n       <defs>\n        <path d=\"M 2597 2516 \nQ 3050 2419 3304 2112 \nQ 3559 1806 3559 1356 \nQ 3559 666 3084 287 \nQ 2609 -91 1734 -91 \nQ 1441 -91 1130 -33 \nQ 819 25 488 141 \nL 488 750 \nQ 750 597 1062 519 \nQ 1375 441 1716 441 \nQ 2309 441 2620 675 \nQ 2931 909 2931 1356 \nQ 2931 1769 2642 2001 \nQ 2353 2234 1838 2234 \nL 1294 2234 \nL 1294 2753 \nL 1863 2753 \nQ 2328 2753 2575 2939 \nQ 2822 3125 2822 3475 \nQ 2822 3834 2567 4026 \nQ 2313 4219 1838 4219 \nQ 1578 4219 1281 4162 \nQ 984 4106 628 3988 \nL 628 4550 \nQ 988 4650 1302 4700 \nQ 1616 4750 1894 4750 \nQ 2613 4750 3031 4423 \nQ 3450 4097 3450 3541 \nQ 3450 3153 3228 2886 \nQ 3006 2619 2597 2516 \nz\n\" id=\"DejaVuSans-33\" transform=\"scale(0.015625)\"/>\n       </defs>\n       <use xlink:href=\"#DejaVuSans-33\"/>\n       <use x=\"63.623047\" xlink:href=\"#DejaVuSans-30\"/>\n       <use x=\"127.246094\" xlink:href=\"#DejaVuSans-30\"/>\n       <use x=\"190.869141\" xlink:href=\"#DejaVuSans-30\"/>\n      </g>\n     </g>\n    </g>\n    <g id=\"xtick_3\">\n     <g id=\"line2d_3\">\n      <g>\n       <use style=\"stroke:#000000;stroke-width:0.8;\" x=\"192.207471\" xlink:href=\"#me5b0fc4297\" y=\"224.64\"/>\n      </g>\n     </g>\n     <g id=\"text_3\">\n      <!-- 4000 -->\n      <g transform=\"translate(173.883471 242.58175)scale(0.144 -0.144)\">\n       <defs>\n        <path d=\"M 2419 4116 \nL 825 1625 \nL 2419 1625 \nL 2419 4116 \nz\nM 2253 4666 \nL 3047 4666 \nL 3047 1625 \nL 3713 1625 \nL 3713 1100 \nL 3047 1100 \nL 3047 0 \nL 2419 0 \nL 2419 1100 \nL 313 1100 \nL 313 1709 \nL 2253 4666 \nz\n\" id=\"DejaVuSans-34\" transform=\"scale(0.015625)\"/>\n       </defs>\n       <use xlink:href=\"#DejaVuSans-34\"/>\n       <use x=\"63.623047\" xlink:href=\"#DejaVuSans-30\"/>\n       <use x=\"127.246094\" xlink:href=\"#DejaVuSans-30\"/>\n       <use x=\"190.869141\" xlink:href=\"#DejaVuSans-30\"/>\n      </g>\n     </g>\n    </g>\n    <g id=\"xtick_4\">\n     <g id=\"line2d_4\">\n      <g>\n       <use style=\"stroke:#000000;stroke-width:0.8;\" x=\"255.659716\" xlink:href=\"#me5b0fc4297\" y=\"224.64\"/>\n      </g>\n     </g>\n     <g id=\"text_4\">\n      <!-- 5000 -->\n      <g transform=\"translate(237.335716 242.58175)scale(0.144 -0.144)\">\n       <defs>\n        <path d=\"M 691 4666 \nL 3169 4666 \nL 3169 4134 \nL 1269 4134 \nL 1269 2991 \nQ 1406 3038 1543 3061 \nQ 1681 3084 1819 3084 \nQ 2600 3084 3056 2656 \nQ 3513 2228 3513 1497 \nQ 3513 744 3044 326 \nQ 2575 -91 1722 -91 \nQ 1428 -91 1123 -41 \nQ 819 9 494 109 \nL 494 744 \nQ 775 591 1075 516 \nQ 1375 441 1709 441 \nQ 2250 441 2565 725 \nQ 2881 1009 2881 1497 \nQ 2881 1984 2565 2268 \nQ 2250 2553 1709 2553 \nQ 1456 2553 1204 2497 \nQ 953 2441 691 2322 \nL 691 4666 \nz\n\" id=\"DejaVuSans-35\" transform=\"scale(0.015625)\"/>\n       </defs>\n       <use xlink:href=\"#DejaVuSans-35\"/>\n       <use x=\"63.623047\" xlink:href=\"#DejaVuSans-30\"/>\n       <use x=\"127.246094\" xlink:href=\"#DejaVuSans-30\"/>\n       <use x=\"190.869141\" xlink:href=\"#DejaVuSans-30\"/>\n      </g>\n     </g>\n    </g>\n    <g id=\"xtick_5\">\n     <g id=\"line2d_5\">\n      <g>\n       <use style=\"stroke:#000000;stroke-width:0.8;\" x=\"319.111961\" xlink:href=\"#me5b0fc4297\" y=\"224.64\"/>\n      </g>\n     </g>\n     <g id=\"text_5\">\n      <!-- 6000 -->\n      <g transform=\"translate(300.787961 242.58175)scale(0.144 -0.144)\">\n       <defs>\n        <path d=\"M 2113 2584 \nQ 1688 2584 1439 2293 \nQ 1191 2003 1191 1497 \nQ 1191 994 1439 701 \nQ 1688 409 2113 409 \nQ 2538 409 2786 701 \nQ 3034 994 3034 1497 \nQ 3034 2003 2786 2293 \nQ 2538 2584 2113 2584 \nz\nM 3366 4563 \nL 3366 3988 \nQ 3128 4100 2886 4159 \nQ 2644 4219 2406 4219 \nQ 1781 4219 1451 3797 \nQ 1122 3375 1075 2522 \nQ 1259 2794 1537 2939 \nQ 1816 3084 2150 3084 \nQ 2853 3084 3261 2657 \nQ 3669 2231 3669 1497 \nQ 3669 778 3244 343 \nQ 2819 -91 2113 -91 \nQ 1303 -91 875 529 \nQ 447 1150 447 2328 \nQ 447 3434 972 4092 \nQ 1497 4750 2381 4750 \nQ 2619 4750 2861 4703 \nQ 3103 4656 3366 4563 \nz\n\" id=\"DejaVuSans-36\" transform=\"scale(0.015625)\"/>\n       </defs>\n       <use xlink:href=\"#DejaVuSans-36\"/>\n       <use x=\"63.623047\" xlink:href=\"#DejaVuSans-30\"/>\n       <use x=\"127.246094\" xlink:href=\"#DejaVuSans-30\"/>\n       <use x=\"190.869141\" xlink:href=\"#DejaVuSans-30\"/>\n      </g>\n     </g>\n    </g>\n    <g id=\"text_6\">\n     <!-- HDD [65 °F] -->\n     <g transform=\"translate(163.618318 260.51825)scale(0.144 -0.144)\">\n      <defs>\n       <path d=\"M 628 4666 \nL 1259 4666 \nL 1259 2753 \nL 3553 2753 \nL 3553 4666 \nL 4184 4666 \nL 4184 0 \nL 3553 0 \nL 3553 2222 \nL 1259 2222 \nL 1259 0 \nL 628 0 \nL 628 4666 \nz\n\" id=\"DejaVuSans-48\" transform=\"scale(0.015625)\"/>\n       <path d=\"M 1259 4147 \nL 1259 519 \nL 2022 519 \nQ 2988 519 3436 956 \nQ 3884 1394 3884 2338 \nQ 3884 3275 3436 3711 \nQ 2988 4147 2022 4147 \nL 1259 4147 \nz\nM 628 4666 \nL 1925 4666 \nQ 3281 4666 3915 4102 \nQ 4550 3538 4550 2338 \nQ 4550 1131 3912 565 \nQ 3275 0 1925 0 \nL 628 0 \nL 628 4666 \nz\n\" id=\"DejaVuSans-44\" transform=\"scale(0.015625)\"/>\n       <path id=\"DejaVuSans-20\" transform=\"scale(0.015625)\"/>\n       <path d=\"M 550 4863 \nL 1875 4863 \nL 1875 4416 \nL 1125 4416 \nL 1125 -397 \nL 1875 -397 \nL 1875 -844 \nL 550 -844 \nL 550 4863 \nz\n\" id=\"DejaVuSans-5b\" transform=\"scale(0.015625)\"/>\n       <path d=\"M 1600 4347 \nQ 1350 4347 1178 4173 \nQ 1006 4000 1006 3750 \nQ 1006 3503 1178 3333 \nQ 1350 3163 1600 3163 \nQ 1850 3163 2022 3333 \nQ 2194 3503 2194 3750 \nQ 2194 3997 2020 4172 \nQ 1847 4347 1600 4347 \nz\nM 1600 4750 \nQ 1800 4750 1984 4673 \nQ 2169 4597 2303 4453 \nQ 2447 4313 2519 4134 \nQ 2591 3956 2591 3750 \nQ 2591 3338 2302 3052 \nQ 2013 2766 1594 2766 \nQ 1172 2766 890 3047 \nQ 609 3328 609 3750 \nQ 609 4169 896 4459 \nQ 1184 4750 1600 4750 \nz\n\" id=\"DejaVuSans-b0\" transform=\"scale(0.015625)\"/>\n       <path d=\"M 628 4666 \nL 3309 4666 \nL 3309 4134 \nL 1259 4134 \nL 1259 2759 \nL 3109 2759 \nL 3109 2228 \nL 1259 2228 \nL 1259 0 \nL 628 0 \nL 628 4666 \nz\n\" id=\"DejaVuSans-46\" transform=\"scale(0.015625)\"/>\n       <path d=\"M 1947 4863 \nL 1947 -844 \nL 622 -844 \nL 622 -397 \nL 1369 -397 \nL 1369 4416 \nL 622 4416 \nL 622 4863 \nL 1947 4863 \nz\n\" id=\"DejaVuSans-5d\" transform=\"scale(0.015625)\"/>\n      </defs>\n      <use xlink:href=\"#DejaVuSans-48\"/>\n      <use x=\"75.195312\" xlink:href=\"#DejaVuSans-44\"/>\n      <use x=\"152.197266\" xlink:href=\"#DejaVuSans-44\"/>\n      <use x=\"229.199219\" xlink:href=\"#DejaVuSans-20\"/>\n      <use x=\"260.986328\" xlink:href=\"#DejaVuSans-5b\"/>\n      <use x=\"300\" xlink:href=\"#DejaVuSans-36\"/>\n      <use x=\"363.623047\" xlink:href=\"#DejaVuSans-35\"/>\n      <use x=\"427.246094\" xlink:href=\"#DejaVuSans-20\"/>\n      <use x=\"459.033203\" xlink:href=\"#DejaVuSans-b0\"/>\n      <use x=\"509.033203\" xlink:href=\"#DejaVuSans-46\"/>\n      <use x=\"566.552734\" xlink:href=\"#DejaVuSans-5d\"/>\n     </g>\n    </g>\n   </g>\n   <g id=\"matplotlib.axis_2\">\n    <g id=\"ytick_1\">\n     <g id=\"line2d_6\">\n      <defs>\n       <path d=\"M 0 0 \nL -3.5 0 \n\" id=\"mbbf1cf43f6\" style=\"stroke:#000000;stroke-width:0.8;\"/>\n      </defs>\n      <g>\n       <use style=\"stroke:#000000;stroke-width:0.8;\" x=\"55.037\" xlink:href=\"#mbbf1cf43f6\" y=\"214.756364\"/>\n      </g>\n     </g>\n     <g id=\"text_7\">\n      <!-- 1.0 -->\n      <g transform=\"translate(25.1365 220.227239)scale(0.144 -0.144)\">\n       <defs>\n        <path d=\"M 794 531 \nL 1825 531 \nL 1825 4091 \nL 703 3866 \nL 703 4441 \nL 1819 4666 \nL 2450 4666 \nL 2450 531 \nL 3481 531 \nL 3481 0 \nL 794 0 \nL 794 531 \nz\n\" id=\"DejaVuSans-31\" transform=\"scale(0.015625)\"/>\n        <path d=\"M 684 794 \nL 1344 794 \nL 1344 0 \nL 684 0 \nL 684 794 \nz\n\" id=\"DejaVuSans-2e\" transform=\"scale(0.015625)\"/>\n       </defs>\n       <use xlink:href=\"#DejaVuSans-31\"/>\n       <use x=\"63.623047\" xlink:href=\"#DejaVuSans-2e\"/>\n       <use x=\"95.410156\" xlink:href=\"#DejaVuSans-30\"/>\n      </g>\n     </g>\n    </g>\n    <g id=\"ytick_2\">\n     <g id=\"line2d_7\">\n      <g>\n       <use style=\"stroke:#000000;stroke-width:0.8;\" x=\"55.037\" xlink:href=\"#mbbf1cf43f6\" y=\"181.810909\"/>\n      </g>\n     </g>\n     <g id=\"text_8\">\n      <!-- 1.5 -->\n      <g transform=\"translate(25.1365 187.281784)scale(0.144 -0.144)\">\n       <use xlink:href=\"#DejaVuSans-31\"/>\n       <use x=\"63.623047\" xlink:href=\"#DejaVuSans-2e\"/>\n       <use x=\"95.410156\" xlink:href=\"#DejaVuSans-35\"/>\n      </g>\n     </g>\n    </g>\n    <g id=\"ytick_3\">\n     <g id=\"line2d_8\">\n      <g>\n       <use style=\"stroke:#000000;stroke-width:0.8;\" x=\"55.037\" xlink:href=\"#mbbf1cf43f6\" y=\"148.865455\"/>\n      </g>\n     </g>\n     <g id=\"text_9\">\n      <!-- 2.0 -->\n      <g transform=\"translate(25.1365 154.33633)scale(0.144 -0.144)\">\n       <use xlink:href=\"#DejaVuSans-32\"/>\n       <use x=\"63.623047\" xlink:href=\"#DejaVuSans-2e\"/>\n       <use x=\"95.410156\" xlink:href=\"#DejaVuSans-30\"/>\n      </g>\n     </g>\n    </g>\n    <g id=\"ytick_4\">\n     <g id=\"line2d_9\">\n      <g>\n       <use style=\"stroke:#000000;stroke-width:0.8;\" x=\"55.037\" xlink:href=\"#mbbf1cf43f6\" y=\"115.92\"/>\n      </g>\n     </g>\n     <g id=\"text_10\">\n      <!-- 2.5 -->\n      <g transform=\"translate(25.1365 121.390875)scale(0.144 -0.144)\">\n       <use xlink:href=\"#DejaVuSans-32\"/>\n       <use x=\"63.623047\" xlink:href=\"#DejaVuSans-2e\"/>\n       <use x=\"95.410156\" xlink:href=\"#DejaVuSans-35\"/>\n      </g>\n     </g>\n    </g>\n    <g id=\"ytick_5\">\n     <g id=\"line2d_10\">\n      <g>\n       <use style=\"stroke:#000000;stroke-width:0.8;\" x=\"55.037\" xlink:href=\"#mbbf1cf43f6\" y=\"82.974545\"/>\n      </g>\n     </g>\n     <g id=\"text_11\">\n      <!-- 3.0 -->\n      <g transform=\"translate(25.1365 88.44542)scale(0.144 -0.144)\">\n       <use xlink:href=\"#DejaVuSans-33\"/>\n       <use x=\"63.623047\" xlink:href=\"#DejaVuSans-2e\"/>\n       <use x=\"95.410156\" xlink:href=\"#DejaVuSans-30\"/>\n      </g>\n     </g>\n    </g>\n    <g id=\"ytick_6\">\n     <g id=\"line2d_11\">\n      <g>\n       <use style=\"stroke:#000000;stroke-width:0.8;\" x=\"55.037\" xlink:href=\"#mbbf1cf43f6\" y=\"50.029091\"/>\n      </g>\n     </g>\n     <g id=\"text_12\">\n      <!-- 3.5 -->\n      <g transform=\"translate(25.1365 55.499966)scale(0.144 -0.144)\">\n       <use xlink:href=\"#DejaVuSans-33\"/>\n       <use x=\"63.623047\" xlink:href=\"#DejaVuSans-2e\"/>\n       <use x=\"95.410156\" xlink:href=\"#DejaVuSans-35\"/>\n      </g>\n     </g>\n    </g>\n    <g id=\"ytick_7\">\n     <g id=\"line2d_12\">\n      <g>\n       <use style=\"stroke:#000000;stroke-width:0.8;\" x=\"55.037\" xlink:href=\"#mbbf1cf43f6\" y=\"17.083636\"/>\n      </g>\n     </g>\n     <g id=\"text_13\">\n      <!-- 4.0 -->\n      <g transform=\"translate(25.1365 22.554511)scale(0.144 -0.144)\">\n       <use xlink:href=\"#DejaVuSans-34\"/>\n       <use x=\"63.623047\" xlink:href=\"#DejaVuSans-2e\"/>\n       <use x=\"95.410156\" xlink:href=\"#DejaVuSans-30\"/>\n      </g>\n     </g>\n    </g>\n    <g id=\"text_14\">\n     <!-- Census Region -->\n     <g transform=\"translate(18.14175 168.942375)rotate(-90)scale(0.144 -0.144)\">\n      <defs>\n       <path d=\"M 4122 4306 \nL 4122 3641 \nQ 3803 3938 3442 4084 \nQ 3081 4231 2675 4231 \nQ 1875 4231 1450 3742 \nQ 1025 3253 1025 2328 \nQ 1025 1406 1450 917 \nQ 1875 428 2675 428 \nQ 3081 428 3442 575 \nQ 3803 722 4122 1019 \nL 4122 359 \nQ 3791 134 3420 21 \nQ 3050 -91 2638 -91 \nQ 1578 -91 968 557 \nQ 359 1206 359 2328 \nQ 359 3453 968 4101 \nQ 1578 4750 2638 4750 \nQ 3056 4750 3426 4639 \nQ 3797 4528 4122 4306 \nz\n\" id=\"DejaVuSans-43\" transform=\"scale(0.015625)\"/>\n       <path d=\"M 3597 1894 \nL 3597 1613 \nL 953 1613 \nQ 991 1019 1311 708 \nQ 1631 397 2203 397 \nQ 2534 397 2845 478 \nQ 3156 559 3463 722 \nL 3463 178 \nQ 3153 47 2828 -22 \nQ 2503 -91 2169 -91 \nQ 1331 -91 842 396 \nQ 353 884 353 1716 \nQ 353 2575 817 3079 \nQ 1281 3584 2069 3584 \nQ 2775 3584 3186 3129 \nQ 3597 2675 3597 1894 \nz\nM 3022 2063 \nQ 3016 2534 2758 2815 \nQ 2500 3097 2075 3097 \nQ 1594 3097 1305 2825 \nQ 1016 2553 972 2059 \nL 3022 2063 \nz\n\" id=\"DejaVuSans-65\" transform=\"scale(0.015625)\"/>\n       <path d=\"M 3513 2113 \nL 3513 0 \nL 2938 0 \nL 2938 2094 \nQ 2938 2591 2744 2837 \nQ 2550 3084 2163 3084 \nQ 1697 3084 1428 2787 \nQ 1159 2491 1159 1978 \nL 1159 0 \nL 581 0 \nL 581 3500 \nL 1159 3500 \nL 1159 2956 \nQ 1366 3272 1645 3428 \nQ 1925 3584 2291 3584 \nQ 2894 3584 3203 3211 \nQ 3513 2838 3513 2113 \nz\n\" id=\"DejaVuSans-6e\" transform=\"scale(0.015625)\"/>\n       <path d=\"M 2834 3397 \nL 2834 2853 \nQ 2591 2978 2328 3040 \nQ 2066 3103 1784 3103 \nQ 1356 3103 1142 2972 \nQ 928 2841 928 2578 \nQ 928 2378 1081 2264 \nQ 1234 2150 1697 2047 \nL 1894 2003 \nQ 2506 1872 2764 1633 \nQ 3022 1394 3022 966 \nQ 3022 478 2636 193 \nQ 2250 -91 1575 -91 \nQ 1294 -91 989 -36 \nQ 684 19 347 128 \nL 347 722 \nQ 666 556 975 473 \nQ 1284 391 1588 391 \nQ 1994 391 2212 530 \nQ 2431 669 2431 922 \nQ 2431 1156 2273 1281 \nQ 2116 1406 1581 1522 \nL 1381 1569 \nQ 847 1681 609 1914 \nQ 372 2147 372 2553 \nQ 372 3047 722 3315 \nQ 1072 3584 1716 3584 \nQ 2034 3584 2315 3537 \nQ 2597 3491 2834 3397 \nz\n\" id=\"DejaVuSans-73\" transform=\"scale(0.015625)\"/>\n       <path d=\"M 544 1381 \nL 544 3500 \nL 1119 3500 \nL 1119 1403 \nQ 1119 906 1312 657 \nQ 1506 409 1894 409 \nQ 2359 409 2629 706 \nQ 2900 1003 2900 1516 \nL 2900 3500 \nL 3475 3500 \nL 3475 0 \nL 2900 0 \nL 2900 538 \nQ 2691 219 2414 64 \nQ 2138 -91 1772 -91 \nQ 1169 -91 856 284 \nQ 544 659 544 1381 \nz\nM 1991 3584 \nL 1991 3584 \nz\n\" id=\"DejaVuSans-75\" transform=\"scale(0.015625)\"/>\n       <path d=\"M 2841 2188 \nQ 3044 2119 3236 1894 \nQ 3428 1669 3622 1275 \nL 4263 0 \nL 3584 0 \nL 2988 1197 \nQ 2756 1666 2539 1819 \nQ 2322 1972 1947 1972 \nL 1259 1972 \nL 1259 0 \nL 628 0 \nL 628 4666 \nL 2053 4666 \nQ 2853 4666 3247 4331 \nQ 3641 3997 3641 3322 \nQ 3641 2881 3436 2590 \nQ 3231 2300 2841 2188 \nz\nM 1259 4147 \nL 1259 2491 \nL 2053 2491 \nQ 2509 2491 2742 2702 \nQ 2975 2913 2975 3322 \nQ 2975 3731 2742 3939 \nQ 2509 4147 2053 4147 \nL 1259 4147 \nz\n\" id=\"DejaVuSans-52\" transform=\"scale(0.015625)\"/>\n       <path d=\"M 2906 1791 \nQ 2906 2416 2648 2759 \nQ 2391 3103 1925 3103 \nQ 1463 3103 1205 2759 \nQ 947 2416 947 1791 \nQ 947 1169 1205 825 \nQ 1463 481 1925 481 \nQ 2391 481 2648 825 \nQ 2906 1169 2906 1791 \nz\nM 3481 434 \nQ 3481 -459 3084 -895 \nQ 2688 -1331 1869 -1331 \nQ 1566 -1331 1297 -1286 \nQ 1028 -1241 775 -1147 \nL 775 -588 \nQ 1028 -725 1275 -790 \nQ 1522 -856 1778 -856 \nQ 2344 -856 2625 -561 \nQ 2906 -266 2906 331 \nL 2906 616 \nQ 2728 306 2450 153 \nQ 2172 0 1784 0 \nQ 1141 0 747 490 \nQ 353 981 353 1791 \nQ 353 2603 747 3093 \nQ 1141 3584 1784 3584 \nQ 2172 3584 2450 3431 \nQ 2728 3278 2906 2969 \nL 2906 3500 \nL 3481 3500 \nL 3481 434 \nz\n\" id=\"DejaVuSans-67\" transform=\"scale(0.015625)\"/>\n       <path d=\"M 603 3500 \nL 1178 3500 \nL 1178 0 \nL 603 0 \nL 603 3500 \nz\nM 603 4863 \nL 1178 4863 \nL 1178 4134 \nL 603 4134 \nL 603 4863 \nz\n\" id=\"DejaVuSans-69\" transform=\"scale(0.015625)\"/>\n       <path d=\"M 1959 3097 \nQ 1497 3097 1228 2736 \nQ 959 2375 959 1747 \nQ 959 1119 1226 758 \nQ 1494 397 1959 397 \nQ 2419 397 2687 759 \nQ 2956 1122 2956 1747 \nQ 2956 2369 2687 2733 \nQ 2419 3097 1959 3097 \nz\nM 1959 3584 \nQ 2709 3584 3137 3096 \nQ 3566 2609 3566 1747 \nQ 3566 888 3137 398 \nQ 2709 -91 1959 -91 \nQ 1206 -91 779 398 \nQ 353 888 353 1747 \nQ 353 2609 779 3096 \nQ 1206 3584 1959 3584 \nz\n\" id=\"DejaVuSans-6f\" transform=\"scale(0.015625)\"/>\n      </defs>\n      <use xlink:href=\"#DejaVuSans-43\"/>\n      <use x=\"69.824219\" xlink:href=\"#DejaVuSans-65\"/>\n      <use x=\"131.347656\" xlink:href=\"#DejaVuSans-6e\"/>\n      <use x=\"194.726562\" xlink:href=\"#DejaVuSans-73\"/>\n      <use x=\"246.826172\" xlink:href=\"#DejaVuSans-75\"/>\n      <use x=\"310.205078\" xlink:href=\"#DejaVuSans-73\"/>\n      <use x=\"362.304688\" xlink:href=\"#DejaVuSans-20\"/>\n      <use x=\"394.091797\" xlink:href=\"#DejaVuSans-52\"/>\n      <use x=\"459.074219\" xlink:href=\"#DejaVuSans-65\"/>\n      <use x=\"520.597656\" xlink:href=\"#DejaVuSans-67\"/>\n      <use x=\"584.074219\" xlink:href=\"#DejaVuSans-69\"/>\n      <use x=\"611.857422\" xlink:href=\"#DejaVuSans-6f\"/>\n      <use x=\"673.039062\" xlink:href=\"#DejaVuSans-6e\"/>\n     </g>\n    </g>\n   </g>\n   <g id=\"LineCollection_1\">\n    <path clip-path=\"url(#p70600c1437)\" d=\"M 295.77434 214.756364 \nL 304.503634 214.756364 \n\" style=\"fill:none;stroke:#800080;stroke-width:3;\"/>\n    <path clip-path=\"url(#p70600c1437)\" d=\"M 333.944727 148.865455 \nL 345.565926 148.865455 \n\" style=\"fill:none;stroke:#800080;stroke-width:3;\"/>\n    <path clip-path=\"url(#p70600c1437)\" d=\"M 104.370485 82.974545 \nL 114.645714 82.974545 \n\" style=\"fill:none;stroke:#800080;stroke-width:3;\"/>\n    <path clip-path=\"url(#p70600c1437)\" d=\"M 134.626335 17.083636 \nL 155.83378 17.083636 \n\" style=\"fill:none;stroke:#800080;stroke-width:3;\"/>\n   </g>\n   <g id=\"LineCollection_2\">\n    <path clip-path=\"url(#p70600c1437)\" d=\"M 289.421161 214.756364 \nL 310.182299 214.756364 \n\" style=\"fill:none;stroke:#ffa500;stroke-width:3;\"/>\n    <path clip-path=\"url(#p70600c1437)\" d=\"M 295.937889 148.865455 \nL 315.063808 148.865455 \n\" style=\"fill:none;stroke:#ffa500;stroke-width:3;\"/>\n    <path clip-path=\"url(#p70600c1437)\" d=\"M 68.871711 82.974545 \nL 88.622761 82.974545 \n\" style=\"fill:none;stroke:#ffa500;stroke-width:3;\"/>\n    <path clip-path=\"url(#p70600c1437)\" d=\"M 104.962756 17.083636 \nL 129.048879 17.083636 \n\" style=\"fill:none;stroke:#ffa500;stroke-width:3;\"/>\n   </g>\n   <g id=\"line2d_13\">\n    <defs>\n     <path d=\"M 0 6 \nL 0 -6 \n\" id=\"m6436872faf\" style=\"stroke:#800080;\"/>\n    </defs>\n    <g clip-path=\"url(#p70600c1437)\">\n     <use style=\"fill:#800080;stroke:#800080;\" x=\"295.77434\" xlink:href=\"#m6436872faf\" y=\"214.756364\"/>\n     <use style=\"fill:#800080;stroke:#800080;\" x=\"333.944727\" xlink:href=\"#m6436872faf\" y=\"148.865455\"/>\n     <use style=\"fill:#800080;stroke:#800080;\" x=\"104.370485\" xlink:href=\"#m6436872faf\" y=\"82.974545\"/>\n     <use style=\"fill:#800080;stroke:#800080;\" x=\"134.626335\" xlink:href=\"#m6436872faf\" y=\"17.083636\"/>\n    </g>\n   </g>\n   <g id=\"line2d_14\">\n    <g clip-path=\"url(#p70600c1437)\">\n     <use style=\"fill:#800080;stroke:#800080;\" x=\"304.503634\" xlink:href=\"#m6436872faf\" y=\"214.756364\"/>\n     <use style=\"fill:#800080;stroke:#800080;\" x=\"345.565926\" xlink:href=\"#m6436872faf\" y=\"148.865455\"/>\n     <use style=\"fill:#800080;stroke:#800080;\" x=\"114.645714\" xlink:href=\"#m6436872faf\" y=\"82.974545\"/>\n     <use style=\"fill:#800080;stroke:#800080;\" x=\"155.83378\" xlink:href=\"#m6436872faf\" y=\"17.083636\"/>\n    </g>\n   </g>\n   <g id=\"line2d_15\">\n    <defs>\n     <path d=\"M 0 6 \nL 0 -6 \n\" id=\"md202b0acb7\" style=\"stroke:#ffa500;\"/>\n    </defs>\n    <g clip-path=\"url(#p70600c1437)\">\n     <use style=\"fill:#ffa500;stroke:#ffa500;\" x=\"289.421161\" xlink:href=\"#md202b0acb7\" y=\"214.756364\"/>\n     <use style=\"fill:#ffa500;stroke:#ffa500;\" x=\"295.937889\" xlink:href=\"#md202b0acb7\" y=\"148.865455\"/>\n     <use style=\"fill:#ffa500;stroke:#ffa500;\" x=\"68.871711\" xlink:href=\"#md202b0acb7\" y=\"82.974545\"/>\n     <use style=\"fill:#ffa500;stroke:#ffa500;\" x=\"104.962756\" xlink:href=\"#md202b0acb7\" y=\"17.083636\"/>\n    </g>\n   </g>\n   <g id=\"line2d_16\">\n    <g clip-path=\"url(#p70600c1437)\">\n     <use style=\"fill:#ffa500;stroke:#ffa500;\" x=\"310.182299\" xlink:href=\"#md202b0acb7\" y=\"214.756364\"/>\n     <use style=\"fill:#ffa500;stroke:#ffa500;\" x=\"315.063808\" xlink:href=\"#md202b0acb7\" y=\"148.865455\"/>\n     <use style=\"fill:#ffa500;stroke:#ffa500;\" x=\"88.622761\" xlink:href=\"#md202b0acb7\" y=\"82.974545\"/>\n     <use style=\"fill:#ffa500;stroke:#ffa500;\" x=\"129.048879\" xlink:href=\"#md202b0acb7\" y=\"17.083636\"/>\n    </g>\n   </g>\n   <g id=\"patch_3\">\n    <path d=\"M 55.037 224.64 \nL 55.037 7.2 \n\" style=\"fill:none;stroke:#000000;stroke-linecap:square;stroke-linejoin:miter;stroke-width:0.8;\"/>\n   </g>\n   <g id=\"patch_4\">\n    <path d=\"M 359.400636 224.64 \nL 359.400636 7.2 \n\" style=\"fill:none;stroke:#000000;stroke-linecap:square;stroke-linejoin:miter;stroke-width:0.8;\"/>\n   </g>\n   <g id=\"patch_5\">\n    <path d=\"M 55.037 224.64 \nL 359.400636 224.64 \n\" style=\"fill:none;stroke:#000000;stroke-linecap:square;stroke-linejoin:miter;stroke-width:0.8;\"/>\n   </g>\n   <g id=\"patch_6\">\n    <path d=\"M 55.037 7.2 \nL 359.400636 7.2 \n\" style=\"fill:none;stroke:#000000;stroke-linecap:square;stroke-linejoin:miter;stroke-width:0.8;\"/>\n   </g>\n   <g id=\"legend_1\">\n    <g id=\"patch_7\">\n     <path d=\"M 266.592636 60.993 \nL 349.320636 60.993 \nQ 352.200636 60.993 352.200636 58.113 \nL 352.200636 17.28 \nQ 352.200636 14.4 349.320636 14.4 \nL 266.592636 14.4 \nQ 263.712636 14.4 263.712636 17.28 \nL 263.712636 58.113 \nQ 263.712636 60.993 266.592636 60.993 \nz\n\" style=\"fill:#ffffff;opacity:0.8;stroke:#cccccc;stroke-linejoin:miter;\"/>\n    </g>\n    <g id=\"PathCollection_3\">\n     <g>\n      <use style=\"fill:#800080;fill-opacity:0.5;stroke:#800080;stroke-opacity:0.5;\" x=\"283.872636\" xlink:href=\"#m62814411fd\" y=\"27.32175\"/>\n     </g>\n    </g>\n    <g id=\"text_15\">\n     <!-- 2009 -->\n     <g transform=\"translate(309.792636 31.10175)scale(0.144 -0.144)\">\n      <defs>\n       <path d=\"M 703 97 \nL 703 672 \nQ 941 559 1184 500 \nQ 1428 441 1663 441 \nQ 2288 441 2617 861 \nQ 2947 1281 2994 2138 \nQ 2813 1869 2534 1725 \nQ 2256 1581 1919 1581 \nQ 1219 1581 811 2004 \nQ 403 2428 403 3163 \nQ 403 3881 828 4315 \nQ 1253 4750 1959 4750 \nQ 2769 4750 3195 4129 \nQ 3622 3509 3622 2328 \nQ 3622 1225 3098 567 \nQ 2575 -91 1691 -91 \nQ 1453 -91 1209 -44 \nQ 966 3 703 97 \nz\nM 1959 2075 \nQ 2384 2075 2632 2365 \nQ 2881 2656 2881 3163 \nQ 2881 3666 2632 3958 \nQ 2384 4250 1959 4250 \nQ 1534 4250 1286 3958 \nQ 1038 3666 1038 3163 \nQ 1038 2656 1286 2365 \nQ 1534 2075 1959 2075 \nz\n\" id=\"DejaVuSans-39\" transform=\"scale(0.015625)\"/>\n      </defs>\n      <use xlink:href=\"#DejaVuSans-32\"/>\n      <use x=\"63.623047\" xlink:href=\"#DejaVuSans-30\"/>\n      <use x=\"127.246094\" xlink:href=\"#DejaVuSans-30\"/>\n      <use x=\"190.869141\" xlink:href=\"#DejaVuSans-39\"/>\n     </g>\n    </g>\n    <g id=\"PathCollection_4\">\n     <g>\n      <use style=\"fill:#ffa500;fill-opacity:0.5;stroke:#ffa500;stroke-opacity:0.5;\" x=\"283.872636\" xlink:href=\"#maa71fa45bc\" y=\"48.45825\"/>\n     </g>\n    </g>\n    <g id=\"text_16\">\n     <!-- 2015 -->\n     <g transform=\"translate(309.792636 52.23825)scale(0.144 -0.144)\">\n      <use xlink:href=\"#DejaVuSans-32\"/>\n      <use x=\"63.623047\" xlink:href=\"#DejaVuSans-30\"/>\n      <use x=\"127.246094\" xlink:href=\"#DejaVuSans-31\"/>\n      <use x=\"190.869141\" xlink:href=\"#DejaVuSans-35\"/>\n     </g>\n    </g>\n   </g>\n  </g>\n  <g id=\"axes_2\">\n   <g id=\"patch_8\">\n    <path d=\"M 420.273364 224.64 \nL 724.637 224.64 \nL 724.637 7.2 \nL 420.273364 7.2 \nz\n\" style=\"fill:#ffffff;\"/>\n   </g>\n   <g id=\"PathCollection_5\">\n    <g clip-path=\"url(#pfd983d6d18)\">\n     <use style=\"fill:#800080;fill-opacity:0.5;stroke:#800080;stroke-opacity:0.5;\" x=\"440.458249\" xlink:href=\"#m62814411fd\" y=\"214.756364\"/>\n     <use style=\"fill:#800080;fill-opacity:0.5;stroke:#800080;stroke-opacity:0.5;\" x=\"437.874206\" xlink:href=\"#m62814411fd\" y=\"148.865455\"/>\n     <use style=\"fill:#800080;fill-opacity:0.5;stroke:#800080;stroke-opacity:0.5;\" x=\"639.475715\" xlink:href=\"#m62814411fd\" y=\"82.974545\"/>\n     <use style=\"fill:#800080;fill-opacity:0.5;stroke:#800080;stroke-opacity:0.5;\" x=\"524.903354\" xlink:href=\"#m62814411fd\" y=\"17.083636\"/>\n    </g>\n   </g>\n   <g id=\"PathCollection_6\">\n    <g clip-path=\"url(#pfd983d6d18)\">\n     <use style=\"fill:#ffa500;fill-opacity:0.5;stroke:#ffa500;stroke-opacity:0.5;\" x=\"479.975286\" xlink:href=\"#maa71fa45bc\" y=\"214.756364\"/>\n     <use style=\"fill:#ffa500;fill-opacity:0.5;stroke:#ffa500;stroke-opacity:0.5;\" x=\"476.346142\" xlink:href=\"#maa71fa45bc\" y=\"148.865455\"/>\n     <use style=\"fill:#ffa500;fill-opacity:0.5;stroke:#ffa500;stroke-opacity:0.5;\" x=\"695.794772\" xlink:href=\"#maa71fa45bc\" y=\"82.974545\"/>\n     <use style=\"fill:#ffa500;fill-opacity:0.5;stroke:#ffa500;stroke-opacity:0.5;\" x=\"557.242702\" xlink:href=\"#maa71fa45bc\" y=\"17.083636\"/>\n    </g>\n   </g>\n   <g id=\"matplotlib.axis_3\">\n    <g id=\"xtick_6\">\n     <g id=\"line2d_17\">\n      <g>\n       <use style=\"stroke:#000000;stroke-width:0.8;\" x=\"482.07103\" xlink:href=\"#me5b0fc4297\" y=\"224.64\"/>\n      </g>\n     </g>\n     <g id=\"text_17\">\n      <!-- 1000 -->\n      <g transform=\"translate(463.74703 242.58175)scale(0.144 -0.144)\">\n       <use xlink:href=\"#DejaVuSans-31\"/>\n       <use x=\"63.623047\" xlink:href=\"#DejaVuSans-30\"/>\n       <use x=\"127.246094\" xlink:href=\"#DejaVuSans-30\"/>\n       <use x=\"190.869141\" xlink:href=\"#DejaVuSans-30\"/>\n      </g>\n     </g>\n    </g>\n    <g id=\"xtick_7\">\n     <g id=\"line2d_18\">\n      <g>\n       <use style=\"stroke:#000000;stroke-width:0.8;\" x=\"547.236628\" xlink:href=\"#me5b0fc4297\" y=\"224.64\"/>\n      </g>\n     </g>\n     <g id=\"text_18\">\n      <!-- 1500 -->\n      <g transform=\"translate(528.912628 242.58175)scale(0.144 -0.144)\">\n       <use xlink:href=\"#DejaVuSans-31\"/>\n       <use x=\"63.623047\" xlink:href=\"#DejaVuSans-35\"/>\n       <use x=\"127.246094\" xlink:href=\"#DejaVuSans-30\"/>\n       <use x=\"190.869141\" xlink:href=\"#DejaVuSans-30\"/>\n      </g>\n     </g>\n    </g>\n    <g id=\"xtick_8\">\n     <g id=\"line2d_19\">\n      <g>\n       <use style=\"stroke:#000000;stroke-width:0.8;\" x=\"612.402227\" xlink:href=\"#me5b0fc4297\" y=\"224.64\"/>\n      </g>\n     </g>\n     <g id=\"text_19\">\n      <!-- 2000 -->\n      <g transform=\"translate(594.078227 242.58175)scale(0.144 -0.144)\">\n       <use xlink:href=\"#DejaVuSans-32\"/>\n       <use x=\"63.623047\" xlink:href=\"#DejaVuSans-30\"/>\n       <use x=\"127.246094\" xlink:href=\"#DejaVuSans-30\"/>\n       <use x=\"190.869141\" xlink:href=\"#DejaVuSans-30\"/>\n      </g>\n     </g>\n    </g>\n    <g id=\"xtick_9\">\n     <g id=\"line2d_20\">\n      <g>\n       <use style=\"stroke:#000000;stroke-width:0.8;\" x=\"677.567826\" xlink:href=\"#me5b0fc4297\" y=\"224.64\"/>\n      </g>\n     </g>\n     <g id=\"text_20\">\n      <!-- 2500 -->\n      <g transform=\"translate(659.243826 242.58175)scale(0.144 -0.144)\">\n       <use xlink:href=\"#DejaVuSans-32\"/>\n       <use x=\"63.623047\" xlink:href=\"#DejaVuSans-35\"/>\n       <use x=\"127.246094\" xlink:href=\"#DejaVuSans-30\"/>\n       <use x=\"190.869141\" xlink:href=\"#DejaVuSans-30\"/>\n      </g>\n     </g>\n    </g>\n    <g id=\"text_21\">\n     <!-- CDD [65 °F] -->\n     <g transform=\"translate(529.241682 260.51825)scale(0.144 -0.144)\">\n      <use xlink:href=\"#DejaVuSans-43\"/>\n      <use x=\"69.824219\" xlink:href=\"#DejaVuSans-44\"/>\n      <use x=\"146.826172\" xlink:href=\"#DejaVuSans-44\"/>\n      <use x=\"223.828125\" xlink:href=\"#DejaVuSans-20\"/>\n      <use x=\"255.615234\" xlink:href=\"#DejaVuSans-5b\"/>\n      <use x=\"294.628906\" xlink:href=\"#DejaVuSans-36\"/>\n      <use x=\"358.251953\" xlink:href=\"#DejaVuSans-35\"/>\n      <use x=\"421.875\" xlink:href=\"#DejaVuSans-20\"/>\n      <use x=\"453.662109\" xlink:href=\"#DejaVuSans-b0\"/>\n      <use x=\"503.662109\" xlink:href=\"#DejaVuSans-46\"/>\n      <use x=\"561.181641\" xlink:href=\"#DejaVuSans-5d\"/>\n     </g>\n    </g>\n   </g>\n   <g id=\"matplotlib.axis_4\">\n    <g id=\"ytick_8\">\n     <g id=\"line2d_21\">\n      <g>\n       <use style=\"stroke:#000000;stroke-width:0.8;\" x=\"420.273364\" xlink:href=\"#mbbf1cf43f6\" y=\"214.756364\"/>\n      </g>\n     </g>\n    </g>\n    <g id=\"ytick_9\">\n     <g id=\"line2d_22\">\n      <g>\n       <use style=\"stroke:#000000;stroke-width:0.8;\" x=\"420.273364\" xlink:href=\"#mbbf1cf43f6\" y=\"181.810909\"/>\n      </g>\n     </g>\n    </g>\n    <g id=\"ytick_10\">\n     <g id=\"line2d_23\">\n      <g>\n       <use style=\"stroke:#000000;stroke-width:0.8;\" x=\"420.273364\" xlink:href=\"#mbbf1cf43f6\" y=\"148.865455\"/>\n      </g>\n     </g>\n    </g>\n    <g id=\"ytick_11\">\n     <g id=\"line2d_24\">\n      <g>\n       <use style=\"stroke:#000000;stroke-width:0.8;\" x=\"420.273364\" xlink:href=\"#mbbf1cf43f6\" y=\"115.92\"/>\n      </g>\n     </g>\n    </g>\n    <g id=\"ytick_12\">\n     <g id=\"line2d_25\">\n      <g>\n       <use style=\"stroke:#000000;stroke-width:0.8;\" x=\"420.273364\" xlink:href=\"#mbbf1cf43f6\" y=\"82.974545\"/>\n      </g>\n     </g>\n    </g>\n    <g id=\"ytick_13\">\n     <g id=\"line2d_26\">\n      <g>\n       <use style=\"stroke:#000000;stroke-width:0.8;\" x=\"420.273364\" xlink:href=\"#mbbf1cf43f6\" y=\"50.029091\"/>\n      </g>\n     </g>\n    </g>\n    <g id=\"ytick_14\">\n     <g id=\"line2d_27\">\n      <g>\n       <use style=\"stroke:#000000;stroke-width:0.8;\" x=\"420.273364\" xlink:href=\"#mbbf1cf43f6\" y=\"17.083636\"/>\n      </g>\n     </g>\n    </g>\n   </g>\n   <g id=\"LineCollection_3\">\n    <path clip-path=\"url(#pfd983d6d18)\" d=\"M 437.774474 214.756364 \nL 443.142024 214.756364 \n\" style=\"fill:none;stroke:#800080;stroke-width:3;\"/>\n    <path clip-path=\"url(#pfd983d6d18)\" d=\"M 434.108074 148.865455 \nL 441.640338 148.865455 \n\" style=\"fill:none;stroke:#800080;stroke-width:3;\"/>\n    <path clip-path=\"url(#pfd983d6d18)\" d=\"M 632.036351 82.974545 \nL 646.91508 82.974545 \n\" style=\"fill:none;stroke:#800080;stroke-width:3;\"/>\n    <path clip-path=\"url(#pfd983d6d18)\" d=\"M 517.289907 17.083636 \nL 532.5168 17.083636 \n\" style=\"fill:none;stroke:#800080;stroke-width:3;\"/>\n   </g>\n   <g id=\"LineCollection_4\">\n    <path clip-path=\"url(#pfd983d6d18)\" d=\"M 471.502592 214.756364 \nL 488.44798 214.756364 \n\" style=\"fill:none;stroke:#ffa500;stroke-width:3;\"/>\n    <path clip-path=\"url(#pfd983d6d18)\" d=\"M 468.311303 148.865455 \nL 484.380982 148.865455 \n\" style=\"fill:none;stroke:#ffa500;stroke-width:3;\"/>\n    <path clip-path=\"url(#pfd983d6d18)\" d=\"M 680.787256 82.974545 \nL 710.802289 82.974545 \n\" style=\"fill:none;stroke:#ffa500;stroke-width:3;\"/>\n    <path clip-path=\"url(#pfd983d6d18)\" d=\"M 531.21172 17.083636 \nL 583.273685 17.083636 \n\" style=\"fill:none;stroke:#ffa500;stroke-width:3;\"/>\n   </g>\n   <g id=\"line2d_28\">\n    <g clip-path=\"url(#pfd983d6d18)\">\n     <use style=\"fill:#800080;stroke:#800080;\" x=\"437.774474\" xlink:href=\"#m6436872faf\" y=\"214.756364\"/>\n     <use style=\"fill:#800080;stroke:#800080;\" x=\"434.108074\" xlink:href=\"#m6436872faf\" y=\"148.865455\"/>\n     <use style=\"fill:#800080;stroke:#800080;\" x=\"632.036351\" xlink:href=\"#m6436872faf\" y=\"82.974545\"/>\n     <use style=\"fill:#800080;stroke:#800080;\" x=\"517.289907\" xlink:href=\"#m6436872faf\" y=\"17.083636\"/>\n    </g>\n   </g>\n   <g id=\"line2d_29\">\n    <g clip-path=\"url(#pfd983d6d18)\">\n     <use style=\"fill:#800080;stroke:#800080;\" x=\"443.142024\" xlink:href=\"#m6436872faf\" y=\"214.756364\"/>\n     <use style=\"fill:#800080;stroke:#800080;\" x=\"441.640338\" xlink:href=\"#m6436872faf\" y=\"148.865455\"/>\n     <use style=\"fill:#800080;stroke:#800080;\" x=\"646.91508\" xlink:href=\"#m6436872faf\" y=\"82.974545\"/>\n     <use style=\"fill:#800080;stroke:#800080;\" x=\"532.5168\" xlink:href=\"#m6436872faf\" y=\"17.083636\"/>\n    </g>\n   </g>\n   <g id=\"line2d_30\">\n    <g clip-path=\"url(#pfd983d6d18)\">\n     <use style=\"fill:#ffa500;stroke:#ffa500;\" x=\"471.502592\" xlink:href=\"#md202b0acb7\" y=\"214.756364\"/>\n     <use style=\"fill:#ffa500;stroke:#ffa500;\" x=\"468.311303\" xlink:href=\"#md202b0acb7\" y=\"148.865455\"/>\n     <use style=\"fill:#ffa500;stroke:#ffa500;\" x=\"680.787256\" xlink:href=\"#md202b0acb7\" y=\"82.974545\"/>\n     <use style=\"fill:#ffa500;stroke:#ffa500;\" x=\"531.21172\" xlink:href=\"#md202b0acb7\" y=\"17.083636\"/>\n    </g>\n   </g>\n   <g id=\"line2d_31\">\n    <g clip-path=\"url(#pfd983d6d18)\">\n     <use style=\"fill:#ffa500;stroke:#ffa500;\" x=\"488.44798\" xlink:href=\"#md202b0acb7\" y=\"214.756364\"/>\n     <use style=\"fill:#ffa500;stroke:#ffa500;\" x=\"484.380982\" xlink:href=\"#md202b0acb7\" y=\"148.865455\"/>\n     <use style=\"fill:#ffa500;stroke:#ffa500;\" x=\"710.802289\" xlink:href=\"#md202b0acb7\" y=\"82.974545\"/>\n     <use style=\"fill:#ffa500;stroke:#ffa500;\" x=\"583.273685\" xlink:href=\"#md202b0acb7\" y=\"17.083636\"/>\n    </g>\n   </g>\n   <g id=\"patch_9\">\n    <path d=\"M 420.273364 224.64 \nL 420.273364 7.2 \n\" style=\"fill:none;stroke:#000000;stroke-linecap:square;stroke-linejoin:miter;stroke-width:0.8;\"/>\n   </g>\n   <g id=\"patch_10\">\n    <path d=\"M 724.637 224.64 \nL 724.637 7.2 \n\" style=\"fill:none;stroke:#000000;stroke-linecap:square;stroke-linejoin:miter;stroke-width:0.8;\"/>\n   </g>\n   <g id=\"patch_11\">\n    <path d=\"M 420.273364 224.64 \nL 724.637 224.64 \n\" style=\"fill:none;stroke:#000000;stroke-linecap:square;stroke-linejoin:miter;stroke-width:0.8;\"/>\n   </g>\n   <g id=\"patch_12\">\n    <path d=\"M 420.273364 7.2 \nL 724.637 7.2 \n\" style=\"fill:none;stroke:#000000;stroke-linecap:square;stroke-linejoin:miter;stroke-width:0.8;\"/>\n   </g>\n   <g id=\"legend_2\">\n    <g id=\"patch_13\">\n     <path d=\"M 631.829 60.993 \nL 714.557 60.993 \nQ 717.437 60.993 717.437 58.113 \nL 717.437 17.28 \nQ 717.437 14.4 714.557 14.4 \nL 631.829 14.4 \nQ 628.949 14.4 628.949 17.28 \nL 628.949 58.113 \nQ 628.949 60.993 631.829 60.993 \nz\n\" style=\"fill:#ffffff;opacity:0.8;stroke:#cccccc;stroke-linejoin:miter;\"/>\n    </g>\n    <g id=\"PathCollection_7\">\n     <g>\n      <use style=\"fill:#800080;fill-opacity:0.5;stroke:#800080;stroke-opacity:0.5;\" x=\"649.109\" xlink:href=\"#m62814411fd\" y=\"27.32175\"/>\n     </g>\n    </g>\n    <g id=\"text_22\">\n     <!-- 2009 -->\n     <g transform=\"translate(675.029 31.10175)scale(0.144 -0.144)\">\n      <use xlink:href=\"#DejaVuSans-32\"/>\n      <use x=\"63.623047\" xlink:href=\"#DejaVuSans-30\"/>\n      <use x=\"127.246094\" xlink:href=\"#DejaVuSans-30\"/>\n      <use x=\"190.869141\" xlink:href=\"#DejaVuSans-39\"/>\n     </g>\n    </g>\n    <g id=\"PathCollection_8\">\n     <g>\n      <use style=\"fill:#ffa500;fill-opacity:0.5;stroke:#ffa500;stroke-opacity:0.5;\" x=\"649.109\" xlink:href=\"#maa71fa45bc\" y=\"48.45825\"/>\n     </g>\n    </g>\n    <g id=\"text_23\">\n     <!-- 2015 -->\n     <g transform=\"translate(675.029 52.23825)scale(0.144 -0.144)\">\n      <use xlink:href=\"#DejaVuSans-32\"/>\n      <use x=\"63.623047\" xlink:href=\"#DejaVuSans-30\"/>\n      <use x=\"127.246094\" xlink:href=\"#DejaVuSans-31\"/>\n      <use x=\"190.869141\" xlink:href=\"#DejaVuSans-35\"/>\n     </g>\n    </g>\n   </g>\n  </g>\n </g>\n <defs>\n  <clipPath id=\"p70600c1437\">\n   <rect height=\"217.44\" width=\"304.363636\" x=\"55.037\" y=\"7.2\"/>\n  </clipPath>\n  <clipPath id=\"pfd983d6d18\">\n   <rect height=\"217.44\" width=\"304.363636\" x=\"420.273364\" y=\"7.2\"/>\n  </clipPath>\n </defs>\n</svg>\n",
      "image/png": "[encoded data removed]"
     },
     "metadata": {
      "needs_background": "light"
     }
    }
   ],
   "metadata": {}
  },
  {
   "cell_type": "markdown",
   "source": [
    "Here is a visualization of the differences from part b. "
   ],
   "metadata": {}
  },
  {
   "cell_type": "code",
   "execution_count": 13,
   "source": [
    "fig2, ax2 = plt.subplots(nrows=1, ncols=1)\n",
    "_ = fig2.set_size_inches(10, 6)\n",
    "df = table2[dd65 + dd65_se].copy()\n",
    "df.reset_index(inplace=True)\n",
    "colors = {'hdd65': 'darkred', 'cdd65': 'darkblue'}\n",
    "ax2.axvline(x=0, linestyle='--', color='darkgrey')\n",
    "for j, v in enumerate(dd65): \n",
    "    ax2.errorbar(\n",
    "        x=df[v], \n",
    "        y=df['region'],\n",
    "        xerr=z * df[dd65_se[j]],\n",
    "        capsize=6,\n",
    "        alpha=0.5,\n",
    "        color=colors[v],\n",
    "        fmt='s',\n",
    "        label=labels[v],\n",
    "        linewidth=3\n",
    "    )\n",
    "_ = ax2.legend(loc='right')\n",
    "_ = ax2.set_xlabel(\n",
    "    'Difference in Heating and Cooling Degree Days, 2015 less 2009'\n",
    "    )\n",
    "_ = ax2.set_ylabel('Census Region')"
   ],
   "outputs": [
    {
     "output_type": "display_data",
     "data": {
      "text/plain": [
       "<Figure size 720x432 with 1 Axes>"
      ],
      "image/svg+xml": "<?xml version=\"1.0\" encoding=\"utf-8\" standalone=\"no\"?>\n<!DOCTYPE svg PUBLIC \"-//W3C//DTD SVG 1.1//EN\"\n  \"http://www.w3.org/Graphics/SVG/1.1/DTD/svg11.dtd\">\n<svg height=\"379.433pt\" version=\"1.1\" viewBox=\"0 0 624.252408 379.433\" width=\"624.252408pt\" xmlns=\"http://www.w3.org/2000/svg\" xmlns:xlink=\"http://www.w3.org/1999/xlink\">\n <metadata>\n  <rdf:RDF xmlns:cc=\"http://creativecommons.org/ns#\" xmlns:dc=\"http://purl.org/dc/elements/1.1/\" xmlns:rdf=\"http://www.w3.org/1999/02/22-rdf-syntax-ns#\">\n   <cc:Work>\n    <dc:type rdf:resource=\"http://purl.org/dc/dcmitype/StillImage\"/>\n    <dc:date>2021-10-16T19:06:40.043285</dc:date>\n    <dc:format>image/svg+xml</dc:format>\n    <dc:creator>\n     <cc:Agent>\n      <dc:title>Matplotlib v3.4.3, https://matplotlib.org/</dc:title>\n     </cc:Agent>\n    </dc:creator>\n   </cc:Work>\n  </rdf:RDF>\n </metadata>\n <defs>\n  <style type=\"text/css\">*{stroke-linecap:butt;stroke-linejoin:round;}</style>\n </defs>\n <g id=\"figure_1\">\n  <g id=\"patch_1\">\n   <path d=\"M 0 379.433 \nL 624.252408 379.433 \nL 624.252408 0 \nL 0 0 \nz\n\" style=\"fill:none;\"/>\n  </g>\n  <g id=\"axes_1\">\n   <g id=\"patch_2\">\n    <path d=\"M 55.037 333.36 \nL 613.037 333.36 \nL 613.037 7.2 \nL 55.037 7.2 \nz\n\" style=\"fill:#ffffff;\"/>\n   </g>\n   <g id=\"matplotlib.axis_1\">\n    <g id=\"xtick_1\">\n     <g id=\"line2d_1\">\n      <defs>\n       <path d=\"M 0 0 \nL 0 3.5 \n\" id=\"m0018b98187\" style=\"stroke:#000000;stroke-width:0.8;\"/>\n      </defs>\n      <g>\n       <use style=\"stroke:#000000;stroke-width:0.8;\" x=\"126.56451\" xlink:href=\"#m0018b98187\" y=\"333.36\"/>\n      </g>\n     </g>\n     <g id=\"text_1\">\n      <!-- −600 -->\n      <g transform=\"translate(106.788135 351.30175)scale(0.144 -0.144)\">\n       <defs>\n        <path d=\"M 678 2272 \nL 4684 2272 \nL 4684 1741 \nL 678 1741 \nL 678 2272 \nz\n\" id=\"DejaVuSans-2212\" transform=\"scale(0.015625)\"/>\n        <path d=\"M 2113 2584 \nQ 1688 2584 1439 2293 \nQ 1191 2003 1191 1497 \nQ 1191 994 1439 701 \nQ 1688 409 2113 409 \nQ 2538 409 2786 701 \nQ 3034 994 3034 1497 \nQ 3034 2003 2786 2293 \nQ 2538 2584 2113 2584 \nz\nM 3366 4563 \nL 3366 3988 \nQ 3128 4100 2886 4159 \nQ 2644 4219 2406 4219 \nQ 1781 4219 1451 3797 \nQ 1122 3375 1075 2522 \nQ 1259 2794 1537 2939 \nQ 1816 3084 2150 3084 \nQ 2853 3084 3261 2657 \nQ 3669 2231 3669 1497 \nQ 3669 778 3244 343 \nQ 2819 -91 2113 -91 \nQ 1303 -91 875 529 \nQ 447 1150 447 2328 \nQ 447 3434 972 4092 \nQ 1497 4750 2381 4750 \nQ 2619 4750 2861 4703 \nQ 3103 4656 3366 4563 \nz\n\" id=\"DejaVuSans-36\" transform=\"scale(0.015625)\"/>\n        <path d=\"M 2034 4250 \nQ 1547 4250 1301 3770 \nQ 1056 3291 1056 2328 \nQ 1056 1369 1301 889 \nQ 1547 409 2034 409 \nQ 2525 409 2770 889 \nQ 3016 1369 3016 2328 \nQ 3016 3291 2770 3770 \nQ 2525 4250 2034 4250 \nz\nM 2034 4750 \nQ 2819 4750 3233 4129 \nQ 3647 3509 3647 2328 \nQ 3647 1150 3233 529 \nQ 2819 -91 2034 -91 \nQ 1250 -91 836 529 \nQ 422 1150 422 2328 \nQ 422 3509 836 4129 \nQ 1250 4750 2034 4750 \nz\n\" id=\"DejaVuSans-30\" transform=\"scale(0.015625)\"/>\n       </defs>\n       <use xlink:href=\"#DejaVuSans-2212\"/>\n       <use x=\"83.789062\" xlink:href=\"#DejaVuSans-36\"/>\n       <use x=\"147.412109\" xlink:href=\"#DejaVuSans-30\"/>\n       <use x=\"211.035156\" xlink:href=\"#DejaVuSans-30\"/>\n      </g>\n     </g>\n    </g>\n    <g id=\"xtick_2\">\n     <g id=\"line2d_2\">\n      <g>\n       <use style=\"stroke:#000000;stroke-width:0.8;\" x=\"206.021993\" xlink:href=\"#m0018b98187\" y=\"333.36\"/>\n      </g>\n     </g>\n     <g id=\"text_2\">\n      <!-- −400 -->\n      <g transform=\"translate(186.245618 351.30175)scale(0.144 -0.144)\">\n       <defs>\n        <path d=\"M 2419 4116 \nL 825 1625 \nL 2419 1625 \nL 2419 4116 \nz\nM 2253 4666 \nL 3047 4666 \nL 3047 1625 \nL 3713 1625 \nL 3713 1100 \nL 3047 1100 \nL 3047 0 \nL 2419 0 \nL 2419 1100 \nL 313 1100 \nL 313 1709 \nL 2253 4666 \nz\n\" id=\"DejaVuSans-34\" transform=\"scale(0.015625)\"/>\n       </defs>\n       <use xlink:href=\"#DejaVuSans-2212\"/>\n       <use x=\"83.789062\" xlink:href=\"#DejaVuSans-34\"/>\n       <use x=\"147.412109\" xlink:href=\"#DejaVuSans-30\"/>\n       <use x=\"211.035156\" xlink:href=\"#DejaVuSans-30\"/>\n      </g>\n     </g>\n    </g>\n    <g id=\"xtick_3\">\n     <g id=\"line2d_3\">\n      <g>\n       <use style=\"stroke:#000000;stroke-width:0.8;\" x=\"285.479476\" xlink:href=\"#m0018b98187\" y=\"333.36\"/>\n      </g>\n     </g>\n     <g id=\"text_3\">\n      <!-- −200 -->\n      <g transform=\"translate(265.703101 351.30175)scale(0.144 -0.144)\">\n       <defs>\n        <path d=\"M 1228 531 \nL 3431 531 \nL 3431 0 \nL 469 0 \nL 469 531 \nQ 828 903 1448 1529 \nQ 2069 2156 2228 2338 \nQ 2531 2678 2651 2914 \nQ 2772 3150 2772 3378 \nQ 2772 3750 2511 3984 \nQ 2250 4219 1831 4219 \nQ 1534 4219 1204 4116 \nQ 875 4013 500 3803 \nL 500 4441 \nQ 881 4594 1212 4672 \nQ 1544 4750 1819 4750 \nQ 2544 4750 2975 4387 \nQ 3406 4025 3406 3419 \nQ 3406 3131 3298 2873 \nQ 3191 2616 2906 2266 \nQ 2828 2175 2409 1742 \nQ 1991 1309 1228 531 \nz\n\" id=\"DejaVuSans-32\" transform=\"scale(0.015625)\"/>\n       </defs>\n       <use xlink:href=\"#DejaVuSans-2212\"/>\n       <use x=\"83.789062\" xlink:href=\"#DejaVuSans-32\"/>\n       <use x=\"147.412109\" xlink:href=\"#DejaVuSans-30\"/>\n       <use x=\"211.035156\" xlink:href=\"#DejaVuSans-30\"/>\n      </g>\n     </g>\n    </g>\n    <g id=\"xtick_4\">\n     <g id=\"line2d_4\">\n      <g>\n       <use style=\"stroke:#000000;stroke-width:0.8;\" x=\"364.936959\" xlink:href=\"#m0018b98187\" y=\"333.36\"/>\n      </g>\n     </g>\n     <g id=\"text_4\">\n      <!-- 0 -->\n      <g transform=\"translate(360.355959 351.30175)scale(0.144 -0.144)\">\n       <use xlink:href=\"#DejaVuSans-30\"/>\n      </g>\n     </g>\n    </g>\n    <g id=\"xtick_5\">\n     <g id=\"line2d_5\">\n      <g>\n       <use style=\"stroke:#000000;stroke-width:0.8;\" x=\"444.394442\" xlink:href=\"#m0018b98187\" y=\"333.36\"/>\n      </g>\n     </g>\n     <g id=\"text_5\">\n      <!-- 200 -->\n      <g transform=\"translate(430.651442 351.30175)scale(0.144 -0.144)\">\n       <use xlink:href=\"#DejaVuSans-32\"/>\n       <use x=\"63.623047\" xlink:href=\"#DejaVuSans-30\"/>\n       <use x=\"127.246094\" xlink:href=\"#DejaVuSans-30\"/>\n      </g>\n     </g>\n    </g>\n    <g id=\"xtick_6\">\n     <g id=\"line2d_6\">\n      <g>\n       <use style=\"stroke:#000000;stroke-width:0.8;\" x=\"523.851925\" xlink:href=\"#m0018b98187\" y=\"333.36\"/>\n      </g>\n     </g>\n     <g id=\"text_6\">\n      <!-- 400 -->\n      <g transform=\"translate(510.108925 351.30175)scale(0.144 -0.144)\">\n       <use xlink:href=\"#DejaVuSans-34\"/>\n       <use x=\"63.623047\" xlink:href=\"#DejaVuSans-30\"/>\n       <use x=\"127.246094\" xlink:href=\"#DejaVuSans-30\"/>\n      </g>\n     </g>\n    </g>\n    <g id=\"xtick_7\">\n     <g id=\"line2d_7\">\n      <g>\n       <use style=\"stroke:#000000;stroke-width:0.8;\" x=\"603.309408\" xlink:href=\"#m0018b98187\" y=\"333.36\"/>\n      </g>\n     </g>\n     <g id=\"text_7\">\n      <!-- 600 -->\n      <g transform=\"translate(589.566408 351.30175)scale(0.144 -0.144)\">\n       <use xlink:href=\"#DejaVuSans-36\"/>\n       <use x=\"63.623047\" xlink:href=\"#DejaVuSans-30\"/>\n       <use x=\"127.246094\" xlink:href=\"#DejaVuSans-30\"/>\n      </g>\n     </g>\n    </g>\n    <g id=\"text_8\">\n     <!-- Difference in Heating and Cooling Degree Days, 2015 less 2009 -->\n     <g transform=\"translate(103.88225 369.23825)scale(0.144 -0.144)\">\n      <defs>\n       <path d=\"M 1259 4147 \nL 1259 519 \nL 2022 519 \nQ 2988 519 3436 956 \nQ 3884 1394 3884 2338 \nQ 3884 3275 3436 3711 \nQ 2988 4147 2022 4147 \nL 1259 4147 \nz\nM 628 4666 \nL 1925 4666 \nQ 3281 4666 3915 4102 \nQ 4550 3538 4550 2338 \nQ 4550 1131 3912 565 \nQ 3275 0 1925 0 \nL 628 0 \nL 628 4666 \nz\n\" id=\"DejaVuSans-44\" transform=\"scale(0.015625)\"/>\n       <path d=\"M 603 3500 \nL 1178 3500 \nL 1178 0 \nL 603 0 \nL 603 3500 \nz\nM 603 4863 \nL 1178 4863 \nL 1178 4134 \nL 603 4134 \nL 603 4863 \nz\n\" id=\"DejaVuSans-69\" transform=\"scale(0.015625)\"/>\n       <path d=\"M 2375 4863 \nL 2375 4384 \nL 1825 4384 \nQ 1516 4384 1395 4259 \nQ 1275 4134 1275 3809 \nL 1275 3500 \nL 2222 3500 \nL 2222 3053 \nL 1275 3053 \nL 1275 0 \nL 697 0 \nL 697 3053 \nL 147 3053 \nL 147 3500 \nL 697 3500 \nL 697 3744 \nQ 697 4328 969 4595 \nQ 1241 4863 1831 4863 \nL 2375 4863 \nz\n\" id=\"DejaVuSans-66\" transform=\"scale(0.015625)\"/>\n       <path d=\"M 3597 1894 \nL 3597 1613 \nL 953 1613 \nQ 991 1019 1311 708 \nQ 1631 397 2203 397 \nQ 2534 397 2845 478 \nQ 3156 559 3463 722 \nL 3463 178 \nQ 3153 47 2828 -22 \nQ 2503 -91 2169 -91 \nQ 1331 -91 842 396 \nQ 353 884 353 1716 \nQ 353 2575 817 3079 \nQ 1281 3584 2069 3584 \nQ 2775 3584 3186 3129 \nQ 3597 2675 3597 1894 \nz\nM 3022 2063 \nQ 3016 2534 2758 2815 \nQ 2500 3097 2075 3097 \nQ 1594 3097 1305 2825 \nQ 1016 2553 972 2059 \nL 3022 2063 \nz\n\" id=\"DejaVuSans-65\" transform=\"scale(0.015625)\"/>\n       <path d=\"M 2631 2963 \nQ 2534 3019 2420 3045 \nQ 2306 3072 2169 3072 \nQ 1681 3072 1420 2755 \nQ 1159 2438 1159 1844 \nL 1159 0 \nL 581 0 \nL 581 3500 \nL 1159 3500 \nL 1159 2956 \nQ 1341 3275 1631 3429 \nQ 1922 3584 2338 3584 \nQ 2397 3584 2469 3576 \nQ 2541 3569 2628 3553 \nL 2631 2963 \nz\n\" id=\"DejaVuSans-72\" transform=\"scale(0.015625)\"/>\n       <path d=\"M 3513 2113 \nL 3513 0 \nL 2938 0 \nL 2938 2094 \nQ 2938 2591 2744 2837 \nQ 2550 3084 2163 3084 \nQ 1697 3084 1428 2787 \nQ 1159 2491 1159 1978 \nL 1159 0 \nL 581 0 \nL 581 3500 \nL 1159 3500 \nL 1159 2956 \nQ 1366 3272 1645 3428 \nQ 1925 3584 2291 3584 \nQ 2894 3584 3203 3211 \nQ 3513 2838 3513 2113 \nz\n\" id=\"DejaVuSans-6e\" transform=\"scale(0.015625)\"/>\n       <path d=\"M 3122 3366 \nL 3122 2828 \nQ 2878 2963 2633 3030 \nQ 2388 3097 2138 3097 \nQ 1578 3097 1268 2742 \nQ 959 2388 959 1747 \nQ 959 1106 1268 751 \nQ 1578 397 2138 397 \nQ 2388 397 2633 464 \nQ 2878 531 3122 666 \nL 3122 134 \nQ 2881 22 2623 -34 \nQ 2366 -91 2075 -91 \nQ 1284 -91 818 406 \nQ 353 903 353 1747 \nQ 353 2603 823 3093 \nQ 1294 3584 2113 3584 \nQ 2378 3584 2631 3529 \nQ 2884 3475 3122 3366 \nz\n\" id=\"DejaVuSans-63\" transform=\"scale(0.015625)\"/>\n       <path id=\"DejaVuSans-20\" transform=\"scale(0.015625)\"/>\n       <path d=\"M 628 4666 \nL 1259 4666 \nL 1259 2753 \nL 3553 2753 \nL 3553 4666 \nL 4184 4666 \nL 4184 0 \nL 3553 0 \nL 3553 2222 \nL 1259 2222 \nL 1259 0 \nL 628 0 \nL 628 4666 \nz\n\" id=\"DejaVuSans-48\" transform=\"scale(0.015625)\"/>\n       <path d=\"M 2194 1759 \nQ 1497 1759 1228 1600 \nQ 959 1441 959 1056 \nQ 959 750 1161 570 \nQ 1363 391 1709 391 \nQ 2188 391 2477 730 \nQ 2766 1069 2766 1631 \nL 2766 1759 \nL 2194 1759 \nz\nM 3341 1997 \nL 3341 0 \nL 2766 0 \nL 2766 531 \nQ 2569 213 2275 61 \nQ 1981 -91 1556 -91 \nQ 1019 -91 701 211 \nQ 384 513 384 1019 \nQ 384 1609 779 1909 \nQ 1175 2209 1959 2209 \nL 2766 2209 \nL 2766 2266 \nQ 2766 2663 2505 2880 \nQ 2244 3097 1772 3097 \nQ 1472 3097 1187 3025 \nQ 903 2953 641 2809 \nL 641 3341 \nQ 956 3463 1253 3523 \nQ 1550 3584 1831 3584 \nQ 2591 3584 2966 3190 \nQ 3341 2797 3341 1997 \nz\n\" id=\"DejaVuSans-61\" transform=\"scale(0.015625)\"/>\n       <path d=\"M 1172 4494 \nL 1172 3500 \nL 2356 3500 \nL 2356 3053 \nL 1172 3053 \nL 1172 1153 \nQ 1172 725 1289 603 \nQ 1406 481 1766 481 \nL 2356 481 \nL 2356 0 \nL 1766 0 \nQ 1100 0 847 248 \nQ 594 497 594 1153 \nL 594 3053 \nL 172 3053 \nL 172 3500 \nL 594 3500 \nL 594 4494 \nL 1172 4494 \nz\n\" id=\"DejaVuSans-74\" transform=\"scale(0.015625)\"/>\n       <path d=\"M 2906 1791 \nQ 2906 2416 2648 2759 \nQ 2391 3103 1925 3103 \nQ 1463 3103 1205 2759 \nQ 947 2416 947 1791 \nQ 947 1169 1205 825 \nQ 1463 481 1925 481 \nQ 2391 481 2648 825 \nQ 2906 1169 2906 1791 \nz\nM 3481 434 \nQ 3481 -459 3084 -895 \nQ 2688 -1331 1869 -1331 \nQ 1566 -1331 1297 -1286 \nQ 1028 -1241 775 -1147 \nL 775 -588 \nQ 1028 -725 1275 -790 \nQ 1522 -856 1778 -856 \nQ 2344 -856 2625 -561 \nQ 2906 -266 2906 331 \nL 2906 616 \nQ 2728 306 2450 153 \nQ 2172 0 1784 0 \nQ 1141 0 747 490 \nQ 353 981 353 1791 \nQ 353 2603 747 3093 \nQ 1141 3584 1784 3584 \nQ 2172 3584 2450 3431 \nQ 2728 3278 2906 2969 \nL 2906 3500 \nL 3481 3500 \nL 3481 434 \nz\n\" id=\"DejaVuSans-67\" transform=\"scale(0.015625)\"/>\n       <path d=\"M 2906 2969 \nL 2906 4863 \nL 3481 4863 \nL 3481 0 \nL 2906 0 \nL 2906 525 \nQ 2725 213 2448 61 \nQ 2172 -91 1784 -91 \nQ 1150 -91 751 415 \nQ 353 922 353 1747 \nQ 353 2572 751 3078 \nQ 1150 3584 1784 3584 \nQ 2172 3584 2448 3432 \nQ 2725 3281 2906 2969 \nz\nM 947 1747 \nQ 947 1113 1208 752 \nQ 1469 391 1925 391 \nQ 2381 391 2643 752 \nQ 2906 1113 2906 1747 \nQ 2906 2381 2643 2742 \nQ 2381 3103 1925 3103 \nQ 1469 3103 1208 2742 \nQ 947 2381 947 1747 \nz\n\" id=\"DejaVuSans-64\" transform=\"scale(0.015625)\"/>\n       <path d=\"M 4122 4306 \nL 4122 3641 \nQ 3803 3938 3442 4084 \nQ 3081 4231 2675 4231 \nQ 1875 4231 1450 3742 \nQ 1025 3253 1025 2328 \nQ 1025 1406 1450 917 \nQ 1875 428 2675 428 \nQ 3081 428 3442 575 \nQ 3803 722 4122 1019 \nL 4122 359 \nQ 3791 134 3420 21 \nQ 3050 -91 2638 -91 \nQ 1578 -91 968 557 \nQ 359 1206 359 2328 \nQ 359 3453 968 4101 \nQ 1578 4750 2638 4750 \nQ 3056 4750 3426 4639 \nQ 3797 4528 4122 4306 \nz\n\" id=\"DejaVuSans-43\" transform=\"scale(0.015625)\"/>\n       <path d=\"M 1959 3097 \nQ 1497 3097 1228 2736 \nQ 959 2375 959 1747 \nQ 959 1119 1226 758 \nQ 1494 397 1959 397 \nQ 2419 397 2687 759 \nQ 2956 1122 2956 1747 \nQ 2956 2369 2687 2733 \nQ 2419 3097 1959 3097 \nz\nM 1959 3584 \nQ 2709 3584 3137 3096 \nQ 3566 2609 3566 1747 \nQ 3566 888 3137 398 \nQ 2709 -91 1959 -91 \nQ 1206 -91 779 398 \nQ 353 888 353 1747 \nQ 353 2609 779 3096 \nQ 1206 3584 1959 3584 \nz\n\" id=\"DejaVuSans-6f\" transform=\"scale(0.015625)\"/>\n       <path d=\"M 603 4863 \nL 1178 4863 \nL 1178 0 \nL 603 0 \nL 603 4863 \nz\n\" id=\"DejaVuSans-6c\" transform=\"scale(0.015625)\"/>\n       <path d=\"M 2059 -325 \nQ 1816 -950 1584 -1140 \nQ 1353 -1331 966 -1331 \nL 506 -1331 \nL 506 -850 \nL 844 -850 \nQ 1081 -850 1212 -737 \nQ 1344 -625 1503 -206 \nL 1606 56 \nL 191 3500 \nL 800 3500 \nL 1894 763 \nL 2988 3500 \nL 3597 3500 \nL 2059 -325 \nz\n\" id=\"DejaVuSans-79\" transform=\"scale(0.015625)\"/>\n       <path d=\"M 2834 3397 \nL 2834 2853 \nQ 2591 2978 2328 3040 \nQ 2066 3103 1784 3103 \nQ 1356 3103 1142 2972 \nQ 928 2841 928 2578 \nQ 928 2378 1081 2264 \nQ 1234 2150 1697 2047 \nL 1894 2003 \nQ 2506 1872 2764 1633 \nQ 3022 1394 3022 966 \nQ 3022 478 2636 193 \nQ 2250 -91 1575 -91 \nQ 1294 -91 989 -36 \nQ 684 19 347 128 \nL 347 722 \nQ 666 556 975 473 \nQ 1284 391 1588 391 \nQ 1994 391 2212 530 \nQ 2431 669 2431 922 \nQ 2431 1156 2273 1281 \nQ 2116 1406 1581 1522 \nL 1381 1569 \nQ 847 1681 609 1914 \nQ 372 2147 372 2553 \nQ 372 3047 722 3315 \nQ 1072 3584 1716 3584 \nQ 2034 3584 2315 3537 \nQ 2597 3491 2834 3397 \nz\n\" id=\"DejaVuSans-73\" transform=\"scale(0.015625)\"/>\n       <path d=\"M 750 794 \nL 1409 794 \nL 1409 256 \nL 897 -744 \nL 494 -744 \nL 750 256 \nL 750 794 \nz\n\" id=\"DejaVuSans-2c\" transform=\"scale(0.015625)\"/>\n       <path d=\"M 794 531 \nL 1825 531 \nL 1825 4091 \nL 703 3866 \nL 703 4441 \nL 1819 4666 \nL 2450 4666 \nL 2450 531 \nL 3481 531 \nL 3481 0 \nL 794 0 \nL 794 531 \nz\n\" id=\"DejaVuSans-31\" transform=\"scale(0.015625)\"/>\n       <path d=\"M 691 4666 \nL 3169 4666 \nL 3169 4134 \nL 1269 4134 \nL 1269 2991 \nQ 1406 3038 1543 3061 \nQ 1681 3084 1819 3084 \nQ 2600 3084 3056 2656 \nQ 3513 2228 3513 1497 \nQ 3513 744 3044 326 \nQ 2575 -91 1722 -91 \nQ 1428 -91 1123 -41 \nQ 819 9 494 109 \nL 494 744 \nQ 775 591 1075 516 \nQ 1375 441 1709 441 \nQ 2250 441 2565 725 \nQ 2881 1009 2881 1497 \nQ 2881 1984 2565 2268 \nQ 2250 2553 1709 2553 \nQ 1456 2553 1204 2497 \nQ 953 2441 691 2322 \nL 691 4666 \nz\n\" id=\"DejaVuSans-35\" transform=\"scale(0.015625)\"/>\n       <path d=\"M 703 97 \nL 703 672 \nQ 941 559 1184 500 \nQ 1428 441 1663 441 \nQ 2288 441 2617 861 \nQ 2947 1281 2994 2138 \nQ 2813 1869 2534 1725 \nQ 2256 1581 1919 1581 \nQ 1219 1581 811 2004 \nQ 403 2428 403 3163 \nQ 403 3881 828 4315 \nQ 1253 4750 1959 4750 \nQ 2769 4750 3195 4129 \nQ 3622 3509 3622 2328 \nQ 3622 1225 3098 567 \nQ 2575 -91 1691 -91 \nQ 1453 -91 1209 -44 \nQ 966 3 703 97 \nz\nM 1959 2075 \nQ 2384 2075 2632 2365 \nQ 2881 2656 2881 3163 \nQ 2881 3666 2632 3958 \nQ 2384 4250 1959 4250 \nQ 1534 4250 1286 3958 \nQ 1038 3666 1038 3163 \nQ 1038 2656 1286 2365 \nQ 1534 2075 1959 2075 \nz\n\" id=\"DejaVuSans-39\" transform=\"scale(0.015625)\"/>\n      </defs>\n      <use xlink:href=\"#DejaVuSans-44\"/>\n      <use x=\"77.001953\" xlink:href=\"#DejaVuSans-69\"/>\n      <use x=\"104.785156\" xlink:href=\"#DejaVuSans-66\"/>\n      <use x=\"139.990234\" xlink:href=\"#DejaVuSans-66\"/>\n      <use x=\"175.195312\" xlink:href=\"#DejaVuSans-65\"/>\n      <use x=\"236.71875\" xlink:href=\"#DejaVuSans-72\"/>\n      <use x=\"275.582031\" xlink:href=\"#DejaVuSans-65\"/>\n      <use x=\"337.105469\" xlink:href=\"#DejaVuSans-6e\"/>\n      <use x=\"400.484375\" xlink:href=\"#DejaVuSans-63\"/>\n      <use x=\"455.464844\" xlink:href=\"#DejaVuSans-65\"/>\n      <use x=\"516.988281\" xlink:href=\"#DejaVuSans-20\"/>\n      <use x=\"548.775391\" xlink:href=\"#DejaVuSans-69\"/>\n      <use x=\"576.558594\" xlink:href=\"#DejaVuSans-6e\"/>\n      <use x=\"639.9375\" xlink:href=\"#DejaVuSans-20\"/>\n      <use x=\"671.724609\" xlink:href=\"#DejaVuSans-48\"/>\n      <use x=\"746.919922\" xlink:href=\"#DejaVuSans-65\"/>\n      <use x=\"808.443359\" xlink:href=\"#DejaVuSans-61\"/>\n      <use x=\"869.722656\" xlink:href=\"#DejaVuSans-74\"/>\n      <use x=\"908.931641\" xlink:href=\"#DejaVuSans-69\"/>\n      <use x=\"936.714844\" xlink:href=\"#DejaVuSans-6e\"/>\n      <use x=\"1000.09375\" xlink:href=\"#DejaVuSans-67\"/>\n      <use x=\"1063.570312\" xlink:href=\"#DejaVuSans-20\"/>\n      <use x=\"1095.357422\" xlink:href=\"#DejaVuSans-61\"/>\n      <use x=\"1156.636719\" xlink:href=\"#DejaVuSans-6e\"/>\n      <use x=\"1220.015625\" xlink:href=\"#DejaVuSans-64\"/>\n      <use x=\"1283.492188\" xlink:href=\"#DejaVuSans-20\"/>\n      <use x=\"1315.279297\" xlink:href=\"#DejaVuSans-43\"/>\n      <use x=\"1385.103516\" xlink:href=\"#DejaVuSans-6f\"/>\n      <use x=\"1446.285156\" xlink:href=\"#DejaVuSans-6f\"/>\n      <use x=\"1507.466797\" xlink:href=\"#DejaVuSans-6c\"/>\n      <use x=\"1535.25\" xlink:href=\"#DejaVuSans-69\"/>\n      <use x=\"1563.033203\" xlink:href=\"#DejaVuSans-6e\"/>\n      <use x=\"1626.412109\" xlink:href=\"#DejaVuSans-67\"/>\n      <use x=\"1689.888672\" xlink:href=\"#DejaVuSans-20\"/>\n      <use x=\"1721.675781\" xlink:href=\"#DejaVuSans-44\"/>\n      <use x=\"1798.677734\" xlink:href=\"#DejaVuSans-65\"/>\n      <use x=\"1860.201172\" xlink:href=\"#DejaVuSans-67\"/>\n      <use x=\"1923.677734\" xlink:href=\"#DejaVuSans-72\"/>\n      <use x=\"1962.541016\" xlink:href=\"#DejaVuSans-65\"/>\n      <use x=\"2024.064453\" xlink:href=\"#DejaVuSans-65\"/>\n      <use x=\"2085.587891\" xlink:href=\"#DejaVuSans-20\"/>\n      <use x=\"2117.375\" xlink:href=\"#DejaVuSans-44\"/>\n      <use x=\"2194.376953\" xlink:href=\"#DejaVuSans-61\"/>\n      <use x=\"2255.65625\" xlink:href=\"#DejaVuSans-79\"/>\n      <use x=\"2314.835938\" xlink:href=\"#DejaVuSans-73\"/>\n      <use x=\"2366.935547\" xlink:href=\"#DejaVuSans-2c\"/>\n      <use x=\"2398.722656\" xlink:href=\"#DejaVuSans-20\"/>\n      <use x=\"2430.509766\" xlink:href=\"#DejaVuSans-32\"/>\n      <use x=\"2494.132812\" xlink:href=\"#DejaVuSans-30\"/>\n      <use x=\"2557.755859\" xlink:href=\"#DejaVuSans-31\"/>\n      <use x=\"2621.378906\" xlink:href=\"#DejaVuSans-35\"/>\n      <use x=\"2685.001953\" xlink:href=\"#DejaVuSans-20\"/>\n      <use x=\"2716.789062\" xlink:href=\"#DejaVuSans-6c\"/>\n      <use x=\"2744.572266\" xlink:href=\"#DejaVuSans-65\"/>\n      <use x=\"2806.095703\" xlink:href=\"#DejaVuSans-73\"/>\n      <use x=\"2858.195312\" xlink:href=\"#DejaVuSans-73\"/>\n      <use x=\"2910.294922\" xlink:href=\"#DejaVuSans-20\"/>\n      <use x=\"2942.082031\" xlink:href=\"#DejaVuSans-32\"/>\n      <use x=\"3005.705078\" xlink:href=\"#DejaVuSans-30\"/>\n      <use x=\"3069.328125\" xlink:href=\"#DejaVuSans-30\"/>\n      <use x=\"3132.951172\" xlink:href=\"#DejaVuSans-39\"/>\n     </g>\n    </g>\n   </g>\n   <g id=\"matplotlib.axis_2\">\n    <g id=\"ytick_1\">\n     <g id=\"line2d_8\">\n      <defs>\n       <path d=\"M 0 0 \nL -3.5 0 \n\" id=\"m2516abbd4c\" style=\"stroke:#000000;stroke-width:0.8;\"/>\n      </defs>\n      <g>\n       <use style=\"stroke:#000000;stroke-width:0.8;\" x=\"55.037\" xlink:href=\"#m2516abbd4c\" y=\"318.534545\"/>\n      </g>\n     </g>\n     <g id=\"text_9\">\n      <!-- 1.0 -->\n      <g transform=\"translate(25.1365 324.00542)scale(0.144 -0.144)\">\n       <defs>\n        <path d=\"M 684 794 \nL 1344 794 \nL 1344 0 \nL 684 0 \nL 684 794 \nz\n\" id=\"DejaVuSans-2e\" transform=\"scale(0.015625)\"/>\n       </defs>\n       <use xlink:href=\"#DejaVuSans-31\"/>\n       <use x=\"63.623047\" xlink:href=\"#DejaVuSans-2e\"/>\n       <use x=\"95.410156\" xlink:href=\"#DejaVuSans-30\"/>\n      </g>\n     </g>\n    </g>\n    <g id=\"ytick_2\">\n     <g id=\"line2d_9\">\n      <g>\n       <use style=\"stroke:#000000;stroke-width:0.8;\" x=\"55.037\" xlink:href=\"#m2516abbd4c\" y=\"269.116364\"/>\n      </g>\n     </g>\n     <g id=\"text_10\">\n      <!-- 1.5 -->\n      <g transform=\"translate(25.1365 274.587239)scale(0.144 -0.144)\">\n       <use xlink:href=\"#DejaVuSans-31\"/>\n       <use x=\"63.623047\" xlink:href=\"#DejaVuSans-2e\"/>\n       <use x=\"95.410156\" xlink:href=\"#DejaVuSans-35\"/>\n      </g>\n     </g>\n    </g>\n    <g id=\"ytick_3\">\n     <g id=\"line2d_10\">\n      <g>\n       <use style=\"stroke:#000000;stroke-width:0.8;\" x=\"55.037\" xlink:href=\"#m2516abbd4c\" y=\"219.698182\"/>\n      </g>\n     </g>\n     <g id=\"text_11\">\n      <!-- 2.0 -->\n      <g transform=\"translate(25.1365 225.169057)scale(0.144 -0.144)\">\n       <use xlink:href=\"#DejaVuSans-32\"/>\n       <use x=\"63.623047\" xlink:href=\"#DejaVuSans-2e\"/>\n       <use x=\"95.410156\" xlink:href=\"#DejaVuSans-30\"/>\n      </g>\n     </g>\n    </g>\n    <g id=\"ytick_4\">\n     <g id=\"line2d_11\">\n      <g>\n       <use style=\"stroke:#000000;stroke-width:0.8;\" x=\"55.037\" xlink:href=\"#m2516abbd4c\" y=\"170.28\"/>\n      </g>\n     </g>\n     <g id=\"text_12\">\n      <!-- 2.5 -->\n      <g transform=\"translate(25.1365 175.750875)scale(0.144 -0.144)\">\n       <use xlink:href=\"#DejaVuSans-32\"/>\n       <use x=\"63.623047\" xlink:href=\"#DejaVuSans-2e\"/>\n       <use x=\"95.410156\" xlink:href=\"#DejaVuSans-35\"/>\n      </g>\n     </g>\n    </g>\n    <g id=\"ytick_5\">\n     <g id=\"line2d_12\">\n      <g>\n       <use style=\"stroke:#000000;stroke-width:0.8;\" x=\"55.037\" xlink:href=\"#m2516abbd4c\" y=\"120.861818\"/>\n      </g>\n     </g>\n     <g id=\"text_13\">\n      <!-- 3.0 -->\n      <g transform=\"translate(25.1365 126.332693)scale(0.144 -0.144)\">\n       <defs>\n        <path d=\"M 2597 2516 \nQ 3050 2419 3304 2112 \nQ 3559 1806 3559 1356 \nQ 3559 666 3084 287 \nQ 2609 -91 1734 -91 \nQ 1441 -91 1130 -33 \nQ 819 25 488 141 \nL 488 750 \nQ 750 597 1062 519 \nQ 1375 441 1716 441 \nQ 2309 441 2620 675 \nQ 2931 909 2931 1356 \nQ 2931 1769 2642 2001 \nQ 2353 2234 1838 2234 \nL 1294 2234 \nL 1294 2753 \nL 1863 2753 \nQ 2328 2753 2575 2939 \nQ 2822 3125 2822 3475 \nQ 2822 3834 2567 4026 \nQ 2313 4219 1838 4219 \nQ 1578 4219 1281 4162 \nQ 984 4106 628 3988 \nL 628 4550 \nQ 988 4650 1302 4700 \nQ 1616 4750 1894 4750 \nQ 2613 4750 3031 4423 \nQ 3450 4097 3450 3541 \nQ 3450 3153 3228 2886 \nQ 3006 2619 2597 2516 \nz\n\" id=\"DejaVuSans-33\" transform=\"scale(0.015625)\"/>\n       </defs>\n       <use xlink:href=\"#DejaVuSans-33\"/>\n       <use x=\"63.623047\" xlink:href=\"#DejaVuSans-2e\"/>\n       <use x=\"95.410156\" xlink:href=\"#DejaVuSans-30\"/>\n      </g>\n     </g>\n    </g>\n    <g id=\"ytick_6\">\n     <g id=\"line2d_13\">\n      <g>\n       <use style=\"stroke:#000000;stroke-width:0.8;\" x=\"55.037\" xlink:href=\"#m2516abbd4c\" y=\"71.443636\"/>\n      </g>\n     </g>\n     <g id=\"text_14\">\n      <!-- 3.5 -->\n      <g transform=\"translate(25.1365 76.914511)scale(0.144 -0.144)\">\n       <use xlink:href=\"#DejaVuSans-33\"/>\n       <use x=\"63.623047\" xlink:href=\"#DejaVuSans-2e\"/>\n       <use x=\"95.410156\" xlink:href=\"#DejaVuSans-35\"/>\n      </g>\n     </g>\n    </g>\n    <g id=\"ytick_7\">\n     <g id=\"line2d_14\">\n      <g>\n       <use style=\"stroke:#000000;stroke-width:0.8;\" x=\"55.037\" xlink:href=\"#m2516abbd4c\" y=\"22.025455\"/>\n      </g>\n     </g>\n     <g id=\"text_15\">\n      <!-- 4.0 -->\n      <g transform=\"translate(25.1365 27.49633)scale(0.144 -0.144)\">\n       <use xlink:href=\"#DejaVuSans-34\"/>\n       <use x=\"63.623047\" xlink:href=\"#DejaVuSans-2e\"/>\n       <use x=\"95.410156\" xlink:href=\"#DejaVuSans-30\"/>\n      </g>\n     </g>\n    </g>\n    <g id=\"text_16\">\n     <!-- Census Region -->\n     <g transform=\"translate(18.14175 223.302375)rotate(-90)scale(0.144 -0.144)\">\n      <defs>\n       <path d=\"M 544 1381 \nL 544 3500 \nL 1119 3500 \nL 1119 1403 \nQ 1119 906 1312 657 \nQ 1506 409 1894 409 \nQ 2359 409 2629 706 \nQ 2900 1003 2900 1516 \nL 2900 3500 \nL 3475 3500 \nL 3475 0 \nL 2900 0 \nL 2900 538 \nQ 2691 219 2414 64 \nQ 2138 -91 1772 -91 \nQ 1169 -91 856 284 \nQ 544 659 544 1381 \nz\nM 1991 3584 \nL 1991 3584 \nz\n\" id=\"DejaVuSans-75\" transform=\"scale(0.015625)\"/>\n       <path d=\"M 2841 2188 \nQ 3044 2119 3236 1894 \nQ 3428 1669 3622 1275 \nL 4263 0 \nL 3584 0 \nL 2988 1197 \nQ 2756 1666 2539 1819 \nQ 2322 1972 1947 1972 \nL 1259 1972 \nL 1259 0 \nL 628 0 \nL 628 4666 \nL 2053 4666 \nQ 2853 4666 3247 4331 \nQ 3641 3997 3641 3322 \nQ 3641 2881 3436 2590 \nQ 3231 2300 2841 2188 \nz\nM 1259 4147 \nL 1259 2491 \nL 2053 2491 \nQ 2509 2491 2742 2702 \nQ 2975 2913 2975 3322 \nQ 2975 3731 2742 3939 \nQ 2509 4147 2053 4147 \nL 1259 4147 \nz\n\" id=\"DejaVuSans-52\" transform=\"scale(0.015625)\"/>\n      </defs>\n      <use xlink:href=\"#DejaVuSans-43\"/>\n      <use x=\"69.824219\" xlink:href=\"#DejaVuSans-65\"/>\n      <use x=\"131.347656\" xlink:href=\"#DejaVuSans-6e\"/>\n      <use x=\"194.726562\" xlink:href=\"#DejaVuSans-73\"/>\n      <use x=\"246.826172\" xlink:href=\"#DejaVuSans-75\"/>\n      <use x=\"310.205078\" xlink:href=\"#DejaVuSans-73\"/>\n      <use x=\"362.304688\" xlink:href=\"#DejaVuSans-20\"/>\n      <use x=\"394.091797\" xlink:href=\"#DejaVuSans-52\"/>\n      <use x=\"459.074219\" xlink:href=\"#DejaVuSans-65\"/>\n      <use x=\"520.597656\" xlink:href=\"#DejaVuSans-67\"/>\n      <use x=\"584.074219\" xlink:href=\"#DejaVuSans-69\"/>\n      <use x=\"611.857422\" xlink:href=\"#DejaVuSans-6f\"/>\n      <use x=\"673.039062\" xlink:href=\"#DejaVuSans-6e\"/>\n     </g>\n    </g>\n   </g>\n   <g id=\"LineCollection_1\">\n    <path clip-path=\"url(#pbd2a1f3c81)\" d=\"M 292.318961 318.534545 \nL 433.331689 318.534545 \n\" style=\"fill:none;stroke:#8b0000;stroke-opacity:0.5;stroke-width:3;\"/>\n    <path clip-path=\"url(#pbd2a1f3c81)\" d=\"M 80.400636 219.698182 \nL 220.524781 219.698182 \n\" style=\"fill:none;stroke:#8b0000;stroke-opacity:0.5;stroke-width:3;\"/>\n    <path clip-path=\"url(#pbd2a1f3c81)\" d=\"M 102.637313 120.861818 \nL 242.036552 120.861818 \n\" style=\"fill:none;stroke:#8b0000;stroke-opacity:0.5;stroke-width:3;\"/>\n    <path clip-path=\"url(#pbd2a1f3c81)\" d=\"M 87.751953 22.025455 \nL 288.686548 22.025455 \n\" style=\"fill:none;stroke:#8b0000;stroke-opacity:0.5;stroke-width:3;\"/>\n   </g>\n   <g id=\"LineCollection_2\">\n    <path clip-path=\"url(#pbd2a1f3c81)\" d=\"M 458.304436 318.534545 \nL 512.488334 318.534545 \n\" style=\"fill:none;stroke:#00008b;stroke-opacity:0.5;stroke-width:3;\"/>\n    <path clip-path=\"url(#pbd2a1f3c81)\" d=\"M 455.161022 219.698182 \nL 509.260207 219.698182 \n\" style=\"fill:none;stroke:#00008b;stroke-opacity:0.5;stroke-width:3;\"/>\n    <path clip-path=\"url(#pbd2a1f3c81)\" d=\"M 485.554304 120.861818 \nL 587.673364 120.861818 \n\" style=\"fill:none;stroke:#00008b;stroke-opacity:0.5;stroke-width:3;\"/>\n    <path clip-path=\"url(#pbd2a1f3c81)\" d=\"M 380.842431 22.025455 \nL 546.190976 22.025455 \n\" style=\"fill:none;stroke:#00008b;stroke-opacity:0.5;stroke-width:3;\"/>\n   </g>\n   <g id=\"line2d_15\">\n    <path clip-path=\"url(#pbd2a1f3c81)\" d=\"M 364.936959 333.36 \nL 364.936959 7.2 \n\" style=\"fill:none;stroke:#a9a9a9;stroke-dasharray:5.55,2.4;stroke-dashoffset:0;stroke-width:1.5;\"/>\n   </g>\n   <g id=\"line2d_16\">\n    <defs>\n     <path d=\"M 0 6 \nL 0 -6 \n\" id=\"m0f9075cb5c\" style=\"stroke:#8b0000;stroke-opacity:0.5;\"/>\n    </defs>\n    <g clip-path=\"url(#pbd2a1f3c81)\">\n     <use style=\"fill:#8b0000;fill-opacity:0.5;stroke:#8b0000;stroke-opacity:0.5;\" x=\"292.318961\" xlink:href=\"#m0f9075cb5c\" y=\"318.534545\"/>\n     <use style=\"fill:#8b0000;fill-opacity:0.5;stroke:#8b0000;stroke-opacity:0.5;\" x=\"80.400636\" xlink:href=\"#m0f9075cb5c\" y=\"219.698182\"/>\n     <use style=\"fill:#8b0000;fill-opacity:0.5;stroke:#8b0000;stroke-opacity:0.5;\" x=\"102.637313\" xlink:href=\"#m0f9075cb5c\" y=\"120.861818\"/>\n     <use style=\"fill:#8b0000;fill-opacity:0.5;stroke:#8b0000;stroke-opacity:0.5;\" x=\"87.751953\" xlink:href=\"#m0f9075cb5c\" y=\"22.025455\"/>\n    </g>\n   </g>\n   <g id=\"line2d_17\">\n    <g clip-path=\"url(#pbd2a1f3c81)\">\n     <use style=\"fill:#8b0000;fill-opacity:0.5;stroke:#8b0000;stroke-opacity:0.5;\" x=\"433.331689\" xlink:href=\"#m0f9075cb5c\" y=\"318.534545\"/>\n     <use style=\"fill:#8b0000;fill-opacity:0.5;stroke:#8b0000;stroke-opacity:0.5;\" x=\"220.524781\" xlink:href=\"#m0f9075cb5c\" y=\"219.698182\"/>\n     <use style=\"fill:#8b0000;fill-opacity:0.5;stroke:#8b0000;stroke-opacity:0.5;\" x=\"242.036552\" xlink:href=\"#m0f9075cb5c\" y=\"120.861818\"/>\n     <use style=\"fill:#8b0000;fill-opacity:0.5;stroke:#8b0000;stroke-opacity:0.5;\" x=\"288.686548\" xlink:href=\"#m0f9075cb5c\" y=\"22.025455\"/>\n    </g>\n   </g>\n   <g id=\"line2d_18\">\n    <defs>\n     <path d=\"M 0 6 \nL 0 -6 \n\" id=\"m9a61d9af83\" style=\"stroke:#00008b;stroke-opacity:0.5;\"/>\n    </defs>\n    <g clip-path=\"url(#pbd2a1f3c81)\">\n     <use style=\"fill:#00008b;fill-opacity:0.5;stroke:#00008b;stroke-opacity:0.5;\" x=\"458.304436\" xlink:href=\"#m9a61d9af83\" y=\"318.534545\"/>\n     <use style=\"fill:#00008b;fill-opacity:0.5;stroke:#00008b;stroke-opacity:0.5;\" x=\"455.161022\" xlink:href=\"#m9a61d9af83\" y=\"219.698182\"/>\n     <use style=\"fill:#00008b;fill-opacity:0.5;stroke:#00008b;stroke-opacity:0.5;\" x=\"485.554304\" xlink:href=\"#m9a61d9af83\" y=\"120.861818\"/>\n     <use style=\"fill:#00008b;fill-opacity:0.5;stroke:#00008b;stroke-opacity:0.5;\" x=\"380.842431\" xlink:href=\"#m9a61d9af83\" y=\"22.025455\"/>\n    </g>\n   </g>\n   <g id=\"line2d_19\">\n    <g clip-path=\"url(#pbd2a1f3c81)\">\n     <use style=\"fill:#00008b;fill-opacity:0.5;stroke:#00008b;stroke-opacity:0.5;\" x=\"512.488334\" xlink:href=\"#m9a61d9af83\" y=\"318.534545\"/>\n     <use style=\"fill:#00008b;fill-opacity:0.5;stroke:#00008b;stroke-opacity:0.5;\" x=\"509.260207\" xlink:href=\"#m9a61d9af83\" y=\"219.698182\"/>\n     <use style=\"fill:#00008b;fill-opacity:0.5;stroke:#00008b;stroke-opacity:0.5;\" x=\"587.673364\" xlink:href=\"#m9a61d9af83\" y=\"120.861818\"/>\n     <use style=\"fill:#00008b;fill-opacity:0.5;stroke:#00008b;stroke-opacity:0.5;\" x=\"546.190976\" xlink:href=\"#m9a61d9af83\" y=\"22.025455\"/>\n    </g>\n   </g>\n   <g id=\"line2d_20\">\n    <defs>\n     <path d=\"M -3 3 \nL 3 3 \nL 3 -3 \nL -3 -3 \nz\n\" id=\"md26ff899e0\" style=\"stroke:#8b0000;stroke-linejoin:miter;stroke-opacity:0.5;\"/>\n    </defs>\n    <g clip-path=\"url(#pbd2a1f3c81)\">\n     <use style=\"fill:#8b0000;fill-opacity:0.5;stroke:#8b0000;stroke-linejoin:miter;stroke-opacity:0.5;\" x=\"362.825325\" xlink:href=\"#md26ff899e0\" y=\"318.534545\"/>\n     <use style=\"fill:#8b0000;fill-opacity:0.5;stroke:#8b0000;stroke-linejoin:miter;stroke-opacity:0.5;\" x=\"150.462709\" xlink:href=\"#md26ff899e0\" y=\"219.698182\"/>\n     <use style=\"fill:#8b0000;fill-opacity:0.5;stroke:#8b0000;stroke-linejoin:miter;stroke-opacity:0.5;\" x=\"172.336933\" xlink:href=\"#md26ff899e0\" y=\"120.861818\"/>\n     <use style=\"fill:#8b0000;fill-opacity:0.5;stroke:#8b0000;stroke-linejoin:miter;stroke-opacity:0.5;\" x=\"188.21925\" xlink:href=\"#md26ff899e0\" y=\"22.025455\"/>\n    </g>\n   </g>\n   <g id=\"line2d_21\">\n    <defs>\n     <path d=\"M -3 3 \nL 3 3 \nL 3 -3 \nL -3 -3 \nz\n\" id=\"me109debe44\" style=\"stroke:#00008b;stroke-linejoin:miter;stroke-opacity:0.5;\"/>\n    </defs>\n    <g clip-path=\"url(#pbd2a1f3c81)\">\n     <use style=\"fill:#00008b;fill-opacity:0.5;stroke:#00008b;stroke-linejoin:miter;stroke-opacity:0.5;\" x=\"485.396385\" xlink:href=\"#me109debe44\" y=\"318.534545\"/>\n     <use style=\"fill:#00008b;fill-opacity:0.5;stroke:#00008b;stroke-linejoin:miter;stroke-opacity:0.5;\" x=\"482.210614\" xlink:href=\"#me109debe44\" y=\"219.698182\"/>\n     <use style=\"fill:#00008b;fill-opacity:0.5;stroke:#00008b;stroke-linejoin:miter;stroke-opacity:0.5;\" x=\"536.613834\" xlink:href=\"#me109debe44\" y=\"120.861818\"/>\n     <use style=\"fill:#00008b;fill-opacity:0.5;stroke:#00008b;stroke-linejoin:miter;stroke-opacity:0.5;\" x=\"463.516704\" xlink:href=\"#me109debe44\" y=\"22.025455\"/>\n    </g>\n   </g>\n   <g id=\"patch_3\">\n    <path d=\"M 55.037 333.36 \nL 55.037 7.2 \n\" style=\"fill:none;stroke:#000000;stroke-linecap:square;stroke-linejoin:miter;stroke-width:0.8;\"/>\n   </g>\n   <g id=\"patch_4\">\n    <path d=\"M 613.037 333.36 \nL 613.037 7.2 \n\" style=\"fill:none;stroke:#000000;stroke-linecap:square;stroke-linejoin:miter;stroke-width:0.8;\"/>\n   </g>\n   <g id=\"patch_5\">\n    <path d=\"M 55.037 333.36 \nL 613.037 333.36 \n\" style=\"fill:none;stroke:#000000;stroke-linecap:square;stroke-linejoin:miter;stroke-width:0.8;\"/>\n   </g>\n   <g id=\"patch_6\">\n    <path d=\"M 55.037 7.2 \nL 613.037 7.2 \n\" style=\"fill:none;stroke:#000000;stroke-linecap:square;stroke-linejoin:miter;stroke-width:0.8;\"/>\n   </g>\n   <g id=\"legend_1\">\n    <g id=\"patch_7\">\n     <path d=\"M 469.676 193.5765 \nL 602.957 193.5765 \nQ 605.837 193.5765 605.837 190.6965 \nL 605.837 149.8635 \nQ 605.837 146.9835 602.957 146.9835 \nL 469.676 146.9835 \nQ 466.796 146.9835 466.796 149.8635 \nL 466.796 190.6965 \nQ 466.796 193.5765 469.676 193.5765 \nz\n\" style=\"fill:#ffffff;opacity:0.8;stroke:#cccccc;stroke-linejoin:miter;\"/>\n    </g>\n    <g id=\"LineCollection_3\">\n     <path d=\"M 479.756 158.64525 \nL 494.156 158.64525 \n\" style=\"fill:none;stroke:#8b0000;stroke-opacity:0.5;stroke-width:3;\"/>\n    </g>\n    <g id=\"line2d_22\">\n     <g>\n      <use style=\"fill:#8b0000;fill-opacity:0.5;stroke:#8b0000;stroke-opacity:0.5;\" x=\"479.756\" xlink:href=\"#m0f9075cb5c\" y=\"158.64525\"/>\n     </g>\n    </g>\n    <g id=\"line2d_23\">\n     <g>\n      <use style=\"fill:#8b0000;fill-opacity:0.5;stroke:#8b0000;stroke-opacity:0.5;\" x=\"494.156\" xlink:href=\"#m0f9075cb5c\" y=\"158.64525\"/>\n     </g>\n    </g>\n    <g id=\"line2d_24\"/>\n    <g id=\"line2d_25\">\n     <g>\n      <use style=\"fill:#8b0000;fill-opacity:0.5;stroke:#8b0000;stroke-linejoin:miter;stroke-opacity:0.5;\" x=\"486.956\" xlink:href=\"#md26ff899e0\" y=\"158.64525\"/>\n     </g>\n    </g>\n    <g id=\"text_17\">\n     <!-- HDD [65 °F] -->\n     <g transform=\"translate(512.876 163.68525)scale(0.144 -0.144)\">\n      <defs>\n       <path d=\"M 550 4863 \nL 1875 4863 \nL 1875 4416 \nL 1125 4416 \nL 1125 -397 \nL 1875 -397 \nL 1875 -844 \nL 550 -844 \nL 550 4863 \nz\n\" id=\"DejaVuSans-5b\" transform=\"scale(0.015625)\"/>\n       <path d=\"M 1600 4347 \nQ 1350 4347 1178 4173 \nQ 1006 4000 1006 3750 \nQ 1006 3503 1178 3333 \nQ 1350 3163 1600 3163 \nQ 1850 3163 2022 3333 \nQ 2194 3503 2194 3750 \nQ 2194 3997 2020 4172 \nQ 1847 4347 1600 4347 \nz\nM 1600 4750 \nQ 1800 4750 1984 4673 \nQ 2169 4597 2303 4453 \nQ 2447 4313 2519 4134 \nQ 2591 3956 2591 3750 \nQ 2591 3338 2302 3052 \nQ 2013 2766 1594 2766 \nQ 1172 2766 890 3047 \nQ 609 3328 609 3750 \nQ 609 4169 896 4459 \nQ 1184 4750 1600 4750 \nz\n\" id=\"DejaVuSans-b0\" transform=\"scale(0.015625)\"/>\n       <path d=\"M 628 4666 \nL 3309 4666 \nL 3309 4134 \nL 1259 4134 \nL 1259 2759 \nL 3109 2759 \nL 3109 2228 \nL 1259 2228 \nL 1259 0 \nL 628 0 \nL 628 4666 \nz\n\" id=\"DejaVuSans-46\" transform=\"scale(0.015625)\"/>\n       <path d=\"M 1947 4863 \nL 1947 -844 \nL 622 -844 \nL 622 -397 \nL 1369 -397 \nL 1369 4416 \nL 622 4416 \nL 622 4863 \nL 1947 4863 \nz\n\" id=\"DejaVuSans-5d\" transform=\"scale(0.015625)\"/>\n      </defs>\n      <use xlink:href=\"#DejaVuSans-48\"/>\n      <use x=\"75.195312\" xlink:href=\"#DejaVuSans-44\"/>\n      <use x=\"152.197266\" xlink:href=\"#DejaVuSans-44\"/>\n      <use x=\"229.199219\" xlink:href=\"#DejaVuSans-20\"/>\n      <use x=\"260.986328\" xlink:href=\"#DejaVuSans-5b\"/>\n      <use x=\"300\" xlink:href=\"#DejaVuSans-36\"/>\n      <use x=\"363.623047\" xlink:href=\"#DejaVuSans-35\"/>\n      <use x=\"427.246094\" xlink:href=\"#DejaVuSans-20\"/>\n      <use x=\"459.033203\" xlink:href=\"#DejaVuSans-b0\"/>\n      <use x=\"509.033203\" xlink:href=\"#DejaVuSans-46\"/>\n      <use x=\"566.552734\" xlink:href=\"#DejaVuSans-5d\"/>\n     </g>\n    </g>\n    <g id=\"LineCollection_4\">\n     <path d=\"M 479.756 179.78175 \nL 494.156 179.78175 \n\" style=\"fill:none;stroke:#00008b;stroke-opacity:0.5;stroke-width:3;\"/>\n    </g>\n    <g id=\"line2d_26\">\n     <g>\n      <use style=\"fill:#00008b;fill-opacity:0.5;stroke:#00008b;stroke-opacity:0.5;\" x=\"479.756\" xlink:href=\"#m9a61d9af83\" y=\"179.78175\"/>\n     </g>\n    </g>\n    <g id=\"line2d_27\">\n     <g>\n      <use style=\"fill:#00008b;fill-opacity:0.5;stroke:#00008b;stroke-opacity:0.5;\" x=\"494.156\" xlink:href=\"#m9a61d9af83\" y=\"179.78175\"/>\n     </g>\n    </g>\n    <g id=\"line2d_28\"/>\n    <g id=\"line2d_29\">\n     <g>\n      <use style=\"fill:#00008b;fill-opacity:0.5;stroke:#00008b;stroke-linejoin:miter;stroke-opacity:0.5;\" x=\"486.956\" xlink:href=\"#me109debe44\" y=\"179.78175\"/>\n     </g>\n    </g>\n    <g id=\"text_18\">\n     <!-- CDD [65 °F] -->\n     <g transform=\"translate(512.876 184.82175)scale(0.144 -0.144)\">\n      <use xlink:href=\"#DejaVuSans-43\"/>\n      <use x=\"69.824219\" xlink:href=\"#DejaVuSans-44\"/>\n      <use x=\"146.826172\" xlink:href=\"#DejaVuSans-44\"/>\n      <use x=\"223.828125\" xlink:href=\"#DejaVuSans-20\"/>\n      <use x=\"255.615234\" xlink:href=\"#DejaVuSans-5b\"/>\n      <use x=\"294.628906\" xlink:href=\"#DejaVuSans-36\"/>\n      <use x=\"358.251953\" xlink:href=\"#DejaVuSans-35\"/>\n      <use x=\"421.875\" xlink:href=\"#DejaVuSans-20\"/>\n      <use x=\"453.662109\" xlink:href=\"#DejaVuSans-b0\"/>\n      <use x=\"503.662109\" xlink:href=\"#DejaVuSans-46\"/>\n      <use x=\"561.181641\" xlink:href=\"#DejaVuSans-5d\"/>\n     </g>\n    </g>\n   </g>\n  </g>\n </g>\n <defs>\n  <clipPath id=\"pbd2a1f3c81\">\n   <rect height=\"326.16\" width=\"558\" x=\"55.037\" y=\"7.2\"/>\n  </clipPath>\n </defs>\n</svg>\n",
      "image/png": "[encoded data removed]"
     },
     "metadata": {
      "needs_background": "light"
     }
    }
   ],
   "metadata": {}
  },
  {
   "cell_type": "markdown",
   "source": [
    "---"
   ],
   "metadata": {}
  }
 ],
 "metadata": {
  "jupytext": {
   "cell_metadata_json": true,
   "encoding": "# -*- coding: utf-8 -*-",
   "notebook_metadata_filter": "markdown"
  },
  "kernelspec": {
   "name": "python3",
   "display_name": "Python 3.9.6 64-bit ('507': conda)"
  },
  "markdown": {
   "extensions": "footnotes"
  },
  "language_info": {
   "name": "python",
   "version": "3.9.6",
   "mimetype": "text/x-python",
   "codemirror_mode": {
    "name": "ipython",
    "version": 3
   },
   "pygments_lexer": "ipython3",
   "nbconvert_exporter": "python",
   "file_extension": ".py"
  },
  "interpreter": {
   "hash": "f4d666821e1f865607a213881029e45851f3119d507b5bfb574bb9a8ec23c57f"
  }
 },
 "nbformat": 4,
 "nbformat_minor": 5
}