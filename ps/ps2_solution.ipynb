{
 "cells": [
  {
   "cell_type": "markdown",
   "id": "a4ae99aa",
   "metadata": {},
   "source": [
    "## Problem Set 2, Solution\n",
    "**Stats 507, Fall 2021**  \n",
    "*James Henderson, PhD*  \n",
    "*September 30, 2021*\n",
    "\n",
    "This question was inspired by and borrows heavily from this \n",
    "[question][soq] on <https://stackoverflow.com> featured in their newsletter\n",
    "[The Overflow][of]. \n",
    "\n",
    "[soq]: https://stackoverflow.com/questions/69025133/filtering-list-of-tuples-based-on-condition\n",
    "[of]: https://stackoverflow.blog/2021/09/10/the-overflow-90-a-patent-on-a-time-machine/"
   ]
  },
  {
   "cell_type": "markdown",
   "id": "a4535d1b",
   "metadata": {},
   "source": [
    "## Contents\n",
    "+ [Question 0](#Question-0)\n",
    "+ [Question 1](#Question-1)\n",
    "+ [Question 2](#Question-2)\n",
    "+ [Question 3](#Question-3)"
   ]
  },
  {
   "cell_type": "markdown",
   "id": "7603fef8",
   "metadata": {},
   "source": [
    "## Question 0\n",
    "In this question, you were asked to write a code review for the following\n",
    "Python snippet.\n",
    "\n",
    "```python\n",
    "sample_list = [(1, 3, 5), (0, 1, 2), (1, 9, 8)]\n",
    "op = []\n",
    "for m in range(len(sample_list)):\n",
    "   li = [sample_list[m]]\n",
    "       for n in range(len(sample_list)):\n",
    "           if (sample_list[m][0] == sample_list[n][0] and\n",
    "                   sample_list[m][3] != sample_list[n][3]):\n",
    "               li.append(sample_list[n])\n",
    "       op.append(sorted(li, key=lambda dd: dd[3], reverse=True)[0])\n",
    "res = list(set(op))\n",
    "```\n",
    "\n",
    "**Purpose**: The snippet takes a list of tuples and, after a small \n",
    "correction, returns a list of tuples having the maximum 3rd element among\n",
    "tuples sharing a common first element. \n",
    "\n",
    "**Review**: \n",
    " \n",
    "*Correctness*: \n",
    " The code accomplishes the intended task with the exception that\n",
    " the sample tuples should be indexed with \"2\" rather than \"3\" if we intend\n",
    " to sort on the 3rd element. The function also breaks ties among tuples\n",
    " sharing first and third elements by taking the one appearing first in the\n",
    " list. The author should clarify if this is the intended behavior.\n",
    "\n",
    "*Style*: \n",
    " + Both the inner `for` loop and the `op.append` line are overindented\n",
    "   and should align with `li` above it.\n",
    " + Aligning the two conditions in the `if` statement (on the 's') would be\n",
    "   easier to read. \n",
    "\n",
    "*Efficiency*:  \n",
    " + There are two nested loops ranging over the entire sample list, so that every \n",
    "   pair of tuples is compared twice. It should only be necessary to compare each\n",
    "   pair of tuples once.\n",
    " + Sorting a list of tuples sharing a first element with each tuple\n",
    "   is an expensive way to find the tuple with the maximum 3rd element.\n",
    "   Could this be resolved in the condition passed to if? \n",
    " + Generalizing the roles of '0' and '2' (\"3\") would make this easier to read\n",
    "   and, if encapsulated into a function, reuse. "
   ]
  },
  {
   "cell_type": "markdown",
   "id": "0e3fcd38",
   "metadata": {},
   "source": [
    "## Imports\n",
    "The remaining questions will use the following imports."
   ]
  },
  {
   "cell_type": "code",
   "execution_count": null,
   "id": "9eb3bc3c",
   "metadata": {},
   "outputs": [],
   "source": [
    "# modules: --------------------------------------------------------------------\n",
    "import numpy as np\n",
    "import pandas as pd\n",
    "from os.path import exists\n",
    "from math import floor \n",
    "from timeit import Timer\n",
    "from collections import defaultdict\n",
    "from IPython.core.display import display, HTML\n",
    "# 79: -------------------------------------------------------------------------"
   ]
  },
  {
   "cell_type": "markdown",
   "id": "7075b688",
   "metadata": {},
   "source": [
    "## Question 1\n",
    "In this question we use NumPy and a list comprehension to define a function\n",
    "that generates arbitrary lists of tuples containing integers. \n"
   ]
  },
  {
   "cell_type": "code",
   "execution_count": null,
   "id": "a9fc7d34",
   "metadata": {},
   "outputs": [],
   "source": [
    "# function to generate sample lists of tuples: -------------------------------\n",
    "def gen_list_of_tuples(n, tup_size=3, low=0, high=1000, rng=None):\n",
    "    \"\"\"\n",
    "    Generate a list of n tuples of length tup_size of integers low to high.\n",
    "\n",
    "    Parameters\n",
    "    ----------\n",
    "    n : integer\n",
    "        The number of tuples in the list.\n",
    "    tup_size : integer, optional\n",
    "        The length of the tuples created. The default is 3.\n",
    "    low : integer, optional\n",
    "        The low end of the range to generate integers from.\n",
    "    high : integer, optional\n",
    "        The high end of hte range to generate integers from.\n",
    "    rng: A random number generator object, e.g. from np.random.default_rng().\n",
    "        If None, one is created within the context of the function.\n",
    "    \n",
    "    Returns\n",
    "    -------\n",
    "    A list of length `n` with tuples of size `tup_size` consting of uniform\n",
    "    random integers in [low, high).\n",
    "    \"\"\"\n",
    "    \n",
    "    # setup random number generator, if needed\n",
    "    if rng is None:\n",
    "        rng = np.random.default_rng()\n",
    "    \n",
    "    # generate a numpy array\n",
    "    ints = rng.integers(0, 1000, tup_size * n)\n",
    "    ints.shape = (n, tup_size)\n",
    "    # convert to a list of tuples\n",
    "    # ex_list = [tuple(ints[i, ]) for i in range(n)]\n",
    "    ex_list = [tuple(x) for x in ints]\n",
    "    return(ex_list)"
   ]
  },
  {
   "cell_type": "code",
   "execution_count": null,
   "id": "1ee8d8ed",
   "metadata": {
    "lines_to_next_cell": 1
   },
   "outputs": [],
   "source": [
    "assert len(gen_list_of_tuples(10)) == 10\n",
    "assert all([isinstance(x, tuple) for x in gen_list_of_tuples(5, 3)])\n",
    "# You weren't required to add this check. \n",
    "assert all([len(x) == 3 for x in gen_list_of_tuples(5, 3)])"
   ]
  },
  {
   "cell_type": "markdown",
   "id": "9432a644",
   "metadata": {},
   "source": [
    "## Question 2\n",
    "In this question you were asked to encapsulate the warmup snippet into a \n",
    "function and then to write two additional functions accomplishing the same \n",
    "task. The first such function, in part b, was intended to resemble the\n",
    "snippet with the improvements you suggested in the warm up. The second, in\n",
    "part c, should be an original approach to the problem. The final step in\n",
    "this question was to compare the run-time efficiency of the three versions. \n"
   ]
  },
  {
   "cell_type": "markdown",
   "id": "bb75a6b6",
   "metadata": {},
   "source": [
    "### a) Encapsulate snippet into a flexible function\n",
    "Here is an encapsulation of the snippet that generalizes the question a bit\n",
    "so that the sorting index (`by`) and comparator index (`max_of`) are\n",
    "parameters.  Though not explicitly instructed to, you should also have made\n",
    "the input list a parameter."
   ]
  },
  {
   "cell_type": "code",
   "execution_count": null,
   "id": "0a8f2bc8",
   "metadata": {},
   "outputs": [],
   "source": [
    "# approach 1, from the snippet: -----------------------------------------------\n",
    "def max_tup_op(tuple_list, max_of=2, by=0):\n",
    "    \"\"\"\n",
    "    Find tuples with maximum value in one position by unique value in another.\n",
    "    \n",
    "    Among all tuples in `tuple_list` sharing a common value in the `by`\n",
    "    position, find those also having maximum value in the `max_of` position. \n",
    "\n",
    "    Parameters\n",
    "    ----------\n",
    "    tuple_list : list of tuples\n",
    "        The list of tuples to organize as described above.\n",
    "    max_of : int, optional\n",
    "        The position within the tuples to maximize. The default is 2.\n",
    "    by : int, optional\n",
    "        The position determining which tuples to compare. The default is 0.\n",
    "\n",
    "    Returns\n",
    "    -------\n",
    "    A list of all tuples, where, for each unique `by` value, the maximum\n",
    "    value in the `max_of` position is achieved.\n",
    "    \"\"\"\n",
    "    op = []\n",
    "    for m in range(len(tuple_list)):\n",
    "        li = [tuple_list[m]]\n",
    "        for n in range(len(tuple_list)):\n",
    "            if (tuple_list[m][by] == tuple_list[n][by] and\n",
    "                tuple_list[m][max_of] != tuple_list[n][max_of]):\n",
    "                li.append(tuple_list[n])\n",
    "        op.append(sorted(li, key=lambda dd: dd[max_of], reverse=True)[by])\n",
    "    return(list(set(op)))"
   ]
  },
  {
   "cell_type": "code",
   "execution_count": null,
   "id": "9185af18",
   "metadata": {},
   "outputs": [],
   "source": [
    "# tests\n",
    "sample_list = [(5, 16, 2), (5, 10, 3), (5, 8, 1), (21, 24, 1)]\n",
    "sample_res = [(5, 10, 3), (21, 24, 1)]\n",
    "# additional test for behavior when tuples are tied.\n",
    "sample_list2 = sample_list + [(5, 8, 3)]"
   ]
  },
  {
   "cell_type": "code",
   "execution_count": null,
   "id": "890ccd71",
   "metadata": {
    "lines_to_next_cell": 1
   },
   "outputs": [],
   "source": [
    "assert set(max_tup_op(sample_list)) == set(sample_res)\n",
    "sample_res2 = max_tup_op(sample_list2)\n",
    "sample_res2"
   ]
  },
  {
   "cell_type": "markdown",
   "id": "2bb9e116",
   "metadata": {},
   "source": [
    "## b) Implement suggestions from your code review. \n",
    "Here is a version based on my suggestions in the code review."
   ]
  },
  {
   "cell_type": "code",
   "execution_count": null,
   "id": "d9b7c8ab",
   "metadata": {},
   "outputs": [],
   "source": [
    "# approach 1a, lightly modified: ---------------------------------------------\n",
    "def max_tup_cr(tuple_list, max_of=2, by=0):\n",
    "    \"\"\"\n",
    "    Find tuples with maximum value in one position by unique value in another.\n",
    "    \n",
    "    Among all tuples in `tuple_list` sharing a common value in the `by`\n",
    "    position, find those also having maximum value in the `max_of` position. \n",
    "\n",
    "    Parameters\n",
    "    ----------\n",
    "    tuple_list : list of tuples\n",
    "        The list of tuples to organize as described above.\n",
    "    max_of : int, optional\n",
    "        The position within the tuples to maximize. The default is 2.\n",
    "    by : int, optional\n",
    "        The position determining which tuples to compare. The default is 0.\n",
    "\n",
    "    Returns\n",
    "    -------\n",
    "    A list of all tuples, where, for each unique `by` value, the maximum\n",
    "    value in the `max_of` position is achieved.\n",
    "    \"\"\"\n",
    "    op = set()\n",
    "    by_prev = set() # keep track of tuples already sorted\n",
    "    for m, tup0 in enumerate(tuple_list):\n",
    "        li = set([tup0])\n",
    "        by_val = tup0[by]\n",
    "        if by_val in by_prev:\n",
    "            continue\n",
    "        by_prev.update([by_val])\n",
    "        mx = tup0[max_of]\n",
    "        for n in range(m + 1, len(tuple_list)):\n",
    "            tup1 = tuple_list[n]\n",
    "            if tup1[by] == by_val:\n",
    "                if tup1[max_of] > mx:\n",
    "                    li = set([tup1])\n",
    "                    mx = tup1[max_of]\n",
    "                elif tup1[max_of] == mx:\n",
    "                    li.update([tup1])\n",
    "        op.update(li)\n",
    "    return(list(op))"
   ]
  },
  {
   "cell_type": "code",
   "execution_count": null,
   "id": "4fbf8428",
   "metadata": {
    "lines_to_next_cell": 1
   },
   "outputs": [],
   "source": [
    "assert set(max_tup_cr(sample_list)) == set(sample_res)\n",
    "assert set(max_tup_cr(sample_list2)) == set(sample_res2)"
   ]
  },
  {
   "cell_type": "markdown",
   "id": "6c27dfc8",
   "metadata": {},
   "source": [
    "## c) Solve the same problem from scratch.\n",
    "In this part, you were asked to write your own solution to the problem \n",
    "solved by the original snippet - finding tuples taking an observed maximum\n",
    "at one position among those with common values at another position. It was\n",
    "suggested to use a `dict` or `defaultdict` in your solution. \n",
    "\n",
    "Below are a couple of approaches (you were only required to implement one).\n",
    "The first is (or at least *was* when the assignment was written) the accepted\n",
    "answer from the original stack overflow post. Note that this solution solves \n",
    "the stated problem with the original sample list of tuples, but doesn't\n",
    "handle ties in the same way (only returning the tuple appearing first). "
   ]
  },
  {
   "cell_type": "code",
   "execution_count": null,
   "id": "84a42dc2",
   "metadata": {},
   "outputs": [],
   "source": [
    "# approach 2, using default_dict from the accepted answer: -------------------\n",
    "def max_tup_answer(tuple_list, max_of=2, by=0):\n",
    "    \"\"\"\n",
    "    Find tuples with maximum value in one position by unique value in another.\n",
    "    \n",
    "    Among all tuples in `tuple_list` sharing a common value in the `by`\n",
    "    position, find those also having maximum value in the `max_of` position. \n",
    "\n",
    "    Parameters\n",
    "    ----------\n",
    "    tuple_list : list of tuples\n",
    "        The list of tuples to organize as described above.\n",
    "    max_of : int, optional\n",
    "        The position within the tuples to maximize. The default is 2.\n",
    "    by : int, optional\n",
    "        The position determining which tuples to compare. The default is 0.\n",
    "\n",
    "    Returns\n",
    "    -------\n",
    "    A list of all tuples, where, for each unique `by` value, the maximum\n",
    "    value in the `max_of` position is achieved.\n",
    "    \"\"\"\n",
    "    d = defaultdict(list)\n",
    "    for e in tuple_list:\n",
    "        d[e[by]].append(e)\n",
    "    return([max(val, key=lambda x: x[max_of]) for val in d.values()])"
   ]
  },
  {
   "cell_type": "code",
   "execution_count": null,
   "id": "9ea08c47",
   "metadata": {
    "lines_to_next_cell": 1
   },
   "outputs": [],
   "source": [
    "assert set(max_tup_answer(sample_list)) == set(sample_res)\n",
    "#assert set(max_tup_answer(sample_list2)) == set(sample_res2)\n",
    "(set(max_tup_answer(sample_list2)), \n",
    " set(max_tup_answer([(5, 8, 3)] + sample_list)) \n",
    " )"
   ]
  },
  {
   "cell_type": "markdown",
   "id": "b555145c",
   "metadata": {},
   "source": [
    "This is my original approach inspired by the accepted answer and a comment\n",
    "asking whether the maximum could be resolved at time of sorting. It's a bit\n",
    "more verbose, partially out of a need to use sets to keep track of all \n",
    "unique tied tuples."
   ]
  },
  {
   "cell_type": "code",
   "execution_count": null,
   "id": "a2c22f62",
   "metadata": {
    "lines_to_next_cell": 1
   },
   "outputs": [],
   "source": [
    "# approach 3, tracking result: -----------------------------------------------\n",
    "def max_tup(tuple_list, max_of=2, by=0, lowest=-np.Inf):\n",
    "    \"\"\"\n",
    "    Find tuples with maximum value in one position by unique value in another.\n",
    "    \n",
    "    Among all tuples in `tuple_list` sharing a common value in the `by`\n",
    "    position, find those also having maximum value in the `max_of` position. \n",
    "\n",
    "    Parameters\n",
    "    ----------\n",
    "    tuple_list : list of tuples\n",
    "        The list of tuples to organize as described above.\n",
    "    max_of : int, optional\n",
    "        The position within the tuples to maximize. The default is 2.\n",
    "    by : int, optional\n",
    "        The position determining which tuples to compare. The default is 0.\n",
    "\n",
    "    Returns\n",
    "    -------\n",
    "    A list of all tuples, where, for each unique `by` value, the maximum\n",
    "    value in the `max_of` position is achieved.\n",
    "    \"\"\"\n",
    "    top_tup = {}\n",
    "    for tup in tuple_list:\n",
    "        old = top_tup.get(tup[by], (lowest, None))\n",
    "        if old[0] < tup[max_of]:\n",
    "            top_tup.update({tup[by]: (tup[max_of], set([tup]))})\n",
    "        elif old[0] == tup[max_of]:\n",
    "            top_tup.update({tup[by]: (tup[max_of], old[1].union(set([tup])))})\n",
    "    op = set()            \n",
    "    [op.update(i[1]) for i in top_tup.values()]\n",
    "    return(list(op))"
   ]
  },
  {
   "cell_type": "code",
   "execution_count": null,
   "id": "c9181066",
   "metadata": {
    "lines_to_next_cell": 1
   },
   "outputs": [],
   "source": [
    "assert set(max_tup(sample_list)) == set(sample_res)\n",
    "assert set(max_tup(sample_list2)) == set(sample_res2)"
   ]
  },
  {
   "cell_type": "markdown",
   "id": "8e2af81b",
   "metadata": {},
   "source": [
    "Finally, here is an almost identical approach that tracks the maximum and the\n",
    "tuples achieving that maximum separately, rather than using a tuple as in the\n",
    "previous answer."
   ]
  },
  {
   "cell_type": "code",
   "execution_count": null,
   "id": "84d81c6b",
   "metadata": {
    "lines_to_next_cell": 1
   },
   "outputs": [],
   "source": [
    "# approach 4, tracking result: -----------------------------------------------\n",
    "def max_tup2(tuple_list, max_of=2, by=0, lowest=-np.Inf):\n",
    "    top_max = {} # dictionary of maxima\n",
    "    top_tup = defaultdict(set)\n",
    "    for tup in tuple_list:\n",
    "        a = top_max.get(tup[by], lowest)\n",
    "        if a < tup[max_of]:\n",
    "            top_tup.update({tup[by]: set([tup])})\n",
    "            top_max.update({tup[by]: tup[max_of]})\n",
    "        elif a == tup[max_of]:\n",
    "            new = top_tup.get(tup[by]).union(set([tup]))\n",
    "            top_tup.update({tup[by]: new})\n",
    "    op = set()            \n",
    "    [op.update(i) for i in top_tup.values()]\n",
    "    return(list(op))"
   ]
  },
  {
   "cell_type": "code",
   "execution_count": null,
   "id": "3575e663",
   "metadata": {},
   "outputs": [],
   "source": [
    "assert set(max_tup2(sample_list)) == set(sample_res)\n",
    "assert set(max_tup(sample_list2)) == set(sample_res2)"
   ]
  },
  {
   "cell_type": "markdown",
   "id": "04f2e72c",
   "metadata": {},
   "source": [
    "## d) Monte Carlo comparison of runtimes\n",
    "Finally, we compare the approaches above in terms of their running time \n",
    "efficiency using the function from question 1 to generate sample tuples. "
   ]
  },
  {
   "cell_type": "markdown",
   "id": "93e107ab",
   "metadata": {},
   "source": [
    "First, let's make sure they all (save for the `max_tup_answer()`) return\n",
    "the same result (viewed as a set) on a larger list. "
   ]
  },
  {
   "cell_type": "code",
   "execution_count": null,
   "id": "ee9bec9a",
   "metadata": {},
   "outputs": [],
   "source": [
    "# check that all but tup_answer return the same set or results: ---------------\n",
    "tup_list = gen_list_of_tuples(1000, tup_size=3, low=0, high=1000)\n",
    "assert (\n",
    "    set(max_tup_op(tup_list)) ==  set(max_tup_cr(tup_list)) == \n",
    "    set(max_tup(tup_list)) == set(max_tup2(tup_list))\n",
    ")"
   ]
  },
  {
   "cell_type": "markdown",
   "id": "61463bb6",
   "metadata": {},
   "source": [
    "In this example, I'm going to estimate the average running time using\n",
    "n = 100 randomly generated lists of length 100 and 100 lists of length 500.\n",
    "We'll repeated the trial 10 times to estimate the average run time of this\n",
    "task.  "
   ]
  },
  {
   "cell_type": "code",
   "execution_count": null,
   "id": "c740466f",
   "metadata": {},
   "outputs": [],
   "source": [
    "# compare efficiency on randomly generated lists: -----------------------------\n",
    "n_lists, list_len, tup_len, val_max = 100, (100, 500), 3, 100\n",
    "n_mc = 10"
   ]
  },
  {
   "cell_type": "code",
   "execution_count": null,
   "id": "d422b211",
   "metadata": {},
   "outputs": [],
   "source": [
    "rng = np.random.default_rng(10 * 1 + 2021)\n",
    "func_list = [max_tup_op, max_tup_cr, max_tup_answer, max_tup, max_tup2]\n",
    "res = defaultdict(list)\n",
    "for ll in list_len:\n",
    "    l = [gen_list_of_tuples(ll, tup_len, 0, val_max, rng) \n",
    "        for i in range(n_lists)]\n",
    "    for r in range(n_mc):\n",
    "        res['List Length'].append(ll)\n",
    "        for f in func_list:\n",
    "            t0 = Timer(\"[f(i) for i in l]\", globals={\"f\": f, \"l\": l})   \n",
    "            res[f.__name__].append(t0.timeit(1))"
   ]
  },
  {
   "cell_type": "code",
   "execution_count": null,
   "id": "80ab6a6e",
   "metadata": {},
   "outputs": [],
   "source": [
    "tab = (pd.DataFrame(res)\n",
    " .groupby('List Length')\n",
    " .agg(lambda x: (\n",
    "    '<center>{0:4.2f} <br> ({1:4.2f}, {2:4.2f})</center>'.format(\n",
    "        np.mean(x), \n",
    "        np.mean(x) - 1.96 * np.std(x) / np.sqrt(len(x)),\n",
    "        np.mean(x) + 1.96 * np.std(x) / np.sqrt(len(x))\n",
    "    )))\n",
    ").to_html(escape=False, justify='left')"
   ]
  },
  {
   "cell_type": "code",
   "execution_count": null,
   "id": "2c828eb4",
   "metadata": {},
   "outputs": [],
   "source": [
    "cap = \"\"\"\n",
    "<b> Table 1.</b> <em> Timing comparisons.</em>\n",
    "Time, in seconds, for each function to identify group-wise maxima for\n",
    "{0:d} lists of tuples, with each list containing the number\n",
    "of tuples show under the 'List Length' heading. Values are shown as\n",
    "means and 95% confidence intervals from {1:d} Monte Carlo trials. \n",
    "Note that while `max_tup_answer()` is the most efficient, in the case of ties\n",
    "it does not return the same result as the others. \n",
    "\"\"\".format(n_lists, n_mc)\n",
    "tb = tab.rsplit('\\n')\n",
    "tb.insert(1, cap)\n",
    "tab = '<center>'\n",
    "for i, line in enumerate(tb):\n",
    "    tab += line\n",
    "    if i < (len(tb) - 1):\n",
    "        tab += '\\n'\n",
    "tab += '</center>'\n",
    "display(HTML(tab))"
   ]
  },
  {
   "cell_type": "markdown",
   "id": "ca4a3a13",
   "metadata": {},
   "source": [
    "In the results, note the scaling as the list length increases from 100 to\n",
    "500. The original (`max_tup_op`) and the \"code review\" (`max_tup_cr()`)\n",
    "take \\~20-25 times longer (quadratic scaling) while the remaning methods\n",
    "scale approximately linearly (\\~5 times longer)."
   ]
  },
  {
   "cell_type": "markdown",
   "id": "e7c27880",
   "metadata": {},
   "source": [
    "## Question 3\n",
    "In this question we clean an append demographic and dentition data from\n",
    "several cohorts of the NHANES data. "
   ]
  },
  {
   "cell_type": "code",
   "execution_count": null,
   "id": "623e5e50",
   "metadata": {},
   "outputs": [],
   "source": [
    "# file location: -------------------------------------------------------------\n",
    "path = './'"
   ]
  },
  {
   "cell_type": "code",
   "execution_count": null,
   "id": "28fbec7c",
   "metadata": {},
   "outputs": [],
   "source": [
    "# column maps: ---------------------------------------------------------------\n",
    "# new names for demo cols\n",
    "demo_cols = {\n",
    "    'SEQN': 'id',\n",
    "    'RIDAGEYR': 'age',\n",
    "    'RIAGENDR': 'gender',\n",
    "    'RIDRETH3': 'race',\n",
    "    'DMDEDUC2': 'education',\n",
    "    'DMDMARTL': 'marital_status',\n",
    "    'RIDSTATR': 'exam_status',\n",
    "    'SDMVPSU': 'psu',\n",
    "    'SDMVSTRA': 'strata',\n",
    "    'WTMEC2YR': 'exam_wt',\n",
    "    'WTINT2YR': 'interview_wt'\n",
    "    }"
   ]
  },
  {
   "cell_type": "code",
   "execution_count": null,
   "id": "e5d0a3fc",
   "metadata": {},
   "outputs": [],
   "source": [
    "# new names for ohx cols\n",
    "ohx_cols = {'SEQN': 'id', 'OHDDESTS': 'dentition_status'}\n",
    "tc_cols = {'OHX' + str(i).zfill(2) + 'TC':\n",
    "           'tc_' + str(i).zfill(2) for i in range(1, 33)}\n",
    "ctc_cols = {'OHX' + str(i).zfill(2) + 'CTC':\n",
    "            'ctc_' + str(i).zfill(2) for i in range(2, 32)}\n",
    "_, _ = ctc_cols.pop('OHX16CTC'), ctc_cols.pop('OHX17CTC')"
   ]
  },
  {
   "cell_type": "code",
   "execution_count": null,
   "id": "bd092fbf",
   "metadata": {},
   "outputs": [],
   "source": [
    "ohx_cols.update(tc_cols)\n",
    "ohx_cols.update(ctc_cols)"
   ]
  },
  {
   "cell_type": "code",
   "execution_count": null,
   "id": "42b44161",
   "metadata": {},
   "outputs": [],
   "source": [
    "# columns to convert to integer\n",
    "demo_int = ('id', 'age', 'psu', 'strata')\n",
    "ohx_int = ('id', )"
   ]
  },
  {
   "cell_type": "code",
   "execution_count": null,
   "id": "76030ff3",
   "metadata": {},
   "outputs": [],
   "source": [
    "# levels for categorical variables\n",
    "demo_cat = {\n",
    "    'gender': {1: 'Male', 2: 'Female'},\n",
    "    'race': {1: 'Mexican American',\n",
    "             2: 'Other Hispanic',\n",
    "             3: 'Non-Hispanic White',\n",
    "             4: 'Non-Hispanic Black',\n",
    "             6: 'Non-Hispanic Asian',\n",
    "             7: 'Other/Multiracial'\n",
    "             },\n",
    "    'education': {1: 'Less than 9th grade',\n",
    "                  2: '9-11th grade (Includes 12th grade with no diploma)',\n",
    "                  3: 'High school graduate/GED or equivalent',\n",
    "                  4: 'Some college or AA degree',\n",
    "                  5: 'College graduate or above',\n",
    "                  7: 'Refused',\n",
    "                  9: \"Don't know\"\n",
    "                  },\n",
    "    'marital_status': {1: 'Married',\n",
    "                       2: 'Widowed',\n",
    "                       3: 'Divorced',\n",
    "                       4: 'Separated',\n",
    "                       5: 'Never married',\n",
    "                       6: 'Living with partner',\n",
    "                       77: 'Refused',\n",
    "                       99: \"Don't know\"\n",
    "                       },\n",
    "    'exam_status': {1: 'Interviewed only',\n",
    "                    2: 'Both interviewed and MEC examined'\n",
    "                    }\n",
    "    }"
   ]
  },
  {
   "cell_type": "code",
   "execution_count": null,
   "id": "875e824c",
   "metadata": {},
   "outputs": [],
   "source": [
    "ohx_cat = {\n",
    "    'dentition_status': {1: 'Complete', 2: 'Partial', 3: 'Not Done'}\n",
    "    }"
   ]
  },
  {
   "cell_type": "code",
   "execution_count": null,
   "id": "2773b9b3",
   "metadata": {},
   "outputs": [],
   "source": [
    "tc = {\n",
    "      1: 'Primary tooth present',\n",
    "      2: 'Permanent tooth present',\n",
    "      3: 'Dental Implant',\n",
    "      4: 'Tooth not present',\n",
    "      5: 'Permanent dental root fragment present',\n",
    "      9: 'Could not assess'\n",
    "      }"
   ]
  },
  {
   "cell_type": "code",
   "execution_count": null,
   "id": "7c880924",
   "metadata": {},
   "outputs": [],
   "source": [
    "ctc = (\n",
    " {\n",
    "  'A': 'Primary tooth with a restored surface condition',\n",
    "  'D': 'Sound primary tooth',\n",
    "  'E': 'Missing due to dental disease',\n",
    "  'F': 'Permanent tooth with a restored surface condition',\n",
    "  'J':\n",
    "    'Permanent root tip is present but no restorative replacement is present',\n",
    "  'K': 'Primary tooth with a dental carious surface condition',\n",
    "  'M': 'Missing due to other causes',\n",
    "  'P':\n",
    "    'Missing due to dental disease but replaced by a removable restoration',\n",
    "  'Q':\n",
    "    'Missing due to other causes but replaced by a removable restoration',\n",
    "  'R':\n",
    "    'Missing due to dental disease but replaced by a fixed restoration',\n",
    "  'S': 'Sound permanent tooth',\n",
    "  'T':\n",
    "    'Permanent root tip is present but a restorative replacement is present',\n",
    "  'U': 'Unerupted',\n",
    "  'X': 'Missing due to other causes but replaced by a fixed restoration',\n",
    "  'Y': 'Tooth present, condition cannot be assessed',\n",
    "  'Z': 'Permanent tooth with a dental carious surface condition'\n",
    " })"
   ]
  },
  {
   "cell_type": "code",
   "execution_count": null,
   "id": "51ff06b1",
   "metadata": {},
   "outputs": [],
   "source": [
    "# read data: -----------------------------------------------------------------\n",
    "base_url = 'https://wwwn.cdc.gov/Nchs/Nhanes/'\n",
    "cohorts = (\n",
    "    ('2011-2012', 'G'),\n",
    "    ('2013-2014', 'H'),\n",
    "    ('2015-2016', 'I'),\n",
    "    ('2017-2018', 'J')\n",
    "    )\n",
    "# demographic data\n",
    "demo_file = path + '/demo.feather'"
   ]
  },
  {
   "cell_type": "code",
   "execution_count": null,
   "id": "b11ed557",
   "metadata": {},
   "outputs": [],
   "source": [
    "if exists(demo_file):\n",
    "    demo = pd.read_feather(demo_file)\n",
    "else:\n",
    "    demo_cohorts = {}\n",
    "    for cohort, label in cohorts:\n",
    "\n",
    "        # read data and subset columns\n",
    "        url = base_url + cohort + '/DEMO_' + label + '.XPT'\n",
    "        dat = pd.read_sas(url).copy()\n",
    "        dat = dat[list(demo_cols.keys())].rename(columns=demo_cols)\n",
    "\n",
    "        # assign cohort and collect\n",
    "        dat['cohort'] = cohort\n",
    "        demo_cohorts.update({cohort: dat})\n",
    "\n",
    "    # concatenate and save\n",
    "    demo = pd.concat(demo_cohorts, ignore_index=True)\n",
    " \n",
    "    # categorical variables\n",
    "    for col, d in demo_cat.items():\n",
    "        demo[col] = pd.Categorical(demo[col].replace(d))\n",
    "    demo['cohort'] = pd.Categorical(demo['cohort'])\n",
    "\n",
    "    # integer variables\n",
    "    for col in demo_int:\n",
    "        demo[col] = pd.to_numeric(demo[col], downcast='integer')\n",
    "\n",
    "    demo.to_feather(demo_file)\n",
    "demo.shape"
   ]
  },
  {
   "cell_type": "code",
   "execution_count": null,
   "id": "07683b93",
   "metadata": {},
   "outputs": [],
   "source": [
    "# dentition data\n",
    "ohx_file = path + '/ohx.feather'"
   ]
  },
  {
   "cell_type": "code",
   "execution_count": null,
   "id": "097e3763",
   "metadata": {},
   "outputs": [],
   "source": [
    "if exists(ohx_file):\n",
    "    ohx = pd.read_feather(ohx_file)\n",
    "else:\n",
    "    ohx_cohorts = {}\n",
    "    for cohort, label in cohorts:\n",
    "\n",
    "        # read data and subset columns\n",
    "        url = base_url + cohort + '/OHXDEN_' + label + '.XPT'\n",
    "        dat = pd.read_sas(url).copy()\n",
    "        dat = dat[list(ohx_cols.keys())].rename(columns=ohx_cols)\n",
    "\n",
    "        # assign cohort and collect\n",
    "        dat['cohort'] = cohort\n",
    "        ohx_cohorts.update({cohort: dat})\n",
    " \n",
    "    # concatenate\n",
    "    ohx = pd.concat(ohx_cohorts, ignore_index=True)\n",
    "\n",
    "    # categorical variables\n",
    "    for col, d in ohx_cat.items():\n",
    "        ohx[col] = pd.Categorical(ohx[col].replace(d))\n",
    "    \n",
    "    for col in tc_cols.values():\n",
    "        ohx[col] = pd.Categorical(ohx[col].replace(tc))\n",
    "\n",
    "    # ctc columns get read in as bytes\n",
    "    for col in ctc_cols.values():\n",
    "        ohx[col] = ohx[col].apply(lambda x: x.decode('utf-8'))\n",
    "        ohx[col] = pd.Categorical(ohx[col].replace(ctc))\n",
    "\n",
    "    ohx['cohort'] = pd.Categorical(ohx['cohort'])\n",
    "    # integer variables\n",
    "    for col in ohx_int:\n",
    "        ohx[col] = pd.to_numeric(ohx[col], downcast='integer')\n",
    "\n",
    "    # save\n",
    "    ohx.to_feather(ohx_file)\n",
    "ohx.shape\n",
    "# ---"
   ]
  },
  {
   "cell_type": "markdown",
   "id": "8bb38ed5",
   "metadata": {},
   "source": [
    "The demographic and dentition datasets just created have 39,156 and 35,909 cases, respectively."
   ]
  }
 ],
 "metadata": {
  "jupytext": {
   "cell_metadata_json": true,
   "notebook_metadata_filter": "markdown"
  },
  "kernelspec": {
   "display_name": "Python 3 (ipykernel)",
   "language": "python",
   "name": "python3"
  },
  "markdown": {
   "extensions": "footnotes"
  }
 },
 "nbformat": 4,
 "nbformat_minor": 5
}
