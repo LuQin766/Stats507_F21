{
 "cells": [
  {
   "cell_type": "markdown",
   "id": "83f6c85e",
   "metadata": {},
   "source": [
    "# Problem Set 3\n",
    "Xinhe Wang"
   ]
  },
  {
   "cell_type": "code",
   "execution_count": 1,
   "id": "d87d7f63",
   "metadata": {},
   "outputs": [],
   "source": [
    "import os\n",
    "import pandas as pd\n",
    "from matplotlib import pyplot as plt\n",
    "from matplotlib import lines"
   ]
  },
  {
   "cell_type": "markdown",
   "id": "40a82a3a",
   "metadata": {},
   "source": [
    "## Question 0\n",
    "\n",
    "#### Links to data files\n",
    "\n",
    "- The link to 2015 RECS microdata file is [sas](https://www.eia.gov/consumption/residential/data/2015/sas/recs2015_public_v4.zip) or [csv](https://www.eia.gov/consumption/residential/data/2015/csv/recs2015_public_v4.csv).\n",
    "\n",
    "- The link to 2009 RECS microdata file is [sas](https://www.eia.gov/consumption/residential/data/2009/sas/recs2009_public_v4.zip) or [csv](https://www.eia.gov/consumption/residential/data/2009/csv/recs2009_public.csv). \n",
    "\n",
    "- The link to 2009 RECS microdata replicate weights is [sas](https://www.eia.gov/consumption/residential/data/2009/sas/recs2009_public_repweights_sas7bdat.zip) or [csv](https://www.eia.gov/consumption/residential/data/2009/csv/recs2009_public_repweights.csv).\n",
    "\n",
    "#### Variables \n",
    "\n",
    "Variables that are needed to estimate the desired means:\n",
    "\n",
    "- For the 2015 RECS data:\n",
    "\n",
    "| Variable name | Description |\n",
    "|:-----------|:------------|\n",
    "|DOEID\t|Unique identifier for each respondent|\n",
    "|REGIONC\t|Census Region|\n",
    "|HDD65\t|\tHeating degree days in 2015, base temperature 65F|\n",
    "|CDD65\t|\tCooling degree days in 2015, base temperature 65F|\n",
    "|NWEIGHT\t|Final sample weight|\n",
    "|BRRWTXX | Balanced repeated replicate weight, \"XX\" ranges from 1 to 96 |\n",
    "\n",
    "- For the 2009 RECS data:\n",
    "\n",
    "| Variable name | Description |\n",
    "|:-----------|:------------|\n",
    "|DOEID\t|Unique identifier for each respondent|\n",
    "|REGIONC\t|Census Region|\n",
    "|HDD65|\tHeating degree days in 2009, base temperature 65F|\n",
    "|CDD65|\tCooling degree days in 2009, base temperature 65F|\n",
    "|NWEIGHT|\tFinal sample weight|\n",
    "|brr_weight_XX | Balanced repeated replicate weight, \"XX\" ranges from 1 to 244 |\n",
    "\n",
    "\n",
    "\n",
    "#### Links to instruction files\n",
    "\n",
    "- The link to the instruction file for 2015 RECS microdata is [here](https://www.eia.gov/consumption/residential/data/2015/pdf/microdata_v3.pdf)\n",
    "\n",
    "- The link to the instruction file for 2009 RECS microdata is [here](https://www.eia.gov/consumption/residential/methodology/2009/pdf/using-microdata-022613.pdf)\n",
    "\n",
    "\n",
    "#### Using replicate weights to estimate standard errors\n",
    "\n",
    "To estimate standard errors of the estimator, RECS adopts Fay's method of the balanced repeated replication technique. This method is introduced in [Residential Energy Consumption Survey (RECS): Using the 2015 microdata file to compute estimates and standard errors (RSEs)](https://www.eia.gov/consumption/residential/data/2015/pdf/microdata_v3.pdf) and [Residential Energy Consumption Survey (RECS): Using the 2009 microdata file to compute estimates and standard errors (RSEs)](https://www.eia.gov/consumption/residential/methodology/2009/pdf/using-microdata-022613.pdf).\n",
    "\n",
    "Suppose that $\\theta$ is a population parameter that we are interested in. Let $\\hat\\theta$ be the estimate from the full sample, which means that $\\hat\\theta$ is an average of observations weighted by the final sampling weight. Let $\\hat\\theta_{r}$ be the estimate from the $r$-th replicate subsample using replicate weights, $r=1,\\ldots, R$, where $R$ is the number of replicate samples. Let $\\epsilon\\in [0,1)$ be the Fay coefficient and $\\epsilon=0.5$ for the 2015 and 2009 RECS. Then the standard error (i.e. the variance of $\\hat\\theta$) is estimated by\n",
    "\n",
    "$$ \\textrm{SD}(\\hat\\theta) = \\left( \\frac{1}{R(1-\\epsilon)^2} \\sum_{r=1}^R (\\hat\\theta_{r} - \\hat\\theta)^2 \\right)^{\\frac{1}{2}}.$$\n",
    "\n",
    "\n"
   ]
  },
  {
   "cell_type": "markdown",
   "id": "9f62309e",
   "metadata": {},
   "source": [
    "## Question 1\n",
    "#### a) Construct datasets without replicate weights"
   ]
  },
  {
   "cell_type": "code",
   "execution_count": 2,
   "id": "930572b3",
   "metadata": {},
   "outputs": [],
   "source": [
    "# Download and read files\n",
    "\n",
    "def read_file(name, url):\n",
    "    \"\"\"\n",
    "    Read a local csv file if it exists locally and read it from a given url\n",
    "    otherwise.\n",
    "\n",
    "    Parameters\n",
    "    ----------\n",
    "    name : string\n",
    "        file path.\n",
    "    url : string\n",
    "        the url that the file can be downloaded or read from.\n",
    "\n",
    "    Returns\n",
    "    -------\n",
    "    pandas.DataFrame\n",
    "        data from the desired file.\n",
    "\n",
    "    \"\"\"\n",
    "    if os.path.exists(name):\n",
    "        return pd.read_csv(name, low_memory=False)\n",
    "    else:\n",
    "        return pd.read_csv(url, low_memory=False)\n",
    "\n",
    "    \n",
    "path = '/Users/xinhew/Downloads/'\n",
    "\n",
    "u = 'https://www.eia.gov/consumption/residential/data/2015/csv/' + \\\n",
    "    'recs2015_public_v4.csv'\n",
    "df2015 = read_file(path + 'recs2015_public_v4.csv', u)\n",
    "\n",
    "u = 'https://www.eia.gov/consumption/residential/data/2009/csv/' + \\\n",
    "    'recs2009_public.csv'\n",
    "df2009 = read_file(path + 'recs2009_public.csv', u)\n",
    "\n",
    "u = 'https://www.eia.gov/consumption/residential/data/2009/csv/' + \\\n",
    "    'recs2009_public_repweights.csv'\n",
    "df2009rep = read_file(path + 'recs2009_public_repweights.csv', u)"
   ]
  },
  {
   "cell_type": "code",
   "execution_count": 3,
   "id": "6d8c6a19",
   "metadata": {},
   "outputs": [],
   "source": [
    "# Keep necessary columns\n",
    "index = ['DOEID', 'REGIONC', 'HDD65', 'CDD65', 'NWEIGHT']\n",
    "brr2015 = ['BRRWT' + str(num) for num in range(97)[1:]]\n",
    "data2015 = df2015.loc[:, index]\n",
    "\n",
    "brr2009 = ['brr_weight_' + str(num) for num in range(245)[1:]]\n",
    "data2009 = df2009.loc[:, index]\n",
    "df2009rep = df2009rep.loc[:, ['DOEID'] + brr2009]"
   ]
  },
  {
   "cell_type": "code",
   "execution_count": 4,
   "id": "63e0b0d4",
   "metadata": {},
   "outputs": [],
   "source": [
    "# Rename columns\n",
    "names = dict(zip(index, ['id', 'region', 'heat_dd', 'cool_dd', 'final_wt']))\n",
    "data2015 = data2015.rename(columns=names)\n",
    "data2009 = data2009.rename(columns=names)"
   ]
  },
  {
   "cell_type": "code",
   "execution_count": 5,
   "id": "7cd336ad",
   "metadata": {},
   "outputs": [],
   "source": [
    "# Convert types\n",
    "int_index = ['id', 'heat_dd', 'cool_dd']\n",
    "data2015[int_index] = data2015[int_index].astype(int)\n",
    "\n",
    "c_index = ['region']\n",
    "data2015[c_index] = data2015[c_index].astype('category')\n",
    "\n",
    "int_index = ['id', 'heat_dd', 'cool_dd']\n",
    "data2009[int_index] = data2009[int_index].astype(int)\n",
    "\n",
    "c_index = ['region']\n",
    "data2009[c_index] = data2009[c_index].astype('category')"
   ]
  },
  {
   "cell_type": "code",
   "execution_count": 6,
   "id": "82c39e30",
   "metadata": {},
   "outputs": [],
   "source": [
    "# Replace categorical values\n",
    "d = {1: \"Northeast\",\n",
    "     2: \"Midwest\",\n",
    "     3: \"South\",\n",
    "     4: \"West\"}\n",
    "data2015[['region']] = data2015[['region']].replace(d)\n",
    "data2009[['region']] = data2009[['region']].replace(d)"
   ]
  },
  {
   "cell_type": "code",
   "execution_count": 7,
   "id": "91031cbf",
   "metadata": {},
   "outputs": [
    {
     "data": {
      "text/html": [
       "<div>\n",
       "<style scoped>\n",
       "    .dataframe tbody tr th:only-of-type {\n",
       "        vertical-align: middle;\n",
       "    }\n",
       "\n",
       "    .dataframe tbody tr th {\n",
       "        vertical-align: top;\n",
       "    }\n",
       "\n",
       "    .dataframe thead th {\n",
       "        text-align: right;\n",
       "    }\n",
       "</style>\n",
       "<table border=\"1\" class=\"dataframe\">\n",
       "  <thead>\n",
       "    <tr style=\"text-align: right;\">\n",
       "      <th></th>\n",
       "      <th>id</th>\n",
       "      <th>region</th>\n",
       "      <th>heat_dd</th>\n",
       "      <th>cool_dd</th>\n",
       "      <th>final_wt</th>\n",
       "    </tr>\n",
       "  </thead>\n",
       "  <tbody>\n",
       "    <tr>\n",
       "      <th>0</th>\n",
       "      <td>10001</td>\n",
       "      <td>West</td>\n",
       "      <td>2031</td>\n",
       "      <td>1768</td>\n",
       "      <td>12085.16227</td>\n",
       "    </tr>\n",
       "    <tr>\n",
       "      <th>1</th>\n",
       "      <td>10002</td>\n",
       "      <td>South</td>\n",
       "      <td>1915</td>\n",
       "      <td>2795</td>\n",
       "      <td>14410.19627</td>\n",
       "    </tr>\n",
       "    <tr>\n",
       "      <th>2</th>\n",
       "      <td>10003</td>\n",
       "      <td>South</td>\n",
       "      <td>2263</td>\n",
       "      <td>2235</td>\n",
       "      <td>23325.95385</td>\n",
       "    </tr>\n",
       "    <tr>\n",
       "      <th>3</th>\n",
       "      <td>10004</td>\n",
       "      <td>Midwest</td>\n",
       "      <td>3754</td>\n",
       "      <td>1374</td>\n",
       "      <td>12165.33319</td>\n",
       "    </tr>\n",
       "    <tr>\n",
       "      <th>4</th>\n",
       "      <td>10005</td>\n",
       "      <td>Northeast</td>\n",
       "      <td>5401</td>\n",
       "      <td>993</td>\n",
       "      <td>16717.67092</td>\n",
       "    </tr>\n",
       "  </tbody>\n",
       "</table>\n",
       "</div>"
      ],
      "text/plain": [
       "      id     region  heat_dd  cool_dd     final_wt\n",
       "0  10001       West     2031     1768  12085.16227\n",
       "1  10002      South     1915     2795  14410.19627\n",
       "2  10003      South     2263     2235  23325.95385\n",
       "3  10004    Midwest     3754     1374  12165.33319\n",
       "4  10005  Northeast     5401      993  16717.67092"
      ]
     },
     "execution_count": 7,
     "metadata": {},
     "output_type": "execute_result"
    }
   ],
   "source": [
    "data2015.head()"
   ]
  },
  {
   "cell_type": "code",
   "execution_count": 8,
   "id": "05c10e90",
   "metadata": {},
   "outputs": [
    {
     "data": {
      "text/html": [
       "<div>\n",
       "<style scoped>\n",
       "    .dataframe tbody tr th:only-of-type {\n",
       "        vertical-align: middle;\n",
       "    }\n",
       "\n",
       "    .dataframe tbody tr th {\n",
       "        vertical-align: top;\n",
       "    }\n",
       "\n",
       "    .dataframe thead th {\n",
       "        text-align: right;\n",
       "    }\n",
       "</style>\n",
       "<table border=\"1\" class=\"dataframe\">\n",
       "  <thead>\n",
       "    <tr style=\"text-align: right;\">\n",
       "      <th></th>\n",
       "      <th>id</th>\n",
       "      <th>region</th>\n",
       "      <th>heat_dd</th>\n",
       "      <th>cool_dd</th>\n",
       "      <th>final_wt</th>\n",
       "    </tr>\n",
       "  </thead>\n",
       "  <tbody>\n",
       "    <tr>\n",
       "      <th>0</th>\n",
       "      <td>1</td>\n",
       "      <td>Midwest</td>\n",
       "      <td>4742</td>\n",
       "      <td>1080</td>\n",
       "      <td>2471.68</td>\n",
       "    </tr>\n",
       "    <tr>\n",
       "      <th>1</th>\n",
       "      <td>2</td>\n",
       "      <td>West</td>\n",
       "      <td>2662</td>\n",
       "      <td>199</td>\n",
       "      <td>8599.17</td>\n",
       "    </tr>\n",
       "    <tr>\n",
       "      <th>2</th>\n",
       "      <td>3</td>\n",
       "      <td>Northeast</td>\n",
       "      <td>6233</td>\n",
       "      <td>505</td>\n",
       "      <td>8969.92</td>\n",
       "    </tr>\n",
       "    <tr>\n",
       "      <th>3</th>\n",
       "      <td>4</td>\n",
       "      <td>Midwest</td>\n",
       "      <td>6034</td>\n",
       "      <td>672</td>\n",
       "      <td>18003.64</td>\n",
       "    </tr>\n",
       "    <tr>\n",
       "      <th>4</th>\n",
       "      <td>5</td>\n",
       "      <td>Northeast</td>\n",
       "      <td>5388</td>\n",
       "      <td>702</td>\n",
       "      <td>5999.61</td>\n",
       "    </tr>\n",
       "  </tbody>\n",
       "</table>\n",
       "</div>"
      ],
      "text/plain": [
       "   id     region  heat_dd  cool_dd  final_wt\n",
       "0   1    Midwest     4742     1080   2471.68\n",
       "1   2       West     2662      199   8599.17\n",
       "2   3  Northeast     6233      505   8969.92\n",
       "3   4    Midwest     6034      672  18003.64\n",
       "4   5  Northeast     5388      702   5999.61"
      ]
     },
     "execution_count": 8,
     "metadata": {},
     "output_type": "execute_result"
    }
   ],
   "source": [
    "data2009.head()"
   ]
  },
  {
   "cell_type": "markdown",
   "id": "59b3789f",
   "metadata": {},
   "source": [
    "#### b) Construct datasets containing ids and replicate weights"
   ]
  },
  {
   "cell_type": "code",
   "execution_count": 9,
   "id": "82533398",
   "metadata": {},
   "outputs": [],
   "source": [
    "# Convert type and rename columns\n",
    "df2009rep = df2009rep.rename(columns={'DOEID': 'id'})\n",
    "int_index = ['id']\n",
    "df2009rep[int_index] = df2009rep[int_index].astype(int)"
   ]
  },
  {
   "cell_type": "code",
   "execution_count": 10,
   "id": "cbf27753",
   "metadata": {},
   "outputs": [
    {
     "data": {
      "text/html": [
       "<div>\n",
       "<style scoped>\n",
       "    .dataframe tbody tr th:only-of-type {\n",
       "        vertical-align: middle;\n",
       "    }\n",
       "\n",
       "    .dataframe tbody tr th {\n",
       "        vertical-align: top;\n",
       "    }\n",
       "\n",
       "    .dataframe thead th {\n",
       "        text-align: right;\n",
       "    }\n",
       "</style>\n",
       "<table border=\"1\" class=\"dataframe\">\n",
       "  <thead>\n",
       "    <tr style=\"text-align: right;\">\n",
       "      <th></th>\n",
       "      <th></th>\n",
       "      <th>id</th>\n",
       "      <th>brr_weight</th>\n",
       "    </tr>\n",
       "  </thead>\n",
       "  <tbody>\n",
       "    <tr>\n",
       "      <th rowspan=\"5\" valign=\"top\">0</th>\n",
       "      <th>brr_weight_1</th>\n",
       "      <td>1</td>\n",
       "      <td>3628.305158</td>\n",
       "    </tr>\n",
       "    <tr>\n",
       "      <th>brr_weight_2</th>\n",
       "      <td>1</td>\n",
       "      <td>1392.373673</td>\n",
       "    </tr>\n",
       "    <tr>\n",
       "      <th>brr_weight_3</th>\n",
       "      <td>1</td>\n",
       "      <td>1271.181424</td>\n",
       "    </tr>\n",
       "    <tr>\n",
       "      <th>brr_weight_4</th>\n",
       "      <td>1</td>\n",
       "      <td>3528.052756</td>\n",
       "    </tr>\n",
       "    <tr>\n",
       "      <th>brr_weight_5</th>\n",
       "      <td>1</td>\n",
       "      <td>3478.045539</td>\n",
       "    </tr>\n",
       "  </tbody>\n",
       "</table>\n",
       "</div>"
      ],
      "text/plain": [
       "                id   brr_weight\n",
       "0 brr_weight_1   1  3628.305158\n",
       "  brr_weight_2   1  1392.373673\n",
       "  brr_weight_3   1  1271.181424\n",
       "  brr_weight_4   1  3528.052756\n",
       "  brr_weight_5   1  3478.045539"
      ]
     },
     "execution_count": 10,
     "metadata": {},
     "output_type": "execute_result"
    }
   ],
   "source": [
    "# Dataset for 2009\n",
    "repwt2009 = pd.DataFrame(df2009rep[brr2009].stack(), columns=['brr_weight'])\n",
    "t = [[x] * 244 for x in list(df2009rep.loc[:, 'id'])]\n",
    "repwt2009[['id']] = [item for sublist in t for item in sublist]\n",
    "repwt2009 = repwt2009[['id', 'brr_weight']]\n",
    "repwt2009.head()"
   ]
  },
  {
   "cell_type": "code",
   "execution_count": 11,
   "id": "73fb7cd7",
   "metadata": {},
   "outputs": [
    {
     "data": {
      "text/html": [
       "<div>\n",
       "<style scoped>\n",
       "    .dataframe tbody tr th:only-of-type {\n",
       "        vertical-align: middle;\n",
       "    }\n",
       "\n",
       "    .dataframe tbody tr th {\n",
       "        vertical-align: top;\n",
       "    }\n",
       "\n",
       "    .dataframe thead th {\n",
       "        text-align: right;\n",
       "    }\n",
       "</style>\n",
       "<table border=\"1\" class=\"dataframe\">\n",
       "  <thead>\n",
       "    <tr style=\"text-align: right;\">\n",
       "      <th></th>\n",
       "      <th></th>\n",
       "      <th>id</th>\n",
       "      <th>brr_weight</th>\n",
       "    </tr>\n",
       "  </thead>\n",
       "  <tbody>\n",
       "    <tr>\n",
       "      <th rowspan=\"5\" valign=\"top\">0</th>\n",
       "      <th>BRRWT1</th>\n",
       "      <td>10001</td>\n",
       "      <td>16555.311270</td>\n",
       "    </tr>\n",
       "    <tr>\n",
       "      <th>BRRWT2</th>\n",
       "      <td>10001</td>\n",
       "      <td>5938.014320</td>\n",
       "    </tr>\n",
       "    <tr>\n",
       "      <th>BRRWT3</th>\n",
       "      <td>10001</td>\n",
       "      <td>17725.586130</td>\n",
       "    </tr>\n",
       "    <tr>\n",
       "      <th>BRRWT4</th>\n",
       "      <td>10001</td>\n",
       "      <td>17635.591890</td>\n",
       "    </tr>\n",
       "    <tr>\n",
       "      <th>BRRWT5</th>\n",
       "      <td>10001</td>\n",
       "      <td>6032.801451</td>\n",
       "    </tr>\n",
       "  </tbody>\n",
       "</table>\n",
       "</div>"
      ],
      "text/plain": [
       "             id    brr_weight\n",
       "0 BRRWT1  10001  16555.311270\n",
       "  BRRWT2  10001   5938.014320\n",
       "  BRRWT3  10001  17725.586130\n",
       "  BRRWT4  10001  17635.591890\n",
       "  BRRWT5  10001   6032.801451"
      ]
     },
     "execution_count": 11,
     "metadata": {},
     "output_type": "execute_result"
    }
   ],
   "source": [
    "# Dataset for 2009\n",
    "repwt2015 = pd.DataFrame(df2015[brr2015].stack(), columns=['brr_weight'])\n",
    "t = [[x] * 96 for x in list(data2015.loc[:, 'id'])]\n",
    "repwt2015[['id']] = [item for sublist in t for item in sublist]\n",
    "repwt2015 = repwt2015[['id', 'brr_weight']]\n",
    "repwt2015.head()"
   ]
  },
  {
   "cell_type": "markdown",
   "id": "bc9192b6",
   "metadata": {},
   "source": [
    "## Question 2\n",
    "#### a) Estimate the average number of heating and cooling degree days"
   ]
  },
  {
   "cell_type": "code",
   "execution_count": 12,
   "id": "fc675668",
   "metadata": {},
   "outputs": [],
   "source": [
    "# Point estimates\n",
    "def point_est(df, wt='final_wt'):\n",
    "    \"\"\"\n",
    "    Compute point estimates of the average number of heating and cooling \n",
    "    degree days of different Census regions using data and weights.\n",
    "\n",
    "    Parameters\n",
    "    ----------\n",
    "    df : pandas.DataFrame\n",
    "        survey data with columns named as 'region' for Census regions,\n",
    "        'heat_dd' and 'cool_dd' for heating and cooling degree days,\n",
    "        and wt for final or replicate weights.\n",
    "    wt : string, optional\n",
    "        weight used for this point estimation. The default is 'final_wt'.\n",
    "\n",
    "    Returns\n",
    "    -------\n",
    "    pandas.DataFrame\n",
    "        point estimations the average number of heating and cooling \n",
    "        degree days of different Census region.\n",
    "\n",
    "    \"\"\"\n",
    "    dft = pd.DataFrame({'hdd * wt': df['heat_dd'] * df[wt],\n",
    "                        'cdd * wt': df['cool_dd'] * df[wt]})\n",
    "    dft[['region']] = df[['region']]\n",
    "\n",
    "    wtdsum = dft.groupby(\"region\").sum()\n",
    "    wtsum = df.groupby(\"region\").sum()[wt]\n",
    "    wtavg = {'heating degree days': wtdsum['hdd * wt'] / wtsum,\n",
    "             'cooling degree days': wtdsum['cdd * wt'] / wtsum}\n",
    "    return pd.DataFrame(wtavg)\n",
    "\n",
    "est2015 = point_est(data2015)\n",
    "est2009 = point_est(data2009)"
   ]
  },
  {
   "cell_type": "code",
   "execution_count": 13,
   "id": "ae93bb25",
   "metadata": {},
   "outputs": [],
   "source": [
    "# Standard errors\n",
    "estrep2015 = pd.DataFrame()\n",
    "for rwt in brr2015:\n",
    "    estrep2015 = estrep2015.append(\n",
    "        point_est(pd.concat([data2015, df2015[rwt]], axis=1), wt=rwt)\n",
    "        )\n",
    "\n",
    "se2015 = (estrep2015.groupby(\"region\").var(ddof=0) + \\\n",
    "          (estrep2015.groupby(\"region\").mean() - est2015) ** 2 \\\n",
    "         ) ** 0.5 * 2"
   ]
  },
  {
   "cell_type": "code",
   "execution_count": 14,
   "id": "1cbb4d58",
   "metadata": {},
   "outputs": [],
   "source": [
    "estrep2009 = pd.DataFrame()\n",
    "for rwt in brr2009:\n",
    "    estrep2009 = estrep2009.append(\n",
    "        point_est(pd.concat([data2009, df2009rep[rwt]], axis=1), wt=rwt)\n",
    "        )\n",
    "\n",
    "se2009 = (estrep2009.groupby(\"region\").var(ddof=0) + \\\n",
    "          (estrep2009.groupby(\"region\").mean() - est2009) ** 2 \\\n",
    "         ) ** 0.5 * 2"
   ]
  },
  {
   "cell_type": "code",
   "execution_count": 15,
   "id": "198eac19",
   "metadata": {},
   "outputs": [],
   "source": [
    "# Confidence intervals\n",
    "low2015 = (est2015\n",
    "           .sub(1.96 * se2015, axis='index')\n",
    "           .round(2)\n",
    "           .astype(str)\n",
    "           )\n",
    "up2015 = (est2015\n",
    "          .add(1.96 * se2015, axis='index')\n",
    "          .round(2)\n",
    "          .astype(str)\n",
    "          )\n",
    "#for l, c in zip(low2015.items(), up2015.items()):\n",
    "    #print(l[1])\n",
    "    #test = pd.DataFrame((l[1],c[1]))\n",
    "    #print(c[1])\n",
    "ci2015 = pd.concat(('[' + low2015.iloc[:, 0] + ', ' + up2015.iloc[:, 0] + ']',\n",
    "                    '[' + low2015.iloc[:, 1] + ', ' + up2015.iloc[:, 1] + ']'),\n",
    "                   axis=1)\n",
    "ci2015.columns = [\"heating degree days\", \n",
    "                  \"cooling degree days\"]"
   ]
  },
  {
   "cell_type": "code",
   "execution_count": 16,
   "id": "162651cb",
   "metadata": {},
   "outputs": [],
   "source": [
    "low2009 = (est2009\n",
    "           .sub(1.96 * se2009, axis='index')\n",
    "           .round(2)\n",
    "           .astype(str)\n",
    "           )\n",
    "up2009 = (est2009\n",
    "          .add(1.96 * se2009, axis='index')\n",
    "          .round(2)\n",
    "          .astype(str)\n",
    "          )\n",
    "\n",
    "ci2009 = pd.concat(('[' + low2009.iloc[:, 0] + ', ' + up2009.iloc[:, 0] + ']',\n",
    "                    '[' + low2009.iloc[:, 1] + ', ' + up2009.iloc[:, 1] + ']'),\n",
    "                   axis=1)\n",
    "ci2009.columns = [\"heating degree days\", \n",
    "                  \"cooling degree days\"]"
   ]
  },
  {
   "cell_type": "code",
   "execution_count": 17,
   "id": "5b5a4ba0",
   "metadata": {},
   "outputs": [
    {
     "data": {
      "text/html": [
       "<div>\n",
       "<style scoped>\n",
       "    .dataframe tbody tr th:only-of-type {\n",
       "        vertical-align: middle;\n",
       "    }\n",
       "\n",
       "    .dataframe tbody tr th {\n",
       "        vertical-align: top;\n",
       "    }\n",
       "\n",
       "    .dataframe thead th {\n",
       "        text-align: right;\n",
       "    }\n",
       "</style>\n",
       "<table border=\"1\" class=\"dataframe\">\n",
       "  <thead>\n",
       "    <tr style=\"text-align: right;\">\n",
       "      <th></th>\n",
       "      <th>heating degree days</th>\n",
       "      <th>cooling degree days</th>\n",
       "    </tr>\n",
       "    <tr>\n",
       "      <th>region</th>\n",
       "      <th></th>\n",
       "      <th></th>\n",
       "    </tr>\n",
       "  </thead>\n",
       "  <tbody>\n",
       "    <tr>\n",
       "      <th>Midwest</th>\n",
       "      <td>5785.49, 95% CI: [5634.78, 5936.2]</td>\n",
       "      <td>956.07, 95% CI: [894.42, 1017.72]</td>\n",
       "    </tr>\n",
       "    <tr>\n",
       "      <th>Northeast</th>\n",
       "      <td>5695.67, 95% CI: [5532.07, 5859.27]</td>\n",
       "      <td>983.92, 95% CI: [918.91, 1048.93]</td>\n",
       "    </tr>\n",
       "    <tr>\n",
       "      <th>South</th>\n",
       "      <td>2211.88, 95% CI: [2056.24, 2367.52]</td>\n",
       "      <td>2639.85, 95% CI: [2524.7, 2755.0]</td>\n",
       "    </tr>\n",
       "    <tr>\n",
       "      <th>West</th>\n",
       "      <td>2814.83, 95% CI: [2625.03, 3004.63]</td>\n",
       "      <td>1576.77, 95% CI: [1377.04, 1776.51]</td>\n",
       "    </tr>\n",
       "  </tbody>\n",
       "</table>\n",
       "</div>"
      ],
      "text/plain": [
       "                           heating degree days  \\\n",
       "region                                           \n",
       "Midwest     5785.49, 95% CI: [5634.78, 5936.2]   \n",
       "Northeast  5695.67, 95% CI: [5532.07, 5859.27]   \n",
       "South      2211.88, 95% CI: [2056.24, 2367.52]   \n",
       "West       2814.83, 95% CI: [2625.03, 3004.63]   \n",
       "\n",
       "                           cooling degree days  \n",
       "region                                          \n",
       "Midwest      956.07, 95% CI: [894.42, 1017.72]  \n",
       "Northeast    983.92, 95% CI: [918.91, 1048.93]  \n",
       "South        2639.85, 95% CI: [2524.7, 2755.0]  \n",
       "West       1576.77, 95% CI: [1377.04, 1776.51]  "
      ]
     },
     "execution_count": 17,
     "metadata": {},
     "output_type": "execute_result"
    }
   ],
   "source": [
    "# Nicely formatted tables\n",
    "est2015.round(2).astype(str) + ', 95% CI: ' + ci2015"
   ]
  },
  {
   "cell_type": "code",
   "execution_count": 18,
   "id": "a77c6037",
   "metadata": {},
   "outputs": [
    {
     "data": {
      "text/html": [
       "<div>\n",
       "<style scoped>\n",
       "    .dataframe tbody tr th:only-of-type {\n",
       "        vertical-align: middle;\n",
       "    }\n",
       "\n",
       "    .dataframe tbody tr th {\n",
       "        vertical-align: top;\n",
       "    }\n",
       "\n",
       "    .dataframe thead th {\n",
       "        text-align: right;\n",
       "    }\n",
       "</style>\n",
       "<table border=\"1\" class=\"dataframe\">\n",
       "  <thead>\n",
       "    <tr style=\"text-align: right;\">\n",
       "      <th></th>\n",
       "      <th>heating degree days</th>\n",
       "      <th>cooling degree days</th>\n",
       "    </tr>\n",
       "    <tr>\n",
       "      <th>region</th>\n",
       "      <th></th>\n",
       "      <th></th>\n",
       "    </tr>\n",
       "  </thead>\n",
       "  <tbody>\n",
       "    <tr>\n",
       "      <th>Midwest</th>\n",
       "      <td>6325.34, 95% CI: [6233.76, 6416.91]</td>\n",
       "      <td>660.89, 95% CI: [631.99, 689.79]</td>\n",
       "    </tr>\n",
       "    <tr>\n",
       "      <th>Northeast</th>\n",
       "      <td>5700.99, 95% CI: [5632.2, 5769.78]</td>\n",
       "      <td>680.72, 95% CI: [660.12, 701.31]</td>\n",
       "    </tr>\n",
       "    <tr>\n",
       "      <th>South</th>\n",
       "      <td>2696.67, 95% CI: [2615.7, 2777.64]</td>\n",
       "      <td>2207.73, 95% CI: [2150.65, 2264.81]</td>\n",
       "    </tr>\n",
       "    <tr>\n",
       "      <th>West</th>\n",
       "      <td>3259.64, 95% CI: [3092.52, 3426.76]</td>\n",
       "      <td>1328.64, 95% CI: [1270.22, 1387.06]</td>\n",
       "    </tr>\n",
       "  </tbody>\n",
       "</table>\n",
       "</div>"
      ],
      "text/plain": [
       "                           heating degree days  \\\n",
       "region                                           \n",
       "Midwest    6325.34, 95% CI: [6233.76, 6416.91]   \n",
       "Northeast   5700.99, 95% CI: [5632.2, 5769.78]   \n",
       "South       2696.67, 95% CI: [2615.7, 2777.64]   \n",
       "West       3259.64, 95% CI: [3092.52, 3426.76]   \n",
       "\n",
       "                           cooling degree days  \n",
       "region                                          \n",
       "Midwest       660.89, 95% CI: [631.99, 689.79]  \n",
       "Northeast     680.72, 95% CI: [660.12, 701.31]  \n",
       "South      2207.73, 95% CI: [2150.65, 2264.81]  \n",
       "West       1328.64, 95% CI: [1270.22, 1387.06]  "
      ]
     },
     "execution_count": 18,
     "metadata": {},
     "output_type": "execute_result"
    }
   ],
   "source": [
    "est2009.round(2).astype(str) + ', 95% CI: ' + ci2009"
   ]
  },
  {
   "cell_type": "markdown",
   "id": "f6846f91",
   "metadata": {},
   "source": [
    "#### b) Estimate the change in heating and cooling degree days"
   ]
  },
  {
   "cell_type": "code",
   "execution_count": 19,
   "id": "483ce915",
   "metadata": {},
   "outputs": [],
   "source": [
    "# Point estimate\n",
    "chg_est = est2015.sub(est2009, axis='index')"
   ]
  },
  {
   "cell_type": "code",
   "execution_count": 20,
   "id": "418e89dc",
   "metadata": {},
   "outputs": [],
   "source": [
    "# Confidence interval\n",
    "chg_se = (se2015 ** 2 + se2009 ** 2) ** 0.5\n",
    "low_chg = (chg_est\n",
    "           .sub(1.96 * chg_se, axis='index')\n",
    "           .round(2)\n",
    "           .astype(str)\n",
    "           )\n",
    "up_chg = (chg_est\n",
    "          .add(1.96 * chg_se, axis='index')\n",
    "          .round(2)\n",
    "          .astype(str)\n",
    "          )\n",
    "\n",
    "ci_chg = pd.concat(('[' + low_chg.iloc[:, 0] + ', ' + up_chg.iloc[:, 0] + ']',\n",
    "                    '[' + low_chg.iloc[:, 1] + ', ' + up_chg.iloc[:, 1] + ']'),\n",
    "                   axis=1)\n",
    "ci_chg.columns = [\"heating degree days\", \n",
    "                  \"cooling degree days\"]"
   ]
  },
  {
   "cell_type": "code",
   "execution_count": 21,
   "id": "b97df03a",
   "metadata": {},
   "outputs": [
    {
     "data": {
      "text/html": [
       "<div>\n",
       "<style scoped>\n",
       "    .dataframe tbody tr th:only-of-type {\n",
       "        vertical-align: middle;\n",
       "    }\n",
       "\n",
       "    .dataframe tbody tr th {\n",
       "        vertical-align: top;\n",
       "    }\n",
       "\n",
       "    .dataframe thead th {\n",
       "        text-align: right;\n",
       "    }\n",
       "</style>\n",
       "<table border=\"1\" class=\"dataframe\">\n",
       "  <thead>\n",
       "    <tr style=\"text-align: right;\">\n",
       "      <th></th>\n",
       "      <th>heating degree days</th>\n",
       "      <th>cooling degree days</th>\n",
       "    </tr>\n",
       "    <tr>\n",
       "      <th>region</th>\n",
       "      <th></th>\n",
       "      <th></th>\n",
       "    </tr>\n",
       "  </thead>\n",
       "  <tbody>\n",
       "    <tr>\n",
       "      <th>Midwest</th>\n",
       "      <td>-539.85, 95% CI: [-716.2, -363.49]</td>\n",
       "      <td>295.19, 95% CI: [227.1, 363.27]</td>\n",
       "    </tr>\n",
       "    <tr>\n",
       "      <th>Northeast</th>\n",
       "      <td>-5.32, 95% CI: [-182.79, 172.16]</td>\n",
       "      <td>303.2, 95% CI: [235.01, 371.4]</td>\n",
       "    </tr>\n",
       "    <tr>\n",
       "      <th>South</th>\n",
       "      <td>-484.79, 95% CI: [-660.23, -309.35]</td>\n",
       "      <td>432.12, 95% CI: [303.6, 560.65]</td>\n",
       "    </tr>\n",
       "    <tr>\n",
       "      <th>West</th>\n",
       "      <td>-444.81, 95% CI: [-697.7, -191.92]</td>\n",
       "      <td>248.13, 95% CI: [40.03, 456.23]</td>\n",
       "    </tr>\n",
       "  </tbody>\n",
       "</table>\n",
       "</div>"
      ],
      "text/plain": [
       "                           heating degree days  \\\n",
       "region                                           \n",
       "Midwest     -539.85, 95% CI: [-716.2, -363.49]   \n",
       "Northeast     -5.32, 95% CI: [-182.79, 172.16]   \n",
       "South      -484.79, 95% CI: [-660.23, -309.35]   \n",
       "West        -444.81, 95% CI: [-697.7, -191.92]   \n",
       "\n",
       "                       cooling degree days  \n",
       "region                                      \n",
       "Midwest    295.19, 95% CI: [227.1, 363.27]  \n",
       "Northeast   303.2, 95% CI: [235.01, 371.4]  \n",
       "South      432.12, 95% CI: [303.6, 560.65]  \n",
       "West       248.13, 95% CI: [40.03, 456.23]  "
      ]
     },
     "execution_count": 21,
     "metadata": {},
     "output_type": "execute_result"
    }
   ],
   "source": [
    "# A nicely formatted table\n",
    "chg_est.round(2).astype(str) + ', 95% CI: ' + ci_chg"
   ]
  },
  {
   "cell_type": "markdown",
   "id": "47803bbb",
   "metadata": {},
   "source": [
    "## Question 3"
   ]
  },
  {
   "cell_type": "code",
   "execution_count": 22,
   "id": "a7a9e0a4",
   "metadata": {},
   "outputs": [
    {
     "data": {
      "image/png": "[encoded data removed]",
      "text/plain": [
       "<Figure size 864x432 with 1 Axes>"
      ]
     },
     "metadata": {
      "needs_background": "light"
     },
     "output_type": "display_data"
    }
   ],
   "source": [
    "f = plt.figure()\n",
    "f.set_figwidth(12)\n",
    "f.set_figheight(6)\n",
    "\n",
    "for lower, upper, y in zip(low2015.iloc[:, 0].astype(float), \n",
    "                           up2015.iloc[:, 0].astype(float), \n",
    "                           range(4)):\n",
    "    plt.plot((lower, upper), (y, y), '|-', color='green')\n",
    "    \n",
    "for lower, upper, y in zip(low2009.iloc[:, 0].astype(float), \n",
    "                           up2009.iloc[:, 0].astype(float), \n",
    "                           range(4)):\n",
    "    plt.plot((lower, upper), (y, y), '|-', color='blue')\n",
    "    \n",
    "for est, y in zip(est2015.iloc[:, 0], range(4)):\n",
    "    plt.plot(est, y, '^', color='green')\n",
    "\n",
    "for est, y in zip(est2009.iloc[:, 0], range(4)):\n",
    "    plt.plot(est, y, '^', markersize=4, color='blue')\n",
    "    \n",
    "_ = plt.yticks(range(4), ['Midwest', 'Northeast', 'South', 'West'], size=13)\n",
    "_ = plt.xlabel(\"Heating degree days estimate\", size=13)\n",
    "\n",
    "gl = lines.Line2D([], [], color='green', label='2015')\n",
    "bl = lines.Line2D([], [], color='blue', label='2009')\n",
    "_ = plt.legend(handles=[gl, bl])\n",
    "\n",
    "plt.show()"
   ]
  },
  {
   "cell_type": "markdown",
   "id": "f39cf822",
   "metadata": {},
   "source": [
    "Figure 1. Point and 95% confidence interval estimates of average heating degree days for residences in each Census region for both 2009 and 2015."
   ]
  },
  {
   "cell_type": "code",
   "execution_count": 23,
   "id": "eabf63cc",
   "metadata": {},
   "outputs": [
    {
     "data": {
      "image/png": "[encoded data removed]",
      "text/plain": [
       "<Figure size 864x432 with 1 Axes>"
      ]
     },
     "metadata": {
      "needs_background": "light"
     },
     "output_type": "display_data"
    }
   ],
   "source": [
    "f = plt.figure()\n",
    "f.set_figwidth(12)\n",
    "f.set_figheight(6)\n",
    "\n",
    "for lower, upper, y in zip(low2009.iloc[:, 1].astype(float), \n",
    "                           up2009.iloc[:, 1].astype(float), \n",
    "                           range(4)):\n",
    "    plt.plot((lower, upper), (y, y), '|-', color='blue')\n",
    "    \n",
    "for lower, upper, y in zip(low2015.iloc[:, 1].astype(float), \n",
    "                           up2015.iloc[:, 1].astype(float), \n",
    "                           range(4)):\n",
    "    plt.plot((lower, upper), (y, y), '|-', color='green')\n",
    "    \n",
    "for est, y in zip(est2009.iloc[:, 1], range(4)):\n",
    "    plt.plot(est, y, '^', markersize=4, color='blue')\n",
    "\n",
    "for est, y in zip(est2015.iloc[:, 1], range(4)):\n",
    "    plt.plot(est, y, '^', color='green')\n",
    "    \n",
    "_ = plt.yticks(range(4), ['Midwest', 'Northeast', 'South', 'West'], size=13)\n",
    "_ = plt.xlabel(\"Cooling degree days estimate\", size=13)\n",
    "\n",
    "gl = lines.Line2D([], [], color='green', label='2015')\n",
    "bl = lines.Line2D([], [], color='blue', label='2009')\n",
    "_ = plt.legend(handles=[gl, bl])\n",
    "\n",
    "plt.show()"
   ]
  },
  {
   "cell_type": "markdown",
   "id": "77a4d15f",
   "metadata": {},
   "source": [
    "Figure 2. Point and 95% confidence interval estimates of average cooling degree days for residences in each Census region for both 2009 and 2015."
   ]
  },
  {
   "cell_type": "code",
   "execution_count": 24,
   "id": "2b71b7c0",
   "metadata": {},
   "outputs": [
    {
     "data": {
      "image/png": "[encoded data removed]",
      "text/plain": [
       "<Figure size 648x432 with 1 Axes>"
      ]
     },
     "metadata": {
      "needs_background": "light"
     },
     "output_type": "display_data"
    }
   ],
   "source": [
    "f = plt.figure()\n",
    "f.set_figwidth(9)\n",
    "f.set_figheight(6)\n",
    "\n",
    "_ = plt.bar(range(4), \n",
    "            est2015.iloc[:, 0], \n",
    "            yerr=up2015.iloc[:, 0].astype(float) - \\\n",
    "                low2015.iloc[:, 0].astype(float), \n",
    "            capsize=3,\n",
    "            width=0.2, \n",
    "            color='red', \n",
    "            label='2015 heating degree days')\n",
    "\n",
    "_ = plt.bar([x + 0.2 for x in range(4)], \n",
    "            est2009.iloc[:, 0], \n",
    "            yerr=up2009.iloc[:, 0].astype(float) - \\\n",
    "                low2009.iloc[:, 0].astype(float), \n",
    "            capsize=3,\n",
    "            width=0.2, \n",
    "            color='orange', \n",
    "            label='2009 cooling degree days')\n",
    "\n",
    "_ = plt.bar([x + 0.4 for x in range(4)], \n",
    "            est2015.iloc[:, 1], \n",
    "            yerr=up2015.iloc[:, 1].astype(float) - \\\n",
    "                low2015.iloc[:, 1].astype(float), \n",
    "            capsize=3,\n",
    "            width=0.2, \n",
    "            color='blue', \n",
    "            label='2015 cooling degree days')\n",
    "\n",
    "_ = plt.bar([x + 0.6 for x in range(4)], \n",
    "            est2009.iloc[:, 1], \n",
    "            yerr=up2009.iloc[:, 1].astype(float) - \\\n",
    "                low2009.iloc[:, 1].astype(float), \n",
    "            capsize=3,\n",
    "            width=0.2, \n",
    "            color='cyan', \n",
    "            label='2009 cooling degree days')\n",
    "\n",
    "_ = plt.xticks([r + 0.3 for r in range(4)], \n",
    "               ['Midwest', 'Northeast', 'South', 'West'], \n",
    "               size=13)\n",
    "_ = plt.ylabel('Heating or cooling degree days', size=13)\n",
    "_ = plt.legend()\n",
    "\n",
    "plt.show()"
   ]
  },
  {
   "cell_type": "markdown",
   "id": "b04d52fd",
   "metadata": {},
   "source": [
    "Figure 3. Bar plot of point and 95% confidence interval estimates of average heating and cooling degree days for residences in each Census region for both 2009 and 2015."
   ]
  },
  {
   "cell_type": "code",
   "execution_count": 25,
   "id": "17e37afc",
   "metadata": {},
   "outputs": [
    {
     "data": {
      "image/png": "[encoded data removed]",
      "text/plain": [
       "<Figure size 864x432 with 1 Axes>"
      ]
     },
     "metadata": {
      "needs_background": "light"
     },
     "output_type": "display_data"
    }
   ],
   "source": [
    "f = plt.figure()\n",
    "f.set_figwidth(12)\n",
    "f.set_figheight(6)\n",
    "\n",
    "for lower, upper, y in zip(low_chg.iloc[:, 0].astype(float), \n",
    "                           up_chg.iloc[:, 0].astype(float), \n",
    "                           range(4)):\n",
    "    plt.plot((lower, upper), (y, y), '|-', color='red')\n",
    "\n",
    "for lower, upper, y in zip(low_chg.iloc[:, 1].astype(float), \n",
    "                           up_chg.iloc[:, 1].astype(float), \n",
    "                           range(4)):\n",
    "    plt.plot((lower, upper), (y, y), '|-', color='blue')\n",
    "    \n",
    "for est, y in zip(chg_est.iloc[:, 0], range(4)):\n",
    "    plt.plot(est, y, '^', markersize=6, color='red')\n",
    "    \n",
    "for est, y in zip(chg_est.iloc[:, 1], range(4)):\n",
    "    plt.plot(est, y, '^', markersize=6, color='blue')\n",
    "    \n",
    "_ = plt.yticks(range(4), ['Midwest', 'Northeast', 'South', 'West'], size=13)\n",
    "_ = plt.xlabel(\"Changes in heating and cooling degree days estimate\", size=13)\n",
    "\n",
    "rl = lines.Line2D([], [], color='red', label='heating')\n",
    "bl = lines.Line2D([], [], color='blue', label='cooling')\n",
    "_ = plt.legend(handles=[rl, bl])\n",
    "\n",
    "plt.show()"
   ]
  },
  {
   "cell_type": "markdown",
   "id": "b7fb81bd",
   "metadata": {},
   "source": [
    "Figure 4. Point and 95% confidence interval estimates of changes in average heating and cooling degree days for residences in each Census region from 2009 to 2015."
   ]
  },
  {
   "cell_type": "code",
   "execution_count": 26,
   "id": "7cab253b",
   "metadata": {},
   "outputs": [
    {
     "data": {
      "image/png": "[encoded data removed]",
      "text/plain": [
       "<Figure size 648x432 with 1 Axes>"
      ]
     },
     "metadata": {
      "needs_background": "light"
     },
     "output_type": "display_data"
    }
   ],
   "source": [
    "f = plt.figure()\n",
    "f.set_figwidth(9)\n",
    "f.set_figheight(6)\n",
    "\n",
    "_ = plt.bar(range(4), \n",
    "            chg_est.iloc[:, 0], \n",
    "            yerr=up_chg.iloc[:, 0].astype(float) - \\\n",
    "                low_chg.iloc[:, 0].astype(float), \n",
    "            capsize=3,\n",
    "            width=0.2, \n",
    "            color='red', \n",
    "            label='change in heating degree days')\n",
    "\n",
    "_ = plt.bar([x + 0.2 for x in range(4)], \n",
    "            chg_est.iloc[:, 1], \n",
    "            yerr=up_chg.iloc[:, 1].astype(float) - \\\n",
    "                low_chg.iloc[:, 1].astype(float), \n",
    "            capsize=3,\n",
    "            width=0.2, \n",
    "            color='blue', \n",
    "            label='change in cooling degree days')\n",
    "\n",
    "_ = plt.xticks([r + 0.3 for r in range(4)], \n",
    "               ['Midwest', 'Northeast', 'South', 'West'], \n",
    "               size=13)\n",
    "_ = plt.ylabel('Change in heating or cooling degree days', size=13)\n",
    "_ = plt.legend()\n",
    "\n",
    "plt.show()"
   ]
  },
  {
   "cell_type": "markdown",
   "id": "3fdf134c",
   "metadata": {},
   "source": [
    "Figure 5. Bar plot of point and 95% confidence interval estimates of changes in average heating and cooling degree days for residences in each Census region from 2009 to 2015."
   ]
  },
  {
   "cell_type": "code",
   "execution_count": null,
   "id": "4e4810a1",
   "metadata": {},
   "outputs": [],
   "source": []
  }
 ],
 "metadata": {
  "kernelspec": {
   "display_name": "Python 3",
   "language": "python",
   "name": "python3"
  },
  "language_info": {
   "codemirror_mode": {
    "name": "ipython",
    "version": 3
   },
   "file_extension": ".py",
   "mimetype": "text/x-python",
   "name": "python",
   "nbconvert_exporter": "python",
   "pygments_lexer": "ipython3",
   "version": "3.8.8"
  }
 },
 "nbformat": 4,
 "nbformat_minor": 5
}
