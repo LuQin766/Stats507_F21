{
 "cells": [
  {
   "cell_type": "markdown",
   "id": "bb94ed4d",
   "metadata": {
    "slideshow": {
     "slide_type": "slide"
    }
   },
   "source": [
    "## Visualization with Matplotlib & Pandas\n",
    "*Stats 507, Fall 2021*\n",
    "\n",
    "James Henderson, PhD  \n",
    "September 30, 2021"
   ]
  },
  {
   "cell_type": "markdown",
   "id": "ce47ebff",
   "metadata": {
    "slideshow": {
     "slide_type": "slide"
    }
   },
   "source": [
    "## Overview\n",
    "  - [Visualization](#/slide-2-0)\n",
    "  - [Matplotlib](#/slide-3-0)\n",
    "  - [Aesthetics](#/slide-12-0)\n",
    "  - [Pandas](#/slide-13-0)\n",
    "  - [Plot Polishing](#/slide-14-0)\n",
    "  - [Takeaways](#/slide-15-0)"
   ]
  },
  {
   "cell_type": "markdown",
   "id": "edc89f52",
   "metadata": {
    "slideshow": {
     "slide_type": "slide"
    }
   },
   "source": [
    "## Visualization\n",
    "- *Visualization* refers to creating figures or *plots* to create visual\n",
    "   representations of data or analytic results. \n",
    "- Visualization is useful at all stages of data analysis:\n",
    "  + communication,\n",
    "  + exploration,\n",
    "  + modeling. "
   ]
  },
  {
   "cell_type": "markdown",
   "id": "1ee637fa",
   "metadata": {
    "slideshow": {
     "slide_type": "slide"
    }
   },
   "source": [
    "## Matplotlib\n",
    "- [Matplotlib][mpl] is the core visualization library in Python.\n",
    "- Other useful plotting libraries use Matplotlib as a back-end:\n",
    "  + [pandas][pd]\n",
    "  + [seaborn][sb]\n",
    "  + [plotnine][plot9].  \n",
    "\n",
    "[mpl]: http://matplotlib.sourceforge.net/\n",
    "[pd]: https://pandas.pydata.org/docs/user_guide/visualization.html\n",
    "[sb]: https://seaborn.pydata.org/\n",
    "[plot9]: https://plotnine.readthedocs.io/en/stable/about-plotnine.html"
   ]
  },
  {
   "cell_type": "markdown",
   "id": "d41181bc",
   "metadata": {
    "slideshow": {
     "slide_type": "subslide"
    }
   },
   "source": [
    "## Matplotlib\n",
    "- Other useful plotting libraries use Matplotlib as a back-end. \n",
    "- Familiarity with the Matplotlib API will help you to understand these\n",
    "  libraries and will also be useful for customization. "
   ]
  },
  {
   "cell_type": "markdown",
   "id": "dcde476b",
   "metadata": {
    "slideshow": {
     "slide_type": "subslide"
    }
   },
   "source": [
    "## Matplotlib\n",
    "- In these slides, we'll focus on the object-oriented interface to matplotlib\n",
    "  and the *pyplot* API. \n",
    "- These are primarily *imperative* APIs -- you say *what to do*.  \n",
    "- Contrast with plotnine which is a *declarative* API -- you say \n",
    "  *what you want*."
   ]
  },
  {
   "cell_type": "markdown",
   "id": "8786b08c",
   "metadata": {
    "slideshow": {
     "slide_type": "slide"
    }
   },
   "source": [
    "## Canonical Import\n",
    " - Import the pyplot API as `plt` and (when needed) matplotlib as `mpl`. "
   ]
  },
  {
   "cell_type": "code",
   "execution_count": null,
   "id": "b594b03b",
   "metadata": {
    "slideshow": {
     "slide_type": "code"
    }
   },
   "outputs": [],
   "source": [
    "import numpy as np\n",
    "import pandas as pd\n",
    "import matplotlib.pyplot as plt\n",
    "import matplotlib as mpl\n",
    "mpl.__version__"
   ]
  },
  {
   "cell_type": "markdown",
   "id": "278b1f40",
   "metadata": {
    "slideshow": {
     "slide_type": "slide"
    }
   },
   "source": [
    "## Example Data\n",
    "- Below we create 3 NumPy ndarray objects with `y` and `z`\n",
    "  having a specified correlation with `x`. "
   ]
  },
  {
   "cell_type": "code",
   "execution_count": null,
   "id": "212776eb",
   "metadata": {
    "slideshow": {
     "slide_type": "code"
    }
   },
   "outputs": [],
   "source": [
    "rng = np.random.default_rng(9 * 26 * 2021)\n",
    "n = 100\n",
    "rho = .3, .7\n",
    "x = rng.normal(size=n)\n",
    "y = 2 + rho[0] * x + np.sqrt(1 - rho[0] ** 2) * rng.normal(size=n)\n",
    "z = np.pi + rho[1] * x + np.sqrt(1 - rho[1] ** 2) * rng.normal(size=n)\n",
    "df = pd.DataFrame({'x': x, 'y': y, 'z': z})\n",
    "df"
   ]
  },
  {
   "cell_type": "markdown",
   "id": "f454442b",
   "metadata": {
    "slideshow": {
     "slide_type": "slide"
    }
   },
   "source": [
    "## Figures in Jupyter\n",
    "> TIP\n",
    "> One nuance of using Jupyter notebooks is that plots are reset after each cell \n",
    "> is evaluated, so for more complex plots you must put all of the plotting \n",
    "> commands in a single notebook cell.\n",
    ">\n",
    "> <cite> --Wes McKinney </cite>"
   ]
  },
  {
   "cell_type": "markdown",
   "id": "c0948e96",
   "metadata": {
    "slideshow": {
     "slide_type": "slide"
    }
   },
   "source": [
    "## Figures and Axes\n",
    "- Plotting is done within a `Figure` object, `plt.figure()`.\n",
    "- *Subplots* or *axes* are added with `.add_subplot()`.\n",
    "- The outputs are *handles* for referencing the objects created.  "
   ]
  },
  {
   "cell_type": "code",
   "execution_count": null,
   "id": "352c86fa",
   "metadata": {
    "slideshow": {
     "slide_type": "code"
    }
   },
   "outputs": [],
   "source": [
    "fig0 = plt.figure()\n",
    "ax0 = fig0.add_subplot(3, 1, 1)\n",
    "ax1 = fig0.add_subplot(3, 1, 2)\n",
    "ax2 = fig0.add_subplot(3, 1, 3)\n",
    "fig0.tight_layout() \n",
    "_ = plt.scatter(x, y, color='darkgreen')\n",
    "_ = plt.scatter(x, z, color='red')\n",
    "_ = ax0.hist(x)\n",
    "_ = ax1.hist(y, color='darkgreen', alpha=0.5)\n",
    "_ = ax1.hist(z, color='red', alpha=0.5)"
   ]
  },
  {
   "cell_type": "markdown",
   "id": "8ab3c8ec",
   "metadata": {
    "slideshow": {
     "slide_type": "slide"
    }
   },
   "source": [
    "## Layout and Spacing\n",
    "- Control spacing around subplots using `fig.subplots_adjust()`\n",
    "- I find that `fig.tight_layout()` tends to produce nice spacing."
   ]
  },
  {
   "cell_type": "markdown",
   "id": "48e2c11f",
   "metadata": {
    "slideshow": {
     "slide_type": "slide"
    }
   },
   "source": [
    "## Figures and Axes\n",
    "- `plt.subplots()` simplifies creating a figure with a given subplot layout.\n",
    "- Use `sharex` and `sharey` to reduce clutter when plotting on a common scale. "
   ]
  },
  {
   "cell_type": "code",
   "execution_count": null,
   "id": "a33aec46",
   "metadata": {
    "slideshow": {
     "slide_type": "code"
    }
   },
   "outputs": [],
   "source": [
    "fig1, axes = plt.subplots(nrows=3, ncols=1, sharex=True)\n",
    "fig1.tight_layout()\n",
    "_ = axes[0].hist(x)\n",
    "_ = axes[1].scatter(x, y, color='darkgreen')\n",
    "_ = axes[2].scatter(x, z, color='red')\n",
    "_, _ = axes[1].set_ylim(-2, 6), axes[2].set_ylim(-2, 6)\n",
    "_ = axes[2].set_xlabel('x')\n",
    "for i, lab in enumerate(['count', 'y', 'z']):\n",
    "    _ = axes[i].set_ylabel(lab)"
   ]
  },
  {
   "cell_type": "markdown",
   "id": "e63d7370",
   "metadata": {
    "slideshow": {
     "slide_type": "slide"
    }
   },
   "source": [
    "## Scatter\n",
    "- Scatterplots (`plt.scatter()`) are useful for showing the relationship \n",
    "  between two variables. \n",
    "- Label x or y axis using `.set_*label()` method of an axes. \n",
    "- Use the `label` parameter in a plotting *artist* for a simple legend. "
   ]
  },
  {
   "cell_type": "code",
   "execution_count": null,
   "id": "5ae287e6",
   "metadata": {
    "slideshow": {
     "slide_type": "code"
    }
   },
   "outputs": [],
   "source": [
    "fig2, ax2 = plt.subplots(nrows=1, ncols=1)\n",
    "plt.scatter(x, y, color='darkgreen', alpha=0.5, label='y')\n",
    "plt.scatter(x, z, color='red', alpha=0.5, label='z')\n",
    "_, _ = ax2.set_xlabel('x (IV)'), ax2.set_ylabel('y or z (DVs)')\n",
    "_ = ax2.legend(loc='upper left') "
   ]
  },
  {
   "cell_type": "markdown",
   "id": "12d6bcab",
   "metadata": {
    "slideshow": {
     "slide_type": "slide"
    }
   },
   "source": [
    "## Error Bars\n",
    "- It's often useful to plot point estimates (e.g. means) for each of several\n",
    "  groups together with error bars representing confidence intervals.\n",
    "- Use `plt.errorbar()` for this. "
   ]
  },
  {
   "cell_type": "code",
   "execution_count": null,
   "id": "85bd7e3a",
   "metadata": {
    "slideshow": {
     "slide_type": "code"
    }
   },
   "outputs": [],
   "source": [
    "# compute mean, se, and CI half-width\n",
    "df_bar = df.mean().reset_index()\n",
    "df_bar.rename(columns={'index': 'variable', 0: 'mean'}, inplace=True)\n",
    "df_se = (df.std() / np.sqrt(df.size)).reset_index()\n",
    "df_se = df_se.rename(columns={'index': 'variable', 0: 'se'})\n",
    "\n",
    "## figure 3\n",
    "fig3, ax3 = plt.subplots(nrows=1, ncols=1)\n",
    "_ = plt.errorbar(\n",
    "    x=df_bar['mean'], \n",
    "    y=df_bar['variable'],\n",
    "    xerr=df_se['se'] * 1.96,\n",
    "    fmt='o'\n",
    "    )\n",
    "_ = ax3.set_xlabel('Mean and 95% CI (xx units)')"
   ]
  },
  {
   "cell_type": "markdown",
   "id": "24f37ba2",
   "metadata": {
    "slideshow": {
     "slide_type": "subslide"
    }
   },
   "source": [
    "## Error Bars\n",
    " - You can use `plt.errorbar()` for both point and interval estimates as on\n",
    "   the last slide, or set `fmt=None` to draw error bars only.\n",
    " - Pass a tuple to `xerr` or `yerr` for asymmetric intervals.  "
   ]
  },
  {
   "cell_type": "code",
   "execution_count": null,
   "id": "897bcfac",
   "metadata": {
    "slideshow": {
     "slide_type": "code"
    }
   },
   "outputs": [],
   "source": [
    "## figure 4\n",
    "fig4, ax4 = plt.subplots(nrows=1, ncols=1)\n",
    "_ = plt.scatter(\n",
    "    data=df_bar,\n",
    "    x='mean',\n",
    "    y='variable',\n",
    "    marker='s',\n",
    "    color='black'\n",
    "    )\n",
    "_ = plt.errorbar(\n",
    "    x=df_bar['mean'],\n",
    "    y=df_bar['variable'],\n",
    "    fmt='None',\n",
    "    xerr=(df_se['se'] * 1.96, df_se['se'] * 1.96),\n",
    "    ecolor='gray',\n",
    "    capsize=4\n",
    ")\n",
    "_ = ax4.set_xlabel('Mean and 95% CI (xx units)')"
   ]
  },
  {
   "cell_type": "markdown",
   "id": "df96210c",
   "metadata": {
    "lines_to_next_cell": 2,
    "slideshow": {
     "slide_type": "slide"
    }
   },
   "source": [
    "## Aesthetics\n",
    "- In visualization (borrowing from the *grammar or graphics*) aesthetics refer\n",
    "  to visual elements that can be mapped to data elements (or a fixed value)."
   ]
  },
  {
   "cell_type": "markdown",
   "id": "ec90a03d",
   "metadata": {
    "slideshow": {
     "slide_type": "subslide"
    }
   },
   "source": [
    "## Aesthetics\n",
    "- Important aesthetics to make use of:\n",
    "  + `marker` or shape of plotting point,\n",
    "  + `color` for points, lines, and more, distinguish fill and edge colors,\n",
    "  + `alpha` transparency level (especially useful when plot elements overlap),\n",
    "  + `linestyle` the type or style of line to draw: solid, dashed, dotted, etc.\n",
    "  + `markersize` the size of points to draw\n",
    "- See `Line2D` properties at [plt.plot()][l2d] or refer to a matplotlib\n",
    "  [cheat sheet][mpl_cs].\n",
    "\n",
    "[l2d]: https://matplotlib.org/stable/api/_as_gen/matplotlib.pyplot.plot.html#matplotlib.pyplot.plot\n",
    "[mpl_cs]: https://github.com/matplotlib/cheatsheets#cheatsheets"
   ]
  },
  {
   "cell_type": "markdown",
   "id": "ed234968",
   "metadata": {
    "slideshow": {
     "slide_type": "slide"
    }
   },
   "source": [
    "## Pandas Plotting API\n",
    "  - Pandas simplifies creation of many basic plots when the plot data is in\n",
    "    a pandas DataFrame or Series.\n",
    "  - Both have a `.plot()` method, which itself has a family of methods for \n",
    "    specific types of plots.\n",
    "  - You can also use the `kind` parameter, but I prefer the methods for \n",
    "    better interactive help. "
   ]
  },
  {
   "cell_type": "markdown",
   "id": "f41d9666",
   "metadata": {
    "slideshow": {
     "slide_type": "subslide"
    }
   },
   "source": [
    "## Referencing Columns & Axes\n",
    "  - Refer to columns in the calling DataFrame using strings. \n",
    "  - Most plotting methods in panda accept a parameter `ax` you can use to\n",
    "    specify the axes to plot on. "
   ]
  },
  {
   "cell_type": "code",
   "execution_count": null,
   "id": "1958521b",
   "metadata": {
    "slideshow": {
     "slide_type": "code"
    }
   },
   "outputs": [],
   "source": [
    "## figure 5\n",
    "fig5, ax5 = plt.subplots(nrows=3, ncols=1, sharex=True)\n",
    "fig5.tight_layout() \n",
    "_ = df['x'].plot.hist(ax=ax5[0])\n",
    "_ = df.plot.scatter('x', 'y', ax=ax5[1], color='darkgreen')\n",
    "_ = df.plot.scatter('x', 'z', ax=ax5[2], color='red')\n",
    "for i, lab in enumerate(['count', 'y', 'z']):\n",
    "    _ = ax5[i].set_ylabel(lab)"
   ]
  },
  {
   "cell_type": "markdown",
   "id": "b3a3a509",
   "metadata": {
    "slideshow": {
     "slide_type": "subslide"
    }
   },
   "source": [
    "## Setup and Axes Handles\n",
    "  - Figures and axes will be setup automatically or will reference the current\n",
    "    axes.  \n",
    "  - The method calls will return an axis handle. "
   ]
  },
  {
   "cell_type": "code",
   "execution_count": null,
   "id": "6fa0115e",
   "metadata": {
    "slideshow": {
     "slide_type": "code"
    }
   },
   "outputs": [],
   "source": [
    "ax0 = df.plot.hist(color=['darkred', 'darkgreen', 'blue'], alpha=0.5)\n",
    "_ = ax0.set_xlabel('x')\n",
    "type(ax0)"
   ]
  },
  {
   "cell_type": "markdown",
   "id": "96c4240d",
   "metadata": {
    "slideshow": {
     "slide_type": "subslide"
    }
   },
   "source": [
    "## Keyword Pass Through\n",
    "  - Keyword arguments will be passed through to the `plt` plotting function.  "
   ]
  },
  {
   "cell_type": "code",
   "execution_count": null,
   "id": "a2eaae01",
   "metadata": {},
   "outputs": [],
   "source": [
    "ax2 = df.plot.scatter(x='x', y='y', color='darkgreen', alpha=0.5, label='y')\n",
    "_ = df.plot.scatter(ax=ax2, x='x', y='z', color='red', alpha=0.5, label='z')\n",
    "_ = ax2.set_ylabel('y/z (DVs)')\n",
    "_ = ax2.legend(loc='upper left')"
   ]
  },
  {
   "cell_type": "markdown",
   "id": "e35cb0f6",
   "metadata": {
    "slideshow": {
     "slide_type": "subslide"
    }
   },
   "source": [
    "## Pandas or Pyplot? \n",
    "  - Prefer members of the pandas `.plot()` API when plot data is already in\n",
    "    a DataFrame.\n",
    "  - Use pyplot to setup subplots and axes methods to customize.\n",
    "  - Your choice when (e.g. error bars) the interfaces don't align.  "
   ]
  },
  {
   "cell_type": "code",
   "execution_count": null,
   "id": "2a781e47",
   "metadata": {},
   "outputs": [],
   "source": [
    "## figure 6 (like figure 4)\n",
    "if not 'se' in df_bar:\n",
    "    df_bar = pd.merge(df_bar, df_se, on='variable')\n",
    "df_bar['moe'] = 1.96 * df_bar['se']\n",
    "\n",
    "ax6 = df_bar.plot.scatter(\n",
    "    x='mean',\n",
    "    y='variable',\n",
    "    marker='s',\n",
    "    color='black'\n",
    "    )\n",
    "\n",
    "_ = plt.errorbar(\n",
    "    data=df_bar,\n",
    "    x='mean',\n",
    "    y='variable',\n",
    "    fmt='None',\n",
    "    xerr='moe',\n",
    "    ecolor='gray',\n",
    "    capsize=4\n",
    ")\n",
    "\n",
    "_ = ax6.set_xlabel('Mean and 95% CI (xx units)')"
   ]
  },
  {
   "cell_type": "markdown",
   "id": "5af726d0",
   "metadata": {
    "slideshow": {
     "slide_type": "slide"
    }
   },
   "source": [
    "## Plotting for Communication\n",
    "- When adding plots to your notebooks or other summary documents, \n",
    "  make your visualization professional and polished:\n",
    "  + ensure axes have meaningful names and clear units,\n",
    "  + think carefully about scales and organization,\n",
    "  + use aesthetics such as color, shape, line type, size or facets thoughtfully\n",
    "    and consistently, \n",
    "  + use natural language and avoid programmer speak in labels, ticks, and\n",
    "    legends. "
   ]
  },
  {
   "cell_type": "markdown",
   "id": "7c56f62f",
   "metadata": {
    "slideshow": {
     "slide_type": "slide"
    }
   },
   "source": [
    "## Takeaways\n",
    "- Visualization is a key part of data science.\n",
    "- Matplotlib is the core visualization library in Python.\n",
    "- Use parameter names for plot aesthetics over format string abbreviations.  \n",
    "- Pandas DataFrame and Series objects have useful plotting methods--prefer \n",
    "  these. \n",
    "- Polish your visualizations for better communication. "
   ]
  }
 ],
 "metadata": {
  "jupytext": {
   "cell_metadata_json": true,
   "notebook_metadata_filter": "rise"
  },
  "kernelspec": {
   "display_name": "Python 3 (ipykernel)",
   "language": "python",
   "name": "python3"
  },
  "rise": {
   "autolaunch": true,
   "enable_chalkboard": true,
   "header": "<a href=\"#/slide-0-0\"> <h3>Stats 507 - Matplotlib & Pandas Plot</a>",
   "progress": true,
   "scroll": true,
   "theme": "solarized",
   "transition": "convex"
  }
 },
 "nbformat": 4,
 "nbformat_minor": 5
}
