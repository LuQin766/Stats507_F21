{
 "cells": [
  {
   "cell_type": "markdown",
   "id": "987aba7e",
   "metadata": {
    "slideshow": {
     "slide_type": "slide"
    }
   },
   "source": [
    "## Git Essentials\n",
    "*Stats 507, Fall 2021*\n",
    "\n",
    "James Henderson, PhD  \n",
    "November 2, 2021"
   ]
  },
  {
   "cell_type": "markdown",
   "id": "47827243",
   "metadata": {
    "slideshow": {
     "slide_type": "slide"
    }
   },
   "source": [
    "## Overview 1/2\n",
    "  - [Version Control](#/slide-2-0)\n",
    "  - [Remote Repositories](#/slide-3-0)\n",
    "  - [Git Clone & SSH Keys](#/slide-4-0)\n",
    "  - [Git init](#/slide-5-0) \n",
    "  - [Git Commit](#/slide-6-0)\n",
    "  - [.gitignore](#/slide-7-0)"
   ]
  },
  {
   "cell_type": "markdown",
   "id": "6acae576",
   "metadata": {
    "slideshow": {
     "slide_type": "subslide"
    }
   },
   "source": [
    "## Overview 2/2\n",
    "  - [Remote Repos](#/slide-8-0)\n",
    "  - [Workflow: pull, commit, push](#/slide-9-0)\n",
    "  - [git merge](#/slide-10-0)\n",
    "  - [Hosting Remotes](#/slide-11-0)\n",
    "  - [git branch](#/slide-12-0)\n",
    "  - [Takeaways](#/slide-13-0)"
   ]
  },
  {
   "cell_type": "markdown",
   "id": "0e3877fd",
   "metadata": {
    "slideshow": {
     "slide_type": "slide"
    }
   },
   "source": [
    "## Version Control\n",
    "  - A *version control* system is a tool for managing changes to files over \n",
    "    time.\n",
    "  - A widely used tool for version control is \"git\". \n",
    "  - Another version control tool called subversion or SVN has also been \n",
    "    widely used, but \"git\" is the *de facto* standard for data science.\n",
    "  - Git is generally already installed on most Linux-like systems."
   ]
  },
  {
   "cell_type": "markdown",
   "id": "4e05c2d2",
   "metadata": {
    "slideshow": {
     "slide_type": "subslide"
    }
   },
   "source": [
    "## Version Control\n",
    " - Version control is essential for collaborative projects. \n",
    " - It can also help individual users more effectively and efficiently manage \n",
    "   their code. "
   ]
  },
  {
   "cell_type": "markdown",
   "id": "dcf0716d",
   "metadata": {
    "slideshow": {
     "slide_type": "slide"
    }
   },
   "source": [
    "## Remote Repositories \n",
    " - Git is a *distributed version control system* and every copy is a \n",
    "   repository that can contain the full history of the code.\n",
    " - A number of services are available for hosting *remote repositories*.\n",
    " - Remote repositories serve as a backup and facilitate collaboration."
   ]
  },
  {
   "cell_type": "markdown",
   "id": "2e9ff1d0",
   "metadata": {
    "slideshow": {
     "slide_type": "subslide"
    }
   },
   "source": [
    "## Repository Hosting Services \n",
    " - Popular services for hosting remote repositories: \n",
    "   + GitHub\n",
    "   + BitBucket\n",
    "   + [GitLab](https://gitlab.umich.edu).\n",
    " - We will use GitHub ... \n",
    " - ... but I'll also show you how to host your own remote in your AFS space."
   ]
  },
  {
   "cell_type": "markdown",
   "id": "37432e5a",
   "metadata": {
    "slideshow": {
     "slide_type": "slide"
    }
   },
   "source": [
    "## Git Clone\n",
    " - Use `git clone` to create a local copy of a remote repository.\n",
    " - Two choices for reading data:\n",
    "   + ssh - best when you will both \"push\" and \"pull\",\n",
    "   + https - fine when you only plan to \"pull\".\n",
    " - When using GitHub, you'll want to set up an ssh key."
   ]
  },
  {
   "cell_type": "markdown",
   "id": "cd570037",
   "metadata": {
    "slideshow": {
     "slide_type": "subslide"
    }
   },
   "source": [
    "## SSH Keys\n",
    " - SSH keys are a means for identify verification when using ssh.\n",
    " - A key pair consists of a public and a private key - never share your \n",
    "   private key.\n",
    " - Read more at [Git SSH Keys][gsk]. \n",
    "\n",
    " [gsk]: https://www.atlassian.com/git/tutorials/git-ssh"
   ]
  },
  {
   "cell_type": "markdown",
   "id": "38cd7c12",
   "metadata": {
    "slideshow": {
     "slide_type": "slide"
    }
   },
   "source": [
    "## Git Init\n",
    "- You do not need a remote repository to use git. \n",
    "- To begin tracking an existing project without a remote, \n",
    "  move to the top folder in the project tree and type `git init`.\n",
    "- A folder `.git` will be created to track diffs, etc. "
   ]
  },
  {
   "cell_type": "markdown",
   "id": "4b2c2410",
   "metadata": {
    "slideshow": {
     "slide_type": "slide"
    }
   },
   "source": [
    "## Git commit\n",
    "- Version history in Git is tracked through *commits*.\n",
    "- A *commit* is a collection of changes \n",
    "  to source files that represent a particular point in the version history."
   ]
  },
  {
   "cell_type": "markdown",
   "id": "9fc20549",
   "metadata": {
    "slideshow": {
     "slide_type": "subslide"
    }
   },
   "source": [
    "## Git add and commit\n",
    "- To make a commit, we first use `git add` to place files in the \n",
    " *staging area*.\n",
    "- Then, we use `git commit -m \"Commit Message\"` to commit the changes.\n",
    "- If using a remote, we will typically follow this with `git push`. "
   ]
  },
  {
   "cell_type": "markdown",
   "id": "1dae5e18",
   "metadata": {
    "slideshow": {
     "slide_type": "subslide"
    }
   },
   "source": [
    "## Git status\n",
    "- Before creating a commit, it's a good idea to use `git status` to\n",
    "  make sure all changes have been added to the staging area. \n",
    "- You can \"pipe\" this to a pager like \"less\" if there are a lot of files.\n",
    "- If you have many files not under version control, create a `.gitignore` \n",
    "  file to keep them out of your status output."
   ]
  },
  {
   "cell_type": "markdown",
   "id": "eee840f6",
   "metadata": {
    "slideshow": {
     "slide_type": "slide"
    }
   },
   "source": [
    "## Git Ignore\n",
    "- The file `.gitignore` provides a list of specific files - or patterns\n",
    "  using file *globs* - that git should ignore.\n",
    "- Git will not only ignore these, but will also prevent you from adding \n",
    "  them on accident - you have to *force* add them using `git add -f`.  "
   ]
  },
  {
   "cell_type": "markdown",
   "id": "f0e652c1",
   "metadata": {
    "slideshow": {
     "slide_type": "subslide"
    }
   },
   "source": [
    "## Git Ignore\n",
    "- I'd recommend including the following in your `.gitignore` at a minimum:\n",
    "  - `.*` : all hidden files\n",
    "  - `*~` : temporary backups created by Emacs\n",
    "  - `.DS_store`: if you ever work on Mac\n",
    "  - Various log and error file types:\n",
    "    - `*.log` \n",
    "    - `*.out` . "
   ]
  },
  {
   "cell_type": "markdown",
   "id": "14f8aca7",
   "metadata": {
    "slideshow": {
     "slide_type": "slide"
    }
   },
   "source": [
    "## Git Remote\n",
    "- Git is used most effectively with a remote repository.  \n",
    "- Create the remote repository first.\n",
    "   + On GitHub do this through a web browser. \n",
    "- Using git with a remote repository is a great way to manage work across\n",
    "  multiple computers."
   ]
  },
  {
   "cell_type": "markdown",
   "id": "170e2d28",
   "metadata": {
    "slideshow": {
     "slide_type": "subslide"
    }
   },
   "source": [
    "## Git Push, Pull, Fetch\n",
    "- To send commits from the local repository to a remote, use `git push`.\n",
    "- To acquire changes from the remote without merging them into the remote,\n",
    "  use `git fetch`. \n",
    "- To acquire changes from the remote and *merge* them into the local branch,\n",
    "  use `git pull`. "
   ]
  },
  {
   "cell_type": "markdown",
   "id": "e63f5fbd",
   "metadata": {
    "slideshow": {
     "slide_type": "subslide"
    }
   },
   "source": [
    "## Git Remote\n",
    "- To link a local and remote repository, use `git remote`:\n",
    "  + `git remote add origin git@github.com:user/repo.git`\n",
    "  + `git push -u origin main`.\n",
    "- This creates a remote named \"origin\" (e.g. associates the name origin \n",
    "  with the given \"url\"). "
   ]
  },
  {
   "cell_type": "markdown",
   "id": "425278f5",
   "metadata": {
    "slideshow": {
     "slide_type": "subslide"
    }
   },
   "source": [
    "## Git Remote  \n",
    "- We then set the (default) branch \"main\" on the remote as the \"upstream\"\n",
    "  branch for our local (default) branch named \"main\". \n",
    "- These steps are handled automatically when using `git clone`. "
   ]
  },
  {
   "cell_type": "markdown",
   "id": "e3e3cc3b",
   "metadata": {
    "slideshow": {
     "slide_type": "slide"
    }
   },
   "source": [
    "## Git Workflow\n",
    "- Here is a (my) typical git workflow:\n",
    "   + (once) setup a remote repository for a project\n",
    "   + (once per computer) clone that repository\n",
    "   + Making changes:\n",
    "      - `git pull` to sync local with remote,\n",
    "      - edit files and work on project,\n",
    "      - (when switching focus) `git add`, `git status`, `git commit`\n",
    "      - `git push`"
   ]
  },
  {
   "cell_type": "markdown",
   "id": "7beb112f",
   "metadata": {
    "slideshow": {
     "slide_type": "subslide"
    }
   },
   "source": [
    "## Git Workflow\n",
    "- Recommended workflow:\n",
    "   + Make a branch for work-in-progress changes,\n",
    "   + Merge that branch into `main` after completing a logical chunk of work.  "
   ]
  },
  {
   "cell_type": "markdown",
   "id": "fcf5f969",
   "metadata": {
    "slideshow": {
     "slide_type": "slide"
    }
   },
   "source": [
    "## Git Merge\n",
    "- A *merge* is used to combine git histories.\n",
    "- `git pull` performs a merge automatically when able.\n",
    "   + There are several types of merge.\n",
    "   + I typically use *fast-forward* merges only. \n",
    "- Manage conflicts by:\n",
    "  - editing code where conflicts occur\n",
    "  - or choose one version over another."
   ]
  },
  {
   "cell_type": "markdown",
   "id": "75f42e1e",
   "metadata": {
    "slideshow": {
     "slide_type": "subslide"
    }
   },
   "source": [
    "## Git Diff \n",
    "- `git diff` can be used to compare a file to the *index* (staging area)\n",
    "- `git diff` can also be used to compare two files on disk among other uses.\n",
    "- `git checkout` can be used to discard local changes and restore a file \n",
    "   to the version in the index. "
   ]
  },
  {
   "cell_type": "markdown",
   "id": "0ba75833",
   "metadata": {
    "slideshow": {
     "slide_type": "slide"
    }
   },
   "source": [
    "## Creating a remote\n",
    "- You can create your own remote repositories for git.\n",
    "- A *remote* must be initialized as a *bare* repository. \n",
    "- Use `git init --bare` to initialize a bare repository."
   ]
  },
  {
   "cell_type": "markdown",
   "id": "203ce6e5",
   "metadata": {
    "slideshow": {
     "slide_type": "subslide"
    }
   },
   "source": [
    "## Remote in AFS\n",
    "- Let's setup a remote repository `507_afs` in our AFS space.\n",
    "- First, we'll create the remote:\n",
    "  + login to the remote server: `ssh user@login.itd.umich.edu`\n",
    "  + create a directory for your git remotes: `mkdir git_remotes`\n",
    "  + make a project directory: `mkdir git_remotes/507_afs.git`\n",
    "  + Move to the project directory and set it up as bare:\n",
    "    - `cd git_remotes/507_afs.git`,\n",
    "    - `git init --bare`. "
   ]
  },
  {
   "cell_type": "markdown",
   "id": "c9f80680",
   "metadata": {
    "slideshow": {
     "slide_type": "subslide"
    }
   },
   "source": [
    "## Using a remote in AFS\n",
    " - To work with the directory, in your AFS space or elsewhere,\n",
    "   clone the remote, add and commit files, push and pull.\n",
    " - From AFS:\n",
    "   + Move to the parent folder where you'd like the repo to be\n",
    "      - `mkdir ~/git`,\n",
    "      - `cd ~/git`.\n",
    "   + Clone the repository:\n",
    "      - `git clone /afs/umich.edu/user/u/n/unique_name/git_remotes/507_afs.git`."
   ]
  },
  {
   "cell_type": "markdown",
   "id": "05482def",
   "metadata": {
    "slideshow": {
     "slide_type": "subslide"
    }
   },
   "source": [
    "## Add some files\n",
    "- Add some files:\n",
    "  + `cd 507_afs`\n",
    "  + `echo \"## About\" > README.md`\n",
    "  + `git add README.md`\n",
    "- Create the commit:\n",
    "  +  `git status`\n",
    "  + `git commit -m \"Initial commit.`"
   ]
  },
  {
   "cell_type": "markdown",
   "id": "a41989dc",
   "metadata": {
    "slideshow": {
     "slide_type": "subslide"
    }
   },
   "source": [
    "## Renaming primary branch\n",
    "- Rename branch\n",
    "  + `git branch -m master main`\n",
    "  + Edit HEAD in the bare remote to reflect this change. \n",
    "- Push changes\n",
    "  + `git push -u origin main`"
   ]
  },
  {
   "cell_type": "markdown",
   "id": "6d9bc746",
   "metadata": {
    "slideshow": {
     "slide_type": "subslide"
    }
   },
   "source": [
    "## Clone to the local computer\n",
    "- `git clone unique_name@login.itd.umich.edu:/afs/umich.edu/users/u/n/unique_name/git_remotes/507_afs.git`"
   ]
  },
  {
   "cell_type": "markdown",
   "id": "62234dc4",
   "metadata": {
    "slideshow": {
     "slide_type": "slide"
    }
   },
   "source": [
    "## Branches\n",
    "- There are several commonly used branching patterns used with git.\n",
    "- A branch is an isolated line of development for code in a git repo.\n",
    "- Working in branches helps to keep a clean commit history.  \n",
    "- Create a branch using `git branch <name>`.\n",
    "- View branches using `git branch`."
   ]
  },
  {
   "cell_type": "markdown",
   "id": "2e7995c4",
   "metadata": {
    "slideshow": {
     "slide_type": "subslide"
    }
   },
   "source": [
    "## Branches\n",
    "- Use `git checkout` to switch branches.\n",
    "- This means the version of the files on a specific branch become the version\n",
    "  visible in the current file tree.\n",
    "- Branches need their own upstream branches on remote repositories.\n",
    "- Commits are specific to a branch."
   ]
  },
  {
   "cell_type": "markdown",
   "id": "045c90b8",
   "metadata": {
    "slideshow": {
     "slide_type": "subslide"
    }
   },
   "source": [
    "## Branches\n",
    "- When you want to bring two branches into agreement, use `git merge`.\n",
    "- The \"receiving\" branch should be active, use `git checkout`.\n",
    "- Most common is a \"fast-forward merge\". "
   ]
  },
  {
   "cell_type": "markdown",
   "id": "e12b1c8f",
   "metadata": {
    "slideshow": {
     "slide_type": "slide"
    }
   },
   "source": [
    "## Takeaways\n",
    " - Use git for (distributed) version control.\n",
    "   + Version control is a good habit even for solo projects. \n",
    " - `git clone` to copy an existing repo.\n",
    " - `git pull` to fetch and merge changes from remote to local.\n",
    " - `git add`, `git status`, `git commit` to commit changes to the version \n",
    "    history.\n",
    " - `git push` to send your changes to the upstream remote. \n",
    " - Use branches to keep the commit history on the primary branch clean. "
   ]
  }
 ],
 "metadata": {
  "jupytext": {
   "cell_metadata_json": true,
   "notebook_metadata_filter": "rise"
  },
  "kernelspec": {
   "display_name": "Python 3 (ipykernel)",
   "language": "python",
   "name": "python3"
  },
  "rise": {
   "autolaunch": true,
   "enable_chalkboard": true,
   "header": "<a href=\"#/slide-0-0\"> <h3> Stats 507 - Git </a>",
   "progress": true,
   "scroll": true,
   "theme": "solarized",
   "transition": "convex"
  }
 },
 "nbformat": 4,
 "nbformat_minor": 5
}
