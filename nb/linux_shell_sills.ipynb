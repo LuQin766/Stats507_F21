{
 "cells": [
  {
   "cell_type": "markdown",
   "id": "9930185b",
   "metadata": {
    "slideshow": {
     "slide_type": "slide"
    }
   },
   "source": [
    "## Linux Shell Skills\n",
    "*Stats 507, Fall 2021*\n",
    "\n",
    "James Henderson, PhD  \n",
    "October 26 & 28, 2021"
   ]
  },
  {
   "cell_type": "markdown",
   "id": "bdae6def",
   "metadata": {
    "slideshow": {
     "slide_type": "slide"
    }
   },
   "source": [
    "## Overview 1/2\n",
    " - [Terminal applications and ssh](#/slide-2-0)\n",
    " - [*Nix file system](#/slide-3-0)\n",
    " - [HOME, PATH, SHELL](#/slide-4-0)\n",
    " - [Text Editors](#/slide-5-0)\n",
    " - [Pagers](#/slide-6-0)\n",
    " - [Tmux](#/slide-7-0)\n",
    " - [Process Control](#/slide-8-0)"
   ]
  },
  {
   "cell_type": "markdown",
   "id": "305cc643",
   "metadata": {
    "slideshow": {
     "slide_type": "subslide"
    }
   },
   "source": [
    "## Overview 2/2\n",
    " - [File & Data Transfer](#/slide-9-0)\n",
    " - [Pipes and Redirection](#/slide-10-0)\n",
    " - [Compression and Archiving](#/slide-11-0)\n",
    " - [Useful tools](#/slide-12-0)\n",
    " - [Shell Scripting](#/slide-13-0)\n",
    " - [Takeaways](#/slide-14-0)"
   ]
  },
  {
   "cell_type": "markdown",
   "id": "ba3613db",
   "metadata": {
    "slideshow": {
     "slide_type": "slide"
    }
   },
   "source": [
    "## SSH and command line\n",
    "  - `ssh` or [secure shell][ssh] is a cryptographic network application used \n",
    "    to connect to a remote command line application. \n",
    "  - A [command line interface][cli] is a means of interacting with a computer\n",
    "    through lines of text. \n",
    "\n",
    "  [ssh]: https://en.wikipedia.org/wiki/Secure_Shell\n",
    "  [cli]: https://en.wikipedia.org/wiki/Command-line_interface"
   ]
  },
  {
   "cell_type": "markdown",
   "id": "ac00b662",
   "metadata": {
    "slideshow": {
     "slide_type": "subslide"
    }
   },
   "source": [
    "## Terminal Applications\n",
    "  - A *terminal application* is a text-based command line interface for \n",
    "    interacting with a computer. \n",
    "  - If you use a Mac or Linux OS you have access to a terminal installed on\n",
    "    your computer as *Terminal*"
   ]
  },
  {
   "cell_type": "markdown",
   "id": "14e798c5",
   "metadata": {
    "slideshow": {
     "slide_type": "subslide"
    }
   },
   "source": [
    "## Terminal Applications\n",
    "  - If you are running a Windows OS, you will need to install a terminal \n",
    "    or a stand alone ssh client:\n",
    "    + [Putty](https://www.putty.org/) is an ssh client you can use\n",
    "       to connect to university Linux servers;\n",
    "    + [git for windows](https://gitforwindows.org/) includes a command line\n",
    "       interface that includes the bash shell."
   ]
  },
  {
   "cell_type": "markdown",
   "id": "2f6834ec",
   "metadata": {
    "slideshow": {
     "slide_type": "subslide"
    }
   },
   "source": [
    "## Virtual Machines\n",
    "  - You can also access a virtual windows machine using \n",
    "    [MiDesktop](https://midesktop.umich.edu), with both Putty and \n",
    "    git for windows available through AppsAnywhere."
   ]
  },
  {
   "cell_type": "markdown",
   "id": "066be54c",
   "metadata": {
    "slideshow": {
     "slide_type": "subslide"
    }
   },
   "source": [
    "## AFS \n",
    " = You need to have an AFS home directory to connect to university Linux \n",
    "   servers. \n",
    " - If you do not have one, you can set it up by visiting\n",
    "   http://mfile.umich.edu/ and selecting the 'AFS Self-Provisioning Tool'. \n"
   ]
  },
  {
   "cell_type": "markdown",
   "id": "f3cca5f5",
   "metadata": {
    "slideshow": {
     "slide_type": "subslide"
    }
   },
   "source": [
    "## Hosts\n",
    " - You can connect to a UM Linux server using `ssh`.\n",
    " - Replace `unique_name` with your UM unique name (the part of your \n",
    "   UM email address preceding `@umich.edu`).\n",
    " - User name can be omitted if your username for you computer is the same\n",
    "   or by aliasing the connection.  \n",
    " - Use `hostname` to see name of host you were connected to. \n",
    "\n",
    "```bash slideshow={\"slide_type\": \"code\"}\n",
    "  ssh unique_name@login.itd.umich.edu\n",
    "```"
   ]
  },
  {
   "cell_type": "markdown",
   "id": "9490bbcb",
   "metadata": {
    "slideshow": {
     "slide_type": "slide"
    }
   },
   "source": [
    "## *Nix File System\n",
    " - In Linux essentially everything is a file: \n",
    "   + program executables,\n",
    "   + system configurations,\n",
    "   + your data and source files.\n"
   ]
  },
  {
   "cell_type": "markdown",
   "id": "bf51a7e9",
   "metadata": {
    "slideshow": {
     "slide_type": "subslide"
    }
   },
   "source": [
    "## File Tree\n",
    "  - Files are organized hierarchically into directories.\n",
    "  - This hierarchy begins with the *root* directory `/`. \n",
    "  - Directories can contain files and sub-directories with locations \n",
    "    in the directory hierarchy separated by a forward slash - `/`.\n",
    "  - This collection of directories  and files is called a *file tree*.\n"
   ]
  },
  {
   "cell_type": "markdown",
   "id": "f6c1c446",
   "metadata": {
    "slideshow": {
     "slide_type": "subslide"
    }
   },
   "source": [
    "## File Tree Navigation\n",
    " - Use the following commands to navigate and interact with the file tree:\n",
    "   + `ls` (list files), `ls -a`, `ls -l`\n",
    "   + `cd` (change directories)\n",
    "   + `pwd` (print the current or *working* directory)\n",
    "   + `mkdir` (make directory), `mkdir -p`\n",
    "   + `rmdir` (remove directory)\n",
    "   + `rm` (remove a file), `rm -r`\n",
    "   + `mv` Move a file or directory\n",
    "   + `find` Find a file.\n"
   ]
  },
  {
   "cell_type": "markdown",
   "id": "ac4d1104",
   "metadata": {
    "slideshow": {
     "slide_type": "subslide"
    }
   },
   "source": [
    "## File Tree Navigation\n",
    " - In working with the file tree, it is helpful to know:\n",
    "   + `.` refers to the current directory,\n",
    "   + `..` refers to the parent directory, one step up the file tree.\n",
    "   + `cd` invoked with no arguments will return you to your home directory."
   ]
  },
  {
   "cell_type": "markdown",
   "id": "c33f2490",
   "metadata": {
    "slideshow": {
     "slide_type": "subslide"
    }
   },
   "source": [
    "## Hidden files\n",
    " - Configuration files and others used by programs are often named as \n",
    "   *hidden files* also called *dot files*. \n",
    " - The names of dot files begin with a `.`. \n",
    " - To see these files, use `ls -a`.\n"
   ]
  },
  {
   "cell_type": "markdown",
   "id": "f53e40f0",
   "metadata": {
    "slideshow": {
     "slide_type": "subslide"
    }
   },
   "source": [
    "## Filename Wildcards Tree Navigation\n",
    " + Use *filename wildcards* to refer to groups of files matching \n",
    "   specific patterns:\n",
    "    - `*` matches any sequence of characters\n",
    "    - `?` matches any single character.\n",
    " + `.*` matches all dot files.\n",
    " + `ps1.*` would match all extensions to files named \n",
    "   `ps1` (e.g. `ps1.py`, `ps1.light.py`, `ps1.ipynb`).\n",
    " + `ps?.py` would match `ps1.py` and `ps2.py` but not\n",
    "   `ps1.light.py`. \n"
   ]
  },
  {
   "cell_type": "markdown",
   "id": "04d1cd1d",
   "metadata": {
    "slideshow": {
     "slide_type": "slide"
    }
   },
   "source": [
    "## Environment Variables\n",
    " - Environment variables determine certain aspects of how the OS behaves and\n",
    "   responds to your instructions. \n",
    " - Here are a couple of important ones:\n",
    "   + `HOME`  (location of your home directory)\n",
    "   + `SHELL` (the shell you are using to interface with the machine)\n",
    "   + `PATH`  (locations to search for executable programs)"
   ]
  },
  {
   "cell_type": "markdown",
   "id": "5aa9ecf2",
   "metadata": {
    "slideshow": {
     "slide_type": "subslide"
    }
   },
   "source": [
    "## Shells\n",
    " - In the [Bash shell](https://www.gnu.org/software/bash/manual/bash.html) \n",
    "   (among others), use `$` to access the value of an environment variable. \n",
    " - The `echo` command can be used to print these values to the screen, e.g.\n",
    "   `echo $SHELL`.\n",
    " - Recognize the bash shell by its prompt `$` vs the `%` prompt used\n",
    "   by csh, zsh, and other shells."
   ]
  },
  {
   "cell_type": "markdown",
   "id": "7fb9659c",
   "metadata": {
    "slideshow": {
     "slide_type": "subslide"
    }
   },
   "source": [
    "## PATH\n",
    " - Use `which` to search your `$PATH` for an executable command. \n",
    " - Will find the matching command appearing first in the locations specified\n",
    "   in `PATH`."
   ]
  },
  {
   "cell_type": "markdown",
   "id": "0ede57e4",
   "metadata": {
    "slideshow": {
     "slide_type": "subslide"
    }
   },
   "source": [
    "## Tilde Expansion\n",
    " - A tilde `~` will often be expanded as `$HOME`.\n",
    " - Useful for specifying absolute file paths when supported, e.g.\n",
    "    `~/github/Stats_507/` vs `/Users/jbhender/github/Stats507`. \n",
    " - Not supported everywhere. "
   ]
  },
  {
   "cell_type": "markdown",
   "id": "cdd68f07",
   "metadata": {
    "slideshow": {
     "slide_type": "slide"
    }
   },
   "source": [
    "## Text Editors\n",
    " - To edit files in the shell, you will need to use a text editor.\n",
    " - Some popular choices are:\n",
    "    + [emacs](https://www.gnu.org/software/emacs/tour/)\n",
    "    + [vi / vim](https://www.vim.org/)\n",
    "    + [nano](https://www.nano-editor.org/)\n",
    " - Find a cheat-sheet and pick an editor to learn the basics of if you\n",
    "   haven't already.  "
   ]
  },
  {
   "cell_type": "markdown",
   "id": "fcf36ddf",
   "metadata": {
    "slideshow": {
     "slide_type": "subslide"
    }
   },
   "source": [
    "## Emacs 1, 2, 3\n",
    "- `emacs README.md` will open (or create) a file named `README.md`\n",
    "- Keyboard shortcuts:\n",
    "  + `cntrl+x`, `cntrl+s` to save\n",
    "  + `cntrl+x`, `cntrl+w` to write (save as)\n",
    "  + `cntrl+x`, `cntrl+c` to close.\n"
   ]
  },
  {
   "cell_type": "markdown",
   "id": "c090c111",
   "metadata": {
    "slideshow": {
     "slide_type": "subslide"
    }
   },
   "source": [
    "## Emacs 4, 5, 6\n",
    "- Keyboard shortcuts:\n",
    "  + `cntrl+g` to quit command window,\n",
    "  + `cntrl+k` \"kill\" (delete) to end of line,\n",
    "  + `cntrl+a` (`cntrl+e`) move to start (end) of line."
   ]
  },
  {
   "cell_type": "markdown",
   "id": "a6531527",
   "metadata": {
    "slideshow": {
     "slide_type": "subslide"
    }
   },
   "source": [
    "## Emacs 5, 7, 8\n",
    "- `cntrl+x` to search,\n",
    "- `esc` (meta), `shift+5` find and replace,\n",
    "- `cntrl+x`, `shift+9` define keyboard macro,\n",
    "  + `cntrl+x`, `shift+0` to end,\n",
    "  + `cntrl_x`, `e` to execute, then `e` to execute again.\n"
   ]
  },
  {
   "cell_type": "markdown",
   "id": "eef64a17",
   "metadata": {
    "slideshow": {
     "slide_type": "slide"
    }
   },
   "source": [
    "## Pagers\n",
    " - A page viewer is a program for viewing a (text) file at the command line.\n",
    " - Most common defaults are `more` and `less`.\n",
    " - I prefer `less`:\n",
    "   + `less README.md` to open, `-S` to scroll.\n",
    "   + `q` to quit,\n",
    "   + `/` to search, `n` for next match,\n",
    "   + `space bar` to page.  "
   ]
  },
  {
   "cell_type": "markdown",
   "id": "2bc0d4a8",
   "metadata": {
    "slideshow": {
     "slide_type": "slide"
    }
   },
   "source": [
    "## Tmux\n",
    " - To create a persistent connection you can leave and come back to use\n",
    "   `tmux`, a *terminal multiplexer*.\n",
    " - The program `screen` is another option.  "
   ]
  },
  {
   "cell_type": "markdown",
   "id": "75a6a89c",
   "metadata": {
    "slideshow": {
     "slide_type": "subslide"
    }
   },
   "source": [
    "## Tmux - Sessions and Windows\n",
    " - `tmux new -s 507_live` creates a new *session* named `507_live`.\n",
    " - The (default) tmux command prefix is `cntrl+b`:\n",
    "    + `cntrl+b`, `c` *creates* a new window,\n",
    "    + `cntrl+b`, `n` (`p`) moves to the next (previous) window, \n",
    "    + `cntrl+b`, `[0-9]` will move to a specific window number."
   ]
  },
  {
   "cell_type": "markdown",
   "id": "d1bf631d",
   "metadata": {
    "slideshow": {
     "slide_type": "subslide"
    }
   },
   "source": [
    "## Tmux - Detach and Attach\n",
    " - Use `cntrl+b`, `d` to *detach* (or type `tmux detach`) a session.\n",
    " - To attach to a *target* session named `507_live`, `tmux a -t 507_live`.\n",
    " - To list available sessions, `tmux ls`."
   ]
  },
  {
   "cell_type": "markdown",
   "id": "e9ab5a49",
   "metadata": {
    "slideshow": {
     "slide_type": "subslide"
    }
   },
   "source": [
    "## Tmux - Panes\n",
    " - A single window can be split into one or more *panes*. \n",
    " - `cntrl+b`, `shift+'` splits the active window horizontally.\n",
    " - `cntrl+b`, `shift+5` splits the active window vertically.\n",
    " - `cntrl+b`, `arrow` (or `o`) to move between panes. \n",
    " - `cntrl+b`, `space bar` to cycle through layouts. \n",
    " - `cntrl+b`, `z` to *zoom* (or focus) the active pane. "
   ]
  },
  {
   "cell_type": "markdown",
   "id": "f5949deb",
   "metadata": {
    "slideshow": {
     "slide_type": "slide"
    }
   },
   "source": [
    "## Process Control\n",
    "- Suspend an active process using `cntrl+z` (processing stops)\n",
    "- Run a suspended job in the background using the command `bg`.\n",
    "- Run a batch job in the background using `&`. \n",
    "- Bring a job to the foreground using `fg`. \n",
    "- Specify a job number using, e.g. `%1`. \n",
    "- Use `jobs` to see all jobs. "
   ]
  },
  {
   "cell_type": "markdown",
   "id": "79548a06",
   "metadata": {
    "slideshow": {
     "slide_type": "slide"
    }
   },
   "source": [
    "## Transferring Data\n",
    "- There are several ways to transfer data or files to or from\n",
    "  a remote host:\n",
    "  + `scp` - most common way to transfer small to medium sized files,\n",
    "  + `wget` - download data directly to the remote host from the web,\n",
    "  + `sftp` - interactive file transfer. \n",
    "  + for scripts, using `git` and a \"third-party\" server such as\n",
    "    GitHub or BitBucket (more in next lecture).  "
   ]
  },
  {
   "cell_type": "markdown",
   "id": "d0b69e3c",
   "metadata": {
    "slideshow": {
     "slide_type": "subslide"
    }
   },
   "source": [
    "## scp\n",
    "- Like `cp` for copying to and from local locations, `scp` or \n",
    "  *secure copy* is used to transfer to and/or from remote locations.\n",
    "- `scp host:/path/to/folder/file.txt ./`  will copy from `file.txt` from\n",
    "  the remote host (`host`) to the current (local) directory.\n",
    "- Conversely, `scp ./file.txt host:/path/to/folder` will copy the (local)\n",
    "  file `file.txt` to the specified folder on remote host `host`. \n"
   ]
  },
  {
   "cell_type": "markdown",
   "id": "1a264bb7",
   "metadata": {
    "slideshow": {
     "slide_type": "subslide"
    }
   },
   "source": [
    "## wget\n",
    "- Use `wget` to download files from the web directly to a remote host:\n",
    "`wget https://www.eia.gov/consumption/residential/data/2015/csv/recs2015_public_v4.csv`"
   ]
  },
  {
   "cell_type": "markdown",
   "id": "e8cbdbb6",
   "metadata": {
    "slideshow": {
     "slide_type": "subslide"
    }
   },
   "source": [
    "## sftp\n",
    "- For interactive transfer using ftp connect to a remote host using `sftp`.\n",
    "- Navigate the file tree as usual using `cd`, `pwd`, `ls`.  \n",
    "- Use `put` to copy a file from the local connection to the remote.\n",
    "- Use `get` to copy a file from the remote to local. "
   ]
  },
  {
   "cell_type": "markdown",
   "id": "7aa22771",
   "metadata": {
    "slideshow": {
     "slide_type": "slide"
    }
   },
   "source": [
    "## Streams\n",
    " - There are three standard streams or channels used to communicate data in\n",
    "   most computer programs: \n",
    "   - `stdin`  or *standard input*, \n",
    "   - `stdout` or *standard output*, and,\n",
    "   - `stderr` or *standard error*. \n",
    " - In the Linux shell, these streams are files located in the `/dev/` \n",
    "   directory, e.g. `/dev/stdin`, `/dev/stdout` and `/dev/stderr`."
   ]
  },
  {
   "cell_type": "markdown",
   "id": "07b19caf",
   "metadata": {
    "slideshow": {
     "slide_type": "subslide"
    }
   },
   "source": [
    "## file re-directions\n",
    " - Most command line tools utilize `stdout` and `stderr` to communicate to the \n",
    "   user as these streams print to the console.\n",
    " - Redirect these streams using the symbols `>` (for `stdout`) \n",
    "   and `&` (for `stderr`). \n",
    " - Similarly we can redirect the contents of a regular file to `stdin` using \n",
    "   `<`, e.g. `< file.txt`.\n"
   ]
  },
  {
   "cell_type": "markdown",
   "id": "7a6ca560",
   "metadata": {
    "slideshow": {
     "slide_type": "subslide"
    }
   },
   "source": [
    "## Stream Re-Direction Examples\n",
    " - Print \"hello!\" to `stdout` using `echo`.\n",
    " - Redirect the same text to `welcome.txt`.\n",
    " - Append to that file using re-direction with `>>`. \n",
    " - Redirect the file `welcome.txt` to `stdin` for the `tr` or *translate* tool.\n",
    "\n",
    "```bash\n",
    "echo hello!\n",
    "echo hello! > welcome.txt\n",
    "echo 'stats 507!' >> welcome.txt\n",
    "< welcome.txt tr '[a-z]' '[A-Z]'\n",
    "```"
   ]
  },
  {
   "cell_type": "markdown",
   "id": "4f8bd1cd",
   "metadata": {
    "lines_to_next_cell": 2,
    "slideshow": {
     "slide_type": "subslide"
    }
   },
   "source": [
    "## Pipes\n",
    " - Build pipelines combining multiple command line tools\n",
    "   by redirecting `stdout` from one command to `stdin` for the next using\n",
    "   a pipe `|`. \n",
    " - Short pipelines such as these are often called \"one-liners\".  \n",
    " - More examples in section 2.3 (especially 2.3.4 and 2.3.5) of \n",
    "   [Data Science at the Command Line][dscl2]\n",
    "\n",
    "```bash\n",
    "echo 'hello stats 507!' | tr '[a-z]' '[A-Z]' | tr ' ' \\n\n",
    "```   \n",
    "\n",
    "[dscl2]: https://www.datascienceatthecommandline.com/chapter-2-getting-started.html#essential-gnulinux-concepts"
   ]
  },
  {
   "cell_type": "markdown",
   "id": "f08fba6d",
   "metadata": {
    "slideshow": {
     "slide_type": "slide"
    }
   },
   "source": [
    "## Compression and Archiving\n",
    " - Large files often contain redundant data and can be stored\n",
    "   using less space on disk in a compressed format. \n",
    " - Compression can make reading from or writing to a file more efficient as\n",
    "   reading  the bits off disk is an \"I/O-bound\" task while \n",
    "   decoding/decompressing is a \"CPU-bound\" task. \n",
    " - This is particularly useful when reading from or writing to network volumes\n",
    "   and on shared systems with I/O bottlenecks.\n",
    "\n",
    "\n",
    "<!-- #region {\"slideshow\": {\"slide_type\": \"subslide\"}} -->\n",
    "## Disk utilization\n",
    " - The `du` or *disk utilization* utility can be used to see the space \n",
    "   on disk used by one or more files.\n",
    " - Use the `-h` option to print values in *human* readable units. \n",
    " - Use `-s` to get *sum* totals for a directory or files matching a *glob*."
   ]
  },
  {
   "cell_type": "markdown",
   "id": "c2694670",
   "metadata": {
    "slideshow": {
     "slide_type": "subslide"
    }
   },
   "source": [
    "## gzip\n",
    " - There are many compression formats tools.\n",
    " - One of the most popular is `gzip`. \n",
    " - The command `gzip file.txt` compresses `file.txt` into `file.gz`.\n",
    " - The original extension is stored in the compressed file."
   ]
  },
  {
   "cell_type": "markdown",
   "id": "9010024c",
   "metadata": {
    "slideshow": {
     "slide_type": "subslide"
    }
   },
   "source": [
    "## gzip\n",
    " - The file can be uncompressed using `gunzip file.gz` or `gzip -d file.gz`\n",
    " - Retain the compressed copy and unzip directly to standard output using the\n",
    "   `-c` option: `gunzip -c file.gz > file.txt`. \n",
    " - The `zcat` command is a shortcut that does the same thing."
   ]
  },
  {
   "cell_type": "markdown",
   "id": "89eb737f",
   "metadata": {
    "slideshow": {
     "slide_type": "subslide"
    }
   },
   "source": [
    "## tar\n",
    " - A *tarball* is an archive of a file tree and often compressed. \n",
    " - Useful for transferring whole directories between machines manually.  \n",
    " - It is also a way to cleanly archive files from projects you would like to \n",
    "   retain, but no longer need to use frequently. \n",
    " - Many programs have the ability to work directly with archived and/or \n",
    "   compressed data."
   ]
  },
  {
   "cell_type": "markdown",
   "id": "7d783181",
   "metadata": {
    "slideshow": {
     "slide_type": "subslide"
    }
   },
   "source": [
    "## tar\n",
    " - Two common use cases are:\n",
    "   + creating an archive `tar cvfz name.tgz ./parent_folder`,\n",
    "   + and extracting the archive `tar xvfz name.tgz`.\n",
    " - The extension `.tgz` is short for `.tar.gz` indicating that the archive has \n",
    "   been compressed using `gzip`."
   ]
  },
  {
   "cell_type": "markdown",
   "id": "be99e58b",
   "metadata": {
    "slideshow": {
     "slide_type": "slide"
    }
   },
   "source": [
    "## head & tail \n",
    " - An advantage of the command line is the ability to work with large files\n",
    "   using streams so that only a small portion of the file is read at a time. \n",
    " - The `head` and `tail` commands are useful in this respect:   \n",
    "   + `head` - read the first *n* lines of a file\n",
    "   + `tail` - read the last *n* lines of a file \n",
    " - `tail` can be used with a `+` to read from line *n*."
   ]
  },
  {
   "cell_type": "markdown",
   "id": "2d2ef127",
   "metadata": {
    "slideshow": {
     "slide_type": "subslide"
    }
   },
   "source": [
    "## Other helpful commands\n",
    " - `wc` - count words or use `wc -l` to count lines.\n",
    " - `grep` - find lines in files that match string patterns using regular\n",
    "    expressions. \n",
    " -  `nl` - number the lines in a file."
   ]
  },
  {
   "cell_type": "markdown",
   "id": "c3fc421f",
   "metadata": {
    "slideshow": {
     "slide_type": "subslide"
    }
   },
   "source": [
    "## More helpful commands\n",
    " - `sort` - sort a file on one or more fields.\n",
    " - `cut` -  extract select columns from a delimited file.\n",
    " - `paste` - concatenate files line by line.\n",
    " - `join` - merge two files based on a common field.\n",
    " - For more, see Chapter 5 of [Data Science at the Command Line][dscl5]\n",
    " \n",
    "[dscl5]: https://www.datascienceatthecommandline.com/chapter-5-scrubbing-data.html"
   ]
  },
  {
   "cell_type": "markdown",
   "id": "c58d7c2f",
   "metadata": {
    "slideshow": {
     "slide_type": "slide"
    }
   },
   "source": [
    "## Shell scripting \n",
    " - A shell script is a program constructed from shell commands.  \n",
    " - Use to construct tools for re-use as well as to document data acquisition\n",
    "   and processing steps to make analyses easier to reproduce. \n",
    " - We will review shell demonstrations from the course repo as time permits.\n",
    " - For more on shell scripting, see [Chapter 4][dscl4] from \n",
    "   *Data Science at the Command Line*. \n",
    "\n",
    "[dscl4]: https://www.datascienceatthecommandline.com/chapter-4-creating-reusable-command-line-tools.html"
   ]
  },
  {
   "cell_type": "markdown",
   "id": "b0134b63",
   "metadata": {
    "slideshow": {
     "slide_type": "slide"
    }
   },
   "source": [
    "## Takeaways 1/2\n",
    " - Use a terminal application for a command-line interface to you\n",
    "   own computer and ssh to connect to university Linux servers.\n",
    " - In Linux everything is a file - learn to navigate the file tree. \n",
    " - Use an editor to edit, a pager to view, and shortcut keys in both. \n",
    " - Create persistent sessions using `tmux`, a *terminal multiplexer*. "
   ]
  },
  {
   "cell_type": "markdown",
   "id": "99f1962d",
   "metadata": {
    "slideshow": {
     "slide_type": "slide"
    }
   },
   "source": [
    "## Takeaways 1/2\n",
    "- Working with data streams through pipes and redirection is\n",
    "  a primary attraction of the Linux shell.\n",
    "- Use `scp`, `sftp`, or `wget` to get data to and from remote hosts. \n",
    "- Compress files on remote volumes for faster (repeated) reads and writes. \n",
    "- Shell scripts are useful both for creating tools for reuse and for\n",
    "  documenting data cleaning steps. \n",
    "- Learn shell patterns and skills a bit at a time.  "
   ]
  }
 ],
 "metadata": {
  "jupytext": {
   "cell_metadata_json": true,
   "notebook_metadata_filter": "rise"
  },
  "kernelspec": {
   "display_name": "Python 3 (ipykernel)",
   "language": "python",
   "name": "python3"
  },
  "rise": {
   "autolaunch": true,
   "enable_chalkboard": true,
   "header": "<a href=\"#/slide-0-0\"> <h3> Stats 507 - Linux Shell Skills </a>",
   "progress": true,
   "scroll": true,
   "theme": "solarized",
   "transition": "convex"
  }
 },
 "nbformat": 4,
 "nbformat_minor": 5
}
