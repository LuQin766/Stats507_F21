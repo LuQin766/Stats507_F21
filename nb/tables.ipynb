{
 "cells": [
  {
   "cell_type": "markdown",
   "id": "ea155c63",
   "metadata": {
    "slideshow": {
     "slide_type": "slide"
    }
   },
   "source": [
    "# Tables in Notebooks\n",
    "*Stats 507, Fall 2021*\n",
    "\n",
    "James Henderson, PhD  \n",
    "September 7, 2021"
   ]
  },
  {
   "cell_type": "markdown",
   "id": "a7d8c101",
   "metadata": {
    "slideshow": {
     "slide_type": "slide"
    }
   },
   "source": [
    "# Contents\n",
    " - <a href=\"#slide-2-0\"> Intro </a>\n",
    " - <a href=\"#slide-6-0\"> Pandas </a>\n",
    " - <a href=\"#slide-7-0\"> itable </a>"
   ]
  },
  {
   "cell_type": "markdown",
   "id": "31bfbefe",
   "metadata": {
    "slideshow": {
     "slide_type": "slide"
    }
   },
   "source": [
    "# Why?\n",
    "- Tables are a useful and efficient way to summarize key information.  \n",
    "- An initial table describing the data used in a notebook or research\n",
    "  article provides context for the results to follow. "
   ]
  },
  {
   "cell_type": "markdown",
   "id": "6ce87a6d",
   "metadata": {
    "slideshow": {
     "slide_type": "slide"
    }
   },
   "source": [
    "# Table 1\n",
    " - \"Table 1\" is a short-hand throughout much of the research world\n",
    "    referring to a table of descriptive statistics at the start of a\n",
    "    manuscript's result section.\n",
    " - \"Table 1\" is often organized so that columns correspond to levels \n",
    "   of a key exposure. \n",
    " - See an example [here][1] (refer to *Table 2*). \n",
    "\n",
    "[1]: \n",
    "https://journals.plos.org/plosmedicine/article?id=10.1371/journal.pmed.1003730"
   ]
  },
  {
   "cell_type": "markdown",
   "id": "c99071df",
   "metadata": {
    "slideshow": {
     "slide_type": "slide"
    }
   },
   "source": [
    "# Tables vs Figures\n",
    "- Tables are generally more efficient for summarizing a series of \n",
    "  discrete summaries. \n",
    "- Figures are better for displaying key relationships and distributions. \n",
    "- Tables and figures can be complementary to one another.  "
   ]
  },
  {
   "cell_type": "markdown",
   "id": "d45b24e5",
   "metadata": {
    "slideshow": {
     "slide_type": "slide"
    }
   },
   "source": [
    "# Modules\n",
    "  - For basic HTML or markdown tables, use pandas.\n",
    "    - HTML natively\n",
    "    - For markdown, `conda install tabulate`\n",
    "  - For interactive [DataTables][1], use the binding provided\n",
    "    by [itables][2].   \n",
    "  -  `pip install itables`\n",
    "\n",
    "  [1]: https://datatables.net/\n",
    "  [2]: https://mwouts.github.io/itables/"
   ]
  },
  {
   "cell_type": "markdown",
   "id": "b9e436da",
   "metadata": {
    "slideshow": {
     "slide_type": "slide"
    }
   },
   "source": [
    "# Pandas Methods\n",
    "- `DataFrame` objects from pandas have methods:\n",
    "  - `.to_html()`\n",
    "  - `.to_markdown()`."
   ]
  },
  {
   "cell_type": "code",
   "execution_count": null,
   "id": "144139fc",
   "metadata": {
    "slideshow": {
     "slide_type": "code"
    }
   },
   "outputs": [],
   "source": [
    "%run s ring_df.py #constructs a data frame dat\n",
    "print(dat.to_html())"
   ]
  },
  {
   "cell_type": "markdown",
   "id": "eb1c301b",
   "metadata": {
    "slideshow": {
     "slide_type": "subslide"
    }
   },
   "source": [
    "# Pandas Methods\n",
    "- `DataFrame` objects from pandas have methods:\n",
    "  - `.to_html()`\n",
    "  - `.to_markdown()`."
   ]
  },
  {
   "cell_type": "code",
   "execution_count": null,
   "id": "2b7d30c1",
   "metadata": {
    "slideshow": {
     "slide_type": "code"
    }
   },
   "outputs": [],
   "source": [
    "#%run string_df.py\n",
    "print(dat.to_markdown())"
   ]
  },
  {
   "cell_type": "markdown",
   "id": "7f145c5a",
   "metadata": {
    "slideshow": {
     "slide_type": "subslide"
    }
   },
   "source": [
    "# Displaying HTML\n",
    "- To render the HTML in the notebook, use `display()` and\n",
    "  `HTML()` from IPython."
   ]
  },
  {
   "cell_type": "code",
   "execution_count": null,
   "id": "e006254c",
   "metadata": {
    "slideshow": {
     "slide_type": "code"
    }
   },
   "outputs": [],
   "source": [
    "from IPython.core.display import display, HTML\n",
    "display(HTML('<h2> Hello <br> World!</h2>'))\n",
    "display(HTML(dat.to_html(index=False)))"
   ]
  },
  {
   "cell_type": "markdown",
   "id": "b94e4854",
   "metadata": {
    "slideshow": {
     "slide_type": "subslide"
    }
   },
   "source": [
    "# Displaying Markdown\n",
    "- To render markdown in the notebook, use `display()` and \n",
    "  `Markdown()` from IPython."
   ]
  },
  {
   "cell_type": "code",
   "execution_count": null,
   "id": "f17cc75b",
   "metadata": {
    "slideshow": {
     "slide_type": "code"
    }
   },
   "outputs": [],
   "source": [
    "from IPython.core.display import display, Markdown\n",
    "display(Markdown('## Hello <br> World!'))\n",
    "display(Markdown(dat.to_markdown(index=False))) "
   ]
  },
  {
   "cell_type": "markdown",
   "id": "edaed34a",
   "metadata": {
    "slideshow": {
     "slide_type": "slide"
    }
   },
   "source": [
    "# Interactive Data Tables\n",
    "- [DataTables][1] is a plug-in for the jQuery Javascript library\n",
    "  that facilates interactivity such as search and pagination in HTML tables. \n",
    "- Useful for large tables.  \n",
    "\n",
    "[1]: https://datatables.net/"
   ]
  },
  {
   "cell_type": "markdown",
   "id": "0ff136d5",
   "metadata": {
    "slideshow": {
     "slide_type": "subslide"
    }
   },
   "source": [
    "# itables\n",
    "  - [itables][1] provides a Jupyter binding to the DataTables library \n",
    "    for pandas DataFrames or series. \n",
    "  - Use its `show()` function to display a pandas DataFrame as a \n",
    "    datatable in your notebook. \n",
    "\n",
    "[1]: https://mwouts.github.io/itables/"
   ]
  },
  {
   "cell_type": "code",
   "execution_count": null,
   "id": "23a3e112",
   "metadata": {
    "slideshow": {
     "slide_type": "code"
    }
   },
   "outputs": [],
   "source": [
    "from itables import show\n",
    "show(dat)"
   ]
  },
  {
   "cell_type": "markdown",
   "id": "48e3967c",
   "metadata": {
    "slideshow": {
     "slide_type": "slide"
    }
   },
   "source": [
    "# How it works\n",
    " - This is out of scope for the course, but, if you're interested,\n",
    "   here's a [tutorial][1] describing how the binding works.\n",
    "\n",
    " [1]: https://mcermak.medium.com/guide-to-interactive-pandas-dataframe-representation-485acae02946"
   ]
  },
  {
   "cell_type": "markdown",
   "id": "e9ae8607",
   "metadata": {
    "slideshow": {
     "slide_type": "slide"
    }
   },
   "source": [
    "# Takeaways\n",
    " - Give your notebooks a professional polish by including \n",
    "   *nicely formatted* and thoughtfully structured tables.\n",
    " - Unless you are explicitly discussing a dataset, avoid\n",
    "   code-oriented `variable_names`in favor of well chosen English. "
   ]
  }
 ],
 "metadata": {
  "jupytext": {
   "cell_metadata_json": true,
   "notebook_metadata_filter": "rise,author,date,markdown",
   "text_representation": {
    "extension": ".md",
    "format_name": "markdown",
    "format_version": "1.3",
    "jupytext_version": "1.11.4"
   }
  },
  "kernelspec": {
   "display_name": "Python 3 (ipykernel)",
   "language": "python",
   "name": "python3"
  },
  "markdown": {
   "extensions": "footnotes"
  },
  "rise": {
   "autolaunch": true,
   "enable_chalkboard": true,
   "header": "<a href=\"#slide-0-0\"> <h3> Stats 507 - Tables in Notebooks </a>",
   "progress": true,
   "scroll": true,
   "theme": "solarized",
   "transition": "convex"
  }
 },
 "nbformat": 4,
 "nbformat_minor": 5
}
