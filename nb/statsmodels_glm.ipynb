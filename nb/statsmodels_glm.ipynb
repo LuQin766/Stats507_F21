{
 "cells": [
  {
   "cell_type": "markdown",
   "id": "22f11887",
   "metadata": {
    "slideshow": {
     "slide_type": "slide"
    }
   },
   "source": [
    "## statsmodels\n",
    "*Stats 507, Fall 2021*\n",
    "\n",
    "James Henderson, PhD  \n",
    "October 14, 2021"
   ]
  },
  {
   "cell_type": "markdown",
   "id": "5bc5389c",
   "metadata": {
    "slideshow": {
     "slide_type": "slide"
    }
   },
   "source": [
    "## Overview\n",
    "  - [Generalized Linear Models](#/slide-2-0)\n",
    "  - [Logistic regression](#/slide-3-0)\n",
    "  - [Logistic Example](#/slide-4-0)\n",
    "  - [Poisson Regression](#/slide-5-0)\n",
    "  - [Offsets & Exposures](#/slide-6-0)\n",
    "  - [Poisson Example](#/slide-7-0)\n",
    "  - [Takeaways](#/slide-8-0)\n"
   ]
  },
  {
   "cell_type": "markdown",
   "id": "d49f7e1d",
   "metadata": {
    "slideshow": {
     "slide_type": "subslide"
    }
   },
   "source": [
    "## Imports\n",
    " - Here are the import we'll use in the examples."
   ]
  },
  {
   "cell_type": "code",
   "execution_count": null,
   "id": "35710046",
   "metadata": {
    "lines_to_next_cell": 0,
    "slideshow": {
     "slide_type": "code"
    }
   },
   "outputs": [],
   "source": [
    "# imports \n",
    "import numpy as np\n",
    "import pandas as pd\n",
    "import statsmodels.api as sm\n",
    "import statsmodels.formula.api as smf\n",
    "import matplotlib.pyplot as plt\n",
    "import matplotlib.pylab as pylab\n",
    "from os.path import exists\n",
    "from scipy.stats import norm, t, chi2, logistic"
   ]
  },
  {
   "cell_type": "markdown",
   "id": "cdaa86ae",
   "metadata": {},
   "source": [
    "<!-- #endregion -->\n"
   ]
  },
  {
   "cell_type": "markdown",
   "id": "8f65b1ff",
   "metadata": {
    "slideshow": {
     "slide_type": "subslide"
    }
   },
   "source": [
    "## Figures\n",
    " - Let's use `pylab` to control the appearance of figures. "
   ]
  },
  {
   "cell_type": "code",
   "execution_count": null,
   "id": "2b9d7ca0",
   "metadata": {
    "slideshow": {
     "slide_type": "code"
    }
   },
   "outputs": [],
   "source": [
    "params = {'legend.fontsize': 'x-large',\n",
    "         'axes.labelsize': 'x-large',\n",
    "         'axes.titlesize':'x-large',\n",
    "         'xtick.labelsize':'x-large',\n",
    "         'ytick.labelsize':'x-large'}\n",
    "pylab.rcParams.update(params)"
   ]
  },
  {
   "cell_type": "markdown",
   "id": "034c3adc",
   "metadata": {
    "slideshow": {
     "slide_type": "slide"
    }
   },
   "source": [
    "## GLM\n",
    " - As the name implies, [generalized linear models][glm] _generalize_ the \n",
    "   linear model through the use of a _link_ function relating the expected or \n",
    "   mean outcome to a _linear predictor_. \n",
    "\n",
    "[glm]: https://en.wikipedia.org/wiki/Generalized_linear_model."
   ]
  },
  {
   "cell_type": "markdown",
   "id": "e265873a",
   "metadata": {
    "slideshow": {
     "slide_type": "subslide"
    }
   },
   "source": [
    "## GLM  \n",
    " - A GLM relating a dependent variable $Y$ to independent variables\n",
    "   $X$ and coefficients $\\beta$ has the form:\n",
    "\n",
    "$$\n",
    "h(E[Y| X]) = X\\beta.\n",
    "$$\n",
    "\n",
    "  - $h(\\cdot)$ is called the _link function_.\n",
    "  - The matrix product $X\\beta$ is known as the _linear predictor_.\n"
   ]
  },
  {
   "cell_type": "markdown",
   "id": "8839c9ab",
   "metadata": {
    "slideshow": {
     "slide_type": "subslide"
    }
   },
   "source": [
    "## GLM  \n",
    "  - We often make use of the inverse of $h(\\cdot)$ denoted $g(\\cdot)$.\n",
    "  - An equivalent specification is:\n",
    "\n",
    "$$\n",
    "E[Y | X] = g(X\\beta).\n",
    "$$\n"
   ]
  },
  {
   "cell_type": "markdown",
   "id": "018ca6ce",
   "metadata": {
    "slideshow": {
     "slide_type": "subslide"
    }
   },
   "source": [
    "## OLS as GLM\n",
    "- Ordinary linear regression is a GLM with the _identity link_ \n",
    "  $h(x) = g(x) = x$,\n",
    "\n",
    "$$\n",
    "E[Y | X] = X\\beta.\n",
    "$$\n",
    "\n",
    "- $Y | X \\sim N(X\\beta, \\sigma^2)$\n"
   ]
  },
  {
   "cell_type": "markdown",
   "id": "31ef8235",
   "metadata": {
    "slideshow": {
     "slide_type": "subslide"
    }
   },
   "source": [
    "## Common GLMs\n",
    "- Binary response: logistic or probit regression,\n",
    "- Count-valued response: (quasi-)Poisson or Negative Binomial regression,\n",
    "- Real-valued, positive response: Gamma regression."
   ]
  },
  {
   "cell_type": "markdown",
   "id": "3b2e08b1",
   "metadata": {
    "slideshow": {
     "slide_type": "slide"
    }
   },
   "source": [
    "## Logistic Regression\n",
    "  - Logistic regression for a binary response treats $Y | X$ \n",
    "    as Binomial($g(X\\beta)$).\n",
    "  - Logistic regression uses the _logit link_\n",
    "    $h(x) = \\log(x/(1-x))$\n",
    "  - This gives the model: \n",
    "\n",
    "  $$\n",
    "  \\log \\frac{ P(Y = 1 | X) }{P(Y = 0|X)} = X\\beta, \\quad \\textrm{or} \\quad\n",
    "  E[Y | X] = \\frac{e^{X\\beta}}{1 + e^{X\\beta}},\n",
    "  $$"
   ]
  },
  {
   "cell_type": "markdown",
   "id": "e2d029f4",
   "metadata": {
    "slideshow": {
     "slide_type": "slide"
    }
   },
   "source": [
    "## Logistic Regression Example\n",
    "  > Use the 2015 RECS data to examine \n",
    "  > features associated with homes that have finished basements.\n",
    "\n",
    "  - We'll look at only homes *with* basements. \n",
    "  - We'll pretend the data are iid and ignore the weights for teaching\n",
    "    purposes. "
   ]
  },
  {
   "cell_type": "markdown",
   "id": "9c3644a6",
   "metadata": {
    "slideshow": {
     "slide_type": "subslide"
    }
   },
   "source": [
    "## Download Data\n",
    "  - Read the data locally or from the remote URL. "
   ]
  },
  {
   "cell_type": "code",
   "execution_count": null,
   "id": "6f85454d",
   "metadata": {
    "slideshow": {
     "slide_type": "code"
    }
   },
   "outputs": [],
   "source": [
    "# raw data files\n",
    "stem = 'https://www.eia.gov/consumption/residential/data/'\n",
    "recs15_file = stem + '2015/csv/recs2015_public_v4.csv'\n",
    "recs15_local = 'recs2015_public_v4.csv'\n",
    "\n",
    "if exists(recs15_local):\n",
    "    recs15 = pd.read_csv(recs15_local)\n",
    "else:\n",
    "    recs15 = pd.read_csv(recs15_file)\n",
    "    recs15.to_csv(recs15_local)"
   ]
  },
  {
   "cell_type": "markdown",
   "id": "d2bac0ff",
   "metadata": {
    "slideshow": {
     "slide_type": "subslide"
    }
   },
   "source": [
    "## Clean the Data\n",
    "  - Limit to what we need, label categorical variables"
   ]
  },
  {
   "cell_type": "code",
   "execution_count": null,
   "id": "4dca5f80",
   "metadata": {
    "slideshow": {
     "slide_type": "code"
    }
   },
   "outputs": [],
   "source": [
    "# columns \n",
    "cols = {\n",
    "    'DOEID': 'id',\n",
    "    'REGIONC': 'region',\n",
    "    'TYPEHUQ': 'home_type',\n",
    "    'UATYP10': 'urban',\n",
    "    'BASEFIN': 'finished_basement'\n",
    "}\n",
    "dat0 = recs15[cols.keys()].copy()\n",
    "dat0.rename(columns=cols, inplace=True)\n",
    "\n",
    "# category labels\n",
    "cat_vars = {\n",
    "    'region': {1:'Northeast', 2: 'Midwest', 3: 'South', 4: 'West'},\n",
    "    'home_type': {\n",
    "        1: 'Mobile Home',\n",
    "        2: 'Single-Family Detached',\n",
    "        3: 'Single-Family Attached',\n",
    "        4: 'Apartment in Building with 2 - 4 Units',\n",
    "        5: 'Apartment in Building with 5+ Units'\n",
    "    },\n",
    "    'urban': {'U': 'urban', 'C': 'urban cluster', 'R': 'rural'}\n",
    "}\n",
    "\n",
    "for c in cat_vars.keys():\n",
    "    dat0[c] = dat0[c].replace(cat_vars[c])\n",
    "    dat0[c] = pd.Categorical(dat0[c])\n",
    "\n",
    "# response variable\n",
    "dep_vars =  {'finished_basement': {1: 1, 0: 0, -2: np.nan}}\n",
    "for c in dep_vars.keys():\n",
    "    dat0[c] = dat0[c].replace(dep_vars[c])\n",
    "\n",
    "dat0.head()"
   ]
  },
  {
   "cell_type": "markdown",
   "id": "96eb4569",
   "metadata": {
    "slideshow": {
     "slide_type": "subslide"
    }
   },
   "source": [
    "## Examine cell sizes\n",
    "  - Categorical grouping includes unseen levels.\n",
    "  - Only single-family homes have non-missing basement variable. "
   ]
  },
  {
   "cell_type": "code",
   "execution_count": null,
   "id": "5a106881",
   "metadata": {
    "slideshow": {
     "slide_type": "code"
    }
   },
   "outputs": [],
   "source": [
    "(dat0\n",
    " #.dropna()\n",
    " .groupby(\n",
    "   ['region', 'home_type', 'urban', 'finished_basement'],\n",
    "   #['region', 'home_type', 'urban'],\n",
    "   as_index=False\n",
    "  )\n",
    " .size()\n",
    " #.query('size > 0')\n",
    ")"
   ]
  },
  {
   "cell_type": "markdown",
   "id": "9430e04c",
   "metadata": {
    "slideshow": {
     "slide_type": "subslide"
    }
   },
   "source": [
    "## Model 0\n",
    "  - Let's start by comparing home types. \n",
    "  - Need to drop unused levels or design X (`exog`) will be less than \n",
    "    full-rank. "
   ]
  },
  {
   "cell_type": "code",
   "execution_count": null,
   "id": "47e4fe60",
   "metadata": {
    "slideshow": {
     "slide_type": "code"
    }
   },
   "outputs": [],
   "source": [
    "# cases for this analysis\n",
    "dat0 = dat0.dropna()\n",
    "dat0['home_type'] = dat0['home_type'].cat.remove_unused_categories()\n",
    "\n",
    "# initial model\n",
    "mod0 = smf.logit('finished_basement ~ home_type', data=dat0)\n",
    "#mod0.exog\n",
    "res0 = mod0.fit(disp=True)\n",
    "res0.summary()"
   ]
  },
  {
   "cell_type": "markdown",
   "id": "3d3d0f41",
   "metadata": {
    "slideshow": {
     "slide_type": "subslide"
    }
   },
   "source": [
    "## Odds Ratio\n",
    "  - In logistic regression, exponential transforms of the coefficients \n",
    "    give *odds ratios* (OR). \n",
    "  - Here is the OR comparing single-family attached and detached homes. "
   ]
  },
  {
   "cell_type": "code",
   "execution_count": null,
   "id": "c976676a",
   "metadata": {
    "slideshow": {
     "slide_type": "code"
    }
   },
   "outputs": [],
   "source": [
    "odds_ratio = np.exp(-1 * res0.params[1])\n",
    "ci = np.exp(-1 * res0.conf_int().iloc[1, ]).values\n",
    "'{0:4.2f} ({1:4.2f}, {2:4.2f})'.format(odds_ratio, ci[1], ci[0])"
   ]
  },
  {
   "cell_type": "markdown",
   "id": "b88de1bf",
   "metadata": {
    "slideshow": {
     "slide_type": "subslide"
    }
   },
   "source": [
    "## Model 1\n",
    "  - Adding region to the model. "
   ]
  },
  {
   "cell_type": "code",
   "execution_count": null,
   "id": "71919571",
   "metadata": {
    "slideshow": {
     "slide_type": "code"
    }
   },
   "outputs": [],
   "source": [
    "mod1 = smf.logit('finished_basement ~ region + home_type', data=dat0)\n",
    "res1 = mod1.fit()\n",
    "res1.summary()"
   ]
  },
  {
   "cell_type": "markdown",
   "id": "de60e061",
   "metadata": {
    "slideshow": {
     "slide_type": "subslide"
    }
   },
   "source": [
    "## Model 1\n",
    "  - Adding an interaction between region and home type to the model. \n",
    "  - How many additional parameters will this have? "
   ]
  },
  {
   "cell_type": "code",
   "execution_count": null,
   "id": "68c74c29",
   "metadata": {
    "slideshow": {
     "slide_type": "code"
    }
   },
   "outputs": [],
   "source": [
    "mod2 = smf.logit('finished_basement ~ region*home_type', data=dat0)\n",
    "res2 = mod2.fit()\n",
    "res2.summary()"
   ]
  },
  {
   "cell_type": "markdown",
   "id": "cb673f8e",
   "metadata": {
    "slideshow": {
     "slide_type": "subslide"
    }
   },
   "source": [
    "## Model Comparison\n",
    "  - First, we compare the three models using AIC.\n",
    "  - Then, we carry our a likelihood ratio test comparing the models with \n",
    "    and without the interaction. "
   ]
  },
  {
   "cell_type": "code",
   "execution_count": null,
   "id": "bb23b796",
   "metadata": {
    "slideshow": {
     "slide_type": "code"
    }
   },
   "outputs": [],
   "source": [
    "print([np.round(r.aic, 1) for r in (res0, res1, res2)])\n",
    "\n",
    "# LRT\n",
    "delta = 2 * (mod2.loglike(res2.params) - mod1.loglike(res1.params))\n",
    "df = mod2.df_model - mod1.df_model\n",
    "p = 1 - chi2.cdf(delta, df=df)\n",
    "'$Chi^2$ = {0:4.2f}, df = {1:1g}, p = {2:4.2f}'.format(delta, df, p)"
   ]
  },
  {
   "cell_type": "markdown",
   "id": "89434512",
   "metadata": {
    "slideshow": {
     "slide_type": "subslide"
    }
   },
   "source": [
    "## Predictions\n",
    "  - Let's compute predictions for each unique region and home type.\n",
    "  - Then we'll compute standard errors.  "
   ]
  },
  {
   "cell_type": "code",
   "execution_count": null,
   "id": "029a8d9a",
   "metadata": {
    "slideshow": {
     "slide_type": "code"
    }
   },
   "outputs": [],
   "source": [
    "# unique values to predict\n",
    "region_home = (dat0\n",
    " #.dropna()\n",
    " .groupby(\n",
    "   ['region', 'home_type'],\n",
    "   as_index=False\n",
    "  )\n",
    " .size()\n",
    ")\n",
    "modx = smf.ols('size ~ region + home_type', data=region_home)\n",
    "x = modx.exog\n",
    "\n",
    "# predictions\n",
    "region_home['est'] = mod1.predict(params=res1.params, exog=modx.exog)\n",
    "\n",
    "# confidence bounds\n",
    "b = res1.params.values\n",
    "est = np.dot(x, b)\n",
    "v = res1.cov_params()\n",
    "se = np.sqrt(np.diag(np.dot(np.dot(x, v), x.T)))\n",
    "z = norm.ppf(0.975)\n",
    "region_home['lwr'] = logistic.cdf(est - z * se)\n",
    "region_home['upr'] = logistic.cdf(est + z * se)"
   ]
  },
  {
   "cell_type": "markdown",
   "id": "fbbefca7",
   "metadata": {
    "slideshow": {
     "slide_type": "subslide"
    }
   },
   "source": [
    "## Visual\n",
    "  - Now we can visualize the estimates. \n",
    "  - Recall that asymmetric error bars can be drawn using a tuple passed to\n",
    "    `xerr`. "
   ]
  },
  {
   "cell_type": "code",
   "execution_count": null,
   "id": "d670b743",
   "metadata": {
    "slideshow": {
     "slide_type": "code"
    }
   },
   "outputs": [],
   "source": [
    "fig0, ax0 = plt.subplots(nrows=1)\n",
    "colors = ('darkblue', 'magenta')\n",
    "for i in range(2):\n",
    "    type = cat_vars['home_type'][(2, 3)[i]]\n",
    "    df = region_home.query('home_type == @type')\n",
    "#    ax0.scatter(x=df['est'], y=df['region'], color=colors[i], label=type)\n",
    "    err = df['est'] - df['lwr'], df['upr'] - df['est']\n",
    "    ax0.errorbar(\n",
    "        x=df['est'],\n",
    "        y=df['region'],\n",
    "        xerr=err,\n",
    "        color=colors[i],\n",
    "        capsize=6,\n",
    "        fmt=\"s\",\n",
    "        label=type,\n",
    "        alpha=0.5\n",
    "    )\n",
    "ax0.legend(loc='upper left')\n",
    "ax0.set_xlim((0, 1))"
   ]
  },
  {
   "cell_type": "markdown",
   "id": "9fa52437",
   "metadata": {
    "slideshow": {
     "slide_type": "slide"
    }
   },
   "source": [
    "## Poisson Regression\n",
    "  - Poisson regression with a _log link_ $h(x) = \\log(x)$ is often used\n",
    "    for a count-valued response \n",
    "  \n",
    "  $$\n",
    "  \\log E[Y | X] = X\\beta, \\qquad \\textrm{or} \\qquad E[Y | X] = e^{X\\beta}.\n",
    "  $$\n"
   ]
  },
  {
   "cell_type": "markdown",
   "id": "bb6d8502",
   "metadata": {
    "slideshow": {
     "slide_type": "subslide"
    }
   },
   "source": [
    "## Mean Variance Relationship\n",
    "  - As with logistic regression, the variance in Poisson regression is \n",
    "    determined by the mean.\n",
    "     + Quasi-Poisson introduces a dispersion parameter,\n",
    "     + Negative-binomial regression has a dispersion parameter controlling\n",
    "       how the variance changed with the mean. "
   ]
  },
  {
   "cell_type": "markdown",
   "id": "f37cf132",
   "metadata": {
    "slideshow": {
     "slide_type": "slide"
    }
   },
   "source": [
    "## Offsets and Exposures\n",
    " - An *offset* is a term in a regression model (linear predictor) with\n",
    "   parameter fixed to 1.\n",
    " - The term *exposure* is often used for an offset that has been log-scaled.\n",
    " - Common to use an *exposure* to model count-valued responses as rates. \n",
    " \n",
    " $$\n",
    "  \\log \\frac{E[Y | X]}{N} = X\\beta \\iff \\log E[Y | X] = X\\beta + \\log N.\n",
    " $$\n"
   ]
  },
  {
   "cell_type": "markdown",
   "id": "7343bc5f",
   "metadata": {
    "slideshow": {
     "slide_type": "slide"
    }
   },
   "source": [
    "## Poisson Regression Example\n",
    "  - Let's identify a count-valued variable by searching for variables \n",
    "    that start with 'N'.\n",
    "  - Find an appropriate offset or exposure such as the number of rooms. "
   ]
  },
  {
   "cell_type": "code",
   "execution_count": null,
   "id": "357d54fc",
   "metadata": {
    "slideshow": {
     "slide_type": "code"
    }
   },
   "outputs": [],
   "source": [
    "recs15.columns[[c[0] == 'N' for c in recs15.columns]] #NUMCFAN\n",
    "recs15.columns[[c[0] == 'T' for c in recs15.columns]]  #TOTROOMS\n",
    "recs15[['NUMCFAN', 'TOTROOMS']].min()"
   ]
  },
  {
   "cell_type": "markdown",
   "id": "04901394",
   "metadata": {
    "slideshow": {
     "slide_type": "subslide"
    }
   },
   "source": [
    "## Poisson Regression Example\n",
    "> Is the popularity of ceiling fans similar across regions of the US?\n",
    "> To answer, we estimate the rate of ceiling fans per room in residences of\n",
    "> all types for each Census region. \n"
   ]
  },
  {
   "cell_type": "markdown",
   "id": "59ddb696",
   "metadata": {
    "slideshow": {
     "slide_type": "subslide"
    }
   },
   "source": [
    "## Data Prep\n",
    "- Select needed columns, give them memorable names. and create\n",
    "  categorical types where needed. "
   ]
  },
  {
   "cell_type": "code",
   "execution_count": null,
   "id": "01b9da42",
   "metadata": {
    "slideshow": {
     "slide_type": "code"
    }
   },
   "outputs": [],
   "source": [
    "fan_vars = {'NUMCFAN': 'n_ceil_fans', 'TOTROOMS': 'n_rooms'}\n",
    "cols2 = cols.copy()\n",
    "cols2.update(fan_vars)\n",
    "_ = cols2.pop('BASEFIN')\n",
    "\n",
    "dat1 = recs15[cols2.keys()].copy()\n",
    "dat1.rename(columns=cols2, inplace=True)\n",
    "\n",
    "for c in cat_vars.keys():\n",
    "    dat1[c] = dat1[c].replace(cat_vars[c])\n",
    "    dat1[c] = pd.Categorical(dat1[c])"
   ]
  },
  {
   "cell_type": "markdown",
   "id": "d016749e",
   "metadata": {
    "slideshow": {
     "slide_type": "subslide"
    }
   },
   "source": [
    "## Model\n",
    "- The log number of rooms is used as an offset.\n",
    "- Using number of rooms as an exposure is equivalent. "
   ]
  },
  {
   "cell_type": "code",
   "execution_count": null,
   "id": "100144ef",
   "metadata": {
    "slideshow": {
     "slide_type": "code"
    }
   },
   "outputs": [],
   "source": [
    "fan_mod0 = smf.poisson(\n",
    "  'n_ceil_fans ~ region',\n",
    "  exposure=dat1['n_rooms'],\n",
    "  data=dat1\n",
    ")\n",
    "fan_res0 = fan_mod0.fit()\n",
    "fan_res0.summary()"
   ]
  },
  {
   "cell_type": "markdown",
   "id": "d07ff2dd",
   "metadata": {
    "slideshow": {
     "slide_type": "subslide"
    }
   },
   "source": [
    "## Predicted Rates\n",
    "- We can use contrasts to estimate predicted rates of ceiling fans per\n",
    "  room."
   ]
  },
  {
   "cell_type": "code",
   "execution_count": null,
   "id": "79899f61",
   "metadata": {
    "slideshow": {
     "slide_type": "code"
    }
   },
   "outputs": [],
   "source": [
    "# design matrix for predictions\n",
    "x_new = np.array([[1, 0, 0, 0], [1, 1, 0, 0], [1, 0, 1, 0], [1, 0, 0, 1]])\n",
    "\n",
    "# predicted rates\n",
    "y_hat = fan_mod0.predict(params=fan_res0.params, exog=x_new, linear=False)\n",
    "#?fan_mod0.predict\n",
    "\n",
    "# key values\n",
    "b = fan_res0.params.values\n",
    "v = fan_res0.cov_params()\n",
    "lp = np.dot(x_new, b)\n",
    "y_hat = np.exp(lp)\n",
    "\n",
    "# confidence bounds / margins of error \n",
    "se = np.sqrt(np.diag(np.dot(np.dot(x_new, v), x_new.T)))\n",
    "z = norm.ppf(.975)\n",
    "lwr, upr = np.exp(lp - z * se), np.exp(lp + z * se)\n",
    "fans_per_room = pd.DataFrame({'est': y_hat, 'moe': z * se})\n",
    "fans_per_room['region'] = ('MW', 'NE', 'S', 'W')"
   ]
  },
  {
   "cell_type": "markdown",
   "id": "cfa34813",
   "metadata": {
    "slideshow": {
     "slide_type": "subslide"
    }
   },
   "source": [
    "## Visualize Rates\n",
    "- And then visualized predicted rates of ceiling fans per room."
   ]
  },
  {
   "cell_type": "code",
   "execution_count": null,
   "id": "f3dd382c",
   "metadata": {
    "lines_to_next_cell": 2,
    "slideshow": {
     "slide_type": "code"
    }
   },
   "outputs": [],
   "source": [
    "ax = (\n",
    "    fans_per_room\n",
    "    .sort_values('est')\n",
    "    .plot\n",
    "    .scatter(x='est', y='region', xerr='moe')\n",
    ")\n",
    "_ = ax.set_xlabel('Average Ceiling Fans per Room')"
   ]
  },
  {
   "cell_type": "markdown",
   "id": "f07e634c",
   "metadata": {
    "slideshow": {
     "slide_type": "slide"
    }
   },
   "source": [
    "## Takeaways\n",
    "- Generalized linear models greatly the types of response variables suitable\n",
    "  for regression. \n",
    "- The conditional distribution $Y | X$ can be a different member of the \n",
    "  exponential family than Gaussian.\n",
    "- The *conditional mean* $E[Y|X]$ and *linear predictor* $X\\beta$ are related\n",
    "  through a *link* function and its inverse. \n",
    "- The formula API imported as `smf` gives us top-level functions for key \n",
    "  regression extensions, including common GLMs. "
   ]
  }
 ],
 "metadata": {
  "jupytext": {
   "cell_metadata_json": true,
   "notebook_metadata_filter": "rise"
  },
  "kernelspec": {
   "display_name": "Python 3 (ipykernel)",
   "language": "python",
   "name": "python3"
  },
  "rise": {
   "autolaunch": false,
   "enable_chalkboard": true,
   "header": "<a href=\"#/slide-0-0\"> <h3> Statsmodels (GLM)</a>",
   "progress": true,
   "scroll": true,
   "theme": "solarized",
   "transition": "convex"
  }
 },
 "nbformat": 4,
 "nbformat_minor": 5
}
