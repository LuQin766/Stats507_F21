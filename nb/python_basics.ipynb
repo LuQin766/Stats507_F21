{
 "cells": [
  {
   "cell_type": "markdown",
   "id": "15b63bea",
   "metadata": {
    "slideshow": {
     "slide_type": "slide"
    }
   },
   "source": [
    "# Python Basics\n",
    "*Stats 507, Fall 2021*\n",
    "\n",
    "James Henderson, PhD  \n",
    "September 2, 2021"
   ]
  },
  {
   "cell_type": "markdown",
   "id": "0393afbb",
   "metadata": {
    "slideshow": {
     "slide_type": "slide"
    }
   },
   "source": [
    "# Overview\n",
    "  - <a href=\"#/slide-2-0\"> Semantics </a>\n",
    "  - <a href=\"#/slide-5-0\"> (Strong) scalar types </a>\n",
    "  - <a href=\"#/slide-12-0\"> Indentation</a>\n",
    "  - <a href=\"#/slide-13-0\"> Functions </a>\n",
    "  - <a href=\"#/slide-14-0\"> Object Oriented </a>\n",
    "  - <a href=\"#/slide-15-0\"> Takeaways </a>"
   ]
  },
  {
   "cell_type": "markdown",
   "id": "bd18db60",
   "metadata": {
    "slideshow": {
     "slide_type": "slide"
    }
   },
   "source": [
    "# Interpreted\n",
    "  - Python is an interpreted language.\n",
    "  - This aids in interactive exploration.\n",
    "  - But also means the order in which you run code (cells) matters. "
   ]
  },
  {
   "cell_type": "markdown",
   "id": "186d7841",
   "metadata": {
    "slideshow": {
     "slide_type": "slide"
    }
   },
   "source": [
    "# Assignment\n",
    " - Assign named variables to values (objects) using `=`. \n",
    " - We also say the variable name is *bound* to its value."
   ]
  },
  {
   "cell_type": "code",
   "execution_count": null,
   "id": "df510f16",
   "metadata": {
    "slideshow": {
     "slide_type": "code"
    }
   },
   "outputs": [],
   "source": [
    "x = 42\n",
    "instructor = 'Dr. Henderson'\n",
    "pi = 3.14\n",
    "yeti = False"
   ]
  },
  {
   "cell_type": "markdown",
   "id": "84b03ada",
   "metadata": {
    "slideshow": {
     "slide_type": "subslide"
    }
   },
   "source": [
    "# Assignment\n",
    " - Assignment uses *dynamic referencing*. \n",
    " - The type/class is determined from the value, not declared.\n",
    " - Type/class information belongs to the data, not the name\n",
    "   bound to that data. "
   ]
  },
  {
   "cell_type": "markdown",
   "id": "5bab17ba",
   "metadata": {
    "slideshow": {
     "slide_type": "slide"
    }
   },
   "source": [
    "# Aliasing\n",
    " - When we assign one variable to another, we do not \n",
    "   (usually) copy the associated data.\n",
    " - Instead we simply bind a new name to the same instance or\n",
    "   location in memory. \n",
    " - The two variables are said to be *aliased*. \n",
    " - Primarily important for *mutable* classes. "
   ]
  },
  {
   "cell_type": "markdown",
   "id": "c154128f",
   "metadata": {
    "slideshow": {
     "slide_type": "subslide"
    }
   },
   "source": [
    "# Aliasing\n",
    " - Here is an example using the *mutable* `list` class. "
   ]
  },
  {
   "cell_type": "code",
   "execution_count": null,
   "id": "501e9fde",
   "metadata": {
    "slideshow": {
     "slide_type": "code"
    }
   },
   "outputs": [],
   "source": [
    "x = [42]; y = x; x.append('Jackie Robinson')\n",
    "print(y)\n",
    "y.append('Mariano Rivera')\n",
    "print(x)"
   ]
  },
  {
   "cell_type": "markdown",
   "id": "a45af65b",
   "metadata": {
    "slideshow": {
     "slide_type": "subslide"
    }
   },
   "source": [
    "# Aliasing\n",
    " - Test if two variables are aliased using `is`. \n",
    " - Use a *mutable* object's `.copy()` method to copy its \n",
    "   values to a new location. "
   ]
  },
  {
   "cell_type": "code",
   "execution_count": null,
   "id": "ca2f039d",
   "metadata": {
    "slideshow": {
     "slide_type": "code"
    }
   },
   "outputs": [],
   "source": [
    "print(x is y)\n",
    "x = [42]\n",
    "y = x.copy()\n",
    "print(x is y)\n",
    "x.append('Jackie Robinson')\n",
    "print(y)"
   ]
  },
  {
   "cell_type": "markdown",
   "id": "735b0b34",
   "metadata": {
    "slideshow": {
     "slide_type": "slide"
    }
   },
   "source": [
    "# Scalar Types\n",
    " - Python has several \"scalar\" types in its built-in library: \n",
    "   `int`, `float`, `str`, `bool`, `None`, `bytes`. \n",
    " - Other types are defined in external libraries such as Numpy. \n",
    " - Cast between (some) types using functions of the same name.\n",
    " - Scalars are *immutable*. "
   ]
  },
  {
   "cell_type": "code",
   "execution_count": null,
   "id": "9ab5da67",
   "metadata": {
    "slideshow": {
     "slide_type": "code"
    }
   },
   "outputs": [],
   "source": [
    "x = 5e-1\n",
    "print(float(x))\n",
    "print(str(x))\n",
    "print(bool(x))\n",
    "print(bool(int(x)))"
   ]
  },
  {
   "cell_type": "markdown",
   "id": "ed86eab5",
   "metadata": {
    "slideshow": {
     "slide_type": "slide"
    }
   },
   "source": [
    "# Scalar Types\n",
    " - Check if a variable is of a particular type using `isinstance()`. "
   ]
  },
  {
   "cell_type": "code",
   "execution_count": null,
   "id": "24bd05ed",
   "metadata": {
    "slideshow": {
     "slide_type": "code"
    }
   },
   "outputs": [],
   "source": [
    "x = 5e100\n",
    "print(isinstance(x, float))\n",
    "print(isinstance(x, int))"
   ]
  },
  {
   "cell_type": "markdown",
   "id": "1a4b3272",
   "metadata": {
    "slideshow": {
     "slide_type": "slide"
    }
   },
   "source": [
    "# Numeric Types\n",
    " - Python's integer type `int` can hold arbitrarily large integers.\n",
    " - The `float` type is a double-precision (64-bit) floating point number.\n",
    " - Do math with (arithmetic) binary operators: \n",
    "   `+`, `-`, `*`, `/`, `//`, `%`, `**`. \n",
    " - Floating point arithmetic is approximate.  "
   ]
  },
  {
   "cell_type": "code",
   "execution_count": null,
   "id": "0e4ff148",
   "metadata": {
    "lines_to_next_cell": 0,
    "slideshow": {
     "slide_type": "code"
    }
   },
   "outputs": [],
   "source": [
    "print(13 / 2)  # thanks Python 3\n",
    "print(13 // 2) # integer divsion\n",
    "print(13 % 2)  # mod\n",
    "x = 2 ** 0.5\n",
    "print(x ** 2 - 2)"
   ]
  },
  {
   "cell_type": "markdown",
   "id": "8bc8aa70",
   "metadata": {
    "slideshow": {
     "slide_type": "slide"
    }
   },
   "source": [
    "# Boolean types\n",
    "  - The `bool` type holds logical values.\n",
    "  - In Python, these are `True` and `False`. \n",
    "  - Comparison operators return type `bool`.\n",
    "  - Boolean operators act on and return type `bool`."
   ]
  },
  {
   "cell_type": "code",
   "execution_count": null,
   "id": "d358ad53",
   "metadata": {
    "slideshow": {
     "slide_type": "code"
    }
   },
   "outputs": [],
   "source": [
    "eps1 = 1e-8\n",
    "eps2 = 1e-16\n",
    "z = (2 ** 0.5) ** 2 - 2\n",
    "b1 = z < eps1\n",
    "b2 = z > eps2\n",
    "b1 and b2"
   ]
  },
  {
   "cell_type": "markdown",
   "id": "52f94309",
   "metadata": {
    "slideshow": {
     "slide_type": "slide"
    }
   },
   "source": [
    "# Ternary expressions\n",
    "  - Python supports *ternary* (three-part) expressions in boolean operations.\n",
    "  - Will reappear elswehere, e.g. conditional execution. "
   ]
  },
  {
   "cell_type": "code",
   "execution_count": null,
   "id": "1353a7ab",
   "metadata": {
    "slideshow": {
     "slide_type": "code"
    }
   },
   "outputs": [],
   "source": [
    "print((eps1 > z) and (z > eps2))\n",
    "eps2 < z < eps1"
   ]
  },
  {
   "cell_type": "markdown",
   "id": "7a265bcb",
   "metadata": {
    "slideshow": {
     "slide_type": "slide"
    }
   },
   "source": [
    "# String types\n",
    "- Python's built in string type is flexible and has \n",
    "  a number of associated methods.\n",
    "- One especially useful method is `.format()`."
   ]
  },
  {
   "cell_type": "code",
   "execution_count": null,
   "id": "b21b7f71",
   "metadata": {
    "slideshow": {
     "slide_type": "code"
    }
   },
   "outputs": [],
   "source": [
    "x = 42; n = 100\n",
    "phat = x / n\n",
    "se = (phat * (1 - phat) / n) ** 0.5\n",
    "lwr, upr = phat - 1.96 * se, phat + 1.96 * se\n",
    "ci_str = \"{0:.1f}% (95% CI: {1:.0f}-{2:.0f}%)\"\n",
    "pretty = ci_str.format(100 * phat, 100 * lwr, 100 * upr)\n",
    "pretty"
   ]
  },
  {
   "cell_type": "markdown",
   "id": "4714077e",
   "metadata": {
    "slideshow": {
     "slide_type": "subslide"
    }
   },
   "source": [
    "# Format Example\n",
    " - Can also use the prefix `f` for a \"glue\" like syntax.  "
   ]
  },
  {
   "cell_type": "code",
   "execution_count": null,
   "id": "19de853c",
   "metadata": {
    "slideshow": {
     "slide_type": "code"
    }
   },
   "outputs": [],
   "source": [
    "from IPython.display import Markdown\n",
    "Markdown(f'''\n",
    " > Life is {pretty} towels.\n",
    " >\n",
    " > --Unknown. \n",
    " ''')"
   ]
  },
  {
   "cell_type": "markdown",
   "id": "d0443d85",
   "metadata": {
    "slideshow": {
     "slide_type": "slide"
    }
   },
   "source": [
    "# Strong types\n",
    "- Python is *strongly-typed* ...\n",
    "- "
   ]
  },
  {
   "cell_type": "code",
   "execution_count": null,
   "id": "4ef3d7b1",
   "metadata": {
    "slideshow": {
     "slide_type": "code"
    }
   },
   "outputs": [],
   "source": [
    "try:\n",
    "    5 + 'phi' \n",
    "except: \n",
    "    print('Error')"
   ]
  },
  {
   "cell_type": "markdown",
   "id": "edca4c1b",
   "metadata": {
    "slideshow": {
     "slide_type": "subslide"
    }
   },
   "source": [
    "# Strong types\n",
    "- Python is *strongly-typed* ...\n",
    "- ... though `float` and `int` types play nicely."
   ]
  },
  {
   "cell_type": "code",
   "execution_count": null,
   "id": "2f39800c",
   "metadata": {
    "slideshow": {
     "slide_type": "code"
    }
   },
   "outputs": [],
   "source": [
    "n = 5; phi = (1 + 5 ** 5e-1) / 2\n",
    "print(isinstance(n, int))\n",
    "print(isinstance(phi, float))\n",
    "print(n * phi)"
   ]
  },
  {
   "cell_type": "markdown",
   "id": "08898783",
   "metadata": {
    "slideshow": {
     "slide_type": "slide"
    }
   },
   "source": [
    "# Indentation\n",
    " - Python uses indentation to structure code ... \n",
    " - <p class='fragment'>\n",
    "   ... unlike many other languages, e.g. R, C++, which use braces `{}`.\n",
    "   </p>\n",
    " - <p class='fragment'> In Python, indentation is functional, \n",
    "    not just good style. "
   ]
  },
  {
   "cell_type": "markdown",
   "id": "26e0727f",
   "metadata": {
    "slideshow": {
     "slide_type": "subslide"
    }
   },
   "source": [
    "# Indentation \n",
    " - Functional whitespace makes python more readable to humans ... \n",
    " - <p class='fragment'>\n",
    "    ... but also potentially harder to debug (in the beginning). \n",
    "  </p>"
   ]
  },
  {
   "cell_type": "markdown",
   "id": "0520a676",
   "metadata": {
    "slideshow": {
     "slide_type": "subslide"
    }
   },
   "source": [
    "# Indentation \n",
    " - Limit difficulties by following the convention of indenting with \n",
    "   **4 spaces**. \n",
    " - <p class='fragment'>\n",
    "    Avoid tabs, `\\t`,  but use the tab key when your editor is enabled\n",
    "    to translate. \n",
    "  </p>"
   ]
  },
  {
   "cell_type": "markdown",
   "id": "34251082",
   "metadata": {
    "slideshow": {
     "slide_type": "subslide"
    }
   },
   "source": [
    "# Indentation \n",
    " - A colon `:` is used to denote the start of an indented block."
   ]
  },
  {
   "cell_type": "code",
   "execution_count": null,
   "id": "4390d60a",
   "metadata": {
    "slideshow": {
     "slide_type": "code"
    }
   },
   "outputs": [],
   "source": [
    "k = 0\n",
    "for i in range(10):\n",
    "    k += i\n",
    "print(k)"
   ]
  },
  {
   "cell_type": "markdown",
   "id": "ae6de8e6",
   "metadata": {
    "slideshow": {
     "slide_type": "slide"
    }
   },
   "source": [
    "# Functions\n",
    "- Recognize function calls by `()` after the function name. \n",
    "- Functions take 0 or more *arguments*.\n",
    "- Some arguments are required, others have *default values* and \n",
    "  can be omitted. "
   ]
  },
  {
   "cell_type": "code",
   "execution_count": null,
   "id": "18a76ed8",
   "metadata": {
    "slideshow": {
     "slide_type": "code"
    }
   },
   "outputs": [],
   "source": [
    "print(round(3.141592653589793))\n",
    "print(round(3.141592653589793, ndigits = 1))"
   ]
  },
  {
   "cell_type": "markdown",
   "id": "320decfd",
   "metadata": {
    "slideshow": {
     "slide_type": "subslide"
    }
   },
   "source": [
    "# Functions\n",
    "- Agruments can be passed by *position* or *keyword*. Use position for\n",
    "  the most common arguments, and keywords otherwise. \n",
    "- Positional arguments must precede keyword arguments. "
   ]
  },
  {
   "cell_type": "code",
   "execution_count": null,
   "id": "2f41f32d",
   "metadata": {
    "slideshow": {
     "slide_type": "code"
    }
   },
   "outputs": [],
   "source": [
    "print(round(3.141592653589793, ndigits=2))\n",
    "print(round(3.141592653589793, 3))\n",
    "# error\n",
    "# round(digits = 2, 3.141592653589793)"
   ]
  },
  {
   "cell_type": "markdown",
   "id": "eed8f7c6",
   "metadata": {
    "slideshow": {
     "slide_type": "subslide"
    }
   },
   "source": [
    "# Functions\n",
    " - <p class='fragment highlight-red'>\n",
    "   ... are one of the most useful programming contructions.\n",
    "   </p>\n",
    " - <p class='fragment highlight-red'>\n",
    "   ... allow you to name and reuse blocks of code.\n",
    "   </p>\n",
    " - <p class='fragment highlight-red'>\n",
    "   ... help you to break complex problems into simpler parts. \n",
    "   </p>\n",
    " - <p class='fragment highlight-red'>\n",
    "    ... make your code more readable. \n",
    "   </p>\n",
    " - <p class='fragment' >\n",
    "   Rule of thumb: if you copy-and-paste the same code more than once, \n",
    "   it's probably better to encapsulate that code into a function. \n",
    "   </p>"
   ]
  },
  {
   "cell_type": "markdown",
   "id": "9f8fe98e",
   "metadata": {
    "slideshow": {
     "slide_type": "subslide"
    }
   },
   "source": [
    "# Functions\n",
    " - Use the `def` keyword to define a new function."
   ]
  },
  {
   "cell_type": "code",
   "execution_count": null,
   "id": "b5598f87",
   "metadata": {
    "slideshow": {
     "slide_type": "code"
    }
   },
   "outputs": [],
   "source": [
    "def n_vowels(s):\n",
    "    n = 0\n",
    "    for v in ['a', 'e', 'i', 'o', 'u']:\n",
    "        n += s.count(v)\n",
    "    return(n)"
   ]
  },
  {
   "cell_type": "markdown",
   "id": "c272b77a",
   "metadata": {
    "slideshow": {
     "slide_type": "subslide"
    }
   },
   "source": [
    "# Functions\n",
    " - Include a docstring on *all* named functions. \n",
    " - Here's a template from Spyder - use this template every time."
   ]
  },
  {
   "cell_type": "code",
   "execution_count": null,
   "id": "fdb1ec73",
   "metadata": {
    "slideshow": {
     "slide_type": "code"
    }
   },
   "outputs": [],
   "source": [
    "def s(x, y = 0):\n",
    "    \"\"\"\n",
    "    Describe your function's purpose concisely. \n",
    "\n",
    "    Parameters\n",
    "    ----------\n",
    "    x : TYPE\n",
    "        DESCRIPTION.\n",
    "    y : TYPE, optional\n",
    "      DESCRIPTION. The default is 0.\n",
    "\n",
    "     Returns\n",
    "     -------\n",
    "     None.\n",
    "\n",
    "    \"\"\""
   ]
  },
  {
   "cell_type": "markdown",
   "id": "8a7410fe",
   "metadata": {
    "slideshow": {
     "slide_type": "slide"
    }
   },
   "source": [
    "# Python is Object-Oriented\n",
    " - Everything in Python is an object. \n",
    " - Objects are instances of a class with internal data and (usually)\n",
    "   associated methods.\n",
    " - <p class='fragment'> \n",
    "    Methods are functions that belong to objects and have access to\n",
    "    associated data. \n",
    "   </p>"
   ]
  },
  {
   "cell_type": "markdown",
   "id": "7bb21798",
   "metadata": {
    "slideshow": {
     "slide_type": "subslide"
    }
   },
   "source": [
    "# Method Calls\n",
    "  - Method calls take the form `object.method()`.\n",
    "  - Here we create an object `book` of class `str` ...\n",
    "  - ... and then call its `title()` method."
   ]
  },
  {
   "cell_type": "code",
   "execution_count": null,
   "id": "cccbf955",
   "metadata": {
    "slideshow": {
     "slide_type": "code"
    }
   },
   "outputs": [],
   "source": [
    "book = \"the hitchhiker's guide to the galaxy\"\n",
    "print(book.title())"
   ]
  },
  {
   "cell_type": "markdown",
   "id": "9d4cd5fd",
   "metadata": {
    "slideshow": {
     "slide_type": "slide"
    }
   },
   "source": [
    "# Takeaways\n",
    " - Python is an interpreted, strongly-typed language that uses\n",
    "   dynamic references. \n",
    " - Hierarchy is denoted using indentation(!) with `:` denoting\n",
    "   the start of an indented block. \n",
    " - Python is object-oriented. Use methods, but \n",
    "   follow a functional programming style.  \n",
    " - Use functions to keep DRY (and don't forget the docstring). "
   ]
  }
 ],
 "metadata": {
  "jupytext": {
   "cell_metadata_json": true,
   "notebook_metadata_filter": "rise,markdown"
  },
  "kernelspec": {
   "display_name": "Python 3 (ipykernel)",
   "language": "python",
   "name": "python3"
  },
  "markdown": {
   "extensions": "footnotes"
  },
  "rise": {
   "autolaunch": true,
   "enable_chalkboard": true,
   "header": "<a href=\"#/slide-0-0\"> <h3> Stats 507 -  Python Basics </a>",
   "progress": true,
   "scroll": true,
   "theme": "solarized",
   "transition": "convex"
  }
 },
 "nbformat": 4,
 "nbformat_minor": 5
}
