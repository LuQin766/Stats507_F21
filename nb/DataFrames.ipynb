{
 "cells": [
  {
   "cell_type": "markdown",
   "id": "21f3d7b2",
   "metadata": {
    "slideshow": {
     "slide_type": "slide"
    }
   },
   "source": [
    "## Pandas DataFrames\n",
    "*Stats 507, Fall 2021*\n",
    "\n",
    "James Henderson, PhD  \n",
    "September 21 & 23, 2021"
   ]
  },
  {
   "cell_type": "markdown",
   "id": "e18ef2e4",
   "metadata": {
    "slideshow": {
     "slide_type": "slide"
    }
   },
   "source": [
    "## Overview\n",
    "- [DataFrame Operations](#/slide-2-0)\n",
    "- [Index Objects](#/slide-3-0)\n",
    "- [Transformations](#/slide-6-0)\n",
    "- [Hierarchical Indices](#/slide-7-0)\n",
    "- [Merging](#/slide-9-0)\n",
    "- [Pivoting](#/slide-10-0)\n",
    "- [Takewaways](#/slide-11-0)"
   ]
  },
  {
   "cell_type": "markdown",
   "id": "52c68ab0",
   "metadata": {
    "slideshow": {
     "slide_type": "slide"
    }
   },
   "source": [
    "## DataFrame Operations\n",
    "- Essential data frame operations to learn:  \n",
    "  + <p class='fragment highlight-green'>\n",
    "    filtering to create subsets of cases (rows),\n",
    "    </p>\n",
    "  + creating new variables (columns) from existing ones, \n",
    "  + merging two datasets (joins),\n",
    "  + pivoting between wider and longer formats,\n",
    "  + <p class='fragment highlight-red'> performing aggregations by group. </p>"
   ]
  },
  {
   "cell_type": "markdown",
   "id": "f08e5911",
   "metadata": {
    "slideshow": {
     "slide_type": "slide"
    }
   },
   "source": [
    "## Indices\n",
    "- DataFrame indices hold axis labels and associated metadata. \n",
    "- DataFrames can have both row and column indices. \n",
    "- The `.columns` attribute is an `Index` object. \n",
    "- Indices organize a DataFrame and facilitate many methods. "
   ]
  },
  {
   "cell_type": "code",
   "execution_count": null,
   "id": "e2b976cd",
   "metadata": {
    "slideshow": {
     "slide_type": "code"
    }
   },
   "outputs": [],
   "source": [
    "import numpy as np\n",
    "import pandas as pd\n",
    "print(pd.__version__)\n",
    "df = pd.DataFrame(\n",
    "    {\n",
    "        \"a\": range(5),\n",
    "        \"b\": [(\"red\", \"black\")[i % 2] for i in range(5)],\n",
    "        \"c\": [(\"x\", \"y\", \"z\")[i % 3] for i in range(5)]\n",
    "    }\n",
    ")\n",
    "df.columns"
   ]
  },
  {
   "cell_type": "markdown",
   "id": "ec9f1d5e",
   "metadata": {
    "slideshow": {
     "slide_type": "subslide"
    }
   },
   "source": [
    "## Indices\n",
    "- Create a standalone `Index` using `pd.Index()`. \n",
    "- `Index` objects are immutable. \n",
    "- Move a column to an index using `.set_index()`. "
   ]
  },
  {
   "cell_type": "code",
   "execution_count": null,
   "id": "4efe9961",
   "metadata": {
    "slideshow": {
     "slide_type": "code"
    }
   },
   "outputs": [],
   "source": [
    "idx = pd.Index(list(\"stats\"))\n",
    "df.index = idx \n",
    "df"
   ]
  },
  {
   "cell_type": "markdown",
   "id": "09163c7e",
   "metadata": {
    "slideshow": {
     "slide_type": "subslide"
    }
   },
   "source": [
    "## Indices\n",
    "- Create a standalone `Index` using `pd.Index()`. \n",
    "- `Index` objects are immutable. \n",
    "- Move a column to an index using `.set_index()`. "
   ]
  },
  {
   "cell_type": "code",
   "execution_count": null,
   "id": "e254083c",
   "metadata": {
    "lines_to_next_cell": 0,
    "slideshow": {
     "slide_type": "code"
    }
   },
   "outputs": [],
   "source": [
    "df1 = df.iloc[[3, 2, 1], ]\n",
    "df_alt = df1.set_index('a')\n",
    "df_alt\n"
   ]
  },
  {
   "cell_type": "markdown",
   "id": "fd477a34",
   "metadata": {
    "slideshow": {
     "slide_type": "subslide"
    }
   },
   "source": [
    "## Indices\n",
    "- Select by index value using the `loc` indexer.   \n",
    "- Some methods (e.g. `.reindex()`) won't work with duplicates index values. "
   ]
  },
  {
   "cell_type": "code",
   "execution_count": null,
   "id": "a6af4edd",
   "metadata": {
    "slideshow": {
     "slide_type": "code"
    }
   },
   "outputs": [],
   "source": [
    "try:\n",
    "    df.reindex(['a', 't', 's'])\n",
    "except:\n",
    "    print('Duplicate label error.')\n",
    "\n",
    "df.loc[['a', 't', 's'], 'a':'b']"
   ]
  },
  {
   "cell_type": "markdown",
   "id": "0cb0374c",
   "metadata": {
    "slideshow": {
     "slide_type": "subslide"
    }
   },
   "source": [
    "## Indices\n",
    "- Create a Series or DataFrame from an index using `.to_series()` or\n",
    "  `.to_frame()` \n",
    "- (Better) create a column called `index` using `.reset_index()`. \n",
    "- Use to convert indices to data.  "
   ]
  },
  {
   "cell_type": "code",
   "execution_count": null,
   "id": "0cdb93ea",
   "metadata": {
    "slideshow": {
     "slide_type": "code"
    }
   },
   "outputs": [],
   "source": [
    "df['idx'] = df.index.to_frame()\n",
    "df.reset_index(inplace=True)\n",
    "df"
   ]
  },
  {
   "cell_type": "markdown",
   "id": "7a280c4a",
   "metadata": {
    "slideshow": {
     "slide_type": "slide"
    }
   },
   "source": [
    "## Transformations\n",
    "- Use `.map()` to transform a Series element wise.\n",
    "- Use `.applymap()` for element-wise transformation of DataFrames.\n",
    "- Use`.transform()` for vectorized transformations. \n",
    "- Use `.replace()` to map existing values to new values."
   ]
  },
  {
   "cell_type": "code",
   "execution_count": null,
   "id": "29c6be65",
   "metadata": {
    "slideshow": {
     "slide_type": "code"
    }
   },
   "outputs": [],
   "source": [
    "df['a_sq'] = df['a'].map(lambda x: x ** 2)\n",
    "df['a2'] = df['a'].transform(lambda x: np.power(x, 2))\n",
    "df['a3'] = df[['a']].applymap(lambda x: x ** 3)\n",
    "df['c'].replace('z', 'w', inplace=True)\n",
    "df"
   ]
  },
  {
   "cell_type": "markdown",
   "id": "7cb6e87e",
   "metadata": {
    "slideshow": {
     "slide_type": "slide"
    }
   },
   "source": [
    "## Strings\n",
    "- Vectorized string operations (that skip missing values) can be\n",
    "  accessed through a Series's `str` attribute.\n",
    "- You can index this attribute or call its methods. "
   ]
  },
  {
   "cell_type": "code",
   "execution_count": null,
   "id": "1cccaee6",
   "metadata": {
    "slideshow": {
     "slide_type": "code"
    }
   },
   "outputs": [],
   "source": [
    "df['b'] = df['b'].str.title()\n",
    "df['b'].str[:2]"
   ]
  },
  {
   "cell_type": "markdown",
   "id": "ac41e477",
   "metadata": {
    "slideshow": {
     "slide_type": "slide"
    }
   },
   "source": [
    "## Hierarchical Indices\n",
    "- An Index can have more than one *level* allowing you to create\n",
    "  hierarchical structure. \n",
    "- These use the `MultiIndex` class and associated constructor. \n",
    "- Here I add a level to the column index labeling numeric columns.  "
   ]
  },
  {
   "cell_type": "code",
   "execution_count": null,
   "id": "490aa397",
   "metadata": {
    "slideshow": {
     "slide_type": "code"
    }
   },
   "outputs": [],
   "source": [
    "num = [('object', 'numeric')[v != np.dtype('O')] for v in df.dtypes.values]\n",
    "df.columns = [num, df.columns]\n",
    "print(df.columns)\n",
    "df.loc[:, 'numeric']"
   ]
  },
  {
   "cell_type": "markdown",
   "id": "138cb90d",
   "metadata": {
    "slideshow": {
     "slide_type": "subslide"
    }
   },
   "source": [
    "## Hierarchical Indices\n",
    "- Use a tuple to specify multiple levels of a MultiIndex.\n",
    "- Construct all tuples using `.to_flat_index()`. \n",
    "- Use a list to retain all levels. "
   ]
  },
  {
   "cell_type": "code",
   "execution_count": null,
   "id": "ae32b6a5",
   "metadata": {
    "slideshow": {
     "slide_type": "code"
    }
   },
   "outputs": [],
   "source": [
    "print([df.loc[:, 'numeric'].columns, df.loc[:, ['numeric']].columns])\n",
    "print(df.columns.to_flat_index())\n",
    "df.loc[:, ('object', 'b')]"
   ]
  },
  {
   "cell_type": "markdown",
   "id": "29e613c1",
   "metadata": {
    "slideshow": {
     "slide_type": "subslide"
    }
   },
   "source": [
    "## Example\n",
    "- In this example, we center all the numeric columns using `.transform()`.\n",
    "- We then drop a level from the column Index. \n",
    "- <p class='fragment'> What happens if we don't index with a list? </p>"
   ]
  },
  {
   "cell_type": "code",
   "execution_count": null,
   "id": "383212e4",
   "metadata": {
    "slideshow": {
     "slide_type": "code"
    }
   },
   "outputs": [],
   "source": [
    "df.loc[:, ['numeric']] = (df.loc[:, ['numeric']].\n",
    "                             transform(lambda x: x - np.mean(x)))\n",
    "df.columns = df.columns.droplevel()\n",
    "df "
   ]
  },
  {
   "cell_type": "markdown",
   "id": "85317a8a",
   "metadata": {
    "slideshow": {
     "slide_type": "slide"
    }
   },
   "source": [
    "## Merging\n",
    "- Create a *join* by *merging* two DataFrames using `pd.merge()`.  \n",
    "- Use `on` for matching rows, defaults to shared column names.\n",
    "- Use `how` to determine join type: `left`, `inner`, `outer` , `right`.\n",
    "- Prefer `left` joins when in doubt. "
   ]
  },
  {
   "cell_type": "code",
   "execution_count": null,
   "id": "bfa98823",
   "metadata": {
    "slideshow": {
     "slide_type": "code"
    }
   },
   "outputs": [],
   "source": [
    "df0 = df.loc[:, 'a':'c'].reset_index()\n",
    "df1 = df.loc[:, 'a':'c'].reset_index().query('b == \"Red\"')\n",
    "df0['old'] = 0\n",
    "df1['new'] = 1\n",
    "pd.merge(df0, df1, on=['index', 'b', 'c'], how='left', indicator=True)"
   ]
  },
  {
   "cell_type": "markdown",
   "id": "6fedcbb4",
   "metadata": {
    "slideshow": {
     "slide_type": "subslide"
    }
   },
   "source": [
    "## Merging\n",
    "- Shared column names not used in `on` are renamed with suffixes. \n",
    "- Indices are discarded when joining on columns. "
   ]
  },
  {
   "cell_type": "code",
   "execution_count": null,
   "id": "d3190dc6",
   "metadata": {
    "slideshow": {
     "slide_type": "code"
    }
   },
   "outputs": [],
   "source": [
    "pd.merge(df0, df1, on=['b', 'c'], how='right', suffixes=('_0', '_1'))"
   ]
  },
  {
   "cell_type": "markdown",
   "id": "5550a21d",
   "metadata": {
    "slideshow": {
     "slide_type": "subslide"
    }
   },
   "source": [
    "## Merging\n",
    "- The row Index can be used as the merge keys for left and/or right DataFrames."
   ]
  },
  {
   "cell_type": "code",
   "execution_count": null,
   "id": "b0f46dca",
   "metadata": {
    "slideshow": {
     "slide_type": "code"
    }
   },
   "outputs": [],
   "source": [
    "pd.merge(\n",
    "    df0.set_index('index'), \n",
    "    df1.set_index('index'),\n",
    "    left_index=True,\n",
    "    right_index=True\n",
    ")"
   ]
  },
  {
   "cell_type": "markdown",
   "id": "ea942206",
   "metadata": {
    "slideshow": {
     "slide_type": "subslide"
    }
   },
   "source": [
    "## Merging\n",
    "- The row Index can be used as the merge keys for left and/or right DataFrames.\n",
    "- The `.join()` method lets (left) joins be written more compactly. \n",
    "- <p class='fragment'> Can pass a list of DataFrames to join. </p>"
   ]
  },
  {
   "cell_type": "code",
   "execution_count": null,
   "id": "2332c05d",
   "metadata": {
    "slideshow": {
     "slide_type": "code"
    }
   },
   "outputs": [],
   "source": [
    "(df0.\n",
    " set_index(['b', 'c']).\n",
    " join(df1.set_index(['b', 'c']), rsuffix='_1')"
   ]
  },
  {
   "cell_type": "markdown",
   "id": "e5657fd7",
   "metadata": {
    "slideshow": {
     "slide_type": "slide"
    }
   },
   "source": [
    "## Pivoting\n",
    "- Data often need to be *reshaped* to facilitate analysis or plotting. \n",
    "- Using hierarchical indices:\n",
    "  + make a pandas DataFrame *longer* using `.stack()`,\n",
    "  + make a pandas DataFrame *wider* using `.unstack()`. \n",
    "- Alternately use `pd.melt()` (*longer*) or `pd.pivot()` (*wider*).\n",
    "- (More to come.)"
   ]
  },
  {
   "cell_type": "markdown",
   "id": "241f1ce0",
   "metadata": {
    "slideshow": {
     "slide_type": "slide"
    }
   },
   "source": [
    "## Takeways\n",
    "- DataFrame, Series, Index, or MultiIndex - know what you're working with.\n",
    "- If indices confuse you, keep them as regular columns. \n",
    "- Use DataFrame methods whenever you can. "
   ]
  }
 ],
 "metadata": {
  "jupytext": {
   "cell_metadata_json": true,
   "notebook_metadata_filter": "rise",
   "text_representation": {
    "extension": ".md",
    "format_name": "markdown",
    "format_version": "1.3",
    "jupytext_version": "1.11.4"
   }
  },
  "kernelspec": {
   "display_name": "Python 3 (ipykernel)",
   "language": "python",
   "name": "python3"
  },
  "rise": {
   "autolaunch": true,
   "enable_chalkboard": true,
   "header": "<a href=\"#/slide-0-0\"> <h3> Stats 507 - DataFrames </a>",
   "progress": true,
   "scroll": true,
   "theme": "solarized",
   "transition": "convex"
  }
 },
 "nbformat": 4,
 "nbformat_minor": 5
}
