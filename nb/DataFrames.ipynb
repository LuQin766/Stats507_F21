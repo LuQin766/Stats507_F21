{
 "cells": [
  {
   "cell_type": "markdown",
   "id": "ee35f1c6",
   "metadata": {
    "slideshow": {
     "slide_type": "slide"
    }
   },
   "source": [
    "## Pandas DataFrames\n",
    "*Stats 507, Fall 2021*\n",
    "\n",
    "James Henderson, PhD  \n",
    "September 21 & 23, 2021"
   ]
  },
  {
   "cell_type": "markdown",
   "id": "502ab99e",
   "metadata": {
    "slideshow": {
     "slide_type": "slide"
    }
   },
   "source": [
    "## Overview\n",
    "- [DataFrame Operations](#/slide-2-0)\n",
    "- [Index Objects](#/slide-3-0)\n",
    "- [Transformations](#/slide-4-0)\n",
    "- [Hierarchical Indices](#/slide-6-0)\n",
    "- [Merging](#/slide-7-0)\n",
    "- [Pivoting](#/slide-8-0)\n",
    "- [Takeaways](#/slide-14-0)"
   ]
  },
  {
   "cell_type": "markdown",
   "id": "f237235a",
   "metadata": {
    "slideshow": {
     "slide_type": "slide"
    }
   },
   "source": [
    "## DataFrame Operations\n",
    "- Essential data frame operations to learn:  \n",
    "  + <p class='fragment highlight-green'>\n",
    "    filtering to create subsets of cases (rows),\n",
    "    </p>\n",
    "  + creating new variables (columns) from existing ones, \n",
    "  + merging two datasets (joins),\n",
    "  + pivoting between wider and longer formats,\n",
    "  + <p class='fragment highlight-red'> performing aggregations by group. </p>"
   ]
  },
  {
   "cell_type": "markdown",
   "id": "657e5681",
   "metadata": {
    "slideshow": {
     "slide_type": "slide"
    }
   },
   "source": [
    "## Indices\n",
    "- DataFrame indices hold axis labels and associated metadata. \n",
    "- DataFrames can have both row and column indices. \n",
    "- The `.columns` attribute is an `Index` object. \n",
    "- Indices organize a DataFrame and facilitate many methods. "
   ]
  },
  {
   "cell_type": "code",
   "execution_count": null,
   "id": "7e8cbc21",
   "metadata": {
    "slideshow": {
     "slide_type": "code"
    }
   },
   "outputs": [],
   "source": [
    "import numpy as np\n",
    "import pandas as pd\n",
    "print(pd.__version__)\n",
    "df = pd.DataFrame(\n",
    "    {\n",
    "        \"a\": range(5),\n",
    "        \"b\": [(\"red\", \"black\")[i % 2] for i in range(5)],\n",
    "        \"c\": [(\"x\", \"y\", \"z\")[i % 3] for i in range(5)]\n",
    "    }\n",
    ")\n",
    "df.columns"
   ]
  },
  {
   "cell_type": "markdown",
   "id": "03c2b8f7",
   "metadata": {
    "slideshow": {
     "slide_type": "subslide"
    }
   },
   "source": [
    "## Indices\n",
    "- Create a standalone `Index` using `pd.Index()`. \n",
    "- `Index` objects are immutable. \n",
    "- Move a column to an index using `.set_index()`. "
   ]
  },
  {
   "cell_type": "code",
   "execution_count": null,
   "id": "150b8731",
   "metadata": {
    "slideshow": {
     "slide_type": "code"
    }
   },
   "outputs": [],
   "source": [
    "idx = pd.Index(list(\"stats\"))\n",
    "df.index = idx \n",
    "df"
   ]
  },
  {
   "cell_type": "markdown",
   "id": "879d5094",
   "metadata": {
    "slideshow": {
     "slide_type": "subslide"
    }
   },
   "source": [
    "## Indices\n",
    "- Create a standalone `Index` using `pd.Index()`. \n",
    "- `Index` objects are immutable. \n",
    "- Move a column to an index using `.set_index()`. "
   ]
  },
  {
   "cell_type": "code",
   "execution_count": null,
   "id": "78b75e7d",
   "metadata": {
    "lines_to_next_cell": 0,
    "slideshow": {
     "slide_type": "code"
    }
   },
   "outputs": [],
   "source": [
    "df1 = df.iloc[[3, 2, 1], ]\n",
    "df_alt = df1.set_index('a')\n",
    "df_alt\n"
   ]
  },
  {
   "cell_type": "markdown",
   "id": "772f6d08",
   "metadata": {
    "slideshow": {
     "slide_type": "subslide"
    }
   },
   "source": [
    "## Indices\n",
    "- Select by index value using the `loc` indexer.   \n",
    "- Some methods (e.g. `.reindex()`) won't work with duplicates index values. "
   ]
  },
  {
   "cell_type": "code",
   "execution_count": null,
   "id": "aad51b37",
   "metadata": {
    "slideshow": {
     "slide_type": "code"
    }
   },
   "outputs": [],
   "source": [
    "try:\n",
    "    df.reindex(['a', 't', 's'])\n",
    "except:\n",
    "    print('Duplicate label error.')\n",
    "\n",
    "df.loc[['a', 't', 's'], 'a':'b']"
   ]
  },
  {
   "cell_type": "markdown",
   "id": "9882696b",
   "metadata": {
    "slideshow": {
     "slide_type": "subslide"
    }
   },
   "source": [
    "## Indices\n",
    "- Create a Series or DataFrame from an index using `.to_series()` or\n",
    "  `.to_frame()` \n",
    "- (Better) create a column called `index` using `.reset_index()`. \n",
    "- Use to convert indices to data.  "
   ]
  },
  {
   "cell_type": "code",
   "execution_count": null,
   "id": "7628afd8",
   "metadata": {
    "slideshow": {
     "slide_type": "code"
    }
   },
   "outputs": [],
   "source": [
    "df['idx'] = df.index.to_frame()\n",
    "df.reset_index(inplace=True)\n",
    "df"
   ]
  },
  {
   "cell_type": "markdown",
   "id": "a9a8c028",
   "metadata": {
    "slideshow": {
     "slide_type": "slide"
    }
   },
   "source": [
    "## Transformations\n",
    "- Use `.map()` to transform a Series element wise.\n",
    "- Use `.applymap()` for element-wise transformation of DataFrames.\n",
    "- Use`.transform()` for vectorized transformations. \n",
    "- Use `.replace()` to map existing values to new values."
   ]
  },
  {
   "cell_type": "code",
   "execution_count": null,
   "id": "418877d5",
   "metadata": {
    "slideshow": {
     "slide_type": "code"
    }
   },
   "outputs": [],
   "source": [
    "df['a_sq'] = df['a'].map(lambda x: x ** 2)\n",
    "df['a2'] = df['a'].transform(lambda x: np.power(x, 2))\n",
    "df['a3'] = df[['a']].applymap(lambda x: x ** 3)\n",
    "df['c'].replace('z', 'w', inplace=True)\n",
    "df"
   ]
  },
  {
   "cell_type": "markdown",
   "id": "d5fbdd37",
   "metadata": {
    "slideshow": {
     "slide_type": "slide"
    }
   },
   "source": [
    "## Strings\n",
    "- Vectorized string operations (that skip missing values) can be\n",
    "  accessed through a Series's `str` attribute.\n",
    "- You can index this attribute or call its methods. "
   ]
  },
  {
   "cell_type": "code",
   "execution_count": null,
   "id": "3a8c3fc8",
   "metadata": {
    "slideshow": {
     "slide_type": "code"
    }
   },
   "outputs": [],
   "source": [
    "df['b'] = df['b'].str.title()\n",
    "df['b'].str[:2]"
   ]
  },
  {
   "cell_type": "markdown",
   "id": "ff51bf3b",
   "metadata": {
    "slideshow": {
     "slide_type": "slide"
    }
   },
   "source": [
    "## Hierarchical Indices\n",
    "- An Index can have more than one *level* allowing you to create\n",
    "  hierarchical structure. \n",
    "- These use the `MultiIndex` class and associated constructor. \n",
    "- Here I add a level to the column index labeling numeric columns.  "
   ]
  },
  {
   "cell_type": "code",
   "execution_count": null,
   "id": "570d2377",
   "metadata": {
    "slideshow": {
     "slide_type": "code"
    }
   },
   "outputs": [],
   "source": [
    "num = [('object', 'numeric')[v != np.dtype('O')] for v in df.dtypes.values]\n",
    "df.columns = [num, df.columns]\n",
    "print(df.columns)\n",
    "df.loc[:, 'numeric']"
   ]
  },
  {
   "cell_type": "markdown",
   "id": "8a327d22",
   "metadata": {
    "slideshow": {
     "slide_type": "subslide"
    }
   },
   "source": [
    "## Hierarchical Indices\n",
    "- Use a tuple to specify multiple levels of a MultiIndex.\n",
    "- Construct all tuples using `.to_flat_index()`. \n",
    "- Use a list to retain all levels. "
   ]
  },
  {
   "cell_type": "code",
   "execution_count": null,
   "id": "86db98af",
   "metadata": {
    "slideshow": {
     "slide_type": "code"
    }
   },
   "outputs": [],
   "source": [
    "print([df.loc[:, 'numeric'].columns, df.loc[:, ['numeric']].columns])\n",
    "print(df.columns.to_flat_index())\n",
    "df.loc[:, ('object', 'b')]"
   ]
  },
  {
   "cell_type": "markdown",
   "id": "1f6a7c17",
   "metadata": {
    "slideshow": {
     "slide_type": "subslide"
    }
   },
   "source": [
    "## Example\n",
    "- In this example, we center all the numeric columns using `.transform()`.\n",
    "- We then drop a level from the column Index. \n",
    "- <p class='fragment'> What happens if we don't index with a list? </p>"
   ]
  },
  {
   "cell_type": "code",
   "execution_count": null,
   "id": "1d291260",
   "metadata": {
    "slideshow": {
     "slide_type": "code"
    }
   },
   "outputs": [],
   "source": [
    "df.loc[:, ['numeric']] = (df.loc[:, ['numeric']].\n",
    "                             transform(lambda x: x - np.mean(x)))\n",
    "df.columns = df.columns.droplevel()\n",
    "df "
   ]
  },
  {
   "cell_type": "markdown",
   "id": "bd3c1f53",
   "metadata": {
    "slideshow": {
     "slide_type": "slide"
    }
   },
   "source": [
    "## Merging\n",
    "- Create a *join* by *merging* two DataFrames using `pd.merge()`.  \n",
    "- Use `on` for matching rows, defaults to shared column names.\n",
    "- Use `how` to determine join type: `left`, `inner`, `outer` , `right`.\n",
    "- Prefer `left` joins when in doubt. "
   ]
  },
  {
   "cell_type": "code",
   "execution_count": null,
   "id": "9cfe8f17",
   "metadata": {
    "slideshow": {
     "slide_type": "code"
    }
   },
   "outputs": [],
   "source": [
    "df0 = df.loc[:, 'a':'c'].reset_index()\n",
    "df1 = df.loc[:, 'a':'c'].reset_index().query('b == \"Red\"')\n",
    "df0['old'] = 0\n",
    "df1['new'] = 1\n",
    "pd.merge(df0, df1, on=['index', 'b', 'c'], how='left', indicator=True)"
   ]
  },
  {
   "cell_type": "markdown",
   "id": "2c1e802c",
   "metadata": {
    "slideshow": {
     "slide_type": "subslide"
    }
   },
   "source": [
    "## Merging\n",
    "- Shared column names not used in `on` are renamed with suffixes. \n",
    "- Indices are discarded when joining on columns. "
   ]
  },
  {
   "cell_type": "code",
   "execution_count": null,
   "id": "beb0826d",
   "metadata": {
    "slideshow": {
     "slide_type": "code"
    }
   },
   "outputs": [],
   "source": [
    "pd.merge(df0, df1, on=['b', 'c'], how='right', suffixes=('_0', '_1'))"
   ]
  },
  {
   "cell_type": "markdown",
   "id": "f7910a9a",
   "metadata": {
    "slideshow": {
     "slide_type": "subslide"
    }
   },
   "source": [
    "## Merging\n",
    "- The row Index can be used as the merge keys for left and/or right DataFrames."
   ]
  },
  {
   "cell_type": "code",
   "execution_count": null,
   "id": "7bfa22cd",
   "metadata": {
    "slideshow": {
     "slide_type": "code"
    }
   },
   "outputs": [],
   "source": [
    "pd.merge(\n",
    "    df0.set_index('index'), \n",
    "    df1.set_index('index'),\n",
    "    left_index=True,\n",
    "    right_index=True\n",
    ")"
   ]
  },
  {
   "cell_type": "markdown",
   "id": "46a29528",
   "metadata": {
    "slideshow": {
     "slide_type": "subslide"
    }
   },
   "source": [
    "## Merging\n",
    "- The row Index can be used as the merge keys for left and/or right DataFrames.\n",
    "- The `.join()` method lets (left) joins be written more compactly. \n",
    "- <p class='fragment'> Can pass a list of DataFrames to join. </p>"
   ]
  },
  {
   "cell_type": "code",
   "execution_count": null,
   "id": "100b3c8f",
   "metadata": {
    "slideshow": {
     "slide_type": "code"
    }
   },
   "outputs": [],
   "source": [
    "(df0\n",
    " .set_index(['b', 'c'])\n",
    " .join(df1.set_index(['b', 'c']), rsuffix='_1')\n",
    ")"
   ]
  },
  {
   "cell_type": "markdown",
   "id": "252b65e7",
   "metadata": {
    "slideshow": {
     "slide_type": "slide"
    }
   },
   "source": [
    "## Pivoting\n",
    "- Data often need to be *reshaped* to facilitate analysis or plotting. \n",
    "- To make a dataset *longer* use `.melt()` or `pd.melt()`.\n",
    "- To make a dataset *wider* use  `.pivot()` or `pd.pivot()`. \n",
    "- Using hierarchical indices:\n",
    "  + make a DataFrame *longer* using `.stack()`,\n",
    "  + make a DataFrame *wider* using `.unstack()`. "
   ]
  },
  {
   "cell_type": "markdown",
   "id": "4071303e",
   "metadata": {
    "slideshow": {
     "slide_type": "slide"
    }
   },
   "source": [
    "## Example \n",
    "- Reshaping is often needed when working with *longitudinal* data.\n",
    "- Data is *longitudinal* when there are repeaetd measures over time on the\n",
    "  same subjects. \n",
    "- Think of `a1` and `b1` as two measured values at time 1, \n",
    "  `a2` and `b2` as the same values measured at time 2. "
   ]
  },
  {
   "cell_type": "code",
   "execution_count": null,
   "id": "7715052a",
   "metadata": {
    "slideshow": {
     "slide_type": "code"
    }
   },
   "outputs": [],
   "source": [
    "dat = pd.DataFrame({\n",
    "    'id': range(1, 5),\n",
    "    'trt': 2 * [0] + 2 * [1],\n",
    "    'a1': np.random.uniform(size=4),\n",
    "    'a2': np.random.uniform(size=4),\n",
    "    'b1': np.random.uniform(size=4),\n",
    "    'b2': np.random.uniform(size=4)   \n",
    "     })\n",
    "dat.loc[:, 'a1':'b2'] = (dat.loc[:, 'a1':'b2']\n",
    "                         .transform(lambda x: np.round(x, 2))\n",
    "                         )\n",
    "dat"
   ]
  },
  {
   "cell_type": "markdown",
   "id": "700f1607",
   "metadata": {
    "slideshow": {
     "slide_type": "slide"
    }
   },
   "source": [
    "## Melt\n",
    "- Make a dataset *longer* using `.melt()` or `pd.melt()`.\n",
    "- Parameters: \n",
    "  + `id_vars` should be replicated for each row in the longer data,\n",
    "  + `value_vars` should be pivoted, each variable to a new row. "
   ]
  },
  {
   "cell_type": "code",
   "execution_count": null,
   "id": "e1c57a3a",
   "metadata": {
    "slideshow": {
     "slide_type": "code"
    }
   },
   "outputs": [],
   "source": [
    "dat_long0 = dat.melt(\n",
    "    id_vars=['id', 'trt'],\n",
    "    value_vars=['a1', 'a2', 'b1', 'b2']\n",
    ")\n",
    "dat_long = pd.melt(dat, id_vars = ['id', 'trt'], value_name='val')\n",
    "#all(dat_long0 == dat_long)\n",
    "dat_long"
   ]
  },
  {
   "cell_type": "markdown",
   "id": "38803407",
   "metadata": {
    "slideshow": {
     "slide_type": "slide"
    }
   },
   "source": [
    "## Pivot\n",
    "- Make a dataset *wider* using `.pivot()` or `pd.pivot()`.\n",
    "- Parameters: \n",
    "  + `index` columns to become the row index in the reshaped data,\n",
    "  + `columns` the column(s) (a (Multi)Index) in the reshaped data,\n",
    "  + `values` column to use as values in the reshaped data. "
   ]
  },
  {
   "cell_type": "code",
   "execution_count": null,
   "id": "82e7cfd3",
   "metadata": {
    "slideshow": {
     "slide_type": "code"
    }
   },
   "outputs": [],
   "source": [
    "dat_wide = (dat_long\n",
    "            .pivot(index=['id', 'trt'], columns='variable', values='val')\n",
    "            )\n",
    "#dat_wide.columns.name = None\n",
    "#dat_wide.reset_index(inplace=True)\n",
    "dat_wide"
   ]
  },
  {
   "cell_type": "markdown",
   "id": "e973cfe9",
   "metadata": {
    "slideshow": {
     "slide_type": "slide"
    }
   },
   "source": [
    "## Example\n",
    "- Suppose we want columns `a` and `b`  with separate rows for each time (1, 2).\n",
    "- Let's compare several approaches. "
   ]
  },
  {
   "cell_type": "code",
   "execution_count": null,
   "id": "65ebb512",
   "metadata": {
    "slideshow": {
     "slide_type": "code"
    }
   },
   "outputs": [],
   "source": [
    "dat"
   ]
  },
  {
   "cell_type": "markdown",
   "id": "8c3ec9dc",
   "metadata": {
    "slideshow": {
     "slide_type": "subslide"
    }
   },
   "source": [
    "## Approach 1\n",
    "- Separately melt `a` and `b` and then merge the result."
   ]
  },
  {
   "cell_type": "code",
   "execution_count": null,
   "id": "37b0245e",
   "metadata": {
    "slideshow": {
     "slide_type": "code"
    }
   },
   "outputs": [],
   "source": [
    "a_long = dat.melt(\n",
    "    id_vars=['id', 'trt'],\n",
    "    value_vars=['a1', 'a2'],\n",
    "    var_name='time',\n",
    "    value_name='a'\n",
    " )\n",
    "a_long['time'] = np.int8(a_long['time'].str[1:].values)\n",
    "a_long"
   ]
  },
  {
   "cell_type": "markdown",
   "id": "78cbaf3a",
   "metadata": {
    "slideshow": {
     "slide_type": "subslide"
    }
   },
   "source": [
    "## Approach 1\n",
    "- Separately melt `a` and `b` and then merge the result."
   ]
  },
  {
   "cell_type": "code",
   "execution_count": null,
   "id": "dc83075f",
   "metadata": {
    "slideshow": {
     "slide_type": "code"
    }
   },
   "outputs": [],
   "source": [
    "b_long = dat.melt(\n",
    "    id_vars=['id', 'trt'],\n",
    "    value_vars=['b1', 'b2'],\n",
    "    var_name='time',\n",
    "    value_name='b'\n",
    " )\n",
    "b_long['time'] = np.int8(b_long['time'].str[1:].values)\n",
    "b_long"
   ]
  },
  {
   "cell_type": "markdown",
   "id": "2f51ceaa",
   "metadata": {
    "slideshow": {
     "slide_type": "subslide"
    }
   },
   "source": [
    "## Approach 1\n",
    "- Separately melt `a` and `b` and then merge the result."
   ]
  },
  {
   "cell_type": "code",
   "execution_count": null,
   "id": "efdb8895",
   "metadata": {
    "lines_to_next_cell": 0,
    "slideshow": {
     "slide_type": "code"
    }
   },
   "outputs": [],
   "source": [
    "d0 = pd.merge(a_long, b_long, on=['id', 'trt', 'time'])\n",
    "d0"
   ]
  },
  {
   "cell_type": "markdown",
   "id": "392fd18e",
   "metadata": {
    "slideshow": {
     "slide_type": "slide"
    }
   },
   "source": [
    "## Stack / Unstack\n",
    "- The `.stack()` method moves a column index to a row index, making\n",
    "  the conformed data *longer*.\n",
    "- The `.unstack()` method moves a row index to a column index, making\n",
    "  the conformed data *wider*. "
   ]
  },
  {
   "cell_type": "markdown",
   "id": "ac96e364",
   "metadata": {
    "slideshow": {
     "slide_type": "subslide"
    }
   },
   "source": [
    "## Approach 2\n",
    "- Move \"id\" variables to index, breakout information in column names,\n",
    "  and then stack.  "
   ]
  },
  {
   "cell_type": "code",
   "execution_count": null,
   "id": "537f890b",
   "metadata": {
    "lines_to_next_cell": 0,
    "slideshow": {
     "slide_type": "code"
    }
   },
   "outputs": [],
   "source": [
    "d1 = dat.set_index(['id', 'trt'])\n",
    "d1.columns = [2 * ['a'] + 2 * ['b'], 2 * ['1', '2']]\n",
    "d1.columns.names = (None, 'time')\n",
    "d1 = d1.stack()\n",
    "d1.reset_index(inplace=True)\n",
    "d1"
   ]
  },
  {
   "cell_type": "markdown",
   "id": "f5021b33",
   "metadata": {
    "slideshow": {
     "slide_type": "subslide"
    }
   },
   "source": [
    "## Approach 2\n",
    "- Move \"id\" variables to index, breakout information in column names,\n",
    "  and then stack. \n",
    "- The same approach, but stacking a and b instead of time.  "
   ]
  },
  {
   "cell_type": "code",
   "execution_count": null,
   "id": "1ed3ba07",
   "metadata": {
    "slideshow": {
     "slide_type": "code"
    }
   },
   "outputs": [],
   "source": [
    "d2 = dat.set_index(['id', 'trt'])\n",
    "# d2.columns = reversed([2 * ['a'] + 2 * ['b'], 2 * ['tm1', 'tm2']])\n",
    "d2.columns = [[i[1] for i in d2.columns], [i[0] for i in d2.columns]]\n",
    "d2.columns.names = (None, 'var')\n",
    "d2 = d2.stack()\n",
    "d2.reset_index(inplace=True)\n",
    "d2"
   ]
  },
  {
   "cell_type": "markdown",
   "id": "8eac2fe0",
   "metadata": {
    "slideshow": {
     "slide_type": "subslide"
    }
   },
   "source": [
    "## Approach 3\n",
    "- Stack everything, then unstack a specific level. \n",
    "- When unstacking, make sure the indices are unique.    "
   ]
  },
  {
   "cell_type": "code",
   "execution_count": null,
   "id": "8cadf911",
   "metadata": {
    "slideshow": {
     "slide_type": "code"
    }
   },
   "outputs": [],
   "source": [
    "d3 = dat.set_index(['id', 'trt'])\n",
    "#print(type(d3.stack()))\n",
    "#d3.columns = [len(d3.columns) * ['value'], d3.columns]\n",
    "#d3.columns.names = ('value', 'var')\n",
    "#d3 = d3.stack().reset_index(2)\n",
    "#d3.insert(1, column='time', value=np.int8(d3['var'].str[1]))\n",
    "#d3['var'] = d3['var'].str[0]\n",
    "#d3 = d3.reset_index().set_index(['id', 'trt', 'var', 'time'])\n",
    "#d3 = d3.unstack(level=3)\n",
    "d3"
   ]
  },
  {
   "cell_type": "markdown",
   "id": "075f19f0",
   "metadata": {
    "slideshow": {
     "slide_type": "slide"
    }
   },
   "source": [
    "## Takeaways\n",
    "- DataFrame, Series, Index, or MultiIndex - know what you're working with.\n",
    "- If indices confuse you, keep them as value columns. \n",
    "- Know your merges/joins (left, right, inner, outer). \n",
    "- Reshape value columns using `.melt()` and `.pivot()`.\n",
    "- Reshape indices using `.stack()` and `.unstack()`. \n",
    "- Use DataFrame methods whenever you can. "
   ]
  }
 ],
 "metadata": {
  "jupytext": {
   "cell_metadata_json": true,
   "notebook_metadata_filter": "rise"
  },
  "kernelspec": {
   "display_name": "Python 3 (ipykernel)",
   "language": "python",
   "name": "python3"
  },
  "rise": {
   "autolaunch": true,
   "enable_chalkboard": true,
   "header": "<a href=\"#/slide-0-0\"> <h3> Stats 507 - DataFrames </a>",
   "progress": true,
   "scroll": true,
   "theme": "solarized",
   "transition": "convex"
  }
 },
 "nbformat": 4,
 "nbformat_minor": 5
}
