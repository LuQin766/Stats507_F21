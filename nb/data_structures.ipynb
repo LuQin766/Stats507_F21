{
 "cells": [
  {
   "cell_type": "markdown",
   "id": "a818c049",
   "metadata": {
    "slideshow": {
     "slide_type": "slide"
    }
   },
   "source": [
    "# Python's Built-In Data Structures\n",
    "*Stats 507, Fall 2021*\n",
    "\n",
    "James Henderson, PhD  \n",
    "August 21, 2021"
   ]
  },
  {
   "cell_type": "markdown",
   "id": "f7277d58",
   "metadata": {
    "slideshow": {
     "slide_type": "slide"
    }
   },
   "source": [
    "# Overview\n",
    " - (tuple)\n",
    " - \\[list\\]\n",
    " - {dict}"
   ]
  },
  {
   "cell_type": "markdown",
   "id": "f484a8a9",
   "metadata": {
    "slideshow": {
     "slide_type": "slide"
    }
   },
   "source": [
    "# Tuples\n",
    "  - Tuples are fixed-length sequences of python objects.\n",
    "  <small> \n",
    "  Tuple slides are based on *Python for Data Analysis*, vol 2 by Wes McKinney.\n",
    "  </small>"
   ]
  },
  {
   "cell_type": "markdown",
   "id": "a7321d5e",
   "metadata": {
    "slideshow": {
     "slide_type": "slide"
    }
   },
   "source": [
    "# Constructing Tuples\n",
    "  - Construct tuples using a comma-separated sequence."
   ]
  },
  {
   "cell_type": "code",
   "execution_count": null,
   "id": "8549c937",
   "metadata": {
    "slideshow": {
     "slide_type": "code"
    }
   },
   "outputs": [],
   "source": [
    "tup = 'pi', ['py'], 'pie'\n",
    "print(tup)\n",
    "print(type(tup))\n",
    "print(tup.__class__)"
   ]
  },
  {
   "cell_type": "markdown",
   "id": "56bcc1cc",
   "metadata": {
    "slideshow": {
     "slide_type": "subslide"
    }
   },
   "source": [
    "# Constructing Tuples\n",
    "  - Or use `tuple()` to convert from another sequence object"
   ]
  },
  {
   "cell_type": "code",
   "execution_count": null,
   "id": "e4c1edb0",
   "metadata": {
    "slideshow": {
     "slide_type": "code"
    }
   },
   "outputs": [],
   "source": [
    "print(\n",
    "    tuple(\"data\")\n",
    ")"
   ]
  },
  {
   "cell_type": "code",
   "execution_count": null,
   "id": "d14633b4",
   "metadata": {
    "slideshow": {
     "slide_type": "fragment"
    }
   },
   "outputs": [],
   "source": [
    "print(tuple([\"py\", \"thon\"]))"
   ]
  },
  {
   "cell_type": "markdown",
   "id": "b6d5c914",
   "metadata": {
    "slideshow": {
     "slide_type": "slide"
    }
   },
   "source": [
    "# Tuples - Indexing and Immutability\n",
    "  - Index into tuples using `[]`. "
   ]
  },
  {
   "cell_type": "code",
   "execution_count": null,
   "id": "267b1bf0",
   "metadata": {
    "lines_to_next_cell": 2,
    "slideshow": {
     "slide_type": "code"
    }
   },
   "outputs": [],
   "source": [
    "x = tup[0]\n",
    "print(x)"
   ]
  },
  {
   "cell_type": "markdown",
   "id": "01fc92cd",
   "metadata": {
    "slideshow": {
     "slide_type": "subslide"
    }
   },
   "source": [
    "# Tuples - Indexing and Immutability\n",
    "  - Tuples are immutable ... \n",
    "  - <p class=\"fragment\">\n",
    "      ... but their contents need not be.\n",
    "    </p>"
   ]
  },
  {
   "cell_type": "code",
   "execution_count": null,
   "id": "57a9792b",
   "metadata": {
    "slideshow": {
     "slide_type": "code"
    }
   },
   "outputs": [],
   "source": [
    "try:\n",
    "    tup[1] = \"python\"\n",
    "except:\n",
    "    print(\"Tuples are immutable\")"
   ]
  },
  {
   "cell_type": "code",
   "execution_count": null,
   "id": "3a2c0c8f",
   "metadata": {
    "slideshow": {
     "slide_type": "fragment"
    }
   },
   "outputs": [],
   "source": [
    "tup[1].append(\"3.9\")\n",
    "print(tup)"
   ]
  },
  {
   "cell_type": "markdown",
   "id": "09e4226c",
   "metadata": {
    "slideshow": {
     "slide_type": "slide"
    }
   },
   "source": [
    "# Tuples - Operators\n",
    "  - Tuples can be concatenated using `+` ... \n",
    "  - <p class='fragment'>\n",
    "    ... or replicated using `*`. \n",
    "    </p>"
   ]
  },
  {
   "cell_type": "code",
   "execution_count": null,
   "id": "ea0d24d7",
   "metadata": {
    "slideshow": {
     "slide_type": "code"
    }
   },
   "outputs": [],
   "source": [
    "tup2 = tup + tup\n",
    "print(tup2)"
   ]
  },
  {
   "cell_type": "code",
   "execution_count": null,
   "id": "c549bd1a",
   "metadata": {
    "lines_to_next_cell": 0,
    "slideshow": {
     "slide_type": "fragment"
    }
   },
   "outputs": [],
   "source": [
    "tup3 = 3 * tup \n",
    "print(tup3)"
   ]
  },
  {
   "cell_type": "markdown",
   "id": "7d92b17a",
   "metadata": {
    "slideshow": {
     "slide_type": "slide"
    }
   },
   "source": [
    "# Tuples - Unpacking \n",
    "  - A tuple can be *unpacked* by assiging to a tuple-like expression."
   ]
  },
  {
   "cell_type": "code",
   "execution_count": null,
   "id": "2e21f2dc",
   "metadata": {
    "slideshow": {
     "slide_type": "code"
    }
   },
   "outputs": [],
   "source": [
    "answer = 42, (\"life\", \"universe\", \"everything\")\n",
    "a1, a2 = answer\n",
    "print(a1)\n",
    "print(a2)"
   ]
  },
  {
   "cell_type": "markdown",
   "id": "cc57fe18",
   "metadata": {
    "slideshow": {
     "slide_type": "subslide"
    }
   },
   "source": [
    "# Tuples - Unpacking\n",
    "  - This works for nested tuples as well. "
   ]
  },
  {
   "cell_type": "code",
   "execution_count": null,
   "id": "85f4dc77",
   "metadata": {
    "slideshow": {
     "slide_type": "code"
    }
   },
   "outputs": [],
   "source": [
    "answer = 42, (\"life\", \"universe\", \"everything\")\n",
    "a1, (a2_1, a2_2, a2_3) = answer\n",
    "print(a2_2)"
   ]
  },
  {
   "cell_type": "markdown",
   "id": "e492ed4a",
   "metadata": {
    "slideshow": {
     "slide_type": "subslide"
    }
   },
   "source": [
    "# Tuples - Swapping Variables\n",
    "  - You can swap variables using a transitory tuple"
   ]
  },
  {
   "cell_type": "code",
   "execution_count": null,
   "id": "20f0131b",
   "metadata": {
    "slideshow": {
     "slide_type": "code"
    }
   },
   "outputs": [],
   "source": [
    "a, b = 42, 3.14\n",
    "b, a = a, b\n",
    "print((a, b))"
   ]
  },
  {
   "cell_type": "markdown",
   "id": "2a9e5453",
   "metadata": {
    "slideshow": {
     "slide_type": "slide"
    }
   },
   "source": [
    "# Tuple methods\n",
    "  - Tuples have few associated methods because they are immutable.\n",
    "  - One useful method is, `count()`.\n",
    "  - <small> https://en.wikipedia.org/wiki/File:MagrittePipe.jpg </small>"
   ]
  },
  {
   "cell_type": "code",
   "execution_count": null,
   "id": "5eac0ed2",
   "metadata": {
    "slideshow": {
     "slide_type": "code"
    }
   },
   "outputs": [],
   "source": [
    "tuple(\"Leci n'est pas une pipe.\").count('e')"
   ]
  },
  {
   "cell_type": "markdown",
   "id": "35e3895b",
   "metadata": {
    "slideshow": {
     "slide_type": "slide"
    }
   },
   "source": [
    "# Test\n",
    " - Item 1 <!-- .element: class=\"fragment\" data-fragment-index=\"2\" -->\n",
    " - Item 2 <!-- .element: class=\"fragment\" data-fragment-index=\"1\" -->"
   ]
  }
 ],
 "metadata": {
  "author": "James Henderson, PhD",
  "date": "August 9, 2021",
  "jupytext": {
   "cell_metadata_json": true,
   "notebook_metadata_filter": "rise,author,date,markdown",
   "text_representation": {
    "extension": ".md",
    "format_name": "markdown",
    "format_version": "1.2",
    "jupytext_version": "1.5.2"
   }
  },
  "kernelspec": {
   "display_name": "Python 3",
   "language": "python",
   "name": "python3"
  },
  "markdown": {
   "extensions": "footnotes"
  },
  "rise": {
   "autolaunch": true,
   "enable_chalkboard": true,
   "header": "<h3> Stats 507 - Built-In Data Structures",
   "progress": true,
   "scroll": true,
   "theme": "solarized",
   "transition": "convex"
  }
 },
 "nbformat": 4,
 "nbformat_minor": 5
}
