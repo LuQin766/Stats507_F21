{
 "cells": [
  {
   "cell_type": "markdown",
   "id": "9f3798ba",
   "metadata": {
    "slideshow": {
     "slide_type": "slide"
    }
   },
   "source": [
    "## Resampling Methods\n",
    "*Stats 507, Fall 2021*\n",
    "\n",
    "James Henderson, PhD  \n",
    "October 5 & 7, 2021"
   ]
  },
  {
   "cell_type": "markdown",
   "id": "aa7cdaea",
   "metadata": {
    "slideshow": {
     "slide_type": "slide"
    }
   },
   "source": [
    "## Overview\n",
    "  - [Resampling](#/slide-2-0)\n",
    "  - The [Bootstrap](#/slide-3-0)\n",
    "  - Bootstrap [Example](#/slide-6-0)\n",
    "  - [Permutation Tests](#/slide-9-0)\n",
    "  - [Takeaways](#/slide-10-0)\n",
    " "
   ]
  },
  {
   "cell_type": "markdown",
   "id": "99804427",
   "metadata": {
    "slideshow": {
     "slide_type": "slide"
    }
   },
   "source": [
    "## Resampling\n",
    "- [Resampling](https://en.wikipedia.org/wiki/Resampling_(statistics)) is an\n",
    "   umbrella term for a number of statistical techniques used to estimate \n",
    "   quantities related to the sampling distribution of an estimator.  "
   ]
  },
  {
   "cell_type": "markdown",
   "id": "2d91dbde",
   "metadata": {
    "slideshow": {
     "slide_type": "subslide"
    }
   },
   "source": [
    "## Resampling Methods\n",
    "- Techniques that fall under the resampling umbrella include:  \n",
    "  + the bootstrap\n",
    "  + sub-sampling or the \"m out of n\" bootstrap\n",
    "  + the jack-knife\n",
    "  + permutation testing\n",
    "  + cross validation.\n",
    "\n",
    "- The utility of all of these techniques is greatly enhanced by the ability to \n",
    "  automate the resampling process and subsequent computations."
   ]
  },
  {
   "cell_type": "markdown",
   "id": "b38b280b",
   "metadata": {
    "slideshow": {
     "slide_type": "slide"
    }
   },
   "source": [
    "## Bootstrap \n",
    "- The bootstrap is a generic statistical method for estimating the variance \n",
    "  of an estimator.\n",
    "- Used to find confidence intervals when exact or \n",
    "  asymptotic analytic formulas are unavailable or unsatisfactory."
   ]
  },
  {
   "cell_type": "markdown",
   "id": "19e63065",
   "metadata": {
    "slideshow": {
     "slide_type": "subslide"
    }
   },
   "source": [
    "## Non-parametric Bootstrap  \n",
    "- The basic idea of the bootstrap is to build up the sampling distribution of\n",
    "  an estimator by resampling the data many times. \n",
    "- In the _non-parametric bootstrap_  this is done by drawing $B$ copies of the\n",
    "  data from the empirical distribution, $\\mathbb{P}$: \n",
    "\n",
    "$$\n",
    "  X_1, \\dots, X_n \\sim_{iid} P, \\qquad \n",
    " \\mathbb{P}(t) = \\frac{1}{n} \\sum_{i=1}^n 1[X_i \\le t]\n",
    "$$\n"
   ]
  },
  {
   "cell_type": "markdown",
   "id": "bc87b470",
   "metadata": {
    "slideshow": {
     "slide_type": "subslide"
    }
   },
   "source": [
    "## Parametric Bootstrap\n",
    "- In the _parametric bootstrap_ the data are instead re-sampled from an\n",
    "  (assumed) parametric (e.g. Gaussian) estimate of $P$. \n",
    "- For a comparison of the parametric and non-parametric bootstrap see the\n",
    "  slides from [this talk][taob] by Robert Tibshirani.  \n",
    "\n",
    "[taob]: https://statweb.stanford.edu/~tibs/ftp/guelph.ps"
   ]
  },
  {
   "cell_type": "markdown",
   "id": "c1bec645",
   "metadata": {
    "slideshow": {
     "slide_type": "subslide"
    }
   },
   "source": [
    "## Bootstrap Confidence Intervals  \n",
    "- There are various methods for constructing a confidence interval for an \n",
    "  estimator $\\bar{\\theta}(X)$ using a bootstrap sample.\n",
    "- The one I will emphasize is the _percentile method_ in which the\n",
    "  confidence bounds are taken as sample quantiles from the bootstrap \n",
    "  distribution of the estimator.\n"
   ]
  },
  {
   "cell_type": "markdown",
   "id": "1d83fc6e",
   "metadata": {
    "slideshow": {
     "slide_type": "subslide"
    }
   },
   "source": [
    "## Bootstrap - Percentile Method \n",
    "- For example, if $\\hat P(t)$ is the empirical distribution function of \n",
    "  $\\bar{\\theta}(X)$, then a 95% confidence interval estimated using the \n",
    "  percentile method is: $\\left(\\hat{P}^{-1}(.025), \\hat{P}^{-1}(.975)\\right)$. \n"
   ]
  },
  {
   "cell_type": "markdown",
   "id": "07192017",
   "metadata": {
    "slideshow": {
     "slide_type": "slide"
    }
   },
   "source": [
    "## Imports\n",
    "- Here are the imports we'll use in these slides. "
   ]
  },
  {
   "cell_type": "code",
   "execution_count": null,
   "id": "429b2613",
   "metadata": {
    "slideshow": {
     "slide_type": "code"
    }
   },
   "outputs": [],
   "source": [
    "# model imports\n",
    "import numpy as np\n",
    "import pandas as pd\n",
    "from scipy.stats import t, bootstrap\n",
    "import matplotlib.pyplot as plt\n",
    "import matplotlib.pylab as pylab\n",
    "import statsmodels.api as sm\n",
    "from os.path import exists"
   ]
  },
  {
   "cell_type": "markdown",
   "id": "805ccc14",
   "metadata": {
    "slideshow": {
     "slide_type": "slide"
    }
   },
   "source": [
    "## Figure Settings\n",
    "- Here is one way to create global settings for figure appearance.\n",
    "- [Hat tip][ht]\n",
    "\n",
    "[ht]: https://stackoverflow.com/questions/12444716/how-do-i-set-the-figure-title-and-axes-labels-font-size-in-matplotlib"
   ]
  },
  {
   "cell_type": "code",
   "execution_count": null,
   "id": "efcd7a51",
   "metadata": {
    "slideshow": {
     "slide_type": "code"
    }
   },
   "outputs": [],
   "source": [
    "params = {'legend.fontsize': 'x-large',\n",
    "         'axes.labelsize': 'x-large',\n",
    "         'axes.titlesize':'x-large',\n",
    "         'xtick.labelsize':'x-large',\n",
    "         'ytick.labelsize':'x-large'}\n",
    "pylab.rcParams.update(params)"
   ]
  },
  {
   "cell_type": "markdown",
   "id": "0099e8d5",
   "metadata": {
    "slideshow": {
     "slide_type": "slide"
    }
   },
   "source": [
    "## Bootstrap Example\n",
    "- As an example, we'll use the \"ToothGrowth\" data from the R datasets package.\n",
    "- We can import this data using statsmodels. "
   ]
  },
  {
   "cell_type": "code",
   "execution_count": null,
   "id": "c48c43f7",
   "metadata": {
    "slideshow": {
     "slide_type": "code"
    }
   },
   "outputs": [],
   "source": [
    "# tooth growth data\n",
    "file = 'tooth_growth.feather'\n",
    "if exists(file):\n",
    "    tg_data = pd.read_feather(file)\n",
    "else: \n",
    "    tooth_growth = sm.datasets.get_rdataset('ToothGrowth')\n",
    "    #print(tooth_growth.__doc__)\n",
    "    tg_data = tooth_growth.data\n",
    "    tg_data.to_feather(file)\n",
    "#tg_data"
   ]
  },
  {
   "cell_type": "markdown",
   "id": "bc9aa557",
   "metadata": {
    "slideshow": {
     "slide_type": "subslide"
    }
   },
   "source": [
    "## ToothGrowth Example\n",
    "- We'll compare the two supplementation methods within each dose\n",
    "  using a ratio of the mean tooth growth. "
   ]
  },
  {
   "cell_type": "code",
   "execution_count": null,
   "id": "b3f60ab9",
   "metadata": {
    "slideshow": {
     "slide_type": "code"
    }
   },
   "outputs": [],
   "source": [
    "mean_ratio = (tg_data\n",
    " .groupby(['supp', 'dose']) # orders by supplement\n",
    " .mean()\n",
    " .groupby(['dose'])\n",
    " .agg(lambda x: x[0] / x[1])\n",
    " )\n",
    "mean_ratio"
   ]
  },
  {
   "cell_type": "markdown",
   "id": "fe7f7dfc",
   "metadata": {
    "slideshow": {
     "slide_type": "subslide"
    }
   },
   "source": [
    "## Pandas sample method\n",
    "- We can draw bootstrap samples using `.sample()`.\n",
    "- The re-sampling process should reflect the original design.\n",
    "- In this case, we condition on the supplementation method and dose and\n",
    "  re-sample with each group. "
   ]
  },
  {
   "cell_type": "code",
   "execution_count": null,
   "id": "b3b88567",
   "metadata": {
    "slideshow": {
     "slide_type": "code"
    }
   },
   "outputs": [],
   "source": [
    "seed = 2021 * 10 * 3\n",
    "\n",
    "(tg_data\n",
    " .groupby(['supp', 'dose'])\n",
    " .sample(frac=1, replace=True, random_state=seed)\n",
    " )"
   ]
  },
  {
   "cell_type": "markdown",
   "id": "e8658d07",
   "metadata": {
    "slideshow": {
     "slide_type": "subslide"
    }
   },
   "source": [
    "## Ratio of Means\n",
    "- Here is a function using NumPy to compute the ratio of means\n",
    "  across many bootstrap replicates."
   ]
  },
  {
   "cell_type": "code",
   "execution_count": null,
   "id": "0fc2f4f1",
   "metadata": {
    "lines_to_next_cell": 2,
    "slideshow": {
     "slide_type": "code"
    }
   },
   "outputs": [],
   "source": [
    "def ratio_of_means(df, n_boot, x, invert=False):\n",
    "    \"\"\"\n",
    "    Compute ratios of means across replicate datasets.\n",
    "\n",
    "    The column `df[x]` is reshaped into `2 * n_boot` replicates and \n",
    "    the means of the first `n_boot` replicates are compared (pairwise) to \n",
    "    the means of the second block of `n_boot` using a ratio.  \n",
    "\n",
    "    Parameters\n",
    "    ----------\n",
    "    df : pandas DataFrame\n",
    "        A pandas DataFrame in which to find the column x.\n",
    "    n_boot : int\n",
    "        The number of bootstrap replications.\n",
    "    x : str\n",
    "        A numeric column in df.\n",
    "    invert : bool, optional\n",
    "        If True (False) use means from the second half of x as denominators\n",
    "        (numerators). The default is False.\n",
    "\n",
    "    Returns\n",
    "    -------\n",
    "    None.\n",
    "\n",
    "    \"\"\"\n",
    "    x = np.array(df[x])\n",
    "    x = x.reshape((2, n_boot, int(len(x) / (2 * n_boot))))\n",
    "    rom = np.mean(x[0, :, :], axis=1) / np.mean(x[1, :, :], axis=1)\n",
    "    if invert: \n",
    "        rom = 1 / rom\n",
    "    return(pd.DataFrame({'rom': rom}))"
   ]
  },
  {
   "cell_type": "markdown",
   "id": "5590aacc",
   "metadata": {
    "slideshow": {
     "slide_type": "subslide"
    }
   },
   "source": [
    "## Point Estimates\n",
    "- Here are the point estimates using the function. "
   ]
  },
  {
   "cell_type": "code",
   "execution_count": null,
   "id": "7f8ef385",
   "metadata": {
    "slideshow": {
     "slide_type": "code"
    }
   },
   "outputs": [],
   "source": [
    "est_ratios = (tg_data\n",
    "  .groupby('dose')\n",
    "  .apply(lambda gdf: ratio_of_means(gdf, 1, x='len', invert=True))\n",
    "  )\n",
    "est_ratios.reset_index(level=1, drop=True, inplace=True)\n",
    "est_ratios"
   ]
  },
  {
   "cell_type": "markdown",
   "id": "8cab220a",
   "metadata": {
    "slideshow": {
     "slide_type": "subslide"
    }
   },
   "source": [
    "## Point Estimates\n",
    "- To be safe, it's better to explicitly sort here and use `invert` to \n",
    "  specify the desired order. "
   ]
  },
  {
   "cell_type": "code",
   "execution_count": null,
   "id": "13219814",
   "metadata": {
    "slideshow": {
     "slide_type": "code"
    }
   },
   "outputs": [],
   "source": [
    "est_ratios = (tg_data\n",
    "  .sort_values(['dose', 'supp'])\n",
    "  .groupby('dose')\n",
    "  .apply(lambda gdf: ratio_of_means(gdf, 1, x='len', invert=False))\n",
    "  )\n",
    "est_ratios.reset_index(level=1, drop=True, inplace=True)\n",
    "est_ratios"
   ]
  },
  {
   "cell_type": "markdown",
   "id": "d39ea1a7",
   "metadata": {
    "slideshow": {
     "slide_type": "subslide"
    }
   },
   "source": [
    "## Bootstrap replicate estimates\n",
    "- Now we're ready to apply the bootstrap to form replicate estimates."
   ]
  },
  {
   "cell_type": "code",
   "execution_count": null,
   "id": "3a6c7779",
   "metadata": {
    "lines_to_next_cell": 0,
    "slideshow": {
     "slide_type": "code"
    }
   },
   "outputs": [],
   "source": [
    "n_boot = 1000\n",
    "# ratios get inverted b/c OJ < VC alphabetically\n",
    "ratios = (tg_data\n",
    "  .groupby(['supp', 'dose'])\n",
    "  .sample(frac=n_boot, replace=True, random_state = seed)\n",
    "  .groupby('dose')\n",
    "  .apply(lambda gdf: ratio_of_means(gdf, n_boot, x='len', invert=False))\n",
    "  )\n",
    "ratios.groupby('dose').size()"
   ]
  },
  {
   "cell_type": "markdown",
   "id": "fd8d49a3",
   "metadata": {
    "slideshow": {
     "slide_type": "subslide"
    }
   },
   "source": [
    "## Bootstrap replicate estimates  \n",
    "- As a \"diagnostic\" check, it's a good idea to visualize the estimates. "
   ]
  },
  {
   "cell_type": "code",
   "execution_count": null,
   "id": "93190430",
   "metadata": {
    "slideshow": {
     "slide_type": "code"
    }
   },
   "outputs": [],
   "source": [
    "fig0, ax0 = plt.subplots(nrows=3, sharex=True)\n",
    "_ = fig0.set_size_inches(8, 8)\n",
    "fig0.tight_layout()\n",
    "for i, d in enumerate([0.5, 1.0, 2.0]):\n",
    "    lab = 'dose = {0:3.1f}'.format(d)\n",
    "    _ = (ratios\n",
    "    .query('dose == @d')['rom']\n",
    "    .plot\n",
    "    .hist(ax=ax0[i], legend=False, label=lab)\n",
    "    )\n",
    "    _ = ax0[i].legend()"
   ]
  },
  {
   "cell_type": "markdown",
   "id": "484cb17c",
   "metadata": {
    "lines_to_next_cell": 0,
    "slideshow": {
     "slide_type": "subslide"
    }
   },
   "source": [
    "## Bootstrap replicate estimates  \n",
    "- Here is an alternate version of the previous figure. "
   ]
  },
  {
   "cell_type": "code",
   "execution_count": null,
   "id": "5b983be9",
   "metadata": {},
   "outputs": [],
   "source": [
    "fig1, ax1 = plt.subplots(nrows=1)\n",
    "_ = fig1.set_size_inches(8, 4)\n",
    "col = ['darkred', 'darkblue', 'darkgreen']\n",
    "for i, d in enumerate([0.5, 1.0, 2.0]):\n",
    "    lab = 'dose = {0:3.1f}'.format(d)\n",
    "    _ = (ratios.\n",
    "    query('dose == @d')['rom']\n",
    "    .plot\n",
    "    .hist(ax=ax1, color=col[i], alpha=0.5, label=lab)\n",
    "    )\n",
    "_ = ax1.legend()"
   ]
  },
  {
   "cell_type": "markdown",
   "id": "75bebca9",
   "metadata": {
    "slideshow": {
     "slide_type": "subslide"
    }
   },
   "source": [
    "## Percentile Method\n",
    "  - To use the percentile method, we directly estimate the confidence bounds\n",
    "    using quantiles from the bootstrap distribution.     "
   ]
  },
  {
   "cell_type": "code",
   "execution_count": null,
   "id": "ae491def",
   "metadata": {
    "slideshow": {
     "slide_type": "code"
    }
   },
   "outputs": [],
   "source": [
    "bse = (ratios\n",
    " .groupby(['dose'])\n",
    " .quantile((.025,  .975))\n",
    " )\n",
    "bse.index.names = ['dose', 'quantile']\n",
    "bse = bse.reset_index().pivot(index='dose', columns='quantile', values=['rom'])\n",
    "bse.columns = ('lwr', 'upr')\n",
    "erb = est_ratios.join(bse)\n",
    "erb['Ratio of Means (95% CI)'] = (erb\n",
    "             .groupby(['dose'])\n",
    "             .apply(lambda x: \n",
    "                    '{0:4.2f} ({1:4.2f}, {2:4.2f})'.format(\n",
    "                        x['rom'].values[0],\n",
    "                        x['lwr'].values[0],\n",
    "                        x['upr'].values[0])\n",
    "                   )\n",
    "            )\n",
    "erb[['Ratio of Means (95% CI)']]"
   ]
  },
  {
   "cell_type": "markdown",
   "id": "82bd5b16",
   "metadata": {
    "slideshow": {
     "slide_type": "subslide"
    }
   },
   "source": [
    "## Vertical Lines\n",
    "  - We can use `plt.axvline()` to illustrate this in our plot.     "
   ]
  },
  {
   "cell_type": "code",
   "execution_count": null,
   "id": "443bfede",
   "metadata": {
    "slideshow": {
     "slide_type": "code"
    }
   },
   "outputs": [],
   "source": [
    "fig0, ax0 = plt.subplots(nrows=3, sharex=True)\n",
    "_ = fig0.set_size_inches(8, 8)\n",
    "fig0.tight_layout()\n",
    "for i, d in enumerate([0.5, 1.0, 2.0]):\n",
    "    lab = 'dose = {0:3.1f}'.format(d)\n",
    "    _ = (ratios\n",
    "    .query('dose == @d')['rom']\n",
    "    .plot\n",
    "    .hist(ax=ax0[i], legend=False, label=lab)\n",
    "    )\n",
    "    _ = ax0[i].legend()\n",
    "    ax0[i].axvline(x=erb['lwr'].values[i], color='black')\n",
    "    ax0[i].axvline(x=erb['upr'].values[i], color='black')"
   ]
  },
  {
   "cell_type": "markdown",
   "id": "0136fffb",
   "metadata": {
    "slideshow": {
     "slide_type": "slide"
    }
   },
   "source": [
    "## Alternate approach\n",
    "  - An alternate approach would be to compute the difference on the \n",
    "    log scale.\n",
    "  - Here we compare the ratio of *geometric means* using Welch's method. "
   ]
  },
  {
   "cell_type": "code",
   "execution_count": null,
   "id": "385a378d",
   "metadata": {},
   "outputs": [],
   "source": [
    "# Welch's (unequal variance) t-test on log values\n",
    "ert = {}\n",
    "for dose in [0.5, 1, 2]:\n",
    "    # extract data\n",
    "    a = tg_data.query('dose == @dose and supp == \"OJ\"')['len'].values\n",
    "    b = tg_data.query('dose == @dose and supp == \"VC\"')['len'].values\n",
    "    # diff on a log scale\n",
    "    a, b = np.log(a), np.log(b)\n",
    "    a_bar, b_bar = np.mean(a), np.mean(b)\n",
    "    d = a_bar - b_bar\n",
    "    # std error\n",
    "    v_a, v_b = np.var(a, ddof=1), np.var(b, ddof=1)\n",
    "    n_a, n_b = len(a), len(b)\n",
    "    se = np.sqrt(v_a / n_a + v_b / n_b)\n",
    "    # degrees of freedom using Welch-Satterthwhaite approximation\n",
    "    df = (v_a / n_a + v_b / n_b) ** 2 \n",
    "    df = df / (\n",
    "      v_a ** 2 / n_a ** 2 / (n_a - 1) + v_b ** 2 / n_b ** 2 / (n_b - 1) \n",
    "    )\n",
    "    tt = t.ppf(.975, df=df)\n",
    "    lwr, upr = d - tt * se, d + tt * se\n",
    "    d, lwr, upr = np.exp(d), np.exp(lwr), np.exp(upr)\n",
    "    ci = '{0:4.2f} ({1:4.2f}, {2:4.2f})'.format(d, lwr, upr)\n",
    "    ert.update({dose: ci})\n",
    "\n",
    "welch = pd.Series(ert)\n",
    "erb['Ratio of Geometric Means (95% CI)'] = welch\n",
    "erb.iloc[:, 3:5]"
   ]
  },
  {
   "cell_type": "markdown",
   "id": "97f7d59a",
   "metadata": {
    "lines_to_next_cell": 2,
    "slideshow": {
     "slide_type": "slide"
    }
   },
   "source": [
    "## SciPy Bootstrap\n",
    "  - SciPy stats also has a [bootstrap][spb] method.\n",
    "  - It takes a function to compute the *statistic* (estimator)\n",
    "    and requires an axis argument. \n",
    "  - The confidence interval is reported in an attribute of that name.\n",
    "[spb]: https://docs.scipy.org/doc/scipy/reference/generated/scipy.stats.bootstrap.html"
   ]
  },
  {
   "cell_type": "code",
   "execution_count": null,
   "id": "cf4ad2b4",
   "metadata": {
    "slideshow": {
     "slide_type": "code"
    }
   },
   "outputs": [],
   "source": [
    "rng = np.random.default_rng(10 + 7 + 2021)\n",
    "erb_scipy = {}\n",
    "for dose in [0.5, 1, 2]:\n",
    "    # extract data\n",
    "    a = tg_data.query('dose == @dose and supp == \"OJ\"')['len'].values\n",
    "    b = tg_data.query('dose == @dose and supp == \"VC\"')['len'].values\n",
    "    res = bootstrap(\n",
    "        (a, b),\n",
    "        lambda a, b, axis: np.mean(a, axis=axis) / np.mean(b, axis=axis),\n",
    "        method='percentile',\n",
    "        axis=0,\n",
    "        random_state=rng\n",
    "    )\n",
    "    lwr, upr = res.confidence_interval\n",
    "    ci = '{0:4.2f} ({1:4.2f}, {2:4.2f})'.format(\n",
    "      np.mean(a) / np.mean(b), lwr, upr)\n",
    "    erb_scipy.update({dose: ci})\n",
    "erb['Ratio of Means (95% CI-Scipy)'] = pd.Series(erb_scipy)\n",
    "erb.iloc[:, [3, 5]]"
   ]
  },
  {
   "cell_type": "markdown",
   "id": "d6dc929d",
   "metadata": {
    "slideshow": {
     "slide_type": "slide"
    }
   },
   "source": [
    "## Permutation testing\n",
    "  - Where the bootstrap uses resampling to build up an estimate of\n",
    "    the *sampling distribution*.\n",
    "  - For null hypothesis testing, we need the distribution of our statistic\n",
    "    under a *null distribution*. \n",
    "  - For a null hypothesis of no association or no difference, this can often\n",
    "    be accomplished using a permutation test. "
   ]
  },
  {
   "cell_type": "markdown",
   "id": "ea0a5909",
   "metadata": {
    "slideshow": {
     "slide_type": "subslide"
    }
   },
   "source": [
    "## Permutation testing\n",
    "  - If we have $n$ total samples from 2 groups of size $k, \\ell$, then there \n",
    "    are $m_c = {n \\choose k}$ possible group assignments. \n",
    "  - Note that there are actually $m_p = n!$ permutations, but they are not all \n",
    "    unique in terms of group assignment.  \n",
    "  - How many possible groupings are there if we have $g$ groups of size \n",
    "    $k_1, \\dots, k_g$?  "
   ]
  },
  {
   "cell_type": "markdown",
   "id": "390974b0",
   "metadata": {
    "slideshow": {
     "slide_type": "subslide"
    }
   },
   "source": [
    "## Permutation testing\n",
    "  - When $m_c$ is small all possible group assignments can be considered. \n",
    "  - Let $\\kappa_i$ denote the $i^{th}$ combination and $\\bar \\theta(X)$ be the \n",
    "    statistic of interest. \n",
    "  - Then, the permutation p-value for a two-sided test is:\n",
    "  \n",
    "$$\n",
    " p = \\frac{1}{m_c} \\sum_{i=1}^{m_c}\n",
    "  1[~|\\bar \\theta(X)|~ \\le ~|\\bar\\theta(\\kappa_i(X))|~].\n",
    "$$\n"
   ]
  },
  {
   "cell_type": "markdown",
   "id": "ffaba691",
   "metadata": {
    "slideshow": {
     "slide_type": "subslide"
    }
   },
   "source": [
    "## Permutation testing  \n",
    "  - More commonly, when $m_c$ is large we approximate the previous sum\n",
    "    using a large but tractable number of random permutations.\n",
    "  - If we sample $N$ permutations $\\{\\tilde \\pi_i(X)]\\}_{i=1}^N$ we can form\n",
    "    a Monte Carlo approximation:\n",
    "\n",
    "$$\n",
    "\\hat p = \\frac{1}{N} \\sum_{i=1}^N \n",
    " 1[~|\\bar \\theta(X)|~ \\le ~|\\bar\\theta(\\tilde\\pi_i(X))|~].\n",
    "$$\n"
   ]
  },
  {
   "cell_type": "markdown",
   "id": "defb0170",
   "metadata": {
    "slideshow": {
     "slide_type": "subslide"
    }
   },
   "source": [
    "## Permutation testing  \n",
    "  - The estimate, $\\hat p$, follows a Binomial distribution.\n",
    "  - Use to estimate the Monte Carlo error in our estimate.\n",
    "  - Particularly important if our estimate is near a decision boundary, \n",
    "    e.g. $\\alpha = 0.05$. \n"
   ]
  },
  {
   "cell_type": "markdown",
   "id": "ae7112b6",
   "metadata": {
    "slideshow": {
     "slide_type": "subslide"
    }
   },
   "source": [
    "## Permutation testing p-value \n",
    " - Because the identity permutation $\\pi(X) = X$, has\n",
    "   $|\\bar \\theta(X)| \\le |\\bar\\theta(\\pi(X))|$ it is conventional to add one \n",
    "   to  both the numerator and denominator of the p-value estimate:\n",
    "\n",
    "$$\n",
    "\\hat p = \\frac{1}{N+1} \\left(1 + \\sum_{i=1}^N 1[~|\\bar \\theta(X)|~\n",
    " \\le ~|\\bar\\theta(\\tilde\\pi_i(X))|~]\\right).\n",
    "$$"
   ]
  },
  {
   "cell_type": "markdown",
   "id": "f1f01b2e",
   "metadata": {
    "slideshow": {
     "slide_type": "subslide"
    }
   },
   "source": [
    "## ToothGrowth Example\n",
    "- Let $\\mu_S(d)$ be the population mean length for supplement $S$ at dose $d$.\n",
    "- Let's test the following hypotheses for each dose at level $0.05 / 3$:\n",
    "\n",
    "$$\n",
    "H_0: \\frac{\\mu_{OJ}(d)}{\\mu_{VC}(d)} = 1,~ \n",
    "H_1: \\frac{\\mu_{OJ}(d)}{\\mu_{VC}(d)} \\ne 1\n",
    "$$\n"
   ]
  },
  {
   "cell_type": "code",
   "execution_count": null,
   "id": "75aed39f",
   "metadata": {
    "lines_to_next_cell": 0,
    "slideshow": {
     "slide_type": "code"
    }
   },
   "outputs": [],
   "source": [
    "def perm_rom(a, b, n_perm=1000, alternative='two-sided', rng=None):\n",
    "    \"\"\"\n",
    "    Compute a permutation test p-value for the null that $\\mu_a / \\mu_b = 1$.\n",
    "\n",
    "    Parameters\n",
    "    ----------\n",
    "    a, b - ndarray or convertible to such using np.asarray().\n",
    "      Sequences of observations from two independent groups.\n",
    "    n_perm - integer,\n",
    "      The number of permutations to use in the approximation. \n",
    "  \n",
    "    Returns\n",
    "    -------\n",
    "    A float between 0 and 1 estimating the p-value. \n",
    "    \"\"\"\n",
    "    assert alternative in ['two-sided', 'greater', 'less']\n",
    "    if rng is None:\n",
    "        rng = np.random.default_rng()\n",
    "    elif isinstance(rng, int):\n",
    "        rng = np.random.default_rng(rng)\n",
    "    # convert of ndarray if needed\n",
    "    a, b = np.asarray(a), np.asarray(b)\n",
    "    # the observed ratio\n",
    "    obs = np.mean(a) / np.mean(b)\n",
    "    # length\n",
    "    n_a = len(a)\n",
    "    # concatenate \n",
    "    ab = np.array([a, b]).reshape((n_a + len(b), ))\n",
    "    # permutations\n",
    "    two = 0\n",
    "    for i in range(n_perm): \n",
    "        rng.shuffle(ab)\n",
    "        mean_a, mean_b = np.mean(ab[0:n_a]), np.mean(ab[n_a:])\n",
    "        if max(mean_a, mean_b) / min(mean_a, mean_b) >= obs:\n",
    "            two += 1\n",
    "    # construct p-value\n",
    "    p = (1 + two) / (n_perm + 1)\n",
    "    return(p)\n",
    "\n",
    "assert 0 < perm_rom([2] * 7 + [1.9] * 3, [1.9] * 6 + [2] * 4, rng=None) < 1\n",
    "assert 0 < perm_rom([2] * 7 + [1.9] * 3, [1.9] * 6 + [2] * 4, rng=42) < 1"
   ]
  },
  {
   "cell_type": "markdown",
   "id": "68e4a5c0",
   "metadata": {
    "slideshow": {
     "slide_type": "subslide"
    }
   },
   "source": [
    "## ToothGrowth Example\n",
    "- We can apply the function to each dose. "
   ]
  },
  {
   "cell_type": "code",
   "execution_count": null,
   "id": "e6d274a7",
   "metadata": {
    "slideshow": {
     "slide_type": "code"
    }
   },
   "outputs": [],
   "source": [
    "erb['Permutation p-value'] = (tg_data\n",
    "     .groupby(['dose'])\n",
    "     .apply(lambda gdf: perm_rom(\n",
    "         gdf.query('supp == \"OJ\"')['len'].values, \n",
    "         gdf.query('supp == \"VC\"')['len'].values,\n",
    "         n_perm=1000,\n",
    "         rng=rng),\n",
    "           )\n",
    " ).transform(lambda x: np.round(x, 3))\n",
    "\n",
    "erb.iloc[:, 3:8]"
   ]
  },
  {
   "cell_type": "markdown",
   "id": "7c260cbd",
   "metadata": {
    "slideshow": {
     "slide_type": "slide"
    }
   },
   "source": [
    "## Takeaways - Bootstrap\n",
    " - The bootstrap is a widely used method for constructing confidence interval\n",
    "   estimates by resampling data with replacement. \n",
    " - The *percentile* method uses sample quantiles from the bootstrap \n",
    "   distribution to estimate confidence bounds. \n",
    " - More generally, the bootstrap can be used to estimate quantities related to\n",
    "   an estimator's sampling distribution.\n",
    " - The bootstrap estimates the *sampling distribution*."
   ]
  },
  {
   "cell_type": "markdown",
   "id": "10f035f5",
   "metadata": {
    "slideshow": {
     "slide_type": "subslide"
    }
   },
   "source": [
    "## Takeaways - Permutation tests\n",
    " - Permutation tests estimate a *null distribution*. \n",
    " - Carry out a permutation test by (e.g.) permuting group labels to construct\n",
    "   ane estimate of the null distribution for a test-statistic. "
   ]
  }
 ],
 "metadata": {
  "jupytext": {
   "cell_metadata_json": true,
   "notebook_metadata_filter": "rise"
  },
  "kernelspec": {
   "display_name": "Python 3 (ipykernel)",
   "language": "python",
   "name": "python3"
  },
  "rise": {
   "autolaunch": true,
   "enable_chalkboard": true,
   "header": "<a href=\"#/slide-0-0\"> <h3> Stats 507 - Resampling </a>",
   "progress": true,
   "scroll": true,
   "theme": "solarized",
   "transition": "convex"
  }
 },
 "nbformat": 4,
 "nbformat_minor": 5
}
