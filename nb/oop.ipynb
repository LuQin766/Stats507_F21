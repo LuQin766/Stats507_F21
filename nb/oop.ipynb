{
 "cells": [
  {
   "cell_type": "markdown",
   "id": "c381a73d",
   "metadata": {
    "slideshow": {
     "slide_type": "slide"
    }
   },
   "source": [
    "## Object Oriented Programming\n",
    "*Stats 507, Fall 2021*\n",
    "\n",
    "James Henderson, PhD  \n",
    "November 23, 2021"
   ]
  },
  {
   "cell_type": "markdown",
   "id": "3d0877fd",
   "metadata": {
    "slideshow": {
     "slide_type": "slide"
    }
   },
   "source": [
    "## Overview\n",
    "  - [Object Oriented Programing](#/slide-2-0)\n",
    "  - [Classes](#/slide-3-0)\n",
    "  - [Methods](#/slide-4-0)\n",
    "  - [Attributes](#/slide-5-0)\n",
    "  - [Inheritance](#/slide-6-0)\n",
    "  - [Takeaways](#/slide-7-0)"
   ]
  },
  {
   "cell_type": "markdown",
   "id": "facdf1ea",
   "metadata": {
    "slideshow": {
     "slide_type": "slide"
    }
   },
   "source": [
    "## Object Oriented Programming\n",
    "> Object-oriented programming (OOP) is a programming paradigm based on the \n",
    "> concept of \"objects\", which can contain data and code: data in the form of \n",
    "> fields (often known as attributes or properties), and code, in the form of\n",
    "> procedures (often known as methods). \n",
    "\n",
    "<https://en.wikipedia.org/wiki/Object-oriented_programming>"
   ]
  },
  {
   "cell_type": "markdown",
   "id": "710f96d6",
   "metadata": {
    "slideshow": {
     "slide_type": "subslide"
    }
   },
   "source": [
    "## Object Oriented Programming\n",
    "> A feature of objects is that an object's own procedures can access and often\n",
    "> modify the data fields of itself (objects have a notion of this or self).\n",
    "> In OOP, computer programs are designed by making them out of objects that \n",
    "> interact with one another.\n",
    "\n",
    "<https://en.wikipedia.org/wiki/Object-oriented_programming>"
   ]
  },
  {
   "cell_type": "markdown",
   "id": "c89a02f1",
   "metadata": {
    "slideshow": {
     "slide_type": "slide"
    }
   },
   "source": [
    "## Classes\n",
    " - A *class* is a programer-defined object type. \n",
    " - Define a class using the `class` keyword and an indented body. \n",
    " - Class names use `CamelCase` by convention. "
   ]
  },
  {
   "cell_type": "code",
   "execution_count": null,
   "id": "64e48658",
   "metadata": {
    "slideshow": {
     "slide_type": "code"
    }
   },
   "outputs": [],
   "source": [
    "class Secret:\n",
    "    \"\"\"\n",
    "    Hold a string or number but display a placeholder when printing.\n",
    "    \"\"\"\n",
    "    pass"
   ]
  },
  {
   "cell_type": "markdown",
   "id": "78c6893b",
   "metadata": {
    "slideshow": {
     "slide_type": "subslide"
    }
   },
   "source": [
    "## Constructor\n",
    " - The class name is callable as a *constructor* function that\n",
    "   creates an *instance* of the class. \n",
    " - Modify the constructor by defining an `.__init__()` method. "
   ]
  },
  {
   "cell_type": "code",
   "execution_count": null,
   "id": "4b32fb23",
   "metadata": {
    "lines_to_next_cell": 0,
    "slideshow": {
     "slide_type": "code"
    }
   },
   "outputs": [],
   "source": [
    "class Secret:\n",
    "    \"\"\"\n",
    "    Hold a string or number but display a placeholder when printing.\n",
    "    \"\"\"\n",
    "\n",
    "    def __init__(self, x):\n",
    "        \"\"\"\n",
    "        Initialize an object of class Secret.\n",
    "        \"\"\"\n",
    "        self.value = x\n",
    "        self.hidden = 'x' * len(str(x))\n",
    "\n",
    "s1 = Secret(42)\n",
    "print(s1)    \n",
    "assert isinstance(s1, Secret)\n",
    "s1"
   ]
  },
  {
   "cell_type": "markdown",
   "id": "cc3e01f6",
   "metadata": {
    "slideshow": {
     "slide_type": "slide"
    }
   },
   "source": [
    "## Methods\n",
    " - *Methods* are functions that belong to a class.  \n",
    " - Method calls have access to a class's data -- attributes and other \n",
    "   methods. "
   ]
  },
  {
   "cell_type": "markdown",
   "id": "a0f00aa8",
   "metadata": {
    "slideshow": {
     "slide_type": "subslide"
    }
   },
   "source": [
    "## Dunder Methods\n",
    " - \"*Dunder*\" methods defined with a double underscore have a special role \n",
    "    and are how Python handles *method overloading*. \n",
    " - The `__str__` defines a simple string representation of an object and\n",
    "   controls how it prints.  "
   ]
  },
  {
   "cell_type": "code",
   "execution_count": null,
   "id": "a9f286aa",
   "metadata": {
    "slideshow": {
     "slide_type": "code"
    }
   },
   "outputs": [],
   "source": [
    "class Secret:\n",
    "    \"\"\"\n",
    "    Hold a string or number but display a placeholder when printing.\n",
    "    \"\"\"\n",
    "\n",
    "    def __init__(self, x):\n",
    "        \"\"\"\n",
    "        Initialize an object of class Secret.\n",
    "        \"\"\"\n",
    "        self.value = x\n",
    "        self.hidden = 'x' * len(str(x))\n",
    "    \n",
    "    def __str__(self):\n",
    "        \"\"\"\n",
    "        Display 'hidden' value when a Secret is printed.\n",
    "        \"\"\"\n",
    "        return(self.hidden)    \n",
    "\n",
    "s2 = Secret(42)\n",
    "print(s2)\n",
    "s2"
   ]
  },
  {
   "cell_type": "markdown",
   "id": "e442529f",
   "metadata": {
    "slideshow": {
     "slide_type": "subslide"
    }
   },
   "source": [
    "## Dunder Methods\n",
    " - The `__repr__` method provides an official representation of the object and\n",
    "   controls how it is represented without explicit printing.  \n",
    "\n",
    " > Called by the `repr()` built-in function to compute the “official” string\n",
    " > representation of an object.  \n",
    " > If at all possible, this should look like a valid Python expression that\n",
    " > could be used to recreate an object with the same value ... \n",
    "\n",
    " <https://docs.python.org/3/reference/datamodel.html#descriptors>"
   ]
  },
  {
   "cell_type": "code",
   "execution_count": null,
   "id": "87f3631b",
   "metadata": {
    "slideshow": {
     "slide_type": "code"
    }
   },
   "outputs": [],
   "source": [
    "class Secret:\n",
    "    \"\"\"\n",
    "    Hold a string or number but display a placeholder when printing.\n",
    "    \"\"\"\n",
    "\n",
    "    def __init__(self, x):\n",
    "        \"\"\"\n",
    "        Initialize an object of class Secret.\n",
    "        \"\"\"\n",
    "        self.value = x\n",
    "        self.hidden = 'x' * len(str(x))\n",
    "    \n",
    "    def __str__(self):\n",
    "        \"\"\"\n",
    "        Display 'hidden' value when a Secret is printed.\n",
    "        \"\"\"\n",
    "        return(self.hidden)    \n",
    "    \n",
    "    def __repr__(self):\n",
    "        \"\"\"Official string representation\"\"\"\n",
    "        return(self.hidden)\n",
    "\n",
    "s3 = Secret('Life')\n",
    "s3"
   ]
  },
  {
   "cell_type": "markdown",
   "id": "1463abd2",
   "metadata": {
    "slideshow": {
     "slide_type": "subslide"
    }
   },
   "source": [
    "##  Methods\n",
    " - More often we define methods intended to be used with instances\n",
    "   of our class directly. \n",
    " - Here we define a `.reveal()` method to return the value of the secret. "
   ]
  },
  {
   "cell_type": "code",
   "execution_count": null,
   "id": "1cbba325",
   "metadata": {
    "slideshow": {
     "slide_type": "code"
    }
   },
   "outputs": [],
   "source": [
    "class Secret:\n",
    "    \"\"\"\n",
    "    Hold a string or number but display a placeholder when printing.\n",
    "    \"\"\"\n",
    "\n",
    "    def __init__(self, x):\n",
    "        \"\"\"\n",
    "        Initialize an object of class Secret.\n",
    "        \"\"\"\n",
    "        self.value = x\n",
    "        self.hidden = 'x' * len(str(x))\n",
    "    \n",
    "    def __str__(self):\n",
    "        \"\"\"\n",
    "        Display 'hidden' value when a Secret is printed.\n",
    "        \"\"\"\n",
    "        return(self.hidden)    \n",
    "    \n",
    "    def __repr__(self):\n",
    "        \"\"\"Official string representation.\"\"\"\n",
    "        return(self.hidden)\n",
    "\n",
    "    def reveal(self):\n",
    "        \"\"\"\n",
    "        Reveal the secret\n",
    "        \"\"\"\n",
    "        return(self.value)    \n",
    "\n",
    "s5 = Secret('the Universe')\n",
    "print(s5)\n",
    "s5.reveal() "
   ]
  },
  {
   "cell_type": "markdown",
   "id": "7de1cd0e",
   "metadata": {
    "slideshow": {
     "slide_type": "slide"
    }
   },
   "source": [
    "## Attributes\n",
    " - In general, a user can assign arbitrary attributes to a class.  "
   ]
  },
  {
   "cell_type": "code",
   "execution_count": null,
   "id": "3832d000",
   "metadata": {
    "slideshow": {
     "slide_type": "code"
    }
   },
   "outputs": [],
   "source": [
    "s5.arbitrary = 42\n",
    "s5.arbitrary"
   ]
  },
  {
   "cell_type": "markdown",
   "id": "6cdf4c98",
   "metadata": {
    "slideshow": {
     "slide_type": "subslide"
    }
   },
   "source": [
    "## Attributes\n",
    " - In general, a user can assign arbitrary attributes to a class.  \n",
    " - We can restrict this by defining `__slots__` -- a string or iterable of \n",
    "   strings limiting the allowed attributes. "
   ]
  },
  {
   "cell_type": "code",
   "execution_count": null,
   "id": "e813fa5f",
   "metadata": {
    "slideshow": {
     "slide_type": "code"
    }
   },
   "outputs": [],
   "source": [
    "class Secret:\n",
    "    \"\"\"\n",
    "    Hold a string or number but display a placeholder when printing.\n",
    "    \"\"\"\n",
    "\n",
    "    __slots__ = ('value', 'hidden')\n",
    "    \n",
    "    def __init__(self, x):\n",
    "        \"\"\"\n",
    "        Initialize an object of class Secret.\n",
    "        \"\"\"\n",
    "        self.value = x\n",
    "        self.hidden = 'x' * len(str(x))\n",
    "    \n",
    "    def __str__(self):\n",
    "        \"\"\"\n",
    "        Display 'hidden' value when a Secret is printed.\n",
    "        \"\"\"\n",
    "        return(self.hidden)    \n",
    "    \n",
    "    def __repr__(self):\n",
    "        \"\"\"Official string representation.\"\"\"\n",
    "        return(self.hidden)\n",
    "\n",
    "    def reveal(self):\n",
    "        \"\"\"\n",
    "        Reveal the secret\n",
    "        \"\"\"\n",
    "        return(self.value)    \n",
    "\n",
    "s6 = Secret(\"You've got mail!\")\n",
    "try:\n",
    "    s6.arbitrary = 42\n",
    "except:\n",
    "    print(\"Secret has no attribute 'arbitrary'.\")"
   ]
  },
  {
   "cell_type": "markdown",
   "id": "bbd4bea2",
   "metadata": {
    "slideshow": {
     "slide_type": "subslide"
    }
   },
   "source": [
    "## Attributes as Metadata\n",
    " - We can use attributes to store metadata. \n",
    " - Here we modify methods based on whether the instance has been \n",
    "   previously revealed. "
   ]
  },
  {
   "cell_type": "code",
   "execution_count": null,
   "id": "3220fff8",
   "metadata": {
    "slideshow": {
     "slide_type": "code"
    }
   },
   "outputs": [],
   "source": [
    "class Secret:\n",
    "    \"\"\"\n",
    "    Hold a string or number but display a placeholder when printing.\n",
    "    \"\"\"\n",
    "\n",
    "    __slots__ = ('value', 'hidden', 'secret')\n",
    "    \n",
    "    def __init__(self, x):\n",
    "        \"\"\"\n",
    "        Initialize an object of class Secret.\n",
    "        \"\"\"\n",
    "        self.value = x\n",
    "        self.hidden = 'x' * len(str(x))\n",
    "        self.secret = True\n",
    "    \n",
    "    def __str__(self):\n",
    "        \"\"\"\n",
    "        Display 'hidden' value when a Secret is printed.\n",
    "        \"\"\"\n",
    "        if self.secret:\n",
    "            return(self.hidden)    \n",
    "        else:\n",
    "            return(self.value)\n",
    "    \n",
    "    def __repr__(self):\n",
    "        \"\"\"Official string representation.\"\"\"\n",
    "        return(self.__str__())\n",
    "\n",
    "    def reveal(self):\n",
    "        \"\"\"\n",
    "        Reveal the secret\n",
    "        \"\"\"\n",
    "        self.secret = False\n",
    "        return(self.value) \n",
    "\n",
    "    def hide(self):\n",
    "        \"\"\"\n",
    "        Make a revealed secret hidden again. \n",
    "        \"\"\"\n",
    "        self.secret = True\n",
    "        return(None)\n",
    "\n",
    "s_new = Secret(\"You've got mail!\")\n",
    "x = s_new.reveal()\n",
    "s_new.hide()\n",
    "(x, s_new)"
   ]
  },
  {
   "cell_type": "markdown",
   "id": "8dd46b62",
   "metadata": {
    "slideshow": {
     "slide_type": "slide"
    }
   },
   "source": [
    "## Inheritance\n",
    " - A *child* (*derived*) class is a special case of a *parent* (*base*) class.\n",
    " - The child class *inherits* from the parent class:\n",
    "   + it can access methods from the parent class,\n",
    "   + it should have all attributes associated with the parent class. \n",
    " - Using inheritance makes code easier to maintain by limiting repetition. "
   ]
  },
  {
   "cell_type": "markdown",
   "id": "edcf9fa5",
   "metadata": {
    "slideshow": {
     "slide_type": "subslide"
    }
   },
   "source": [
    "## Derived Classes\n",
    " - Define a *derived* class by passing the name of the *base* class\n",
    "   in parentheses within the `class` statement, e.g. `class Derived(Base)`.\n",
    " - Inherited methods (e.g. `.reveal()`) only need to be redefined if we wish \n",
    "   to modify them. \n",
    " - It may be better, here, to add `str()` to the base `Secret` class for the\n",
    "   `__str__()` and `__repr()__` methods. "
   ]
  },
  {
   "cell_type": "code",
   "execution_count": null,
   "id": "9cf9e70e",
   "metadata": {
    "slideshow": {
     "slide_type": "code"
    }
   },
   "outputs": [],
   "source": [
    "class SecretTuple(Secret):\n",
    "    \"\"\"\n",
    "    A secret tuple is a tuple of secrets with more methods. \n",
    "    \"\"\"\n",
    "    \n",
    "    def __init__(self, x):\n",
    "        \"\"\"\n",
    "        Initialize a SecretTuple as a tuple of Secrets. \n",
    "        \"\"\"\n",
    "        assert isinstance(x, tuple)\n",
    "        self.value = x\n",
    "        self.hidden = tuple(Secret(x[i]).hidden for i in range(len(x)))\n",
    "        \n",
    "    def __str__(self):\n",
    "        \"\"\"\n",
    "        Display 'hidden' value when a Secret is printed.\n",
    "        \"\"\"\n",
    "        return(str(self.hidden))\n",
    "    \n",
    "    def __repr__(self):\n",
    "        \"\"\"Official string representation.\"\"\"\n",
    "        return(str(self.hidden))\n",
    "\n",
    "s7 = SecretTuple(('Life', 'the universe', 'everything'))\n",
    "assert isinstance(s7, SecretTuple) and isinstance(s7, Secret) \n",
    "[s7, s7.reveal()]"
   ]
  },
  {
   "cell_type": "markdown",
   "id": "4b62102d",
   "metadata": {
    "slideshow": {
     "slide_type": "subslide"
    }
   },
   "source": [
    "## Inheritance\n",
    " - Is `__slots__` inherited? "
   ]
  },
  {
   "cell_type": "code",
   "execution_count": null,
   "id": "205bc745",
   "metadata": {
    "lines_to_next_cell": 2,
    "slideshow": {
     "slide_type": "code"
    }
   },
   "outputs": [],
   "source": [
    "try:\n",
    "    s7.arbitrary = 42\n",
    "    print(s7.arbitrary)\n",
    "except:\n",
    "    print(\"Secret has no attribute 'arbitrary'.\")"
   ]
  },
  {
   "cell_type": "markdown",
   "id": "6a4c0d4d",
   "metadata": {
    "slideshow": {
     "slide_type": "subslide"
    }
   },
   "source": [
    "## Inheritance\n",
    " - Is `__slots__` inherited? \n",
    " - A derived class has the attributes of the base class, but may have \n",
    "   additional attributes as well. "
   ]
  },
  {
   "cell_type": "code",
   "execution_count": null,
   "id": "d5dd4fbe",
   "metadata": {
    "slideshow": {
     "slide_type": "code"
    }
   },
   "outputs": [],
   "source": [
    "class SecretTuple(Secret):\n",
    "    \"\"\"\n",
    "    A secret tuple is a tuple of secrets with more methods. \n",
    "    \"\"\"\n",
    "    __slots__ = ('partial_secret')\n",
    "\n",
    "    def __init__(self, x):\n",
    "        \"\"\"\n",
    "        Initialize a SecretTuple as a tuple of Secrets. \n",
    "        \"\"\"\n",
    "        assert isinstance(x, tuple)\n",
    "        self.value = x\n",
    "        self.hidden = tuple(Secret(x[i]).hidden for i in range(len(x)))\n",
    "        \n",
    "    def __str__(self):\n",
    "        \"\"\"\n",
    "        Display 'hidden' value when a Secret is printed.\n",
    "        \"\"\"\n",
    "        return(str(self.hidden))\n",
    "    \n",
    "    def __repr__(self):\n",
    "        \"\"\"Official string representation.\"\"\"\n",
    "        return(str(self.hidden))\n",
    "\n",
    "s8 = SecretTuple((4, 9, 21))\n",
    "try:\n",
    "    s8.arbitrary = 42\n",
    "    print(s8.arbitrary)\n",
    "except:\n",
    "    print(\"Secret has no attribute 'arbitrary'.\")\n",
    "\n",
    "try:\n",
    "    s8.secret = False\n",
    "    print(s8)\n",
    "except:\n",
    "    print(\"Secret has no attribute 'arbitrary'.\")    "
   ]
  },
  {
   "cell_type": "markdown",
   "id": "b8a6fa45",
   "metadata": {
    "slideshow": {
     "slide_type": "subslide"
    }
   },
   "source": [
    "## Inheritance\n",
    " - Inheritance is asymmetrical, `.reveal_part()` is not available to\n",
    "   objects of class `Secret()`. \n",
    " "
   ]
  },
  {
   "cell_type": "code",
   "execution_count": null,
   "id": "ab588276",
   "metadata": {
    "slideshow": {
     "slide_type": "code"
    }
   },
   "outputs": [],
   "source": [
    "class SecretTuple(Secret):\n",
    "    \"\"\"\n",
    "    A secret tuple is a tuple of secrets with more methods. \n",
    "    \"\"\"\n",
    "    \n",
    "    __slots__ = ('partial_secret')\n",
    "\n",
    "    def __init__(self, x):\n",
    "        \"\"\"\n",
    "        Initialize a SecretTuple as a tuple of Secrets. \n",
    "        \"\"\"\n",
    "        assert isinstance(x, tuple)\n",
    "        self.value = x\n",
    "        self.hidden = tuple(Secret(x[i]).hidden for i in range(len(x)))\n",
    "        self.secret = True\n",
    "        self.partial_secret = [True for i in range(len(x))]\n",
    "\n",
    "    def __str__(self):\n",
    "        hidden_parts = tuple(\n",
    "          self.value[j] if s else self.hidden[j] for j in partial_secret\n",
    "        )\n",
    "        return(str(hidden_parts))\n",
    "    \n",
    "    def __repr__(self):\n",
    "        return(self.__str()__)\n",
    "    \n",
    "    def __getattr__(self, x):\n",
    "        if x == 'value':\n",
    "            return(x.hidden)\n",
    "        else:\n",
    "            return(self.x)\n",
    "    \n",
    "    def reveal_part(self, i):\n",
    "        \"\"\"\n",
    "        Partially reveal the secret. \n",
    "        \"\"\"\n",
    "        try:\n",
    "          i_iter = iter(i)\n",
    "        except:\n",
    "            i = (i, )\n",
    "        part = (\n",
    "            self.value[j] if j in i else h for j, h in enumerate(self.hidden)\n",
    "        )\n",
    "        for j in i:\n",
    "          partial_secret[i] = False\n",
    " \n",
    "        return(tuple(part))\n",
    "\n",
    "s8 = SecretTuple(('Life', 'the universe', 'everything'))\n",
    "s8.reveal_part(1) "
   ]
  },
  {
   "cell_type": "markdown",
   "id": "67824527",
   "metadata": {
    "slideshow": {
     "slide_type": "subslide"
    }
   },
   "source": [
    "## Indexing\n",
    "  - Define the \"dunder\" method `__getattr__` to make an object *subsettable*\n",
    "    using brackets. "
   ]
  },
  {
   "cell_type": "code",
   "execution_count": null,
   "id": "52631a52",
   "metadata": {
    "slideshow": {
     "slide_type": "code"
    }
   },
   "outputs": [],
   "source": [
    "class SecretTuple(Secret):\n",
    "    \"\"\"\n",
    "    A secret tuple is a tuple of secrets with more methods. \n",
    "    \"\"\"\n",
    "    \n",
    "    def __init__(self, x):\n",
    "        \"\"\"\n",
    "        Initialize a SecretTuple as a tuple of Secrets. \n",
    "        \"\"\"\n",
    "        assert isinstance(x, tuple)\n",
    "        self.value = x\n",
    "        self.hidden = tuple(Secret(x[i]).hidden for i in range(len(x)))\n",
    "        \n",
    "    def __str__(self):\n",
    "        return(str(self.hidden))\n",
    "    \n",
    "    def __repr__(self):\n",
    "        return(str(self.hidden))\n",
    "    \n",
    "    def __getattr__(self, x):\n",
    "        \"\"\"\n",
    "        Subset a SecretTuple using a tuple of indices or an integer (no slices).\n",
    "        \"\"\"\n",
    "        if x == 'value':\n",
    "            return(x.hidden)\n",
    "        else:\n",
    "            return(self.x)\n",
    "    \n",
    "    def reveal_part(self, i):\n",
    "        \"\"\"\n",
    "        Partially reveal the secret. \n",
    "        \"\"\"\n",
    "        try:\n",
    "          i_iter = iter(i)\n",
    "        except:\n",
    "            i = (i, )\n",
    "        part = (\n",
    "            self.value[j] if j in i else h for j, h in enumerate(self.hidden)\n",
    "        )\n",
    " \n",
    "        return(tuple(part))\n",
    "\n",
    "s10 = SecretTuple(('Life', 'the universe', 'everything'))\n",
    "assert isinstance(s9[1], Secret)\n",
    "s10[1]"
   ]
  },
  {
   "cell_type": "markdown",
   "id": "82e761fa",
   "metadata": {
    "slideshow": {
     "slide_type": "subslide"
    }
   },
   "source": [
    "## Base Methods\n",
    " - Use `.super()` to access base methods within the definition of\n",
    "   a derived class. \n",
    " - Let's use the base `.hide()` method in conjunction with a specific \n",
    "   `.hide()` method for the `SecretTuple()` class. "
   ]
  },
  {
   "cell_type": "code",
   "execution_count": null,
   "id": "76937bd3",
   "metadata": {
    "slideshow": {
     "slide_type": "code"
    }
   },
   "outputs": [],
   "source": []
  },
  {
   "cell_type": "markdown",
   "id": "b7fa8926",
   "metadata": {
    "lines_to_next_cell": 0,
    "slideshow": {
     "slide_type": "slide"
    }
   },
   "source": [
    "## Takeaways\n",
    " - Use OOP when its necessary to encapsulate both data and methods. \n",
    " - Prefer a functional or procedural style otherwise. "
   ]
  },
  {
   "cell_type": "markdown",
   "id": "e6696712",
   "metadata": {},
   "source": []
  }
 ],
 "metadata": {
  "jupytext": {
   "cell_metadata_json": true,
   "notebook_metadata_filter": "rise"
  },
  "kernelspec": {
   "display_name": "Python 3 (ipykernel)",
   "language": "python",
   "name": "python3"
  },
  "rise": {
   "autolaunch": true,
   "enable_chalkboard": true,
   "header": "<a href=\"#/slide-0-0\"> <h3> Stats 507 - OOP </a>",
   "progress": true,
   "scroll": true,
   "theme": "solarized",
   "transition": "convex"
  }
 },
 "nbformat": 4,
 "nbformat_minor": 5
}
