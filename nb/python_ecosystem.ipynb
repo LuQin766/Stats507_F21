{
 "cells": [
  {
   "cell_type": "markdown",
   "id": "88ba5e53",
   "metadata": {
    "slideshow": {
     "slide_type": "slide"
    }
   },
   "source": [
    "# The Python Ecosystem\n",
    "*Stats 507, Fall 2021*\n",
    "\n",
    "James Henderson, PhD  \n",
    "August 24, 2021"
   ]
  },
  {
   "cell_type": "markdown",
   "id": "c94fadfd",
   "metadata": {
    "slideshow": {
     "slide_type": "slide"
    }
   },
   "source": [
    "# Python \n",
    "<center> <img src=\"./img/python.png\" width=10%> </center>"
   ]
  },
  {
   "cell_type": "markdown",
   "id": "ab29fb3d",
   "metadata": {
    "slideshow": {
     "slide_type": "slide"
    }
   },
   "source": [
    "# Anaconda\n",
    " <center> <img src=\"./img/anaconda_org_logo.svg\" width=50%> </center>\n",
    " \n",
    " - [Anaconda](https://www.anaconda.com/products/individual) is a popular\n",
    "   python distrubution that comes with:\n",
    "   + a package and environment manager `conda` \n",
    "   + many preinstalled modules including Numpy, Scipy, \n",
    "     Jupyter, and Pandas.  \n",
    " - Anacaonda Navigator provides instances of Jupyter Notebooks, Spyder,\n",
    "   and other tools. "
   ]
  },
  {
   "cell_type": "markdown",
   "id": "cc3be1e9",
   "metadata": {
    "slideshow": {
     "slide_type": "slide"
    }
   },
   "source": [
    "# Conda Environments\n",
    "- Environments allow us to isolate and manage dependencies\n",
    "  + Environments can have different versions of key modules\n",
    "  + ... or different versions of Python\n",
    "  + Update dependencies in a new environment for testing code. "
   ]
  },
  {
   "cell_type": "markdown",
   "id": "ecf63c7c",
   "metadata": {
    "slideshow": {
     "slide_type": "slide"
    }
   },
   "source": [
    "# Conda Environments\n",
    "- To get started, in your terminal application, `conda init`.\n",
    "- Make sure `conda` is in your path.\n",
    "- `venv` is an alternative "
   ]
  },
  {
   "cell_type": "markdown",
   "id": "d031f44e",
   "metadata": {
    "slideshow": {
     "slide_type": "subslide"
    }
   },
   "source": [
    "# Managing environments\n",
    " - list `conda env list`\n",
    " - create `conda create -n <env> python3.8` \n",
    " - activate `conda activate <env>`\n",
    " - deactivate `conda deactivate`"
   ]
  },
  {
   "cell_type": "markdown",
   "id": "18e976c6",
   "metadata": {
    "slideshow": {
     "slide_type": "subslide"
    }
   },
   "source": [
    "# Managing dependencies\n",
    " - Python modules can be managed with conda\n",
    " - `conda install`, `conda update` \n",
    " - \"Channels\" (e.g. conda-forge) are locations where conda will look for modules\n",
    " - `pip` is the primary alternative"
   ]
  },
  {
   "cell_type": "markdown",
   "id": "44fb2844",
   "metadata": {
    "slideshow": {
     "slide_type": "slide"
    }
   },
   "source": [
    "# Spyder\n",
    " <center> <img src=\"./img/spyder_logo.png\" width=10%> </center>\n",
    "\n",
    "  - Spyder is a GUI based IDE for Python. \n",
    "  - Pairs a text editor with an IPython console for interactive use.  \n",
    "  - Offers linting, autocomplete, and other useful tools. \n",
    "  - Good place to edit and develop python scripts `.py`."
   ]
  },
  {
   "cell_type": "markdown",
   "id": "5453e28e",
   "metadata": {
    "slideshow": {
     "slide_type": "slide"
    }
   },
   "source": [
    "# Jupyter \n",
    " <center> <img src=\"./img/jupyter_logo.png\" width=10%> </center>\n",
    "\n",
    " - [Jupyter](https://jupyter.org) is an open-source project\n",
    " - Provides software and services for interactive computing\n",
    " - Spun off from IPython in [2014](https://en.wikipedia.org/wiki/Project_Jupyter)"
   ]
  },
  {
   "cell_type": "markdown",
   "id": "b58282e4",
   "metadata": {
    "slideshow": {
     "slide_type": "slide"
    }
   },
   "source": [
    "# Jupyter Notebooks\n",
    " - Jupyter notebooks (`.ipynb`) are one of the most popular ways to \n",
    "   share (and develop) data science. \n",
    " - Jupyter notebooks are browser-based and can be run from a local server or\n",
    "   through a number of web-based services. "
   ]
  },
  {
   "cell_type": "markdown",
   "id": "7ea017d4",
   "metadata": {
    "slideshow": {
     "slide_type": "slide"
    }
   },
   "source": [
    "# Console\n",
    "- You can also use an interactive python interpreter at the command line.\n",
    "- Most useful when working on a remote Linux server\n",
    "- Be sure you are using the version of python from your (conda) environment\n",
    "   + ... and not the built-in version used by the OS. \n",
    "- Consider using IPython, the basis of Jupyter python kernel. "
   ]
  },
  {
   "cell_type": "markdown",
   "id": "cc23311a",
   "metadata": {
    "slideshow": {
     "slide_type": "slide"
    }
   },
   "source": [
    "# Command Line Text Editors\n",
    "  - To edit scripts on remote servers, use a text editor.\n",
    "  - Options: `vim`, `emacs`, `nano`, `atom`. "
   ]
  },
  {
   "cell_type": "markdown",
   "id": "e75d4efa",
   "metadata": {
    "slideshow": {
     "slide_type": "subslide"
    }
   },
   "source": [
    "# Command Line Text Editors\n",
    "  - When learning a new text editor start with:\n",
    "    - How to quit/exit, e.g. emacs `cntrl+x cntrl+c`.\n",
    "    - How to save edits, e.g. emacs `cntrl+x cntrl+c`. \n",
    "    - Find a cheatsheet and keep it handy. \n",
    "    - Learn a bit at a time, then let muscle-memory take over. "
   ]
  },
  {
   "cell_type": "markdown",
   "id": "44079700",
   "metadata": {
    "slideshow": {
     "slide_type": "slide"
    }
   },
   "source": [
    "#  Text Editors\n",
    "  - Text editors can also be useful on your own machine.\n",
    "  - Can edit in Spyder or Jupyter, but may prefer a specialized tool.\n",
    "  - Options: `Visual Studio Code`, `Sublime Text`."
   ]
  },
  {
   "cell_type": "markdown",
   "id": "83bffe2a",
   "metadata": {
    "slideshow": {
     "slide_type": "slide"
    }
   },
   "source": [
    "# "
   ]
  }
 ],
 "metadata": {
  "author": "James Henderson, PhD",
  "date": "August 9, 2021",
  "jupytext": {
   "cell_metadata_json": true,
   "notebook_metadata_filter": "rise,author,date,markdown",
   "text_representation": {
    "extension": ".md",
    "format_name": "markdown",
    "format_version": "1.2",
    "jupytext_version": "1.5.2"
   }
  },
  "kernelspec": {
   "display_name": "Python 3",
   "language": "python",
   "name": "python3"
  },
  "markdown": {
   "extensions": "footnotes"
  },
  "rise": {
   "enable_chalkboard": true,
   "header": "<a href=\"/#0\"> <h3> Stats 507 - The Python Ecosystem </a>",
   "progress": true,
   "scroll": true,
   "theme": "solarized",
   "transition": "convex"
  }
 },
 "nbformat": 4,
 "nbformat_minor": 5
}
