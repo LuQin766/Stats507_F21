{
 "cells": [
  {
   "cell_type": "markdown",
   "id": "24e49b70",
   "metadata": {
    "slideshow": {
     "slide_type": "slide"
    }
   },
   "source": [
    "# The Python Ecosystem\n",
    "*Stats 507, Fall 2021*\n",
    "\n",
    "James Henderson, PhD  \n",
    "August 31, 2021"
   ]
  },
  {
   "cell_type": "markdown",
   "id": "c1bdcf3c",
   "metadata": {
    "slideshow": {
     "slide_type": "slide"
    }
   },
   "source": [
    "# Python \n",
    "<center> \n",
    "  <img src=\"https://www.python.org/static/img/python-logo@2x.png\" width=50%> \n",
    "</center>\n",
    "\n",
    "- Python is one of the most popular computing langauges. \n",
    "- It is used by both web developers and data scientists. \n",
    "- Python as a language is often characterized by its: readability, \n",
    "  simplicity, and explicitness. "
   ]
  },
  {
   "cell_type": "markdown",
   "id": "36dce675",
   "metadata": {
    "slideshow": {
     "slide_type": "subslide"
    }
   },
   "source": [
    "# Python \n",
    "- Python is an interpreted (as opposed to a compiled) language.\n",
    "- Python is sometimes considered a \"glue\" language owing to its\n",
    "  versatality. \n",
    "- Don't use the Python distributed with your OS.  "
   ]
  },
  {
   "cell_type": "markdown",
   "id": "ff082290",
   "metadata": {
    "slideshow": {
     "slide_type": "slide"
    }
   },
   "source": [
    "# Anaconda\n",
    " <center> \n",
    "   <img src=\"https://assets-cdn.anaconda.com/assets/resources/open-source/conda-artboard.svg\" width=25%> \n",
    "  </center>\n",
    " \n",
    " - [Anaconda](https://www.anaconda.com/products/individual) is a popular\n",
    "   Python distrubution that comes with:\n",
    "   + a package and environment manager `conda` \n",
    "   + many preinstalled modules including:  Pandas, Numpy, Scipy, \n",
    "     IPython, and Jupyter."
   ]
  },
  {
   "cell_type": "markdown",
   "id": "f651d3ec",
   "metadata": {
    "slideshow": {
     "slide_type": "subslide"
    }
   },
   "source": [
    "# Anaconda\n",
    " <center> \n",
    "   <img src=\"https://assets-cdn.anaconda.com/assets/resources/open-source/conda-artboard.svg\" width=25%> \n",
    "  </center> \n",
    "\n",
    "  - Anacaonda Navigator provides graphical shortcuts to open \n",
    "    instances of Jupyter Notebooks, Spyder, and other tools. "
   ]
  },
  {
   "cell_type": "markdown",
   "id": "e9fa8f9f",
   "metadata": {
    "slideshow": {
     "slide_type": "slide"
    }
   },
   "source": [
    "# Environments\n",
    "- Environments allow us to isolate and manage dependencies\n",
    "  + Environments can have different versions of key modules\n",
    "  + ... or different versions of Python.  \n",
    "  + Clone your environment to backup before updating dependencies.  \n",
    "\n",
    "```\n",
    "conda create --name 507b --clone 507 \n",
    "```"
   ]
  },
  {
   "cell_type": "markdown",
   "id": "d4959cad",
   "metadata": {
    "slideshow": {
     "slide_type": "slide"
    }
   },
   "source": [
    "# Conda Environments\n",
    "- To get started, in your terminal application, `conda init [shell]`.\n",
    "- Make sure `conda` is in your path.\n",
    "- `venv` is an alternative. "
   ]
  },
  {
   "cell_type": "markdown",
   "id": "eedbf430",
   "metadata": {
    "slideshow": {
     "slide_type": "subslide"
    }
   },
   "source": [
    "# Managing environments\n",
    " - list `conda env list`\n",
    " - create `conda create -n <env> python=3.9` \n",
    " - activate `conda activate <env>`\n",
    " - deactivate `conda deactivate`"
   ]
  },
  {
   "cell_type": "markdown",
   "id": "95f1bea2",
   "metadata": {
    "slideshow": {
     "slide_type": "subslide"
    }
   },
   "source": [
    "# Managing dependencies\n",
    " - Python modules (libraries) can be managed with `conda`. \n",
    " - `conda install`, `conda update` \n",
    " - \"Channels\" (e.g. conda-forge) are locations where conda will look for modules.\n",
    " - `pip` is the primary alternative. "
   ]
  },
  {
   "cell_type": "markdown",
   "id": "daac096e",
   "metadata": {
    "slideshow": {
     "slide_type": "slide"
    }
   },
   "source": [
    "# IPython \n",
    "  <center> \n",
    "   <img src=\"https://ipython.org/_static/IPy_header.png\" width=25%> \n",
    " </center> \n",
    "\n",
    "- [IPython](https://ipython.org/) is an \"interactive\" Python interpreter. \n",
    "- IPython also provides the standard Python kernel for Jupyter notebooks. "
   ]
  },
  {
   "cell_type": "markdown",
   "id": "6b059235",
   "metadata": {
    "slideshow": {
     "slide_type": "subslide"
    }
   },
   "source": [
    "# IPython \n",
    " > \\[IPython\\] has become one of the most important tools in the modern\n",
    "    Python data stack ... It encouarages an __execute-explore__ workflow instead of\n",
    " > the typical __edit-compile-run__ workflow of many other programming langauges. \n",
    " > \n",
    " > --<cite> Wes McKinney </cite>"
   ]
  },
  {
   "cell_type": "markdown",
   "id": "35635a0e",
   "metadata": {
    "slideshow": {
     "slide_type": "slide"
    }
   },
   "source": [
    "# Spyder\n",
    " <center> <img src=\"https://www.spyder-ide.org/static/images/spyder_logo.png?h=f4aab2c7\" width=20%> </center>\n",
    "\n",
    "  - Spyder is a GUI based IDE for Python. \n",
    "  - Pairs a text editor with an IPython console for interactive use.  \n",
    "  - Offers linting, autocomplete, and other useful tools. \n",
    "  - Spyder is a good place to edit and develop python scripts (`.py`)."
   ]
  },
  {
   "cell_type": "markdown",
   "id": "093a58f8",
   "metadata": {
    "slideshow": {
     "slide_type": "slide"
    }
   },
   "source": [
    "# Jupyter \n",
    " <center> <img src=\"https://jupyter.org/assets/nav_logo.svg\" width=25%> </center>\n",
    "\n",
    " - [Jupyter](https://jupyter.org) is an open-source project. \n",
    " - Provides software and services for interactive computing\n",
    " - Spun off from IPython in [2014](https://en.wikipedia.org/wiki/Project_Jupyter)"
   ]
  },
  {
   "cell_type": "markdown",
   "id": "4a56081c",
   "metadata": {
    "slideshow": {
     "slide_type": "slide"
    }
   },
   "source": [
    "# Jupyter Notebooks\n",
    " - Jupyter notebooks (`.ipynb`) are one of the most popular ways to \n",
    "   share (and develop) data science. \n",
    " - Jupyter notebooks are browser-based and can be run from a local server or\n",
    "   through a number of web-based services. \n",
    " - Support for many languages, but most popular with Python. "
   ]
  },
  {
   "cell_type": "markdown",
   "id": "d22f05ca",
   "metadata": {
    "slideshow": {
     "slide_type": "slide"
    }
   },
   "source": [
    "# Console\n",
    "- You can use an interactive Python interpreter at the command line.\n",
    "- Most useful when working on a remote Linux server. \n",
    "- Be sure you are using the version of Python from your (conda) environment\n",
    "   + ... and not the built-in version used by the OS. \n",
    "- Consider using IPython. "
   ]
  },
  {
   "cell_type": "markdown",
   "id": "e562adb8",
   "metadata": {
    "slideshow": {
     "slide_type": "slide"
    }
   },
   "source": [
    "# Command Line Text Editors\n",
    "  - To edit scripts on remote servers, use a text editor.\n",
    "  - Options: `vim`, `emacs`, `nano`, `atom`. \n",
    "  - (I use emacs.)"
   ]
  },
  {
   "cell_type": "markdown",
   "id": "b480d1a8",
   "metadata": {
    "slideshow": {
     "slide_type": "subslide"
    }
   },
   "source": [
    "# Command Line Text Editors\n",
    "  - When learning a new text editor start with:\n",
    "    - How to quit/exit, e.g. emacs `cntrl+x cntrl+c`.\n",
    "    - How to save edits, e.g. emacs `cntrl+x cntrl+s`. \n",
    "    - Find a [cheatsheet][1] and keep it handy. \n",
    "    - Learn a bit at a time, then let muscle-memory take over. \n",
    "    - Supplement course materials with [tutorials][2]. \n",
    "\n",
    " [1]: https://www.gnu.org/software/emacs/refcards/pdf/refcard.pdf\n",
    " [2]: https://www.gnu.org/software/emacs/tour/"
   ]
  },
  {
   "cell_type": "markdown",
   "id": "ed0e458d",
   "metadata": {
    "slideshow": {
     "slide_type": "slide"
    }
   },
   "source": [
    "#  Text Editors\n",
    "  - Text editors can also be useful on your own machine.\n",
    "  - Can edit in Spyder or Jupyter, but may prefer a specialized tool.\n",
    "  - Options: `Visual Studio Code`, `Sublime Text`."
   ]
  },
  {
   "cell_type": "markdown",
   "id": "d40c139f",
   "metadata": {
    "slideshow": {
     "slide_type": "slide"
    }
   },
   "source": [
    "# Requirements\n",
    "  - For most problem sets, you will be asked to submit:\n",
    "     + a Jupyter notebook (`.ipynb`)\n",
    "     + one ore more Python scripts (`.py`).\n",
    "  - Occassionaly, may be asked to submit as `.html` or `.md`.\n",
    "  - The [jupytext][1] library will be helpful here.\n",
    "\n",
    "  [1]: https://jupytext.readthedocs.io/en/latest/index.html"
   ]
  },
  {
   "cell_type": "markdown",
   "id": "be9266ee",
   "metadata": {
    "slideshow": {
     "slide_type": "slide"
    }
   },
   "source": [
    "# Suggestions\n",
    "  - Use Spyder while focused on code.\n",
    "  - Use VS code or another text editor when focused on \n",
    "    markdown cells. \n",
    "  - Use Jupyter to view and explore (and possibly develop). \n",
    "  - You will be required to turn in `.py` source code for notebooks. "
   ]
  },
  {
   "cell_type": "markdown",
   "id": "b32ba9e8",
   "metadata": {
    "slideshow": {
     "slide_type": "subslide"
    }
   },
   "source": [
    "# More suggestions\n",
    "  - Use `conda` as your primary package manager.\n",
    "  - Create an enviornment specific to this course ...\n",
    "  - ... and clone to backup before new installs.\n",
    "  - Take notes on the steps you take to solve a probelm in case \n",
    "    you need to do it again (or help a peer). \n",
    "  - Or keep a begining to end setup in a shell script. "
   ]
  },
  {
   "cell_type": "markdown",
   "id": "bc2e2887",
   "metadata": {
    "slideshow": {
     "slide_type": "slide"
    }
   },
   "source": [
    "# Takeaways \n",
    "  - There are many options for editing Python code and\n",
    "    interacting with a Python interpreter.\n",
    "  - Start simple, experiment, and use what works for you. "
   ]
  }
 ],
 "metadata": {
  "jupytext": {
   "cell_metadata_json": true,
   "notebook_metadata_filter": "rise,author,date,markdown",
   "text_representation": {
    "extension": ".md",
    "format_name": "markdown",
    "format_version": "1.3",
    "jupytext_version": "1.11.4"
   }
  },
  "kernelspec": {
   "display_name": "Python 3 (ipykernel)",
   "language": "python",
   "name": "python3"
  },
  "markdown": {
   "extensions": "footnotes"
  },
  "rise": {
   "autolaunch": true,
   "enable_chalkboard": true,
   "header": "<a href=\"#slide-0-0\"> <h3> Stats 507 - The Python Ecosystem </a>",
   "progress": true,
   "scroll": true,
   "theme": "solarized",
   "transition": "convex"
  }
 },
 "nbformat": 4,
 "nbformat_minor": 5
}
