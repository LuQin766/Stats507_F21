{
 "cells": [
  {
   "cell_type": "markdown",
   "id": "2ef20bda",
   "metadata": {
    "slideshow": {
     "slide_type": "slide"
    }
   },
   "source": [
    "# Title\n",
    "*Stats 507, Fall 2021*\n",
    "\n",
    "Author  \n",
    "Date"
   ]
  },
  {
   "cell_type": "markdown",
   "id": "38ff69a3",
   "metadata": {
    "slideshow": {
     "slide_type": "slide"
    }
   },
   "source": [
    "  # Slide title\n",
    "  - Bullet"
   ]
  },
  {
   "cell_type": "code",
   "execution_count": null,
   "id": "25ee945f",
   "metadata": {
    "slideshow": {
     "slide_type": "code"
    }
   },
   "outputs": [],
   "source": [
    "print(\"Hello World!\")"
   ]
  }
 ],
 "metadata": {
  "jupytext": {
   "cell_metadata_json": true,
   "notebook_metadata_filter": "rise"
  },
  "kernelspec": {
   "display_name": "Python 3",
   "language": "python",
   "name": "python3"
  },
  "rise": {
   "autolaunch": true,
   "enable_chalkboard": true,
   "header": "<a href=\"#slide-0-0\"> <h3> Stats 507 - Title </a>",
   "progress": true,
   "scroll": true,
   "theme": "solarized",
   "transition": "convex"
  }
 },
 "nbformat": 4,
 "nbformat_minor": 5
}
