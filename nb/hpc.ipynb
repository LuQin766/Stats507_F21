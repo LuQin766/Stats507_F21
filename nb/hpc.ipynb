{
 "cells": [
  {
   "cell_type": "markdown",
   "id": "0dfe000a",
   "metadata": {
    "slideshow": {
     "slide_type": "slide"
    }
   },
   "source": [
    "## HPC, Great Lakes, & Slurm\n",
    "*Stats 507, Fall 2021*\n",
    "\n",
    "James Henderson, PhD  \n",
    "November 18, 2021"
   ]
  },
  {
   "cell_type": "markdown",
   "id": "0de13742",
   "metadata": {
    "slideshow": {
     "slide_type": "slide"
    }
   },
   "source": [
    "## Overview\n",
    " - [Accessing Great Lakes](#/slide-2-0)\n",
    " - [Allocations](#/slide-3-0)\n",
    " - [Lmod (pre-installed software)](#/slide-4-0)\n",
    " - [Python Batch Jobs](#/slide-5-0)\n",
    " - [Slurm basics](#/slide-6-0)\n",
    " - [Job Arrays](#/slide-7-0)\n",
    " - [Takeaways](#/slide-8-0)"
   ]
  },
  {
   "cell_type": "markdown",
   "id": "9bef39b4",
   "metadata": {
    "slideshow": {
     "slide_type": "slide"
    }
   },
   "source": [
    "## Great Lakes\n",
    " - [Great Lakes][gl] is the university's high-performance \n",
    "   computing (HPC) cluster. \n",
    " - Consists of ~13,000 cores (CPU and GPU). \n",
    " - Uses a job scheduler for \"production\" work. \n",
    "\n",
    "[gl]: arc.umich.edu/greatlakes/"
   ]
  },
  {
   "cell_type": "markdown",
   "id": "666bfb6c",
   "metadata": {
    "slideshow": {
     "slide_type": "subslide"
    }
   },
   "source": [
    "## Access\n",
    " - Access Great Lakes using ssh: `ssh user@greatlakes.arc-ts.umich.edu`.\n",
    " - Will be connected to a *login node*, `gl-loginX.arc-ts.umich.edu`. \n",
    " - Use *login nodes* for file management, testing code, etc. \n",
    " - Home directory `/home/user/` is unique to GL -- it is not AFS.\n",
    " - Access AFS at `/afs/`"
   ]
  },
  {
   "cell_type": "markdown",
   "id": "ed2f5e6f",
   "metadata": {
    "slideshow": {
     "slide_type": "subslide"
    }
   },
   "source": [
    "## Access - VPN\n",
    " - Access to Great Lakes is restricted to the campus network.\n",
    " - To access from off campus, `ssh` to `login.itd.umich.edu` and \n",
    "   \"hop\" to Great Lakes (ssh from the login pool to Great Lakes). \n",
    " - Alternately, use the campus [VPN][vpn].\n",
    " - VPN is also useful for accessing library resources. \n",
    "\n",
    "[vpn]: https://its.umich.edu/enterprise/wifi-networks/vpn/getting-started"
   ]
  },
  {
   "cell_type": "markdown",
   "id": "b014b10b",
   "metadata": {
    "slideshow": {
     "slide_type": "subslide"
    }
   },
   "source": [
    "## Access - OnDemand\n",
    "- You can also use Great Lakes through a web browser using \"Open OnDemand\". \n",
    "- Navigate to <https://greatlakes.arc-ts.umich.edu>.\n",
    "- See the [user guide][glug] for additional help.\n",
    "\n",
    "[glug]: https://arc.umich.edu/greatlakes/user-guide/"
   ]
  },
  {
   "cell_type": "markdown",
   "id": "e8f1daba",
   "metadata": {
    "slideshow": {
     "slide_type": "slide"
    }
   },
   "source": [
    "## Allocations\n",
    "  - Jobs on the Great Lakes cluster require an *allocation*. \n",
    "  - You have access to the course allocation ?`stats507f21_class`\n",
    "  - See your allocations using the custom command: `my_accounts`.  "
   ]
  },
  {
   "cell_type": "markdown",
   "id": "f6c31fba",
   "metadata": {
    "slideshow": {
     "slide_type": "subslide"
    }
   },
   "source": [
    "## Allocations\n",
    " - Rates are based on how many resources you request (cores and memory) \n",
    "    and how long your job runs.   \n",
    " - You have a budget of $60.91 for the class account.  \n",
    " - Custom command `my_job_estimate` to get an estimate of the per hour rate. "
   ]
  },
  {
   "cell_type": "markdown",
   "id": "a34a3283",
   "metadata": {
    "slideshow": {
     "slide_type": "slide"
    }
   },
   "source": [
    "## Pre-installed software\n",
    " - Pre-installed software built to work in the GL environment is managed\n",
    "   through *Lmod* using the `module` command.\n",
    " - Use sub-commands `module keyword` or `module spider` to search for modules.\n",
    " - Use `module load` to request software and a license, if needed, e.g.,\n",
    "  `module load tensorflow`.\n",
    " - Use `module list` to see currently loaded modules. "
   ]
  },
  {
   "cell_type": "markdown",
   "id": "16d56b13",
   "metadata": {
    "slideshow": {
     "slide_type": "slide"
    }
   },
   "source": [
    "## Pre-installed in jobs\n",
    " - Load modules *before* submitting jobs and use option:\n",
    "   `#SBATCH --get-user-env` \n",
    " - Or load modules within job script. "
   ]
  },
  {
   "cell_type": "markdown",
   "id": "20682cdb",
   "metadata": {
    "slideshow": {
     "slide_type": "subslide"
    }
   },
   "source": [
    "## Python Version\n",
    " - We'll use tensorflow in the final weeks of the course.\n",
    " - Use `module spider tensorflow` to see installations.\n",
    " - Load the latest version, `module load tensorflow/2.5.0`.\n",
    " - Use `module list` to see others loaded and read info for the specific\n",
    "   Python installation.\n",
    " - Add packages locally `pip install --user ` "
   ]
  },
  {
   "cell_type": "markdown",
   "id": "e42185f3",
   "metadata": {
    "slideshow": {
     "slide_type": "slide"
    }
   },
   "source": [
    "## Batch Jobs\n",
    "- Execute a Python script non-interactively (in *batch* mode) at the \n",
    "  command line using `python script.py`. \n",
    "- Provide commands as a string using `-c` option."
   ]
  },
  {
   "cell_type": "markdown",
   "id": "55dd20c7",
   "metadata": {
    "slideshow": {
     "slide_type": "subslide"
    }
   },
   "source": [
    "## Batch Jobs\n",
    "- Often helpful to provide arguments to your script from the command line.\n",
    "- Use `sys.argv` for a list of command line arguments.\n",
    "- For example, if you run `script.py` as `python3.9 script.py a b 3 D` then\n",
    "  `sys.argv` is a list `['script.py', 'a', 'b', '3', 'D']`. \n",
    "- Use these to alter source files, number of processes, etc. "
   ]
  },
  {
   "cell_type": "markdown",
   "id": "1df592d7",
   "metadata": {
    "slideshow": {
     "slide_type": "slide"
    }
   },
   "source": [
    "## Slurm\n",
    "- Slurm is a \"workload manager\" or *job scheduler*.\n",
    "- We use Slurm to request HPC resources for a compute *job*.\n",
    "- Provide options to Slurm as special comments `#SBATCH` in a shell (`.sh`)\n",
    "  script.\n",
    "- These options must come *before* any shell commands - they may only be\n",
    "  preceded by comments and blank lines. "
   ]
  },
  {
   "cell_type": "markdown",
   "id": "91abf4a1",
   "metadata": {
    "slideshow": {
     "slide_type": "subslide"
    }
   },
   "source": [
    "## Slurm\n",
    "- We'll review key options from the Great Lakes [user guide][glug].\n",
    "- Submit job script using the `sbatch` command.  \n",
    "- Examples in course repo: `run-mp_isolet.sh` and `mp_isolet.py`. \n",
    "- I use the convention of naming these scripts starting with `run` and \n",
    "  including the name of the script each runs. \n",
    "- See the [cheat sheet][slurmsc] for additional commands to inspect job \n",
    "  status. \n",
    "\n",
    "[glug]: https://arc.umich.edu/greatlakes/user-guide/\n",
    "[slurmsc]: https://arc.umich.edu/wp-content/uploads/sites/4/2020/05/Great-Lakes-Cheat-Sheet.pdf"
   ]
  },
  {
   "cell_type": "markdown",
   "id": "69ac2de2",
   "metadata": {
    "slideshow": {
     "slide_type": "subslide"
    }
   },
   "source": [
    "## Queueing time\n",
    "- Smaller jobs requesting fewer CPUs and/or less memory will tend to run \n",
    "  sooner than larger jobs.\n",
    "- Resources are more likely to be available sooner for smaller jobs.\n",
    "- Users with less overall (recent) usage generally have higher priority than\n",
    "  heavy users.  "
   ]
  },
  {
   "cell_type": "markdown",
   "id": "89925637",
   "metadata": {
    "slideshow": {
     "slide_type": "slide"
    }
   },
   "source": [
    "## Job Arrays\n",
    "- A *job array* allows you to submit a set of jobs with similar parameters.\n",
    "- Add `#SBATCH --array ` and a set of indices, e.g., `1-4` or  `1,2,4`. \n",
    "- Use the array index in a file name (`%a`) or in your shell script using \n",
    "  `${SLURM_ARRAY_TASK_ID}`. \n",
    "- Useful patterns: use as a command line argument or as part of filename.\n",
    "- See example `run-array-mp_isolet.py`. "
   ]
  },
  {
   "cell_type": "markdown",
   "id": "6d056814",
   "metadata": {
    "slideshow": {
     "slide_type": "slide"
    }
   },
   "source": [
    "## Takeaways\n",
    " - Great Lakes is an HPC cluster that provides:\n",
    "   + many asynchronous CPU cycles,\n",
    "   + flexible memory,\n",
    "   + GPUs.\n",
    " - Slurm is the job manager and scheduler.\n",
    " - Interact with slurm using `#SBATCH` directives in a shell script and the\n",
    "   `sbatch` command. \n",
    " - Use `sys.argv` to access command line arguments when running Python in \n",
    "   batch mode. \n",
    " - Use job-arrays to achieved additional parallelism. "
   ]
  }
 ],
 "metadata": {
  "jupytext": {
   "cell_metadata_json": true,
   "notebook_metadata_filter": "rise"
  },
  "kernelspec": {
   "display_name": "Python 3 (ipykernel)",
   "language": "python",
   "name": "python3"
  },
  "rise": {
   "autolaunch": true,
   "enable_chalkboard": true,
   "header": "<a href=\"#/slide-0-0\"> <h3> Stats 507 - HPC, GreatLakes, & Slurm</a>",
   "progress": true,
   "scroll": true,
   "theme": "solarized",
   "transition": "convex"
  }
 },
 "nbformat": 4,
 "nbformat_minor": 5
}
