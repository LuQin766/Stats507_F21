{
 "cells": [
  {
   "cell_type": "markdown",
   "id": "5b9f42f1",
   "metadata": {
    "slideshow": {
     "slide_type": "slide"
    }
   },
   "source": [
    "## Regular Expressions\n",
    "*Stats 507, Fall 2021*\n",
    "\n",
    "James Henderson, PhD  \n",
    "October 21, 2021"
   ]
  },
  {
   "cell_type": "markdown",
   "id": "751aebed",
   "metadata": {
    "slideshow": {
     "slide_type": "slide"
    }
   },
   "source": [
    "## Overview\n",
    "  - [Regular Expressions](#/slide-2-0)\n",
    "  - [Examples and Concepts](#/slide-4-0)\n",
    "  - [Regex Crossword](#/slide-11-0)\n",
    "  - [Takeaways](#/slide-12-0)"
   ]
  },
  {
   "cell_type": "markdown",
   "id": "b0ed8124",
   "metadata": {
    "slideshow": {
     "slide_type": "slide"
    }
   },
   "source": [
    "# Regular Expressions\n",
    "  - *Regular expressions* are a way to describe patterns in strings.\n",
    "  - Patterns may be abstract. \n",
    "  - Common *regex* vocabulary ...\n",
    "  - ... but details differ between implementations and standards. "
   ]
  },
  {
   "cell_type": "markdown",
   "id": "413f2e00",
   "metadata": {
    "slideshow": {
     "slide_type": "slide"
    }
   },
   "source": [
    "# Imports\n",
    "  - Here are the imports we will use in these slides. \n",
    "  - `re` is a built-in Python module for regular expressions"
   ]
  },
  {
   "cell_type": "code",
   "execution_count": null,
   "id": "da561cb0",
   "metadata": {
    "slideshow": {
     "slide_type": "code"
    }
   },
   "outputs": [],
   "source": [
    "import numpy as np\n",
    "import pandas as pd\n",
    "import re"
   ]
  },
  {
   "cell_type": "markdown",
   "id": "5b626a93",
   "metadata": {
    "slideshow": {
     "slide_type": "slide"
    }
   },
   "source": [
    "# Example\n",
    "- The file `fruit.txt` is a list of fruits distributed with R's \n",
    "  stringr library. "
   ]
  },
  {
   "cell_type": "code",
   "execution_count": null,
   "id": "faade42d",
   "metadata": {
    "slideshow": {
     "slide_type": "code"
    }
   },
   "outputs": [],
   "source": [
    "fruits_df = pd.read_csv('./fruits.txt')\n",
    "fruits = list(fruits_df['fruit'].values)\n",
    "fruits_df.head()"
   ]
  },
  {
   "cell_type": "markdown",
   "id": "3f26c0a8",
   "metadata": {
    "slideshow": {
     "slide_type": "slide"
    }
   },
   "source": [
    "# Pandas\n",
    "- Pandas has several vectorized string functions that understand\n",
    "  regular expressions:\n",
    "  + `contains`, \n",
    "  + `match`, `fullmatch`,\n",
    "  + `count`, \n",
    "  + `findall`, \n",
    "  + `replace`, \n",
    "  + `extract`, \n",
    "  + `split`."
   ]
  },
  {
   "cell_type": "code",
   "execution_count": null,
   "id": "cf5b344e",
   "metadata": {},
   "outputs": [],
   "source": [
    "fruits_df[fruits_df['fruit'].str.match('^a')]"
   ]
  },
  {
   "cell_type": "markdown",
   "id": "8aaabe49",
   "metadata": {
    "slideshow": {
     "slide_type": "slide"
    }
   },
   "source": [
    "# Search / Contains\n",
    "- `str.contains()` returns a bool indicating whether a pattern\n",
    "  is found in each entry of a string series.\n",
    "- It is based on `re.search()`. \n",
    "- Find all two-word fruits by searching for a space. "
   ]
  },
  {
   "cell_type": "code",
   "execution_count": null,
   "id": "b06aa9a3",
   "metadata": {
    "lines_to_next_cell": 0,
    "slideshow": {
     "slide_type": "code"
    }
   },
   "outputs": [],
   "source": [
    "#[re.search(' ', fruit) is not None for fruit in fruits]\n",
    "two_word_fruits = []\n",
    "for fruit in fruits:\n",
    "    if re.search(' ', fruit):# is not None:\n",
    "        two_word_fruits.append(fruit)\n",
    "two_word_fruits"
   ]
  },
  {
   "cell_type": "markdown",
   "id": "dc17766d",
   "metadata": {
    "slideshow": {
     "slide_type": "subslide"
    }
   },
   "source": [
    "# Search / Contains\n",
    "- Find all two-word fruits by searching for a space. \n",
    "- Let's use this method to explore regex concepts. "
   ]
  },
  {
   "cell_type": "code",
   "execution_count": null,
   "id": "9688f35c",
   "metadata": {
    "slideshow": {
     "slide_type": "code"
    }
   },
   "outputs": [],
   "source": [
    "fruits_df[fruits_df['fruit'].str.contains(' ')]"
   ]
  },
  {
   "cell_type": "markdown",
   "id": "d464d257",
   "metadata": {
    "slideshow": {
     "slide_type": "slide"
    }
   },
   "source": [
    "# Regex Concepts - Simple search\n",
    "- Find all fruits with an \"a\" anywhere in the word. "
   ]
  },
  {
   "cell_type": "code",
   "execution_count": null,
   "id": "5bc64c78",
   "metadata": {
    "slideshow": {
     "slide_type": "code"
    }
   },
   "outputs": [],
   "source": [
    "fruits_df[fruits_df['fruit'].str.contains('a')]"
   ]
  },
  {
   "cell_type": "markdown",
   "id": "e651c91e",
   "metadata": {
    "slideshow": {
     "slide_type": "subslide"
    }
   },
   "source": [
    "# Regex Concepts - Anchors\n",
    "- A caret `^` indicates the match must come at the \n",
    "  beginning of the string.  \n",
    "- Find all fruits beginning with an \"a\".\n",
    "- This is known as an *anchor*."
   ]
  },
  {
   "cell_type": "code",
   "execution_count": null,
   "id": "45e08eea",
   "metadata": {
    "slideshow": {
     "slide_type": "code"
    }
   },
   "outputs": [],
   "source": [
    "fruits_df[fruits_df['fruit'].str.contains('^a')]"
   ]
  },
  {
   "cell_type": "markdown",
   "id": "c88bdb0b",
   "metadata": {
    "slideshow": {
     "slide_type": "subslide"
    }
   },
   "source": [
    "# Regex Concepts - Anchors\n",
    "- A dollar sign `$` indicates the match must come at the \n",
    "  end of the string.  \n",
    "- Find all fruits ending with an \"a\".\n",
    "- This is also known as an *anchor*."
   ]
  },
  {
   "cell_type": "code",
   "execution_count": null,
   "id": "0b85ef5a",
   "metadata": {
    "slideshow": {
     "slide_type": "code"
    }
   },
   "outputs": [],
   "source": [
    "fruits_df[fruits_df['fruit'].str.contains('a$')]"
   ]
  },
  {
   "cell_type": "markdown",
   "id": "e6749fc4",
   "metadata": {
    "slideshow": {
     "slide_type": "subslide"
    }
   },
   "source": [
    "# Anchors in Pandas\n",
    "- Pandas also has vectorized `.startswith()` and `.endswith()`\n",
    "  methods.  \n",
    "- Find all fruits starting or ending with an \"a\"."
   ]
  },
  {
   "cell_type": "code",
   "execution_count": null,
   "id": "4b2321f7",
   "metadata": {
    "slideshow": {
     "slide_type": "code"
    }
   },
   "outputs": [],
   "source": [
    "fruits_df[\n",
    "  np.logical_or(\n",
    "    fruits_df['fruit'].str.startswith('a'),\n",
    "    fruits_df['fruit'].str.endswith('a')\n",
    "  )\n",
    "]"
   ]
  },
  {
   "cell_type": "markdown",
   "id": "ed34d424",
   "metadata": {
    "slideshow": {
     "slide_type": "subslide"
    }
   },
   "source": [
    "# Regex Concepts - Or\n",
    "- A bar `|` can be used as an *or* operator in regular\n",
    "  expressions.   \n",
    "- Find all fruits starting or ending with an \"a\"."
   ]
  },
  {
   "cell_type": "code",
   "execution_count": null,
   "id": "db6da6d9",
   "metadata": {
    "slideshow": {
     "slide_type": "code"
    }
   },
   "outputs": [],
   "source": [
    "fruits_df[fruits_df['fruit'].str.contains('^a|a$')]"
   ]
  },
  {
   "cell_type": "markdown",
   "id": "5784d785",
   "metadata": {
    "slideshow": {
     "slide_type": "subslide"
    }
   },
   "source": [
    "# Regex Concepts - Bracket Expressions\n",
    "- Multiple acceptable matches can be collected into a \n",
    "  bracket expression. \n",
    "- Find all fruits starting with a vowel."
   ]
  },
  {
   "cell_type": "code",
   "execution_count": null,
   "id": "a22791fc",
   "metadata": {
    "slideshow": {
     "slide_type": "code"
    }
   },
   "outputs": [],
   "source": [
    "fruits_df[fruits_df['fruit'].str.contains('^[aeiou]')]"
   ]
  },
  {
   "cell_type": "markdown",
   "id": "2ce71955",
   "metadata": {
    "slideshow": {
     "slide_type": "subslide"
    }
   },
   "source": [
    "# Regex Concepts - Bracket Expressions\n",
    "- Inside a bracketed expression, a caret `^` means to\n",
    "  match anything but the listed characters.  \n",
    "- Find all fruits ending with a consonant other than n, r, or t."
   ]
  },
  {
   "cell_type": "code",
   "execution_count": null,
   "id": "de97aabb",
   "metadata": {
    "slideshow": {
     "slide_type": "code"
    }
   },
   "outputs": [],
   "source": [
    "fruits_df[fruits_df['fruit'].str.contains('[^aeiounrt]$')]"
   ]
  },
  {
   "cell_type": "markdown",
   "id": "c98c919a",
   "metadata": {
    "lines_to_next_cell": 2,
    "slideshow": {
     "slide_type": "subslide"
    }
   },
   "source": [
    "# Regex Concepts - Ranges\n",
    "- Bracket expressions understand the following ranges:\n",
    "  + `[a-z]` - lowercase letters\n",
    "  + `[A-Z]` - uppercase letters\n",
    "  + `[0-9]` - digits\n",
    "- These can be used together, e.g. `[A-Za-z0-9]`. "
   ]
  },
  {
   "cell_type": "markdown",
   "id": "fc4037c4",
   "metadata": {
    "slideshow": {
     "slide_type": "subslide"
    }
   },
   "source": [
    "# Regex Concepts - Quantifiers\n",
    "- Numbers in braces `{}` can be used to specify a \n",
    "  a specific number (or range) of matches. \n",
    "- Find all fruits ending with two consecutive consonants\n",
    "  other than n, r or t."
   ]
  },
  {
   "cell_type": "code",
   "execution_count": null,
   "id": "675fee2e",
   "metadata": {
    "slideshow": {
     "slide_type": "code"
    }
   },
   "outputs": [],
   "source": [
    "fruits_df[fruits_df['fruit'].str.contains('[^aeiounrt]{2}$')]\n",
    "#fruits_df[fruits_df['fruit'].str.contains('[^aeiour]{2, 3}$')]"
   ]
  },
  {
   "cell_type": "markdown",
   "id": "22ae6d03",
   "metadata": {
    "slideshow": {
     "slide_type": "subslide"
    }
   },
   "source": [
    "# Regex Concepts - Quantifiers\n",
    "- How would we find all fruits with two consecutive vowels? "
   ]
  },
  {
   "cell_type": "code",
   "execution_count": null,
   "id": "cf0b1600",
   "metadata": {
    "slideshow": {
     "slide_type": "code"
    }
   },
   "outputs": [],
   "source": [
    "#fruits_df[fruits_df['fruit'].str.contains('')]"
   ]
  },
  {
   "cell_type": "markdown",
   "id": "38e7db3b",
   "metadata": {
    "slideshow": {
     "slide_type": "subslide"
    }
   },
   "source": [
    "# Regex Concepts - Wild Card and Quantifiers\n",
    "- The quantifier `*` indicates 0 or more matches, `?` indicates\n",
    "  0 or 1 matches, and `+` indicates one or more matches.\n",
    "- A *dot* (or period) `.` can be used to match any single character.\n",
    "- These are often used together, e.g. `.*` matches anything but a   \n",
    "  newline (`\\n`) character.  "
   ]
  },
  {
   "cell_type": "markdown",
   "id": "224d2c7c",
   "metadata": {
    "slideshow": {
     "slide_type": "subslide"
    }
   },
   "source": [
    "# Regex Concepts - Wild Card Example\n",
    "- Find all fruits with two consecutive vowels, twice, separated\n",
    "  by a single consonant. "
   ]
  },
  {
   "cell_type": "code",
   "execution_count": null,
   "id": "e795a4c5",
   "metadata": {
    "slideshow": {
     "slide_type": "code"
    }
   },
   "outputs": [],
   "source": [
    "rgx0 = '[aeiou]{2}.[aeiou]{2}'\n",
    "fruits_df[fruits_df['fruit'].str.contains(rgx0)]"
   ]
  },
  {
   "cell_type": "markdown",
   "id": "3bed6cfb",
   "metadata": {
    "slideshow": {
     "slide_type": "subslide"
    }
   },
   "source": [
    "# Regex Concepts - Wild Card with Quantifier Example\n",
    "- Find all fruits with two consecutive vowels, twice, separated\n",
    "  by one or more consonants. "
   ]
  },
  {
   "cell_type": "code",
   "execution_count": null,
   "id": "bc751579",
   "metadata": {
    "slideshow": {
     "slide_type": "code"
    }
   },
   "outputs": [],
   "source": [
    "first = True\n",
    "if first:\n",
    "    rgx1 = '[aeiou]{2}.+[aeiou]{2}'\n",
    "    fruits_df[fruits_df['fruit'].str.contains(rgx1)]\n",
    "else:\n",
    "    fruits_df[\n",
    "      np.logical_and(\n",
    "        fruits_df['fruit'].str.contains(rgx1),\n",
    "        ~fruits_df['fruit'].str.contains(rgx0)\n",
    "      )\n"
   ]
  },
  {
   "cell_type": "markdown",
   "id": "ead2bbb3",
   "metadata": {
    "slideshow": {
     "slide_type": "slide"
    }
   },
   "source": [
    "# Escape sequences\n",
    "- Characters with special meanings like `.` can be escaped\n",
    "  using a backslash `\\`, e.g. `\\.`.\n",
    "- Some can also be placed in brackets `[.]`. "
   ]
  },
  {
   "cell_type": "code",
   "execution_count": null,
   "id": "43cdda31",
   "metadata": {
    "slideshow": {
     "slide_type": "code"
    }
   },
   "outputs": [],
   "source": [
    "fruits.append('507@umich.edu')\n",
    "print(fruits[len(fruits) - 1])\n",
    "\n",
    "for f in fruits:\n",
    "    if re.search('\\.', f):\n",
    "        print(f)\n",
    "    if re.search('[.]', f):\n",
    "        print('[' + f + ']')"
   ]
  },
  {
   "cell_type": "markdown",
   "id": "de03e7f7",
   "metadata": {
    "slideshow": {
     "slide_type": "subslide"
    }
   },
   "source": [
    "# Escape sequences\n",
    "- Because `\\` is used as an escape character, a literal backslash \n",
    "  `\\`needs to be escaped. \n",
    "- Commonly appears in file paths on Windows. "
   ]
  },
  {
   "cell_type": "code",
   "execution_count": null,
   "id": "73df75b3",
   "metadata": {
    "slideshow": {
     "slide_type": "code"
    }
   },
   "outputs": [],
   "source": [
    "fruits.append(r'C:\\path\\file.txt')\n",
    "fruits[len(fruits) - 1]"
   ]
  },
  {
   "cell_type": "markdown",
   "id": "3f2c7c6a",
   "metadata": {
    "slideshow": {
     "slide_type": "subslide"
    }
   },
   "source": [
    "# Escape sequences\n",
    "> To avoid unwanted escaping with \\ in a regular expression, \n",
    "> use raw string\n",
    "> literals like r'C:\\x' instead of the equivalent 'C:\\\\x'.\n",
    "> \n",
    ">   -- Wes McKinney"
   ]
  },
  {
   "cell_type": "code",
   "execution_count": null,
   "id": "387c7b62",
   "metadata": {
    "slideshow": {
     "slide_type": "code"
    }
   },
   "outputs": [],
   "source": [
    "for f in fruits:\n",
    "    if re.search(r'\\\\', f):\n",
    "        print(f)\n",
    "    if re.search('\\\\\\\\', f):\n",
    "        print('ugh!')\n",
    "        print(f)"
   ]
  },
  {
   "cell_type": "markdown",
   "id": "5382c657",
   "metadata": {
    "slideshow": {
     "slide_type": "slide"
    }
   },
   "source": [
    "# Character Classes\n",
    "- Various escape sequences can be used to represent specifc classes\n",
    "  of characters.\n",
    "  + words: `\\w` roughly `[a-zA-z0-9]+`,\n",
    "  + non-words: `\\W`,\n",
    "  + digits: `\\d = [0-9]`, \n",
    "  + non-digits: `\\D`,\n",
    "  + whitespace: `\\s`,\n",
    "  + non-whitespace: `\\S`."
   ]
  },
  {
   "cell_type": "code",
   "execution_count": null,
   "id": "89cca8cc",
   "metadata": {
    "slideshow": {
     "slide_type": "code"
    }
   },
   "outputs": [],
   "source": [
    "fruits_df[fruits_df['fruit'].str.contains('\\s')]"
   ]
  },
  {
   "cell_type": "markdown",
   "id": "c12eecc2",
   "metadata": {
    "slideshow": {
     "slide_type": "slide"
    }
   },
   "source": [
    "# Groups\n",
    "- Use parantheses to create groups.  \n",
    "- Groups can be referred back to using an escaped integer. \n",
    "- Let's find all fruits with:\n",
    "  + a double letter\n",
    "  + a double letter other than \"r\"\n",
    "  + a double letter at the end of the word."
   ]
  },
  {
   "cell_type": "code",
   "execution_count": null,
   "id": "f1baf382",
   "metadata": {
    "slideshow": {
     "slide_type": "code"
    }
   },
   "outputs": [],
   "source": [
    "fruits_df[fruits_df['fruit'].str.contains('(.)\\\\1')]\n",
    "#fruits_df[fruits_df['fruit'].str.contains('([^r])\\\\1')]\n",
    "#fruits_df[fruits_df['fruit'].str.contains('(.)\\\\1$')]"
   ]
  },
  {
   "cell_type": "markdown",
   "id": "b8376962",
   "metadata": {
    "slideshow": {
     "slide_type": "slide"
    }
   },
   "source": [
    "# Regex Crosswords \n",
    "- Let's practice regular expression concepts by solving \n",
    "  the intermediate puzzles from <https://regexcrossword.com>."
   ]
  },
  {
   "cell_type": "markdown",
   "id": "f2e0cd03",
   "metadata": {
    "slideshow": {
     "slide_type": "slide"
    }
   },
   "source": [
    "# Takeaways\n",
    "- Regular expresions are used to describe patterns in strings.\n",
    "- Use these patterns to search, find and replace, extract or \n",
    "  otherwise work with strings. \n",
    "- Use regular expressions whenever you can. "
   ]
  }
 ],
 "metadata": {
  "jupytext": {
   "cell_metadata_json": true,
   "notebook_metadata_filter": "rise"
  },
  "kernelspec": {
   "display_name": "Python 3 (ipykernel)",
   "language": "python",
   "name": "python3"
  },
  "rise": {
   "autolaunch": true,
   "enable_chalkboard": true,
   "header": "<a href=\"#/slide-0-0\"> <h3> Stats 507 - Regex </a>",
   "progress": true,
   "scroll": true,
   "theme": "solarized",
   "transition": "convex"
  }
 },
 "nbformat": 4,
 "nbformat_minor": 5
}
