{
 "cells": [
  {
   "cell_type": "markdown",
   "id": "3426e377",
   "metadata": {
    "slideshow": {
     "slide_type": "slide"
    }
   },
   "source": [
    "## Tips for Better Code\n",
    "*Stats 507, Fall 2021*\n",
    "\n",
    "James Henderson, PhD  \n",
    "September 23, 2021"
   ]
  },
  {
   "cell_type": "markdown",
   "id": "572cb52c",
   "metadata": {
    "slideshow": {
     "slide_type": "slide"
    }
   },
   "source": [
    "## Overview\n",
    "- [Tip 1](#/slide-2-0)\n",
    "- [Tip 2](#/slide-3-0)\n",
    "- [Tip 3](#/slide-4-0)\n",
    "- [Tip 4](#/slide-5-0)\n",
    "- [Takeaways](#/slide-6-0)"
   ]
  },
  {
   "cell_type": "markdown",
   "id": "ca07ec29",
   "metadata": {
    "slideshow": {
     "slide_type": "slide"
    }
   },
   "source": [
    "## Tip 1\n",
    "- Don't do more than you have to.\n",
    "- <p class='fragment'> \n",
    "  Example: Looping over pairs of n items.\n",
    "  </p>\n",
    "- <p class='fragment'> \n",
    "  Don't use $n^2$ comparisons when you only need $n \\choose 2$. \n",
    "  </p>"
   ]
  },
  {
   "cell_type": "markdown",
   "id": "adce900a",
   "metadata": {
    "slideshow": {
     "slide_type": "subslide"
    }
   },
   "source": [
    "## Tip 1\n",
    "- Don't do more than you have to.\n",
    "- Example: Looping over pairs of n items.\n",
    "- Don't use $n^2$ comparisons when you only need $n \\choose 2$. "
   ]
  },
  {
   "cell_type": "code",
   "execution_count": null,
   "id": "60da9ab9",
   "metadata": {
    "slideshow": {
     "slide_type": "code"
    }
   },
   "outputs": [],
   "source": [
    "# worse\n",
    "phi = (1 + np.sqrt(5)) / 2\n",
    "psi = (1 - np.sqrt(5)) / 2\n",
    "x = np.zeros((3, 3))\n",
    "for i in range(3):\n",
    "    for j in range(3):\n",
    "        if i < j:\n",
    "            x[i, j] = phi ** i - psi ** j\n",
    "        elif i > j:\n",
    "            x[i, j] = phi ** j - psi ** i"
   ]
  },
  {
   "cell_type": "markdown",
   "id": "02768033",
   "metadata": {
    "slideshow": {
     "slide_type": "subslide"
    }
   },
   "source": [
    "## Tip 1\n",
    "- Don't do more than you have to.\n",
    "- Example: Looping over pairs of n items.\n",
    "- Don't use $n^{2}$ comparisons when you only need $n \\choose 2$. "
   ]
  },
  {
   "cell_type": "code",
   "execution_count": null,
   "id": "774d4b51",
   "metadata": {
    "slideshow": {
     "slide_type": "code"
    }
   },
   "outputs": [],
   "source": [
    "# better\n",
    "phi = (1 + np.sqrt(5)) / 2\n",
    "psi = (1 - np.sqrt(5)) / 2\n",
    "x = np.zeros((3, 3))\n",
    "for i in range(3):\n",
    "    for j in range(i + 1, 3):\n",
    "        x[i, j] = x[j, i] = phi ** i - psi ** j"
   ]
  },
  {
   "cell_type": "markdown",
   "id": "dd190fc7",
   "metadata": {
    "slideshow": {
     "slide_type": "slide"
    }
   },
   "source": [
    "## Tip 2\n",
    "- Iterate over indices only when necessary, else iterate over values. \n",
    "- <p class='fragment'> \n",
    "  Example: Finding the maximum. \n",
    "  </p>"
   ]
  },
  {
   "cell_type": "markdown",
   "id": "42144110",
   "metadata": {
    "slideshow": {
     "slide_type": "subslide"
    }
   },
   "source": [
    "## Tip 2\n",
    "- Iterate over indices only when necessary, else iterate over values. \n",
    "- Example: Finding the maximum. "
   ]
  },
  {
   "cell_type": "code",
   "execution_count": null,
   "id": "acf41800",
   "metadata": {
    "slideshow": {
     "slide_type": "code"
    }
   },
   "outputs": [],
   "source": [
    "# worse\n",
    "n = 1000\n",
    "x = list(np.random.uniform(size=n))\n",
    "m = x[0]\n",
    "for i in range(len(x)):\n",
    "    if x[i] > m:\n",
    "        m = x[i]"
   ]
  },
  {
   "cell_type": "markdown",
   "id": "8c6852e0",
   "metadata": {
    "slideshow": {
     "slide_type": "subslide"
    }
   },
   "source": [
    "## Tip 2\n",
    "- Iterate over indices only when necessary, else iterate over values. \n",
    "- Example: Finding the maximum. "
   ]
  },
  {
   "cell_type": "code",
   "execution_count": null,
   "id": "8385e4ed",
   "metadata": {
    "slideshow": {
     "slide_type": "code"
    }
   },
   "outputs": [],
   "source": [
    "# better\n",
    "m = x[0]\n",
    "for v in x:\n",
    "    if v > m:\n",
    "        m = v"
   ]
  },
  {
   "cell_type": "markdown",
   "id": "1ec3b4a8",
   "metadata": {
    "slideshow": {
     "slide_type": "slide"
    }
   },
   "source": [
    "## Tip 3\n",
    "- Limit use of intermediate variables in simple calculations.\n",
    "- <p class='fragment'> \n",
    "  <em>Do</em> use intermediate variables to add clarity to complex calculations.\n",
    "</p>\n",
    "- <p class='fragment'> \n",
    "  Example: Computing z-scores. \n",
    "  </p>"
   ]
  },
  {
   "cell_type": "markdown",
   "id": "6401cbf2",
   "metadata": {
    "slideshow": {
     "slide_type": "subslide"
    }
   },
   "source": [
    "## Tip 3\n",
    "- Limit use of intermediate variables in simple calculations.\n",
    "- *Do* use intermediate variables to add clarity to complex calculations.\n",
    "- Example: Computing z-scores. "
   ]
  },
  {
   "cell_type": "code",
   "execution_count": null,
   "id": "597b83d3",
   "metadata": {
    "slideshow": {
     "slide_type": "code"
    }
   },
   "outputs": [],
   "source": [
    "# worse\n",
    "x = np.random.uniform(size=n)\n",
    "xbar = np.mean(x)\n",
    "sd = np.std(x)\n",
    "num = x - xbar\n",
    "z = num / sd"
   ]
  },
  {
   "cell_type": "markdown",
   "id": "5e81eff8",
   "metadata": {
    "slideshow": {
     "slide_type": "subslide"
    }
   },
   "source": [
    "## Tip 3\n",
    "- Limit use of intermediate variables in simple calculations.\n",
    "- *Do* use intermediate variables to add clarity for complex calculations.\n",
    "- Example: Computing z-scores. "
   ]
  },
  {
   "cell_type": "code",
   "execution_count": null,
   "id": "3719f7f4",
   "metadata": {
    "slideshow": {
     "slide_type": "code"
    }
   },
   "outputs": [],
   "source": [
    "# better\n",
    "z = (x - np.mean(x)) / np.std(x)"
   ]
  },
  {
   "cell_type": "markdown",
   "id": "74e15d45",
   "metadata": {
    "slideshow": {
     "slide_type": "slide"
    }
   },
   "source": [
    "## Tip 4\n",
    "- Don't use two names when one will do. \n",
    "- <p class='fragment'> \n",
    "  <em>Do</em> pick meaningful, but concise variable names. \n",
    "  </p>\n",
    "- <p class='fragment'>\n",
    "  Example: Fibonacci function. \n",
    "  </p>"
   ]
  },
  {
   "cell_type": "markdown",
   "id": "625ab41a",
   "metadata": {
    "slideshow": {
     "slide_type": "subslide"
    }
   },
   "source": [
    "## Tip 4\n",
    "- Don't use two names when one will do. \n",
    "- *Do* pick meaningful, but concise variable names. \n",
    "- Example: Fibonacci function. "
   ]
  },
  {
   "cell_type": "code",
   "execution_count": null,
   "id": "151e24c9",
   "metadata": {
    "slideshow": {
     "slide_type": "code"
    }
   },
   "outputs": [],
   "source": [
    "# worse\n",
    "def fib_for(n, first_fib_number=0, second_fib_number=1):\n",
    "    \"\"\"\n",
    "    Compute the Fibonacci number $F_n$, when $F_0 = a$ and $F_1 = b$.\n",
    "\n",
    "    This function computes $F_n$ directly by iterating using a for loop.\n",
    "\n",
    "    Parameters\n",
    "    ----------\n",
    "    n : int\n",
    "        The desired Fibonacci number $F_n$. \n",
    "    first_fib_number, second_fib_number : int, optional.\n",
    "        Values of $F_0$ and $F_n$ to initalize the sequence with. \n",
    "\n",
    "    Returns\n",
    "    -------\n",
    "    The Fibonacci number $F_n$ for the sequence beginning with the specified\n",
    "    inputs. \n",
    "\n",
    "    \"\"\"\n",
    "    a = first_fib_number\n",
    "    b = second_fib_number\n",
    "\n",
    "    if n == 0:\n",
    "        return(a)\n",
    "    elif n == 1:\n",
    "        return(b)\n",
    "    else:\n",
    "        for i in range(n - 1):\n",
    "            a, b = b, a + b\n",
    "        return(b)"
   ]
  },
  {
   "cell_type": "markdown",
   "id": "70d55970",
   "metadata": {
    "slideshow": {
     "slide_type": "subslide"
    }
   },
   "source": [
    "## Tip 4\n",
    "- Don't use two names when one will do. \n",
    "- *Do* pick meaningful, but concise variable names. \n",
    "- Example: Fibonacci function. "
   ]
  },
  {
   "cell_type": "code",
   "execution_count": null,
   "id": "92e5532c",
   "metadata": {
    "slideshow": {
     "slide_type": "code"
    }
   },
   "outputs": [],
   "source": [
    "# better\n",
    "def fib_for(n, f0=0, f1=1):\n",
    "    \"\"\"\n",
    "    Compute the Fibonacci number $F_n$, when $F_0 = a$ and $F_1 = b$.\n",
    "\n",
    "    This function computes $F_n$ directly by iterating using a for loop.\n",
    "\n",
    "    Parameters\n",
    "    ----------\n",
    "    n : int\n",
    "        The desired Fibonacci number $F_n$. \n",
    "    f0, f1 : int, optional.\n",
    "        Values to initalize the sequence $F_0$ = `f0`, $F_1$ = `f1`. \n",
    "\n",
    "    Returns\n",
    "    -------\n",
    "    The Fibonacci number $F_n$ for the sequence beginning with `f0` and `f1`. \n",
    "\n",
    "    \"\"\"\n",
    "    if n == 0:\n",
    "        return(a)\n",
    "    elif n == 1:\n",
    "        return(b)\n",
    "    else:\n",
    "        for i in range(n - 1):\n",
    "            a, b = b, a + b\n",
    "        return(b)"
   ]
  },
  {
   "cell_type": "markdown",
   "id": "679b00fd",
   "metadata": {
    "slideshow": {
     "slide_type": "slide"
    }
   },
   "source": [
    "## Takeaways\n",
    "- Don't do more than you have to.\n",
    "- Iterate over indices only when necessary, otherwise iterate over values. \n",
    "- Limit use of intermediate variables in simple caclulations.\n",
    "- Do use intermediate variables to make complex calculations clearer.\n",
    "- Don't use two names when one will do."
   ]
  }
 ],
 "metadata": {
  "jupytext": {
   "cell_metadata_json": true,
   "notebook_metadata_filter": "rise"
  },
  "kernelspec": {
   "display_name": "Python 3 (ipykernel)",
   "language": "python",
   "name": "python3"
  },
  "rise": {
   "autolaunch": true,
   "enable_chalkboard": true,
   "header": "<a href=\"#/slide-0-0\"> <h3> Stats 507 - Code Tips </a>",
   "progress": true,
   "scroll": true,
   "theme": "solarized",
   "transition": "convex"
  }
 },
 "nbformat": 4,
 "nbformat_minor": 5
}
