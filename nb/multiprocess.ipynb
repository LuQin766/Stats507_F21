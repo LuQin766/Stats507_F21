{
 "cells": [
  {
   "cell_type": "markdown",
   "id": "6e7c51a8",
   "metadata": {},
   "source": [
    "# \n",
    "# Multiprocess Parallelism\n",
    "**Stats 507, Fall 2021**  \n",
    "*James Henderson, PhD*  \n",
    "*November 16, 2021*"
   ]
  },
  {
   "cell_type": "markdown",
   "id": "6f977039",
   "metadata": {},
   "source": [
    "In this notebook we'll explore multi-process parallelism\n",
    "as implemented in Python's multiprocessing library. We'll\n",
    "use the following imports -- note that `cv_funcs` refers to\n",
    "`cf_funcs.py` which you can find in the same rep as this\n",
    "document. "
   ]
  },
  {
   "cell_type": "code",
   "execution_count": null,
   "id": "e248c1ce",
   "metadata": {},
   "outputs": [],
   "source": [
    "# imports: --------------------------------------------------------------------\n",
    "import os\n",
    "import time\n",
    "import numpy as np\n",
    "import pandas as pd\n",
    "import multiprocessing as mp\n",
    "import cv_funcs as cvf\n",
    "import asyncio\n",
    "from sklearn.ensemble import GradientBoostingClassifier"
   ]
  },
  {
   "cell_type": "markdown",
   "id": "5663e48e",
   "metadata": {},
   "source": [
    "## Simple Examples\n",
    "In the code cells below, we explore `cvf.wait()` and review calling\n",
    "functions by unpacking tuples (for positional arguments) or \n",
    "dictionaries (for keyword arguments)."
   ]
  },
  {
   "cell_type": "code",
   "execution_count": null,
   "id": "444619c6",
   "metadata": {},
   "outputs": [],
   "source": [
    "cvf.wait(1)"
   ]
  },
  {
   "cell_type": "markdown",
   "id": "e0abe11e",
   "metadata": {},
   "source": [
    "The two examples below remind us how function arguments can\n",
    "be unpacked from a tuple or dictionary."
   ]
  },
  {
   "cell_type": "code",
   "execution_count": null,
   "id": "ef7295d9",
   "metadata": {},
   "outputs": [],
   "source": [
    "# call by unpacking positional arguments\n",
    "(cvf.wait(*(2, )))"
   ]
  },
  {
   "cell_type": "code",
   "execution_count": null,
   "id": "eed3460c",
   "metadata": {},
   "outputs": [],
   "source": [
    "# call by unpacking keyword arguments\n",
    "cvf.wait(**{'i': 1})"
   ]
  },
  {
   "cell_type": "markdown",
   "id": "3ff924f8",
   "metadata": {},
   "source": [
    "Here is our first example, note the \"main gate\". "
   ]
  },
  {
   "cell_type": "code",
   "execution_count": null,
   "id": "f22442b6",
   "metadata": {
    "lines_to_next_cell": 2
   },
   "outputs": [],
   "source": [
    "if __name__ == \"__main__\":\n",
    "    print(mp.active_children())\n",
    "    print('Not blocking: ' + time.ctime())\n",
    "    p = mp.Process(target=cvf.wait, args=(10,))\n",
    "    p.start()\n",
    "    print('Blocking: ' + time.ctime())\n",
    "    print(mp.active_children())\n",
    "    p.join()\n",
    "    print('Done: ' + time.ctime())\n",
    "    print(mp.active_children())"
   ]
  },
  {
   "cell_type": "markdown",
   "id": "a17295ba",
   "metadata": {},
   "source": [
    "Here is a similar example showing that we do not need \n",
    "to explicitly join a process for it to close on completeion."
   ]
  },
  {
   "cell_type": "code",
   "execution_count": null,
   "id": "8069ab37",
   "metadata": {},
   "outputs": [],
   "source": [
    "if __name__ == \"__main__\":\n",
    "    print(mp.active_children())\n",
    "    print('Not blocking: ' + time.ctime())\n",
    "    p = mp.Process(target=cvf.wait, args=(1,))\n",
    "    p.start()\n",
    "    print('Blocking: ' + time.ctime())\n",
    "    print(mp.active_children())"
   ]
  },
  {
   "cell_type": "code",
   "execution_count": null,
   "id": "508ff185",
   "metadata": {},
   "outputs": [],
   "source": [
    "(mp.active_children(), p.is_alive())"
   ]
  },
  {
   "cell_type": "markdown",
   "id": "e35a81af",
   "metadata": {},
   "source": [
    "## Communicating with Queues\n",
    "Parallel tasks can be useful without communication if, for example,\n",
    "each task is called for its side effects - such as writing a result to\n",
    "disk. However, parallel computing is more powerful with inter-process\n",
    "communication. \n",
    "\n",
    "In the next set of code cells, we'll a useful pattern for using\n",
    "first-in-first-out queues for trivially parallel tasks. Here are\n",
    "two sets of tasks we'll apply the pattern to."
   ]
  },
  {
   "cell_type": "code",
   "execution_count": null,
   "id": "2311fb2e",
   "metadata": {},
   "outputs": [],
   "source": [
    "# parameters: -----------------------------------------------------------------\n",
    "n_processes = 2\n",
    "tasks = [(cvf.wait, (i + 1, )) for i in range(10)]\n",
    "tasks_2 = [(cvf.wait, (i, ) ) for i in (1, 6, 2, 7, 3, 8, 4, 9, 5, 10)]"
   ]
  },
  {
   "cell_type": "code",
   "execution_count": null,
   "id": "e8f668b2",
   "metadata": {},
   "outputs": [],
   "source": [
    "np.sum([i[1][0] for i in tasks]), np.sum([i[1][0] for i in tasks_2])"
   ]
  },
  {
   "cell_type": "markdown",
   "id": "f8184987",
   "metadata": {},
   "source": [
    "Here is the pattern applied to the first task list. "
   ]
  },
  {
   "cell_type": "code",
   "execution_count": null,
   "id": "1d27f037",
   "metadata": {
    "lines_to_next_cell": 2
   },
   "outputs": [],
   "source": [
    "# parallel execution: ---------------------------------------------------------\n",
    "if __name__ == '__main__':\n",
    "    # create queues\n",
    "    task_queue = mp.Queue()\n",
    "    done_queue = mp.Queue()\n",
    "\n",
    "    # Submit tasks\n",
    "    for task in tasks:\n",
    "        task_queue.put(task)\n",
    "\n",
    "    # start processes\n",
    "    for i in range(n_processes):\n",
    "        mp.Process(target=cvf.worker, args=(task_queue, done_queue)).start()\n",
    "    \n",
    "    # get unordered results \n",
    "    results = []\n",
    "    for i, task in enumerate(tasks):\n",
    "        results.append((i, done_queue.get()))\n",
    "\n",
    "    # stop child processes\n",
    "    for i in range(n_processes):\n",
    "        task_queue.put('STOP')"
   ]
  },
  {
   "cell_type": "code",
   "execution_count": null,
   "id": "3de3a61f",
   "metadata": {},
   "outputs": [],
   "source": [
    "results"
   ]
  },
  {
   "cell_type": "markdown",
   "id": "5b5cf8e8",
   "metadata": {},
   "source": [
    "Here is the same pattern applied to the second set of tasks.\n",
    "This second task list is constructed to illustrate what it means\n",
    "for the queue to be FIFO. "
   ]
  },
  {
   "cell_type": "code",
   "execution_count": null,
   "id": "51861f07",
   "metadata": {},
   "outputs": [],
   "source": [
    "# parallel execution: ---------------------------------------------------------\n",
    "if __name__ == '__main__':\n",
    "    # create queues\n",
    "    task_queue = mp.Queue()\n",
    "    done_queue = mp.Queue()\n",
    "\n",
    "    # Submit tasks\n",
    "    for task in tasks_2:\n",
    "        task_queue.put(task)\n",
    "\n",
    "    # start processes\n",
    "    for i in range(n_processes):\n",
    "        mp.Process(target=cvf.worker, args=(task_queue, done_queue)).start()\n",
    "    \n",
    "    # get unordered results \n",
    "    results2 = []\n",
    "    for i, task in enumerate(tasks_2):\n",
    "        results2.append((i, done_queue.get()))\n",
    "\n",
    "    # stop child processes\n",
    "    for i in range(n_processes):\n",
    "        task_queue.put('STOP')"
   ]
  },
  {
   "cell_type": "markdown",
   "id": "cae5a217",
   "metadata": {},
   "source": [
    "## Pools\n",
    "The code cells below collect simple examples of using a \n",
    "pool of worker processes to perform parallel computations."
   ]
  },
  {
   "cell_type": "code",
   "execution_count": null,
   "id": "19948ed9",
   "metadata": {},
   "outputs": [],
   "source": [
    "print('Start: ' + time.ctime())\n",
    "with mp.Pool(2) as p:\n",
    "    results1 = p.map(cvf.wait, range(1, 11))\n",
    "print('End: ' + time.ctime())"
   ]
  },
  {
   "cell_type": "code",
   "execution_count": null,
   "id": "6c2da622",
   "metadata": {},
   "outputs": [],
   "source": [
    "mp.active_children()"
   ]
  },
  {
   "cell_type": "code",
   "execution_count": null,
   "id": "861cbe89",
   "metadata": {},
   "outputs": [],
   "source": [
    "results1"
   ]
  },
  {
   "cell_type": "markdown",
   "id": "78e4f185",
   "metadata": {},
   "source": [
    "Notice the default chunking behavior in `results1`.\n",
    "Next, we explicitly set the chunksize to 5. "
   ]
  },
  {
   "cell_type": "code",
   "execution_count": null,
   "id": "243e854d",
   "metadata": {},
   "outputs": [],
   "source": [
    "print('Start: ' + time.ctime())\n",
    "with mp.Pool(2) as p:\n",
    "    results2 = p.map(cvf.wait, range(1, 11), chunksize=5)\n",
    "print('End: ' + time.ctime())"
   ]
  },
  {
   "cell_type": "code",
   "execution_count": null,
   "id": "911926ea",
   "metadata": {},
   "outputs": [],
   "source": [
    "results2"
   ]
  },
  {
   "cell_type": "markdown",
   "id": "6b04fae3",
   "metadata": {},
   "source": [
    "Finally, let's use a chunksize of 1."
   ]
  },
  {
   "cell_type": "code",
   "execution_count": null,
   "id": "45f1d5eb",
   "metadata": {},
   "outputs": [],
   "source": [
    "print('Start: ' + time.ctime())\n",
    "with mp.Pool(2) as p:\n",
    "    results3 = p.map(cvf.wait, range(1, 11), chunksize=1)\n",
    "print('End: ' + time.ctime())\n",
    "results3"
   ]
  },
  {
   "cell_type": "markdown",
   "id": "48230939",
   "metadata": {},
   "source": [
    "In these examples, we had relatively few tasks and didn't\n",
    "need to worry much about overhead. However, in, say, a \n",
    "Monte Carlo study with 10,000 replciates we wouldn't want to use a\n",
    "chunksize of 1."
   ]
  },
  {
   "cell_type": "markdown",
   "id": "fa3ad9f1",
   "metadata": {},
   "source": [
    "## Parallel Cross-Validation\n",
    "Next, we'll use the queue pattern above to parallelize 4-fold\n",
    "cross-validation for gradient boosted tree classifiers applied to\n",
    "the isolet data.  \n",
    "\n",
    "This first cell sets up the training data and divides it into folds."
   ]
  },
  {
   "cell_type": "code",
   "execution_count": null,
   "id": "dd031ede",
   "metadata": {},
   "outputs": [],
   "source": [
    "# training data: -------------------------------------------------------------\n",
    "iso_train_file = 'isolet_train.feather'\n",
    "df_train = pd.read_feather(iso_train_file)\n",
    "\n",
    "# construct \"ids\" for the 30*4 subjects: --------------------------------------\n",
    "df_train['a'] = df_train['letter'] == 1\n",
    "df_train['z'] = df_train['letter'] == 26\n",
    "n, p = df_train.shape\n",
    "id = np.cumsum(\n",
    "    df_train['a'].iloc[1:, ].values * \n",
    "    df_train['z'].iloc[0:(n - 1), ].values\n",
    ")\n",
    "# the 3rd and 4th blocks are organized differently\n",
    "id2 = 59 + (np.array(id) - 59 + 1) // 2\n",
    "id = np.where(id > 59, id2 , id)\n",
    "id = [1] + list(1 + id)\n",
    "df_train['id'] = id\n",
    "\n",
    "# construct folds: -----------------------------------------------------------\n",
    "df_train['fold'] = (df_train['id'] - 1) // 30\n",
    "\n",
    "# folds as array indices\n",
    "folds = []\n",
    "n = df_train.shape[0]\n",
    "rows = np.arange(n)\n",
    "for fold in range(4):\n",
    "    train = np.asarray(df_train['fold'] != fold).nonzero()[0]\n",
    "    test = np.asarray(df_train['fold'] == fold).nonzero()[0]\n",
    "    folds.append((train, test))\n",
    "    \n",
    "# label vowels: --------------------------------------------------------------\n",
    "df_train['vowel'] = 0\n",
    "df_train['vowel'].where(\n",
    "    np.in1d(df_train['letter'], [1, 5, 9, 15, 21]),\n",
    "    1,\n",
    "    inplace=True\n",
    ")\n",
    "\n",
    "# NumPy arrays: --------------------------------------------------------------\n",
    "x_train = df_train.loc[:, 'x0':'x616'].to_numpy()\n",
    "y_train = df_train.loc[:, 'vowel'].to_numpy()"
   ]
  },
  {
   "cell_type": "markdown",
   "id": "4e99b56b",
   "metadata": {},
   "source": [
    "Here is the first estimator we'll evaluate (at each boosting\n",
    "stage) using cross-validation."
   ]
  },
  {
   "cell_type": "code",
   "execution_count": null,
   "id": "3bbf9028",
   "metadata": {},
   "outputs": [],
   "source": [
    "# estimator: -----------------------------------------------------------------\n",
    "gb0 = GradientBoostingClassifier(\n",
    "    loss='deviance',\n",
    "    n_estimators=100, # number of trees\n",
    "    learning_rate=.1,  \n",
    "    subsample=1,\n",
    "    max_depth=16, \n",
    "    max_features='sqrt',\n",
    "    verbose=0\n",
    ")"
   ]
  },
  {
   "cell_type": "markdown",
   "id": "da5dd069",
   "metadata": {},
   "source": [
    "Here is a set of task to feed to the pattern. Be sure to examine the\n",
    "`cv_fold()` and `gb_score()` functions. "
   ]
  },
  {
   "cell_type": "code",
   "execution_count": null,
   "id": "27348ef2",
   "metadata": {
    "lines_to_next_cell": 2
   },
   "outputs": [],
   "source": [
    "# cross-validation tasks: -----------------------------------------------------\n",
    "cv_tasks = []\n",
    "for fold, (idx_train, idx_val) in enumerate(folds):\n",
    "    task = (cvf.cv_fold, \n",
    "            (gb0.fit, \n",
    "             x_train, \n",
    "             y_train, \n",
    "             idx_train,\n",
    "             idx_val, \n",
    "             cvf.gb_score,\n",
    "             'gb0_fold' + str(fold)\n",
    "            )\n",
    "           )\n",
    "    cv_tasks.append(task)"
   ]
  },
  {
   "cell_type": "markdown",
   "id": "c7e8c3fd",
   "metadata": {},
   "source": [
    "Notice that we are not creating four copies of the data."
   ]
  },
  {
   "cell_type": "code",
   "execution_count": null,
   "id": "2467d943",
   "metadata": {},
   "outputs": [],
   "source": [
    "assert cv_tasks[0][1][1] is cv_tasks[1][1][1]"
   ]
  },
  {
   "cell_type": "markdown",
   "id": "7e2e6c41",
   "metadata": {},
   "source": [
    "Here is the queue pattern applied to the cross-validation tasks."
   ]
  },
  {
   "cell_type": "code",
   "execution_count": null,
   "id": "b0e23460",
   "metadata": {},
   "outputs": [],
   "source": [
    "# parallel execution: ---------------------------------------------------------\n",
    "if __name__ == '__main__':\n",
    "    # create queues\n",
    "    task_queue = mp.Queue()\n",
    "    done_queue = mp.Queue()\n",
    "\n",
    "    # submit tasks\n",
    "    for task in cv_tasks:\n",
    "        task_queue.put(task)\n",
    "\n",
    "    # start processes\n",
    "    for i in range(n_processes):\n",
    "        mp.Process(target=cvf.worker, args=(task_queue, done_queue)).start()\n",
    "    \n",
    "    # get unordered results \n",
    "    results = []\n",
    "    for task in cv_tasks:\n",
    "        results.append(done_queue.get())\n",
    "\n",
    "    # stop child processes\n",
    "    for i in range(n_processes):\n",
    "        task_queue.put('STOP')"
   ]
  },
  {
   "cell_type": "code",
   "execution_count": null,
   "id": "e1e9a39b",
   "metadata": {},
   "outputs": [],
   "source": [
    "# format results as a DataFrame: ----------------------------------------------\n",
    "df_results = [pd.DataFrame(r[1]) for r in results]\n",
    "for i, df in enumerate(df_results):\n",
    "    _ = df.insert(0, 'label', results[i][0])\n",
    "    _ = df.insert(1, 'estimators', np.arange(1, df.shape[0] + 1))"
   ]
  },
  {
   "cell_type": "markdown",
   "id": "1816bb93",
   "metadata": {},
   "source": [
    "### Functional Version\n",
    "When we have a pattern we want to apply repeatedly, we should \n",
    "encapsulate it into a function. I do this in `mp_apply()`. "
   ]
  },
  {
   "cell_type": "code",
   "execution_count": null,
   "id": "d5ee40ad",
   "metadata": {},
   "outputs": [],
   "source": [
    "results2 = cvf.mp_apply(cv_tasks, 2)"
   ]
  },
  {
   "cell_type": "code",
   "execution_count": null,
   "id": "3400a217",
   "metadata": {},
   "outputs": [],
   "source": [
    "df_results2 = [pd.DataFrame(r[1]) for r in results2]\n",
    "for i, df in enumerate(df_results2):\n",
    "    _ = df.insert(0, 'label', results2[i][0])\n",
    "    _ = df.insert(1, 'estimators', np.arange(1, df.shape[0] + 1))"
   ]
  },
  {
   "cell_type": "code",
   "execution_count": null,
   "id": "42e3833d",
   "metadata": {},
   "outputs": [],
   "source": [
    "df_results2 = pd.concat(df_results2, axis=0)\n",
    "df_results2"
   ]
  },
  {
   "cell_type": "markdown",
   "id": "c9282282",
   "metadata": {},
   "source": [
    "## Long-Running Tasks\n",
    "Asynchronous computation can be useful during model and notebook\n",
    "development even if you only have a single task to run. Specifically,\n",
    "creating a child process to evaluate a long-running task allows you to\n",
    "continue to work and test ideas in the main process, while the long-running\n",
    "task runs in the background. \n",
    "\n",
    "To do this, we can set `block=False` in `queue.get()` to prevent a check\n",
    "on whether the result is completed from blocking. "
   ]
  },
  {
   "cell_type": "code",
   "execution_count": null,
   "id": "98b5a2aa",
   "metadata": {},
   "outputs": [],
   "source": [
    "print(mp.active_children())"
   ]
  },
  {
   "cell_type": "code",
   "execution_count": null,
   "id": "ca5c0667",
   "metadata": {},
   "outputs": [],
   "source": [
    "long_task = (cvf.wait, (30, ))\n",
    "\n",
    "# background execution: -------------------------------------------------------\n",
    "if __name__ == '__main__':\n",
    "    # create queues\n",
    "    task_queue = mp.Queue()\n",
    "    done_queue = mp.Queue()\n",
    "\n",
    "    # submit task\n",
    "    task_queue.put(long_task)\n",
    "\n",
    "    # start process\n",
    "    p1 = mp.Process(target=cvf.worker, args=(task_queue, done_queue))\n",
    "    p1.start()\n",
    "    \n",
    "mp.active_children()"
   ]
  },
  {
   "cell_type": "code",
   "execution_count": null,
   "id": "9a16219e",
   "metadata": {},
   "outputs": [],
   "source": [
    "# get result without blocking \n",
    "if not 'long_task_result' in locals():\n",
    "    try:\n",
    "        long_task_result = done_queue.get(False)\n",
    "        print('Assigned task.')\n",
    "        # stop child process\n",
    "        task_queue.put('STOP')        \n",
    "    except:\n",
    "        if p1.is_alive():\n",
    "            print('Task still running.')\n",
    "        else:\n",
    "            print('Child process inactive.')\n",
    "else:\n",
    "    print('Task already assigned.')"
   ]
  },
  {
   "cell_type": "code",
   "execution_count": null,
   "id": "5ef29d0a",
   "metadata": {},
   "outputs": [],
   "source": [
    "if not p1.is_alive():\n",
    "    print(long_task_result)"
   ]
  },
  {
   "cell_type": "markdown",
   "id": "ddc73ef4",
   "metadata": {},
   "source": [
    "The functions `bg_task()` and `bg_get()` encapsulate this pattern."
   ]
  },
  {
   "cell_type": "code",
   "execution_count": null,
   "id": "0bf13ad9",
   "metadata": {},
   "outputs": [],
   "source": [
    "p, tq, dq = cvf.bg_task(long_task)"
   ]
  },
  {
   "cell_type": "code",
   "execution_count": null,
   "id": "aa9bd689",
   "metadata": {},
   "outputs": [],
   "source": [
    "res = cvf.bg_get(p, tq, dq)"
   ]
  },
  {
   "cell_type": "code",
   "execution_count": null,
   "id": "377e6793",
   "metadata": {},
   "outputs": [],
   "source": [
    "res"
   ]
  },
  {
   "cell_type": "markdown",
   "id": "b32be8c7",
   "metadata": {},
   "source": [
    "## asyncio\n",
    "Here is a short example asyncio module for the \n",
    "long-running background task example. "
   ]
  },
  {
   "cell_type": "code",
   "execution_count": null,
   "id": "ed75c940",
   "metadata": {},
   "outputs": [],
   "source": [
    "async def main():\n",
    "    \"\"\"\n",
    "    Hello world example from asyncio docs. \n",
    "    \"\"\"\n",
    "    print('Hello ...')\n",
    "    await asyncio.sleep(1)\n",
    "    print('... World!')\n",
    "    \n",
    "await main()"
   ]
  },
  {
   "cell_type": "code",
   "execution_count": null,
   "id": "30072ff1",
   "metadata": {},
   "outputs": [],
   "source": [
    "p = main()\n",
    "time.sleep(0.5)\n",
    "print('main is not blocking')\n",
    "await p"
   ]
  },
  {
   "cell_type": "code",
   "execution_count": null,
   "id": "1e7cb30a",
   "metadata": {},
   "outputs": [],
   "source": [
    "async def async_task(task): \n",
    "    return(task[0](*task[1]))"
   ]
  },
  {
   "cell_type": "code",
   "execution_count": null,
   "id": "4b943098",
   "metadata": {},
   "outputs": [],
   "source": [
    "task_future = async_task(tasks[3])\n",
    "print(\"Not blocking\")\n",
    "res = await task_future\n",
    "(task_future, res)"
   ]
  }
 ],
 "metadata": {
  "jupytext": {
   "cell_metadata_filter": "-all",
   "main_language": "python",
   "notebook_metadata_filter": "-all"
  }
 },
 "nbformat": 4,
 "nbformat_minor": 5
}
