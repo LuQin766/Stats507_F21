{
 "cells": [
  {
   "cell_type": "markdown",
   "id": "10a4dec6",
   "metadata": {
    "lines_to_next_cell": 2
   },
   "source": [
    "# Billboard Demo\n",
    "**Stats 507, Fall 2021**  \n",
    "*James Henderson, PhD*  \n",
    "*September 30, 2021*"
   ]
  },
  {
   "cell_type": "markdown",
   "id": "ffab524d",
   "metadata": {},
   "source": [
    "## About\n",
    "This is a pandas demonstration using the [billboard][bd] data on songs\n",
    "in Billboard's US Top 100 from the year 2000. In this demontration we'll \n",
    "make use of DataFrame methods we've been discussing as well as the\n",
    "plotting interface from pandas.  \n",
    "\n",
    "[bd]: https://tidyr.tidyverse.org/reference/billboard.html"
   ]
  },
  {
   "cell_type": "markdown",
   "id": "b62e8426",
   "metadata": {},
   "source": [
    "## Imports\n",
    "We'll make use of the following imports.   "
   ]
  },
  {
   "cell_type": "code",
   "execution_count": null,
   "id": "68d4cb92",
   "metadata": {},
   "outputs": [],
   "source": [
    "# libraries: ----------------------------------------------------------------\n",
    "import numpy as np\n",
    "import pandas as pd\n",
    "import matplotlib.pyplot as plt\n",
    "from os.path import exists"
   ]
  },
  {
   "cell_type": "markdown",
   "id": "5e45199a",
   "metadata": {},
   "source": [
    "## The Billboard Data \n",
    "The data for this demonstration comes from the R package `tidyr`. In the \n",
    "code chunk below we check if the data is already available in a local file\n",
    "`billboard.csv`. If not, we download it from the tidyr GitHub repo. "
   ]
  },
  {
   "cell_type": "code",
   "execution_count": null,
   "id": "69a99829",
   "metadata": {},
   "outputs": [],
   "source": [
    "# data: ---------------------------------------------------------------------\n",
    "bb_file = 'billboard.csv'\n",
    "if exists(bb_file):\n",
    "    df = pd.read_csv('billboard.csv')\n",
    "else:\n",
    "    df = pd.read_csv(\n",
    "        'https://github.com/tidyverse/tidyr/raw/master/data-raw/billboard.csv'\n",
    "    )\n",
    "    df.to_csv(bb_file)\n",
    "df.head()"
   ]
  },
  {
   "cell_type": "markdown",
   "id": "4cf26ed0",
   "metadata": {},
   "source": [
    "## Tidy Up\n",
    "In the next chunk, we make the data tidy by melting to a longer format\n",
    "and removing weeks where each song is out of the top 100. Then we clean up \n",
    "some columns and data types. "
   ]
  },
  {
   "cell_type": "code",
   "execution_count": null,
   "id": "4e226c15",
   "metadata": {},
   "outputs": [],
   "source": [
    "# make the data longer: -----------------------------------------------------\n",
    "df_long = (\n",
    "    df.melt(\n",
    "      id_vars=['artist', 'track', 'date.entered'],\n",
    "      value_vars=['wk' + str(i) for i in range(1, 77)],\n",
    "      var_name='week',\n",
    "      value_name='position')\n",
    "    .dropna()\n",
    "    )\n",
    "df_long.head()"
   ]
  },
  {
   "cell_type": "code",
   "execution_count": null,
   "id": "f4d1436e",
   "metadata": {},
   "outputs": [],
   "source": [
    "# clean up columns: ----------------------------------------------------------\n",
    "df_long['position'] = pd.to_numeric(df_long['position'], downcast='integer')\n",
    "df_long['week'] = df_long['week'].str.replace('wk', '')\n",
    "df_long['artist'] = pd.Categorical(df_long['artist'])\n",
    "df_long.head()"
   ]
  },
  {
   "cell_type": "markdown",
   "id": "297f3089",
   "metadata": {},
   "source": [
    "## Number 1 Hits\n",
    "In this section we create some facts about songs that reached position 1.\n",
    "Some facts we'll create more than once to illusrate different functionality. \n",
    "\n",
    "In creating `wks_at1` below, we need to use `observed=False` because \"artist\"\n",
    "is of type `pd.Categorical`. When one or more of the grouping variables are \n",
    "categorical and `observed=True` (the default) the result uses unique \n",
    "combinations of the categories -- not just those observed in the data. "
   ]
  },
  {
   "cell_type": "code",
   "execution_count": null,
   "id": "b9f6986f",
   "metadata": {
    "lines_to_next_cell": 2
   },
   "outputs": [],
   "source": [
    "# count # of weeks at 1: -----------------------------------------------------\n",
    "# weeks at number 1\n",
    "wks_at1 = (df_long\n",
    "           .query('position == 1')\n",
    "           .groupby(by=['artist', 'track'], observed=False, as_index=False)\n",
    "           .size()\n",
    "           .query('size > 0')\n",
    "           .sort_values('size', ascending=False)\n",
    "           )\n",
    "wks_at1"
   ]
  },
  {
   "cell_type": "code",
   "execution_count": null,
   "id": "a27ec00c",
   "metadata": {},
   "outputs": [],
   "source": [
    "wks_at1b = (\n",
    "  df_long\n",
    "  .groupby(by=['artist', 'track'], observed=False)['position']\n",
    "  .agg([('n', lambda x: np.sum(x == 1))])\n",
    "  .query('n > 0')\n",
    "  .sort_values('n', ascending=False)\n",
    ")\n",
    "wks_at1b"
   ]
  },
  {
   "cell_type": "markdown",
   "id": "1bf82cf2",
   "metadata": {},
   "source": [
    "Next, let's identify all songs that hit number 1 at any point and keep all \n",
    "the associated data for those songs."
   ]
  },
  {
   "cell_type": "code",
   "execution_count": null,
   "id": "184abc32",
   "metadata": {},
   "outputs": [],
   "source": [
    "# keep all info for any song that hits number 1: -----------------------------\n",
    "df_long['num1'] = (\n",
    "    df_long\n",
    "    .groupby(\n",
    "        by=['artist', 'track'],\n",
    "        observed=False,\n",
    "        as_index=False\n",
    "    )[['position']]\n",
    "    .transform(lambda x: np.any(x == 1))\n",
    ")\n",
    "df_long.head()"
   ]
  },
  {
   "cell_type": "code",
   "execution_count": null,
   "id": "2305a556",
   "metadata": {},
   "outputs": [],
   "source": [
    "# re-merge approach\n",
    "wks_at1[['num1_rm']] = True\n",
    "num1 = pd.merge(df_long, wks_at1, how='left', on=['artist', 'track'])\n",
    "num1['num1_rm'].replace({np.nan: False}, inplace=True)\n",
    "num1.head()"
   ]
  },
  {
   "cell_type": "markdown",
   "id": "a992a1fe",
   "metadata": {},
   "source": [
    "## Pandas \"Chart Visualization\"\n",
    "In this section we'll create a visualization of the Billboard position of\n",
    "the songs that hit number 1 in 2000. To \"get our feet wet\", we'll make a \n",
    "plot for a single song."
   ]
  },
  {
   "cell_type": "code",
   "execution_count": null,
   "id": "04e59bc3",
   "metadata": {},
   "outputs": [],
   "source": [
    "# line plot for a given track\n",
    "ax1 =(\n",
    "    df_long\n",
    "    .query('track == \"Kryptonite\"')\n",
    "    .plot\n",
    "    .line(\n",
    "        x='week',\n",
    "        y='position',\n",
    "        xlabel='Weeks from Entry',\n",
    "        ylabel='Chart Position',\n",
    "        label='Kryptonite'\n",
    "    )\n",
    ")\n",
    "ax1.invert_yaxis()"
   ]
  },
  {
   "cell_type": "markdown",
   "id": "367bbcb3",
   "metadata": {
    "lines_to_next_cell": 2
   },
   "source": [
    "### Creating Dates\n",
    "Pandas has nice support for working with and plotting dates. Here, we'll\n",
    "convert the weeks since the song entered the Billboard chart into a date for\n",
    "use in our next visualization."
   ]
  },
  {
   "cell_type": "code",
   "execution_count": null,
   "id": "bbab157b",
   "metadata": {},
   "outputs": [],
   "source": [
    "# use `date.entered` and `week` to create a date variable: --------------------\n",
    "num1['week'] = pd.to_numeric(num1['week'])\n",
    "num1['days'] = pd.Timedelta('7 days') * (num1['week'] - 1)\n",
    "num1['date'] = pd.to_datetime(num1['date.entered']) + num1['days']"
   ]
  },
  {
   "cell_type": "code",
   "execution_count": null,
   "id": "91459fc4",
   "metadata": {},
   "outputs": [],
   "source": [
    "# alternate version\n",
    "num1['date2'] = (\n",
    "    pd.to_datetime(num1['date.entered']) +\n",
    "    pd.Series(pd.Timedelta('7 days') * (num1['week'] - 1))\n",
    "    )\n",
    "num1.head()"
   ]
  },
  {
   "cell_type": "markdown",
   "id": "c75fdbeb",
   "metadata": {
    "lines_to_next_cell": 2
   },
   "source": [
    "### Facets\n",
    "We'll use subplots or \"facets\" to limit the number of lines appearing on a\n",
    "single set of axes."
   ]
  },
  {
   "cell_type": "code",
   "execution_count": null,
   "id": "2e0e8988",
   "metadata": {},
   "outputs": [],
   "source": [
    "# split into longer and shorter lived stays at top position: ------------------\n",
    "num1_wide_a = (num1\n",
    "               .query('size > 2')\n",
    "               .pivot(index='date', columns='track', values=['position'])\n",
    "               )\n",
    "num1_wide_b = (num1\n",
    "               .query('size <= 2')\n",
    "               .pivot(index='date', columns='track', values=['position'])\n",
    "               )\n",
    "num1_wide_a.head()"
   ]
  },
  {
   "cell_type": "markdown",
   "id": "c2d60162",
   "metadata": {},
   "source": [
    "### Visual\n",
    "In the chart that follows, we show the history of all of the songs that \n",
    "reached number 1 in 2000. In the process we make use of a number of \n",
    "customizations.  "
   ]
  },
  {
   "cell_type": "code",
   "execution_count": null,
   "id": "dd4280e2",
   "metadata": {},
   "outputs": [],
   "source": [
    "# figure 2: -------------------------------------------------------------------\n",
    "# set up the figure\n",
    "fig2, ax2 = plt.subplots(nrows=2, ncols=1, sharex=True, sharey=True)\n",
    "_ = fig2.tight_layout()\n",
    "_ = fig2.set_size_inches(16, 12)\n",
    "# extend limits to create space for the legends\n",
    "xl = pd.to_datetime(('1999-01-01', '2001-04-01'))\n",
    "# top axes\n",
    "num1_wide_a.plot.line(\n",
    "    ax=ax2[0], y='position', xlim=xl, colormap='tab20', ls='-', lw=4\n",
    ")\n",
    "# add a dashed black line for the weeks at 1\n",
    "num1_wide_a.where(lambda x: x == 1).plot.line(\n",
    "    ax=ax2[0], y='position', color='black', ls='--', lw=2\n",
    ")\n",
    "# bottom axes\n",
    "num1_wide_b.plot.line(ax=ax2[1], y='position', colormap='tab20', lw=4)\n",
    "num1_wide_b.where(lambda x: x == 1).plot.line(\n",
    "    ax=ax2[1], y='position', color='black', ls='--', lw=2\n",
    ")\n",
    "\n",
    "# \"higher\" on the chart (lower position) is better \n",
    "ax2[0].invert_yaxis()\n",
    "# legends\n",
    "_ = ax2[0].legend([j for i, j in num1_wide_a.columns], loc='center left')\n",
    "_ = ax2[1].legend([j for i, j in num1_wide_b.columns], loc='center left')\n",
    "_ = ax2[0].set_xlim(xl[0], xl[1])\n",
    "# titles\n",
    "_ = ax2[0].set_title('3 or more weeks at #1')\n",
    "_ = ax2[1].set_title('1 or 2 weeks at # 1')\n"
   ]
  }
 ],
 "metadata": {
  "jupytext": {
   "cell_metadata_filter": "-all",
   "main_language": "python",
   "notebook_metadata_filter": "-all"
  }
 },
 "nbformat": 4,
 "nbformat_minor": 5
}
