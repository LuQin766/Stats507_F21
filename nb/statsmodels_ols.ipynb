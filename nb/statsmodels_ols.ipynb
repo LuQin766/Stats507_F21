{
 "cells": [
  {
   "cell_type": "markdown",
   "id": "57aa0348",
   "metadata": {
    "slideshow": {
     "slide_type": "slide"
    }
   },
   "source": [
    "## statsmodels\n",
    "*Stats 507, Fall 2021*\n",
    "\n",
    "James Henderson, PhD  \n",
    "October 12, 2021"
   ]
  },
  {
   "cell_type": "markdown",
   "id": "679dd6f5",
   "metadata": {
    "slideshow": {
     "slide_type": "slide"
    }
   },
   "source": [
    "## Overview\n",
    "  - [statsmodels](#/slide-2-0)\n",
    "  - [regression](#/slide-3-0)\n",
    "  - [OLS](#/slide-4-0)\n",
    "  - [Example](#/slide-6-0)\n",
    "  - [Formulas](#/slide-7-0)\n",
    "  - [Interactions](#/slide-9-0)\n",
    "  - [Contrasts](#/slide-13-0)\n",
    "  - [Takeaways](#/slide-14-0)\n",
    "\n"
   ]
  },
  {
   "cell_type": "markdown",
   "id": "df048dcf",
   "metadata": {
    "slideshow": {
     "slide_type": "slide"
    }
   },
   "source": [
    "## statsmodels\n",
    "\n",
    "> statsmodels is a Python module that provides classes and functions for the\n",
    "> estimation of many different statistical models, as well as for conducting\n",
    "> statistical tests, and statistical data exploration.\n",
    ">\n",
    ">   <cite>--[statsmodels][sm]</cite>\n",
    "\n",
    "[sm]: https://www.statsmodels.org/stable/index.html\n"
   ]
  },
  {
   "cell_type": "markdown",
   "id": "3fbf1f68",
   "metadata": {
    "slideshow": {
     "slide_type": "subslide"
    }
   },
   "source": [
    "## statsmodels\n",
    "  - For general use, the canonical way to import statsmodels \n",
    "    is to import the `api` submodule with the handle `sm`.\n",
    "  - You will usually want to import the formula API as well. "
   ]
  },
  {
   "cell_type": "code",
   "execution_count": null,
   "id": "de8e7a6f",
   "metadata": {
    "slideshow": {
     "slide_type": "code"
    }
   },
   "outputs": [],
   "source": [
    "# imports \n",
    "import numpy as np\n",
    "import pandas as pd\n",
    "import statsmodels.api as sm\n",
    "import statsmodels.formula.api as smf\n",
    "import matplotlib.pyplot as plt\n",
    "from os.path import exists\n",
    "from scipy.stats import t\n",
    "sm.__version__"
   ]
  },
  {
   "cell_type": "markdown",
   "id": "82b0b2fe",
   "metadata": {
    "slideshow": {
     "slide_type": "slide"
    }
   },
   "source": [
    "## Regression\n",
    "  - We will focus on using statsmodels for regression problems:\n",
    "     + linear models using ordinary least squares,\n",
    "     + generalized linear models."
   ]
  },
  {
   "cell_type": "markdown",
   "id": "fc5a1792",
   "metadata": {
    "slideshow": {
     "slide_type": "subslide"
    }
   },
   "source": [
    "## Regression\n",
    "  - A regression problem is one in which our focus is on the conditional\n",
    "    mean of a *dependent* or *endogenous* variable ($Y$) ...\n",
    "  -  ... given some set of *independent* or *exogenous* variables (X).\n",
    "  - [endog, exog][enex]\n",
    "  - This has the form:\n",
    "  $$\n",
    "    \\mathbb{E}[Y|X = x] = f(x; \\beta). \n",
    "  $$\n",
    "\n",
    "[enex]: https://www.statsmodels.org/stable/endog_exog.html"
   ]
  },
  {
   "cell_type": "markdown",
   "id": "354c31eb",
   "metadata": {
    "slideshow": {
     "slide_type": "slide"
    }
   },
   "source": [
    "## Linear Regression\n",
    "  - In linear regression of *ordinary least squares (OLS)* $f(x; \\beta)$ is\n",
    "    linear in $\\beta$ and $Y|X$ is (usually) assumed to be Gaussian with\n",
    "    covariance $\\Sigma = \\sigma^2I_{p \\times p}$. \n",
    "\n",
    "$$\n",
    "\\mathbb{E}[Y|X = x] = x\\beta = \\sum_{j=1}^{p} x_j \\times \\beta_j,\n",
    "\\qquad Y | X \\sim N(X\\beta, \\sigma^2). \n",
    "$$\n"
   ]
  },
  {
   "cell_type": "markdown",
   "id": "dbde5f18",
   "metadata": {
    "lines_to_next_cell": 2,
    "slideshow": {
     "slide_type": "slide"
    }
   },
   "source": [
    "## Design Matrix\n",
    "  - The design matrix $X$ forms a *basis* for the conditional mean and is\n",
    "    determined by are IVs. \n",
    "  - We assume $X \\in \\mathbb{R}^{n \\times p}$ where $n$ is the number of \n",
    "    samples (rows) and $p$ the dimension of the basis (columns). \n",
    "  - A formula interface as provided by statsmodels (using [patsy][patsy]) \n",
    "    allows for a concise, flexible way to construct $X$ from a data frame. \n",
    "\n",
    "  [patsy]: https://patsy.readthedocs.io/en/latest/\n"
   ]
  },
  {
   "cell_type": "markdown",
   "id": "29ce17ab",
   "metadata": {
    "slideshow": {
     "slide_type": "slide"
    }
   },
   "source": [
    "## Example - ToothGrowth\n",
    "  - Let's revisit the ToothGrowth data from the \n",
    "   [Resampling Methods][rm] notes. \n",
    "  \n",
    "  [rm]: https://jbhender.github.io/Stats507/F21/slides/resampling.slides.html#/"
   ]
  },
  {
   "cell_type": "code",
   "execution_count": null,
   "id": "f2b70677",
   "metadata": {
    "slideshow": {
     "slide_type": "code"
    }
   },
   "outputs": [],
   "source": [
    "# tooth growth data\n",
    "file = 'tooth_growth.feather'\n",
    "if exists(file):\n",
    "    tg_data = pd.read_feather(file)\n",
    "else: \n",
    "    tooth_growth = sm.datasets.get_rdataset('ToothGrowth')\n",
    "    #print(tooth_growth.__doc__)\n",
    "    tg_data = tooth_growth.data\n",
    "    tg_data.to_feather(file)\n",
    "\n",
    "(tg_data\n",
    " .groupby(['dose', 'supp'])\n",
    " .apply(lambda gdf: gdf.iloc[0:2, :])\n",
    ")"
   ]
  },
  {
   "cell_type": "markdown",
   "id": "88ab8ad5",
   "metadata": {
    "slideshow": {
     "slide_type": "subslide"
    }
   },
   "source": [
    "## Example - endog, exog\n",
    "  - To begin, let's compare supplementation methods within each dose \n",
    "    separately. \n",
    "  - To be concrete, we'll start with the dose of 0.5 mg/day of \n",
    "    Vitamin C. \n",
    "  - Here, we create the outcome and design matrices directly. "
   ]
  },
  {
   "cell_type": "code",
   "execution_count": null,
   "id": "a53efb0d",
   "metadata": {
    "slideshow": {
     "slide_type": "code"
    }
   },
   "outputs": [],
   "source": [
    "tg_05 = tg_data.query('dose == 0.5')\n",
    "Y = tg_05['len']\n",
    "X = pd.get_dummies(tg_05['supp'])['OJ']\n",
    "X = sm.add_constant(X) \n",
    "(Y, X)"
   ]
  },
  {
   "cell_type": "markdown",
   "id": "bae83c8f",
   "metadata": {
    "slideshow": {
     "slide_type": "subslide"
    }
   },
   "source": [
    "## Example - OLS\n",
    "  - Now we can set up the model object using `sm.OLS()` ...\n",
    "  - and then call its fit model to estimate the parameters. \n",
    "  - The `summary()` method prints key information.  "
   ]
  },
  {
   "cell_type": "code",
   "execution_count": null,
   "id": "eb7499f5",
   "metadata": {
    "slideshow": {
     "slide_type": "code"
    }
   },
   "outputs": [],
   "source": [
    "mod0_05 = sm.OLS(Y, X)\n",
    "res0_05 = mod0_05.fit()\n",
    "res0_05.summary()"
   ]
  },
  {
   "cell_type": "markdown",
   "id": "6cb55f79",
   "metadata": {
    "slideshow": {
     "slide_type": "subslide"
    }
   },
   "source": [
    "## Example - OLS Attributes\n",
    "  - The results object `res0_05` contains much of the summary information \n",
    "    in attributes (properties).\n",
    "  - Here we explore those properties while reviewing the relationships in \n",
    "    the coefficient table. "
   ]
  },
  {
   "cell_type": "code",
   "execution_count": null,
   "id": "e191ca69",
   "metadata": {
    "slideshow": {
     "slide_type": "code"
    }
   },
   "outputs": [],
   "source": [
    "print(type(res0_05))\n",
    "print((res0_05.rsquared_adj, res0_05.aic))\n",
    "(res0_05.params, res0_05.tvalues)\n",
    "#res0_05.  # use tab complete to see methods\n",
    "?res0_05.conf_int"
   ]
  },
  {
   "cell_type": "markdown",
   "id": "18fb24b8",
   "metadata": {
    "slideshow": {
     "slide_type": "subslide"
    }
   },
   "source": [
    "## Example - Coefficient table\n",
    "- Let's review the coefficient table from the summary results\n",
    "  and construct it using attributes and methods from the results\n",
    "  object. "
   ]
  },
  {
   "cell_type": "code",
   "execution_count": null,
   "id": "d6cce49d",
   "metadata": {},
   "outputs": [],
   "source": [
    "b = res0_05.params                     # estimated parameters\n",
    "v = res0_05.cov_params()               # variance-covariance\n",
    "se = np.sqrt(np.diag(v))               # std errors\n",
    "t_stats = res0_05.params / se          # t statistics\n",
    "assert all(t_stats == res0_05.tvalues) # same as stored in object     \n",
    "\n",
    "df = res0_05.df_resid                  # degrees of freedom\n",
    "p = 2 * (1 - t.cdf(t_stats, df=df))    # p-values\n",
    "assert all(np.round(p, 6) == np.round(res0_05.pvalues, 6))\n",
    "\n",
    "tt = t.ppf(.975, df=df)                # multiplier\n",
    "lwr, upr = b - tt * se, b + tt * se    # CI bounds\n",
    "ci = res0_05.conf_int()\n",
    "ci['lwr'], ci['upr'] = lwr, upr\n",
    "ci\n"
   ]
  },
  {
   "cell_type": "markdown",
   "id": "14a2cde4",
   "metadata": {
    "slideshow": {
     "slide_type": "subslide"
    }
   },
   "source": [
    "## Example - OLS Methods\n",
    "  - The results object `res0_05` also has a number of useful [methods][olsrm].\n",
    "  - On the previous slides, we used the methods `.summary()`, \n",
    "    `.cov_params()` and `.conf_int()` methods.\n",
    "  - You can use the `.save()` and `sm.load()` function to store results on\n",
    "    disk (as pickle).\n",
    "\n",
    "  [olsrm]: https://www.statsmodels.org/stable/generated/statsmodels.regression.linear_model.RegressionResults.html#statsmodels.regression.linear_model.RegressionResults"
   ]
  },
  {
   "cell_type": "code",
   "execution_count": null,
   "id": "0c1849de",
   "metadata": {
    "slideshow": {
     "slide_type": "code"
    }
   },
   "outputs": [],
   "source": [
    "file_name = 'res0_05.pickle'\n",
    "# notebook needs to be trusted\n",
    "res0_05.save(file_name)\n",
    "del res0_05\n",
    "res0_05 = sm.load(file_name)\n",
    "res0_05.summary2()"
   ]
  },
  {
   "cell_type": "markdown",
   "id": "eb959a90",
   "metadata": {
    "slideshow": {
     "slide_type": "subslide"
    }
   },
   "source": [
    "## Example - Diagnostics\n",
    "  - Let's use the `.predict()` method and then create some plots. \n",
    "  - We'll also use the `.add_gridspec()` [method][gs] of our figure object.\n",
    "\n",
    "  [gs]: https://matplotlib.org/stable/tutorials/intermediate/gridspec.html"
   ]
  },
  {
   "cell_type": "code",
   "execution_count": null,
   "id": "9ed80f5d",
   "metadata": {
    "slideshow": {
     "slide_type": "code"
    }
   },
   "outputs": [],
   "source": [
    "y_hat, r = res0_05.predict(), res0_05.resid\n",
    "b0, b1 = res0_05.params\n",
    "col = [('darkgreen', 'orange')[x] for x in X['OJ'].values]\n",
    "\n",
    "fig0 = plt.figure(tight_layout=True)\n",
    "gs = fig0.add_gridspec(2, 2)\n",
    "\n",
    "f0_ax0 = fig0.add_subplot(gs[0, 0])\n",
    "_ = f0_ax0.set_title('Observed ~ Predicted')\n",
    "_ = f0_ax0.scatter(x=y_hat, y=Y, color=col)\n",
    "\n",
    "f0_ax1 = fig0.add_subplot(gs[0, 1])\n",
    "_ = f0_ax1.set_title('Residual ~ Predicted')\n",
    "_ = f0_ax1.scatter(x=y_hat, y=r, color=col)\n",
    "\n",
    "f0_ax2 = fig0.add_subplot(gs[1, :])\n",
    "f0_ax2.set_title('QQ Plot')\n",
    "_ = sm.qqplot(ax=f0_ax2, data=r, line='s')\n"
   ]
  },
  {
   "cell_type": "markdown",
   "id": "03030a70",
   "metadata": {
    "slideshow": {
     "slide_type": "subslide"
    }
   },
   "source": [
    "## Example \n",
    "- We can compare the ratio of geometric means by regressing\n",
    "  the log outcome on supplement type.\n",
    "- This is almost identical to our t-test analysis from the re-sampling notes\n",
    "  except we use a pooled estimate of the (residual) variance. "
   ]
  },
  {
   "cell_type": "code",
   "execution_count": null,
   "id": "2e18ecc9",
   "metadata": {
    "slideshow": {
     "slide_type": "code"
    }
   },
   "outputs": [],
   "source": [
    "tg_data['log_len'] = tg_data[['len']].transform(np.log)\n",
    "tg_data['OJ'] = pd.get_dummies(tg_data['supp'])['OJ']\n",
    "doses = [0.5, 1.0, 2.0]\n",
    "cis = []\n",
    "for dose in doses:\n",
    "    # subset dose\n",
    "    dat = tg_data.query('dose == @dose')\n",
    "    \n",
    "    # fit OLS model\n",
    "    Y, X = dat['log_len'], sm.add_constant(dat['OJ'])\n",
    "    m = sm.OLS(Y, X)\n",
    "    res = m.fit()\n",
    "    ci = res.conf_int()\n",
    "    \n",
    "    # format confidence interval\n",
    "    ci.columns = ('lwr', 'upr')\n",
    "    ci['est'] = res.params\n",
    "    ci.index.name = 'term'\n",
    "    ci = ci.transform(np.exp)\n",
    "    ci['CI'] = (\n",
    "        ci.groupby('term').apply(lambda gdf: \n",
    "                         '{0:4.2f} ({1:4.2f}, {2:4.2f})'.format(\n",
    "                             gdf['est'].values[0],\n",
    "                             gdf['lwr'].values[0], \n",
    "                             gdf['upr'].values[0]\n",
    "                         )\n",
    "                        )\n",
    "    )\n",
    "    cis.append(ci.loc['OJ', 'CI'])\n",
    "pd.DataFrame({'dose': doses, 'Ratio of Means (95% CI)': cis})"
   ]
  },
  {
   "cell_type": "markdown",
   "id": "48dbf144",
   "metadata": {
    "slideshow": {
     "slide_type": "slide"
    }
   },
   "source": [
    "## Formula Method\n",
    "- Formulas are a convenient way to construct the design matrix $X$\n",
    "  from a dataset. \n",
    "- Formulas are not only convenient, but also concise and expressive, allowing\n",
    "  us to focus on the modeling and iterate quickly w/o being distracted by \n",
    "  set up. \n",
    "- In a formula string, a tilde `~` separates DV(s) from the IVs. "
   ]
  },
  {
   "cell_type": "code",
   "execution_count": null,
   "id": "4d21bce4",
   "metadata": {
    "slideshow": {
     "slide_type": "code"
    }
   },
   "outputs": [],
   "source": [
    "mod1 = sm.OLS.from_formula('log_len ~ OJ + dose', data=tg_data)\n",
    "res1 = mod1.fit()\n",
    "res1.summary2()"
   ]
  },
  {
   "cell_type": "markdown",
   "id": "1b2ecf7e",
   "metadata": {
    "slideshow": {
     "slide_type": "subslide"
    }
   },
   "source": [
    "## Design Inspection\n",
    "- If you're ever unsure about how a formula is interpreted by statsmodels,\n",
    "  take a look at (select) rows of the design matrix.\n",
    "- The model object has attributes `endog` and `exog` and `*_names`. "
   ]
  },
  {
   "cell_type": "code",
   "execution_count": null,
   "id": "cfe0188c",
   "metadata": {
    "slideshow": {
     "slide_type": "code"
    }
   },
   "outputs": [],
   "source": [
    "X = mod1.exog\n",
    "print(mod1.exog_names)\n",
    "X"
   ]
  },
  {
   "cell_type": "markdown",
   "id": "e257db2a",
   "metadata": {
    "slideshow": {
     "slide_type": "slide"
    }
   },
   "source": [
    "## Formula API\n",
    "- The formula API was imported as `smf`. \n",
    "- This allows us to call the previous model and others more concisely. \n",
    "- Use `smf.ols()` with a formula when fitting linear regression models. "
   ]
  },
  {
   "cell_type": "code",
   "execution_count": null,
   "id": "ccef8c44",
   "metadata": {
    "slideshow": {
     "slide_type": "code"
    }
   },
   "outputs": [],
   "source": [
    "# smf.\n",
    "mod1 = smf.ols('log_len ~ OJ + dose', data=tg_data)\n",
    "res1 = mod1.fit()\n",
    "res1.summary2()"
   ]
  },
  {
   "cell_type": "markdown",
   "id": "8ec89805",
   "metadata": {
    "slideshow": {
     "slide_type": "slide"
    }
   },
   "source": [
    "## Interactions\n",
    "- *Interaction* terms in the design matrix are formed by multiplying values\n",
    "   from two (or more) variables together. \n",
    "- Here we specify an interaction between the indicator `OJ` and `dose` \n",
    "  treated as a continuous variable. "
   ]
  },
  {
   "cell_type": "code",
   "execution_count": null,
   "id": "2872c5d2",
   "metadata": {
    "slideshow": {
     "slide_type": "code"
    }
   },
   "outputs": [],
   "source": [
    "mod2 = sm.OLS.from_formula('log_len ~ OJ:dose', data=tg_data)\n",
    "res2 = mod2.fit()\n",
    "res2.summary2()"
   ]
  },
  {
   "cell_type": "markdown",
   "id": "b1b1d808",
   "metadata": {
    "slideshow": {
     "slide_type": "subslide"
    }
   },
   "source": [
    "## Interaction Inspection\n",
    "- What to you expect `X` to look like below. How many zeros will it\n",
    "  have? \n",
    "- Note also how the interaction is named."
   ]
  },
  {
   "cell_type": "code",
   "execution_count": null,
   "id": "4bbd6b89",
   "metadata": {
    "slideshow": {
     "slide_type": "code"
    }
   },
   "outputs": [],
   "source": [
    "X = mod2.exog\n",
    "print(mod2.exog_names)\n",
    "X"
   ]
  },
  {
   "cell_type": "markdown",
   "id": "a38fa6de",
   "metadata": {
    "slideshow": {
     "slide_type": "slide"
    }
   },
   "source": [
    "## Main Effects & Interactions\n",
    "- We rarely use interactions without also including the associated *main*\n",
    "  effects for the variables that make up the interaction. \n",
    "- `a + b + a:b` can be concisely written as `a*b`. "
   ]
  },
  {
   "cell_type": "code",
   "execution_count": null,
   "id": "82db9b48",
   "metadata": {
    "slideshow": {
     "slide_type": "code"
    }
   },
   "outputs": [],
   "source": [
    "mod3 = smf.ols('log_len ~ OJ*dose', data=tg_data)\n",
    "res3 = mod3.fit()\n",
    "res3.summary2()"
   ]
  },
  {
   "cell_type": "markdown",
   "id": "646328f0",
   "metadata": {
    "slideshow": {
     "slide_type": "subslide"
    }
   },
   "source": [
    "## Interaction Inspection\n",
    "- How many columns do you expect `X` to have? \n",
    "- What are their names? "
   ]
  },
  {
   "cell_type": "code",
   "execution_count": null,
   "id": "0270985a",
   "metadata": {
    "slideshow": {
     "slide_type": "code"
    }
   },
   "outputs": [],
   "source": [
    "#mod3 = smf.ols('log_len ~ OJ*dose', data=tg_data)\n",
    "X = mod3.exog\n",
    "print(mod3.exog_names)\n",
    "X"
   ]
  },
  {
   "cell_type": "markdown",
   "id": "5fc4b8ed",
   "metadata": {
    "slideshow": {
     "slide_type": "slide"
    }
   },
   "source": [
    "## Categorical Interactions\n",
    "- Let's run an analysis with the same *mean structure* as our dose-by-dose\n",
    "  analysis. \n",
    "- *Mean-structure* means the models have the same predictions or fitted values,\n",
    "  but not the same variance structure. \n",
    "- We can let each supplement and dose combination have its own mean by making\n",
    "  *dose* categorical and interacting this with `supp` (or `OJ`)."
   ]
  },
  {
   "cell_type": "code",
   "execution_count": null,
   "id": "22931d45",
   "metadata": {
    "slideshow": {
     "slide_type": "code"
    }
   },
   "outputs": [],
   "source": [
    "tg_data['dose_cat'] = pd.Categorical(tg_data['dose'])\n",
    "mod4 = smf.ols('log_len ~ OJ*dose_cat', data=tg_data)\n",
    "res4 = mod4.fit()\n",
    "res4.summary2()"
   ]
  },
  {
   "cell_type": "markdown",
   "id": "80851076",
   "metadata": {
    "slideshow": {
     "slide_type": "subslide"
    }
   },
   "source": [
    "## Interaction Inspection\n",
    "- How many columns do you expect `X` to have? \n",
    "- What are their names? "
   ]
  },
  {
   "cell_type": "code",
   "execution_count": null,
   "id": "829f6e37",
   "metadata": {
    "slideshow": {
     "slide_type": "code"
    }
   },
   "outputs": [],
   "source": [
    "#mod4 = smf.ols('log_len ~ OJ*dose_cat', data=tg_data)\n",
    "X = mod4.exog\n",
    "print(mod4.exog_names)\n",
    "X"
   ]
  },
  {
   "cell_type": "markdown",
   "id": "4a382e88",
   "metadata": {
    "slideshow": {
     "slide_type": "slide"
    }
   },
   "source": [
    "## AIC\n",
    "- The Akaike Information Criterion (AIC) is one way ato compare competing\n",
    "  models fit to the same data.\n",
    "- There is a trade-off between model fit and model complexity -2 times \n",
    "  the log-likelihood (aka the *deviance*) plus 2 times the number\n",
    "  of parameters (columns in X). \n",
    "- The log-likelihood is a method of the model object.  "
   ]
  },
  {
   "cell_type": "code",
   "execution_count": null,
   "id": "3978a221",
   "metadata": {
    "slideshow": {
     "slide_type": "code"
    }
   },
   "outputs": [],
   "source": [
    "print(np.round(-2 * mod4.loglike(res4.params) + 2 * len(res4.params), 2))\n",
    "[np.round(r.aic, 1) for r in [res1, res2, res3, res4]]"
   ]
  },
  {
   "cell_type": "markdown",
   "id": "295736cc",
   "metadata": {
    "slideshow": {
     "slide_type": "slide"
    }
   },
   "source": [
    "## Contrasts\n",
    "- Linear combinations of regression coefficients are known as *contrasts*.\n",
    "- We often express contrasts using matrix notation -- each row of `L` below\n",
    "  specifies a contrast. "
   ]
  },
  {
   "cell_type": "code",
   "execution_count": null,
   "id": "b8fba95b",
   "metadata": {
    "slideshow": {
     "slide_type": "code"
    }
   },
   "outputs": [],
   "source": [
    "b = res4.params\n",
    "v = res4.cov_params()\n",
    "L = np.zeros((3, len(b)))\n",
    "L[0, 3] = 1      # OJ\n",
    "L[1, (3, 4)] = 1 # OJ + OJ:dose_cat[T.1.0]\n",
    "L[2, (3, 5)] = 1 # OJ + OJ:dose_cat[T.2.0]\n",
    "est = np.exp(np.dot(L, b))\n",
    "se = np.sqrt(np.diag(np.dot(np.dot(L, v), L.T)))\n",
    "tt = t.ppf(.975, df=res4.df_resid)\n",
    "lwr, upr = est - tt * se, est + tt * se\n",
    "np.round(np.array([est, lwr, upr]).T, 2)"
   ]
  },
  {
   "cell_type": "markdown",
   "id": "53651448",
   "metadata": {
    "slideshow": {
     "slide_type": "subslide"
    }
   },
   "source": [
    "## Contrasts\n",
    "- Contrasts can also be estimated using the `.t_test()` method of the\n",
    "  results object. \n",
    "- In models with interactions, we need contrasts to estimate the means for\n",
    "  non-reference groups.  "
   ]
  },
  {
   "cell_type": "code",
   "execution_count": null,
   "id": "f1c5944f",
   "metadata": {
    "slideshow": {
     "slide_type": "code"
    }
   },
   "outputs": [],
   "source": [
    "contrasts = res4.t_test(L)\n",
    "print(np.round(np.exp(contrasts.effect), 2))\n",
    "contrasts"
   ]
  },
  {
   "cell_type": "markdown",
   "id": "c36264bb",
   "metadata": {
    "slideshow": {
     "slide_type": "subslide"
    }
   },
   "source": [
    "## Contrasts\n",
    "- Setting up the contrasts matrix `L` takes care.\n",
    "- The `.t_test()` method also accepts a string with contrasts specified using\n",
    "  the parameter (variable) names. "
   ]
  },
  {
   "cell_type": "code",
   "execution_count": null,
   "id": "d60a6379",
   "metadata": {
    "slideshow": {
     "slide_type": "code"
    }
   },
   "outputs": [],
   "source": [
    "contrasts = res4.t_test(\n",
    "    'OJ = 0, OJ + OJ:dose_cat[T.1.0] = 0, OJ + OJ:dose_cat[T.2.0] = 0'\n",
    ")\n",
    "#contrasts\n",
    "#contrasts.summary()\n",
    "est_ci4 = np.zeros((3, 3))\n",
    "est_ci4[:, 0] = np.exp(contrasts.effect)\n",
    "est_ci4[:, 1:3] = np.exp(contrasts.conf_int())\n",
    "np.round(est_ci4, 2)"
   ]
  },
  {
   "cell_type": "markdown",
   "id": "866d5df3",
   "metadata": {
    "slideshow": {
     "slide_type": "slide"
    }
   },
   "source": [
    "## Takeaways\n",
    "- Regression is among the most important techniques in the data science \n",
    "  toolkit.\n",
    "- OLS and many related (statistical) regression models can be fit using\n",
    "  statsmodels.\n",
    "- The formula API allows us for flexible and concise specification of the \n",
    "  design matrix. \n",
    "- In a formula, `:` indicates an interaction and `a*b = a + b + a:b`.\n",
    "- Estimate contrasts using the `.t_test()` method. "
   ]
  }
 ],
 "metadata": {
  "jupytext": {
   "cell_metadata_json": true,
   "notebook_metadata_filter": "rise"
  },
  "kernelspec": {
   "display_name": "Python 3 (ipykernel)",
   "language": "python",
   "name": "python3"
  },
  "rise": {
   "autolaunch": true,
   "enable_chalkboard": true,
   "header": "<a href=\"#/slide-0-0\"> <h3> Statsmodels </a>",
   "progress": true,
   "scroll": true,
   "theme": "solarized",
   "transition": "convex"
  }
 },
 "nbformat": 4,
 "nbformat_minor": 5
}
