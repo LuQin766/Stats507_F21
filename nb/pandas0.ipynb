{
 "cells": [
  {
   "cell_type": "markdown",
   "id": "5fea9f1e",
   "metadata": {
    "slideshow": {
     "slide_type": "slide"
    }
   },
   "source": [
    "## Pandas, Part 0\n",
    "*Stats 507, Fall 2021*\n",
    "\n",
    "James Henderson, PhD  \n",
    "September 16, 2021"
   ]
  },
  {
   "cell_type": "markdown",
   "id": "11dad607",
   "metadata": {
    "slideshow": {
     "slide_type": "slide"
    }
   },
   "source": [
    "## Overview\n",
    "- [About](#/slide-2-0)\n",
    "- [I/O](#/slide-5-0)\n",
    "- [The `series` class](#/slide-6-0)\n",
    "- [The `DataFrame` class](#/slide-7-0)\n",
    "- [Selecting rows and columns](#/slide-9-0)"
   ]
  },
  {
   "cell_type": "markdown",
   "id": "27d428bb",
   "metadata": {
    "slideshow": {
     "slide_type": "slide"
    }
   },
   "source": [
    "## Pandas\n",
    "- [Pandas](https://pandas.pydata.org/) is a Python library that facilitates:\n",
    "   + working with rectangular data frames, \n",
    "   + reading and writing data,\n",
    "   + aggregation by group,\n",
    "   + much else.\n",
    "- Pandas is a core library for data analysts working in Python.   "
   ]
  },
  {
   "cell_type": "markdown",
   "id": "c6625563",
   "metadata": {
    "slideshow": {
     "slide_type": "slide"
    }
   },
   "source": [
    "## Canonical Import\n",
    " - `import pandas as pd`\n",
    " - In the reading, Wes McKinney suggests: \n",
    "   `from pandas import Series, DataFrame`\n",
    " - I won't (usually) do this, but you can if wanted on problem sets. "
   ]
  },
  {
   "cell_type": "code",
   "execution_count": null,
   "id": "65a0be22",
   "metadata": {
    "lines_to_next_cell": 0,
    "slideshow": {
     "slide_type": "code"
    }
   },
   "outputs": [],
   "source": [
    "import numpy as np\n",
    "import pandas as pd\n",
    "pd.__version__"
   ]
  },
  {
   "cell_type": "markdown",
   "id": "76042638",
   "metadata": {
    "slideshow": {
     "slide_type": "slide"
    }
   },
   "source": [
    "## Tidy Rectangular Data\n",
    " - Rectangular datasets are a staple of data analysis.\n",
    " - A dataset is \"tidy\" if each row is an observation and each column is\n",
    "   a variable.\n",
    " - The distinction between \"observation\" and \"variable\" can depend on \n",
    "   context - work to develop your intuition on this front.\n",
    " - Don't store \"data\" in column names.\n",
    " - pandas [cheat sheet](https://pandas.pydata.org/Pandas_Cheat_Sheet.pdf)"
   ]
  },
  {
   "cell_type": "markdown",
   "id": "eadcfcb3",
   "metadata": {
    "slideshow": {
     "slide_type": "slide"
    }
   },
   "source": [
    "## I/O for Rectangular Data\n",
    " - The easiest way to read rectangular data, delimited and otherwise,\n",
    "    into Python is using a pandas `pd.read_*()` function.\n",
    " - `pd.read_csv()` accepts a filename, including remote URLs.\n",
    " -  Write data to file using a pandas object's `.to_*()` methods.   "
   ]
  },
  {
   "cell_type": "markdown",
   "id": "67a45c4d",
   "metadata": {
    "slideshow": {
     "slide_type": "slide"
    }
   },
   "source": [
    "## Series\n",
    "- A pandas `Series` is a fixed-length, ordered dictionary. \n",
    "- `Series` are closely related to the `DataFrame` class. \n",
    "- Series are indexed, with the index (keys) mapping to values. \n",
    "- Use the `pd.Series()` constructor with a `dict`. "
   ]
  },
  {
   "cell_type": "code",
   "execution_count": null,
   "id": "d2426d9f",
   "metadata": {
    "slideshow": {
     "slide_type": "code"
    }
   },
   "outputs": [],
   "source": [
    "import numpy as np\n",
    "import pandas as pd\n",
    "nyc_air = pd.Series(\n",
    "    {'LGA': 'East Elmhurst', 'JFK': 'Jamaica', 'EWR': 'Newark'})\n",
    "nyc_air.index.name = 'airport'\n",
    "nyc_air.name = 'city'\n",
    "nyc_air "
   ]
  },
  {
   "cell_type": "markdown",
   "id": "ae7490a4",
   "metadata": {
    "slideshow": {
     "slide_type": "slide"
    }
   },
   "source": [
    "## DataFrames\n",
    "- The pandas `DataFrame` class is the primary way of representing \n",
    "  heterogeneous, rectangular data in Python.  \n",
    "- A `DataFrame` can be thought of as an ordered dictionary of `Series` \n",
    "  (columns) with a shared index (row names). \n",
    "- *Rectangular* means all the columns (Series) have the same length.  \n",
    "- We will use DataFrames heavily in this class going forward. "
   ]
  },
  {
   "cell_type": "markdown",
   "id": "e1a07ab7",
   "metadata": {
    "slideshow": {
     "slide_type": "slide"
    }
   },
   "source": [
    "## The DataFrame Constructor\n",
    "- A common way to construct a `DataFrame` directly from data is\n",
    "  to pass a `dict` of equal length lists, NumPy arrays, or `Series`,\n",
    "  to `pd.DataFrame()`.\n",
    "- Use the `columns` argument to order the columns."
   ]
  },
  {
   "cell_type": "code",
   "execution_count": null,
   "id": "5df5eb66",
   "metadata": {
    "slideshow": {
     "slide_type": "code"
    }
   },
   "outputs": [],
   "source": [
    "wiki = pd.Series({\n",
    "    'LGA': 'https://en.wikipedia.org/wiki/LaGuardia_Airport',\n",
    "    'EWR': 'https://en.wikipedia.org/wiki/Newark_Liberty_International_Airport',\n",
    "    'JFK': 'https://en.wikipedia.org/wiki/John_F._Kennedy_International_Airport'\n",
    "})\n",
    "df = pd.DataFrame({'city': nyc_air, 'wiki': wiki})\n",
    "df"
   ]
  },
  {
   "cell_type": "markdown",
   "id": "41d69259",
   "metadata": {
    "slideshow": {
     "slide_type": "slide"
    }
   },
   "source": [
    "## Select Columns ... \n",
    "- by name using `[]` with a string (caution) or list of strings,\n",
    "- by position using the `.iloc[:, 0:2]` indexer,\n",
    "- by name using the `.loc[:, [\"col1\", \"col2\"]` indexer.\n",
    "- Columns with valid Python names an be accessed as attributes, e.g. `df.column`\n",
    "  (but don't). "
   ]
  },
  {
   "cell_type": "code",
   "execution_count": null,
   "id": "cda52087",
   "metadata": {
    "slideshow": {
     "slide_type": "code"
    }
   },
   "outputs": [],
   "source": [
    "city = df['city']\n",
    "city2 = df['city'].copy()\n",
    "df_city = df[['city']]\n",
    "[(city is df['city'], df_city is df[['city']]), (type(city), type(df_city))]"
   ]
  },
  {
   "cell_type": "markdown",
   "id": "be0bd8f2",
   "metadata": {
    "slideshow": {
     "slide_type": "subslide"
    }
   },
   "source": [
    "## Select Columns ... \n",
    "- by name using `[]` with a string (caution) or list of strings,\n",
    "- by position using the `.iloc[:, 0:2]` indexer,\n",
    "- by name using the `.loc[:, [\"col1\", \"col2\"]` indexer.\n",
    "- Columns with valid Python names an be accessed as attributes, e.g. `df.column`\n",
    "  (but don't). "
   ]
  },
  {
   "cell_type": "code",
   "execution_count": null,
   "id": "d7aeb972",
   "metadata": {
    "slideshow": {
     "slide_type": "code"
    }
   },
   "outputs": [],
   "source": [
    "df.loc[[\"JFK\", \"LGA\"], \"city\"] = \"NYC\"  # always returns a view\n",
    "df.city"
   ]
  },
  {
   "cell_type": "markdown",
   "id": "fb1e0b23",
   "metadata": {
    "slideshow": {
     "slide_type": "subslide"
    }
   },
   "source": [
    "## Create/Modify Columns\n",
    "- Assign to a selected column to modify (or create) it. \n",
    "- To delete a column use the `del` keyword or (better) the \n",
    "  `.drop(columns='col', inplace=True)` method. \n",
    "- Style \"rule\" - prefer (exposed) methods when available. "
   ]
  },
  {
   "cell_type": "code",
   "execution_count": null,
   "id": "2a0dd444",
   "metadata": {
    "slideshow": {
     "slide_type": "code"
    }
   },
   "outputs": [],
   "source": [
    "dat = pd.DataFrame({'a': range(5), 'b': np.linspace(0, 5, 5)})\n",
    "dat['c'] = dat['d'] = dat['a'] + dat['b']\n",
    "del dat['c']\n",
    "dat.drop(columns='a', inplace=True)\n",
    "dat"
   ]
  },
  {
   "cell_type": "markdown",
   "id": "a82bb496",
   "metadata": {
    "slideshow": {
     "slide_type": "slide"
    }
   },
   "source": [
    "## Selecting rows\n",
    " - Select rows by position using `.iloc[0, :]` or by index using \n",
    "   `.loc[\"a\", :]`. \n",
    " - More on this topic after discussing the `Index` class in more detail. "
   ]
  },
  {
   "cell_type": "code",
   "execution_count": null,
   "id": "add1d6e7",
   "metadata": {
    "slideshow": {
     "slide_type": "code"
    }
   },
   "outputs": [],
   "source": [
    "dat.iloc[0, :] = -1\n",
    "print(dat.index)\n",
    "dat.loc[0:5:2, :]  # takes a slice object b/c uses RangeIndex()"
   ]
  },
  {
   "cell_type": "markdown",
   "id": "cf322835",
   "metadata": {
    "slideshow": {
     "slide_type": "slide"
    }
   },
   "source": [
    "## Filtering\n",
    "- Observations satisfying some condition can be selected through\n",
    "  Boolean indexing or (better) using the `.query()` method. \n",
    "- The primary argument to `.query()` is a string containing a Boolean \n",
    "  expression involving column names. "
   ]
  },
  {
   "cell_type": "code",
   "execution_count": null,
   "id": "635ef83b",
   "metadata": {
    "slideshow": {
     "slide_type": "code"
    }
   },
   "outputs": [],
   "source": [
    "b = dat[dat['b'] > 0]\n",
    "q = dat.query('b > 0 and d < 8')\n",
    "[b, q]"
   ]
  },
  {
   "cell_type": "markdown",
   "id": "ebe701a8",
   "metadata": {
    "slideshow": {
     "slide_type": "slide"
    }
   },
   "source": [
    "## Takeaways\n",
    "- Pandas `DataFrames` are used to represent tidy, rectangular data. \n",
    "- Think of `DataFrames` as a collection of `Series` of the same length and\n",
    "  sharing an index. \n",
    "- Pay attention to whether you are: \n",
    "  + getting a `Series` or a (new) `DataFrame`\n",
    "  + a view (alias) or a copy.\n",
    "- Prefer methods when available. \n",
    "- I recommend keeping a Pandas [cheat sheet][cs] close at hand.\n",
    "- More on Pandas and DataFrame methods in the next few lectures. \n",
    "\n",
    "[cs]: https://pandas.pydata.org/Pandas_Cheat_Sheet.pdf"
   ]
  }
 ],
 "metadata": {
  "jupytext": {
   "cell_metadata_json": true,
   "notebook_metadata_filter": "rise"
  },
  "kernelspec": {
   "display_name": "Python 3 (ipykernel)",
   "language": "python",
   "name": "python3"
  },
  "rise": {
   "autolaunch": true,
   "enable_chalkboard": true,
   "header": "<a href=\"#/slide-0-0\"> <h3> Stats 507 - Pandas, Part 0 </a>",
   "progress": true,
   "scroll": true,
   "theme": "solarized",
   "transition": "convex"
  }
 },
 "nbformat": 4,
 "nbformat_minor": 5
}
